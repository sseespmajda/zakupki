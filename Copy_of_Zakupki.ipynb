{
  "cells": [
    {
      "cell_type": "markdown",
      "metadata": {
        "id": "rajDyGemoV8Q"
      },
      "source": [
        "# Zakupki website scraping for Piotr"
      ]
    },
    {
      "cell_type": "markdown",
      "metadata": {
        "id": "xfVriCvQPi8u"
      },
      "source": [
        "The aim of this notebook is to scrape details of each contract hosted on the Russian Zakupki public sector contract awarding website.\n",
        "\n",
        "The input for this project will be the Zakupki URL. This code can be run on different dates to pull fresh contract data.\n",
        "\n",
        "Method:\n",
        "1.   Identify the number of pages of contracts to be scraped (using the contract filters provided).\n",
        "2.   Iterate through each page, scraping the registration number of each contract.\n",
        "3.   Access the website for each contract by placing the registraion number in the URL.\n",
        "4.   Scrape the details for each contract and add them to a list of Contracts dataclasses.\n",
        "5.   Format these Contract objects as a dataframe and output the dataframe to a csv file.\n",
        "\n",
        "\n",
        "The output of this project will be the CSV file, with each row representing a new contract from the webstie.\n"
      ]
    },
    {
      "cell_type": "markdown",
      "metadata": {
        "id": "9O34U-48RLCa"
      },
      "source": [
        "### Section 1: Setup"
      ]
    },
    {
      "cell_type": "code",
      "execution_count": 3,
      "metadata": {
        "id": "EkywDpTl3_lN"
      },
      "outputs": [],
      "source": [
        "import requests\n",
        "from bs4 import BeautifulSoup\n",
        "from datetime import date\n",
        "from dataclasses import dataclass\n",
        "from tqdm import tqdm\n",
        "from dateutil import parser\n",
        "from threading import Thread\n",
        "import pandas as pd\n",
        "import datetime\n",
        "from datetime import date, timedelta\n",
        "import logging\n",
        "import http.client\n",
        "\n"
      ]
    },
    {
      "cell_type": "code",
      "execution_count": 4,
      "metadata": {
        "id": "ohoWQEyyCpkk"
      },
      "outputs": [],
      "source": [
        "logging = False\n",
        "\n",
        "if logging:\n",
        "\n",
        "    http.client.HTTPConnection.debuglevel = 1\n",
        "\n",
        "    # You must initialize logging, otherwise you'll not see debug output.\n",
        "    logging.basicConfig()\n",
        "    logging.getLogger().setLevel(logging.DEBUG)\n",
        "    requests_log = logging.getLogger(\"requests.packages.urllib3\")\n",
        "    requests_log.setLevel(logging.DEBUG)\n",
        "    requests_log.propagate = True"
      ]
    },
    {
      "cell_type": "markdown",
      "metadata": {
        "id": "iJWBR30Apf9y"
      },
      "source": [
        "### Section 2: Determine Number of pages to scrape\n",
        "Test connection to the website and determine number of pages to scrape"
      ]
    },
    {
      "cell_type": "code",
      "execution_count": 6,
      "metadata": {
        "colab": {
          "base_uri": "https://localhost:8080/"
        },
        "id": "vqetG6kV0HFi",
        "outputId": "d351bc31-6ef2-4d6c-89a8-bf9234b503dc"
      },
      "outputs": [
        {
          "name": "stdout",
          "output_type": "stream",
          "text": [
            "['02.05.2022', '03.05.2022', '04.05.2022', '05.05.2022', '06.05.2022', '07.05.2022', '08.05.2022', '09.05.2022', '10.05.2022', '11.05.2022', '12.05.2022', '13.05.2022', '14.05.2022', '15.05.2022', '16.05.2022', '17.05.2022', '18.05.2022', '19.05.2022', '20.05.2022']\n"
          ]
        }
      ],
      "source": [
        "# Getting the dates we want to scrape.\n",
        "\n",
        "\n",
        "url=\"https://zakupki.gov.ru/epz/order/extendedsearch/results.html?searchString=&morphology=on&search-filter=%D0%94%D0%B0%D1%82%D0%B5+%D1%80%D0%B0%D0%B7%D0%BC%D0%B5%D1%89%D0%B5%D0%BD%D0%B8%D1%8F&pageNumber={}&sortDirection=false&recordsPerPage=_500&showLotsInfoHidden=false&savedSearchSettingsIdHidden=&sortBy=UPDATE_DATE&fz44=on&pc=on&placingWayList=&selectedLaws=FZ44&priceFromGeneral=10000000&priceFromGWS=&priceFromUnitGWS=&priceToGeneral=&priceToGWS=&priceToUnitGWS=&currencyIdGeneral=-1&publishDateFrom={}&publishDateTo={}&applSubmissionCloseDateFrom=&applSubmissionCloseDateTo=&customerIdOrg=&customerFz94id=&customerTitle=&okpd2Ids=&okpd2IdsCodes=\"\n",
        "start = date(2022, 5, 2)\n",
        "end = date(2022, 5, 20)\n",
        "days = timedelta(days=1)\n",
        "\n",
        "calendar=[]\n",
        "\n",
        "### this actually works, set start & end date, it creates search results urls for each days with some criteria to limit the number (10 mln RUB, finished)\n",
        "while start<=end:\n",
        "  # tempURL=url.format(start.strftime('%d.%m.%Y'),start.strftime('%d.%m.%Y'))\n",
        "  calendar.append(start.strftime('%d.%m.%Y'))\n",
        "  start+=days\n",
        "\n",
        "print(calendar)\n",
        "  \n",
        "\n",
        "\n",
        "\n",
        "\n"
      ]
    },
    {
      "cell_type": "markdown",
      "metadata": {
        "id": "p-Ol6Rbipi4N"
      },
      "source": [
        "\n",
        "### Section 3: Scrape each registration number\n",
        "\n",
        "Scrape the reg numbers of each contract, so they can be accessed individually"
      ]
    },
    {
      "cell_type": "code",
      "execution_count": 7,
      "metadata": {
        "id": "IxF2lQm5Vq_8"
      },
      "outputs": [],
      "source": [
        "def getPage(tempURL):\n",
        "  # If User-Agent is not set to custom, the website will know a Python script is accessing it and block some of the request\n",
        "  return BeautifulSoup(requests.get(tempURL, headers={'User-Agent': 'Custom'}).content, \"html.parser\")"
      ]
    },
    {
      "cell_type": "code",
      "execution_count": 8,
      "metadata": {},
      "outputs": [],
      "source": [
        "class Page:\n",
        "\n",
        "    def __init__(self, day, pageNum, pagefile):\n",
        "\n",
        "        self.day = day\n",
        "        self.pageNum = pageNum\n",
        "        self.pagefile = pagefile\n"
      ]
    },
    {
      "cell_type": "code",
      "execution_count": 9,
      "metadata": {
        "id": "seJyyDBCFLGl"
      },
      "outputs": [
        {
          "name": "stdout",
          "output_type": "stream",
          "text": [
            "1\n",
            "https://zakupki.gov.ru/epz/order/extendedsearch/results.html?searchString=&morphology=on&search-filter=%D0%94%D0%B0%D1%82%D0%B5+%D1%80%D0%B0%D0%B7%D0%BC%D0%B5%D1%89%D0%B5%D0%BD%D0%B8%D1%8F&pageNumber=1&sortDirection=false&recordsPerPage=_500&showLotsInfoHidden=false&savedSearchSettingsIdHidden=&sortBy=UPDATE_DATE&fz44=on&pc=on&placingWayList=&selectedLaws=FZ44&priceFromGeneral=10000000&priceFromGWS=&priceFromUnitGWS=&priceToGeneral=&priceToGWS=&priceToUnitGWS=&currencyIdGeneral=-1&publishDateFrom=02.05.2022&publishDateTo=02.05.2022&applSubmissionCloseDateFrom=&applSubmissionCloseDateTo=&customerIdOrg=&customerFz94id=&customerTitle=&okpd2Ids=&okpd2IdsCodes=\n",
            "1\n",
            "https://zakupki.gov.ru/epz/order/extendedsearch/results.html?searchString=&morphology=on&search-filter=%D0%94%D0%B0%D1%82%D0%B5+%D1%80%D0%B0%D0%B7%D0%BC%D0%B5%D1%89%D0%B5%D0%BD%D0%B8%D1%8F&pageNumber=1&sortDirection=false&recordsPerPage=_500&showLotsInfoHidden=false&savedSearchSettingsIdHidden=&sortBy=UPDATE_DATE&fz44=on&pc=on&placingWayList=&selectedLaws=FZ44&priceFromGeneral=10000000&priceFromGWS=&priceFromUnitGWS=&priceToGeneral=&priceToGWS=&priceToUnitGWS=&currencyIdGeneral=-1&publishDateFrom=03.05.2022&publishDateTo=03.05.2022&applSubmissionCloseDateFrom=&applSubmissionCloseDateTo=&customerIdOrg=&customerFz94id=&customerTitle=&okpd2Ids=&okpd2IdsCodes=\n",
            "1\n",
            "https://zakupki.gov.ru/epz/order/extendedsearch/results.html?searchString=&morphology=on&search-filter=%D0%94%D0%B0%D1%82%D0%B5+%D1%80%D0%B0%D0%B7%D0%BC%D0%B5%D1%89%D0%B5%D0%BD%D0%B8%D1%8F&pageNumber=1&sortDirection=false&recordsPerPage=_500&showLotsInfoHidden=false&savedSearchSettingsIdHidden=&sortBy=UPDATE_DATE&fz44=on&pc=on&placingWayList=&selectedLaws=FZ44&priceFromGeneral=10000000&priceFromGWS=&priceFromUnitGWS=&priceToGeneral=&priceToGWS=&priceToUnitGWS=&currencyIdGeneral=-1&publishDateFrom=04.05.2022&publishDateTo=04.05.2022&applSubmissionCloseDateFrom=&applSubmissionCloseDateTo=&customerIdOrg=&customerFz94id=&customerTitle=&okpd2Ids=&okpd2IdsCodes=\n",
            "1\n",
            "https://zakupki.gov.ru/epz/order/extendedsearch/results.html?searchString=&morphology=on&search-filter=%D0%94%D0%B0%D1%82%D0%B5+%D1%80%D0%B0%D0%B7%D0%BC%D0%B5%D1%89%D0%B5%D0%BD%D0%B8%D1%8F&pageNumber=1&sortDirection=false&recordsPerPage=_500&showLotsInfoHidden=false&savedSearchSettingsIdHidden=&sortBy=UPDATE_DATE&fz44=on&pc=on&placingWayList=&selectedLaws=FZ44&priceFromGeneral=10000000&priceFromGWS=&priceFromUnitGWS=&priceToGeneral=&priceToGWS=&priceToUnitGWS=&currencyIdGeneral=-1&publishDateFrom=05.05.2022&publishDateTo=05.05.2022&applSubmissionCloseDateFrom=&applSubmissionCloseDateTo=&customerIdOrg=&customerFz94id=&customerTitle=&okpd2Ids=&okpd2IdsCodes=\n",
            "1\n",
            "https://zakupki.gov.ru/epz/order/extendedsearch/results.html?searchString=&morphology=on&search-filter=%D0%94%D0%B0%D1%82%D0%B5+%D1%80%D0%B0%D0%B7%D0%BC%D0%B5%D1%89%D0%B5%D0%BD%D0%B8%D1%8F&pageNumber=1&sortDirection=false&recordsPerPage=_500&showLotsInfoHidden=false&savedSearchSettingsIdHidden=&sortBy=UPDATE_DATE&fz44=on&pc=on&placingWayList=&selectedLaws=FZ44&priceFromGeneral=10000000&priceFromGWS=&priceFromUnitGWS=&priceToGeneral=&priceToGWS=&priceToUnitGWS=&currencyIdGeneral=-1&publishDateFrom=06.05.2022&publishDateTo=06.05.2022&applSubmissionCloseDateFrom=&applSubmissionCloseDateTo=&customerIdOrg=&customerFz94id=&customerTitle=&okpd2Ids=&okpd2IdsCodes=\n",
            "1\n",
            "https://zakupki.gov.ru/epz/order/extendedsearch/results.html?searchString=&morphology=on&search-filter=%D0%94%D0%B0%D1%82%D0%B5+%D1%80%D0%B0%D0%B7%D0%BC%D0%B5%D1%89%D0%B5%D0%BD%D0%B8%D1%8F&pageNumber=1&sortDirection=false&recordsPerPage=_500&showLotsInfoHidden=false&savedSearchSettingsIdHidden=&sortBy=UPDATE_DATE&fz44=on&pc=on&placingWayList=&selectedLaws=FZ44&priceFromGeneral=10000000&priceFromGWS=&priceFromUnitGWS=&priceToGeneral=&priceToGWS=&priceToUnitGWS=&currencyIdGeneral=-1&publishDateFrom=07.05.2022&publishDateTo=07.05.2022&applSubmissionCloseDateFrom=&applSubmissionCloseDateTo=&customerIdOrg=&customerFz94id=&customerTitle=&okpd2Ids=&okpd2IdsCodes=\n",
            "1\n",
            "https://zakupki.gov.ru/epz/order/extendedsearch/results.html?searchString=&morphology=on&search-filter=%D0%94%D0%B0%D1%82%D0%B5+%D1%80%D0%B0%D0%B7%D0%BC%D0%B5%D1%89%D0%B5%D0%BD%D0%B8%D1%8F&pageNumber=1&sortDirection=false&recordsPerPage=_500&showLotsInfoHidden=false&savedSearchSettingsIdHidden=&sortBy=UPDATE_DATE&fz44=on&pc=on&placingWayList=&selectedLaws=FZ44&priceFromGeneral=10000000&priceFromGWS=&priceFromUnitGWS=&priceToGeneral=&priceToGWS=&priceToUnitGWS=&currencyIdGeneral=-1&publishDateFrom=08.05.2022&publishDateTo=08.05.2022&applSubmissionCloseDateFrom=&applSubmissionCloseDateTo=&customerIdOrg=&customerFz94id=&customerTitle=&okpd2Ids=&okpd2IdsCodes=\n",
            "1\n",
            "https://zakupki.gov.ru/epz/order/extendedsearch/results.html?searchString=&morphology=on&search-filter=%D0%94%D0%B0%D1%82%D0%B5+%D1%80%D0%B0%D0%B7%D0%BC%D0%B5%D1%89%D0%B5%D0%BD%D0%B8%D1%8F&pageNumber=1&sortDirection=false&recordsPerPage=_500&showLotsInfoHidden=false&savedSearchSettingsIdHidden=&sortBy=UPDATE_DATE&fz44=on&pc=on&placingWayList=&selectedLaws=FZ44&priceFromGeneral=10000000&priceFromGWS=&priceFromUnitGWS=&priceToGeneral=&priceToGWS=&priceToUnitGWS=&currencyIdGeneral=-1&publishDateFrom=09.05.2022&publishDateTo=09.05.2022&applSubmissionCloseDateFrom=&applSubmissionCloseDateTo=&customerIdOrg=&customerFz94id=&customerTitle=&okpd2Ids=&okpd2IdsCodes=\n",
            "1\n",
            "https://zakupki.gov.ru/epz/order/extendedsearch/results.html?searchString=&morphology=on&search-filter=%D0%94%D0%B0%D1%82%D0%B5+%D1%80%D0%B0%D0%B7%D0%BC%D0%B5%D1%89%D0%B5%D0%BD%D0%B8%D1%8F&pageNumber=1&sortDirection=false&recordsPerPage=_500&showLotsInfoHidden=false&savedSearchSettingsIdHidden=&sortBy=UPDATE_DATE&fz44=on&pc=on&placingWayList=&selectedLaws=FZ44&priceFromGeneral=10000000&priceFromGWS=&priceFromUnitGWS=&priceToGeneral=&priceToGWS=&priceToUnitGWS=&currencyIdGeneral=-1&publishDateFrom=10.05.2022&publishDateTo=10.05.2022&applSubmissionCloseDateFrom=&applSubmissionCloseDateTo=&customerIdOrg=&customerFz94id=&customerTitle=&okpd2Ids=&okpd2IdsCodes=\n",
            "1\n",
            "https://zakupki.gov.ru/epz/order/extendedsearch/results.html?searchString=&morphology=on&search-filter=%D0%94%D0%B0%D1%82%D0%B5+%D1%80%D0%B0%D0%B7%D0%BC%D0%B5%D1%89%D0%B5%D0%BD%D0%B8%D1%8F&pageNumber=1&sortDirection=false&recordsPerPage=_500&showLotsInfoHidden=false&savedSearchSettingsIdHidden=&sortBy=UPDATE_DATE&fz44=on&pc=on&placingWayList=&selectedLaws=FZ44&priceFromGeneral=10000000&priceFromGWS=&priceFromUnitGWS=&priceToGeneral=&priceToGWS=&priceToUnitGWS=&currencyIdGeneral=-1&publishDateFrom=11.05.2022&publishDateTo=11.05.2022&applSubmissionCloseDateFrom=&applSubmissionCloseDateTo=&customerIdOrg=&customerFz94id=&customerTitle=&okpd2Ids=&okpd2IdsCodes=\n",
            "1\n",
            "https://zakupki.gov.ru/epz/order/extendedsearch/results.html?searchString=&morphology=on&search-filter=%D0%94%D0%B0%D1%82%D0%B5+%D1%80%D0%B0%D0%B7%D0%BC%D0%B5%D1%89%D0%B5%D0%BD%D0%B8%D1%8F&pageNumber=1&sortDirection=false&recordsPerPage=_500&showLotsInfoHidden=false&savedSearchSettingsIdHidden=&sortBy=UPDATE_DATE&fz44=on&pc=on&placingWayList=&selectedLaws=FZ44&priceFromGeneral=10000000&priceFromGWS=&priceFromUnitGWS=&priceToGeneral=&priceToGWS=&priceToUnitGWS=&currencyIdGeneral=-1&publishDateFrom=12.05.2022&publishDateTo=12.05.2022&applSubmissionCloseDateFrom=&applSubmissionCloseDateTo=&customerIdOrg=&customerFz94id=&customerTitle=&okpd2Ids=&okpd2IdsCodes=\n",
            "1\n",
            "https://zakupki.gov.ru/epz/order/extendedsearch/results.html?searchString=&morphology=on&search-filter=%D0%94%D0%B0%D1%82%D0%B5+%D1%80%D0%B0%D0%B7%D0%BC%D0%B5%D1%89%D0%B5%D0%BD%D0%B8%D1%8F&pageNumber=1&sortDirection=false&recordsPerPage=_500&showLotsInfoHidden=false&savedSearchSettingsIdHidden=&sortBy=UPDATE_DATE&fz44=on&pc=on&placingWayList=&selectedLaws=FZ44&priceFromGeneral=10000000&priceFromGWS=&priceFromUnitGWS=&priceToGeneral=&priceToGWS=&priceToUnitGWS=&currencyIdGeneral=-1&publishDateFrom=13.05.2022&publishDateTo=13.05.2022&applSubmissionCloseDateFrom=&applSubmissionCloseDateTo=&customerIdOrg=&customerFz94id=&customerTitle=&okpd2Ids=&okpd2IdsCodes=\n",
            "1\n",
            "https://zakupki.gov.ru/epz/order/extendedsearch/results.html?searchString=&morphology=on&search-filter=%D0%94%D0%B0%D1%82%D0%B5+%D1%80%D0%B0%D0%B7%D0%BC%D0%B5%D1%89%D0%B5%D0%BD%D0%B8%D1%8F&pageNumber=1&sortDirection=false&recordsPerPage=_500&showLotsInfoHidden=false&savedSearchSettingsIdHidden=&sortBy=UPDATE_DATE&fz44=on&pc=on&placingWayList=&selectedLaws=FZ44&priceFromGeneral=10000000&priceFromGWS=&priceFromUnitGWS=&priceToGeneral=&priceToGWS=&priceToUnitGWS=&currencyIdGeneral=-1&publishDateFrom=14.05.2022&publishDateTo=14.05.2022&applSubmissionCloseDateFrom=&applSubmissionCloseDateTo=&customerIdOrg=&customerFz94id=&customerTitle=&okpd2Ids=&okpd2IdsCodes=\n",
            "1\n",
            "https://zakupki.gov.ru/epz/order/extendedsearch/results.html?searchString=&morphology=on&search-filter=%D0%94%D0%B0%D1%82%D0%B5+%D1%80%D0%B0%D0%B7%D0%BC%D0%B5%D1%89%D0%B5%D0%BD%D0%B8%D1%8F&pageNumber=1&sortDirection=false&recordsPerPage=_500&showLotsInfoHidden=false&savedSearchSettingsIdHidden=&sortBy=UPDATE_DATE&fz44=on&pc=on&placingWayList=&selectedLaws=FZ44&priceFromGeneral=10000000&priceFromGWS=&priceFromUnitGWS=&priceToGeneral=&priceToGWS=&priceToUnitGWS=&currencyIdGeneral=-1&publishDateFrom=15.05.2022&publishDateTo=15.05.2022&applSubmissionCloseDateFrom=&applSubmissionCloseDateTo=&customerIdOrg=&customerFz94id=&customerTitle=&okpd2Ids=&okpd2IdsCodes=\n",
            "1\n",
            "https://zakupki.gov.ru/epz/order/extendedsearch/results.html?searchString=&morphology=on&search-filter=%D0%94%D0%B0%D1%82%D0%B5+%D1%80%D0%B0%D0%B7%D0%BC%D0%B5%D1%89%D0%B5%D0%BD%D0%B8%D1%8F&pageNumber=1&sortDirection=false&recordsPerPage=_500&showLotsInfoHidden=false&savedSearchSettingsIdHidden=&sortBy=UPDATE_DATE&fz44=on&pc=on&placingWayList=&selectedLaws=FZ44&priceFromGeneral=10000000&priceFromGWS=&priceFromUnitGWS=&priceToGeneral=&priceToGWS=&priceToUnitGWS=&currencyIdGeneral=-1&publishDateFrom=16.05.2022&publishDateTo=16.05.2022&applSubmissionCloseDateFrom=&applSubmissionCloseDateTo=&customerIdOrg=&customerFz94id=&customerTitle=&okpd2Ids=&okpd2IdsCodes=\n",
            "1\n",
            "https://zakupki.gov.ru/epz/order/extendedsearch/results.html?searchString=&morphology=on&search-filter=%D0%94%D0%B0%D1%82%D0%B5+%D1%80%D0%B0%D0%B7%D0%BC%D0%B5%D1%89%D0%B5%D0%BD%D0%B8%D1%8F&pageNumber=1&sortDirection=false&recordsPerPage=_500&showLotsInfoHidden=false&savedSearchSettingsIdHidden=&sortBy=UPDATE_DATE&fz44=on&pc=on&placingWayList=&selectedLaws=FZ44&priceFromGeneral=10000000&priceFromGWS=&priceFromUnitGWS=&priceToGeneral=&priceToGWS=&priceToUnitGWS=&currencyIdGeneral=-1&publishDateFrom=17.05.2022&publishDateTo=17.05.2022&applSubmissionCloseDateFrom=&applSubmissionCloseDateTo=&customerIdOrg=&customerFz94id=&customerTitle=&okpd2Ids=&okpd2IdsCodes=\n",
            "1\n",
            "https://zakupki.gov.ru/epz/order/extendedsearch/results.html?searchString=&morphology=on&search-filter=%D0%94%D0%B0%D1%82%D0%B5+%D1%80%D0%B0%D0%B7%D0%BC%D0%B5%D1%89%D0%B5%D0%BD%D0%B8%D1%8F&pageNumber=1&sortDirection=false&recordsPerPage=_500&showLotsInfoHidden=false&savedSearchSettingsIdHidden=&sortBy=UPDATE_DATE&fz44=on&pc=on&placingWayList=&selectedLaws=FZ44&priceFromGeneral=10000000&priceFromGWS=&priceFromUnitGWS=&priceToGeneral=&priceToGWS=&priceToUnitGWS=&currencyIdGeneral=-1&publishDateFrom=18.05.2022&publishDateTo=18.05.2022&applSubmissionCloseDateFrom=&applSubmissionCloseDateTo=&customerIdOrg=&customerFz94id=&customerTitle=&okpd2Ids=&okpd2IdsCodes=\n",
            "1\n",
            "https://zakupki.gov.ru/epz/order/extendedsearch/results.html?searchString=&morphology=on&search-filter=%D0%94%D0%B0%D1%82%D0%B5+%D1%80%D0%B0%D0%B7%D0%BC%D0%B5%D1%89%D0%B5%D0%BD%D0%B8%D1%8F&pageNumber=1&sortDirection=false&recordsPerPage=_500&showLotsInfoHidden=false&savedSearchSettingsIdHidden=&sortBy=UPDATE_DATE&fz44=on&pc=on&placingWayList=&selectedLaws=FZ44&priceFromGeneral=10000000&priceFromGWS=&priceFromUnitGWS=&priceToGeneral=&priceToGWS=&priceToUnitGWS=&currencyIdGeneral=-1&publishDateFrom=19.05.2022&publishDateTo=19.05.2022&applSubmissionCloseDateFrom=&applSubmissionCloseDateTo=&customerIdOrg=&customerFz94id=&customerTitle=&okpd2Ids=&okpd2IdsCodes=\n",
            "1\n",
            "https://zakupki.gov.ru/epz/order/extendedsearch/results.html?searchString=&morphology=on&search-filter=%D0%94%D0%B0%D1%82%D0%B5+%D1%80%D0%B0%D0%B7%D0%BC%D0%B5%D1%89%D0%B5%D0%BD%D0%B8%D1%8F&pageNumber=1&sortDirection=false&recordsPerPage=_500&showLotsInfoHidden=false&savedSearchSettingsIdHidden=&sortBy=UPDATE_DATE&fz44=on&pc=on&placingWayList=&selectedLaws=FZ44&priceFromGeneral=10000000&priceFromGWS=&priceFromUnitGWS=&priceToGeneral=&priceToGWS=&priceToUnitGWS=&currencyIdGeneral=-1&publishDateFrom=20.05.2022&publishDateTo=20.05.2022&applSubmissionCloseDateFrom=&applSubmissionCloseDateTo=&customerIdOrg=&customerFz94id=&customerTitle=&okpd2Ids=&okpd2IdsCodes=\n",
            "19  pages found\n"
          ]
        }
      ],
      "source": [
        "# Getting the web page for all the contracts for each date in the range we want to scrape.\n",
        "\n",
        "\n",
        "pages = []\n",
        "\n",
        "\n",
        "for day in calendar:\n",
        "\n",
        "  tempURL = url.format(1, day, day)\n",
        "\n",
        "  page = getPage(tempURL)\n",
        "\n",
        "  # Scrape the max number of pages\n",
        "  try:\n",
        "    maxPageNum = int(page.select('a[data-pagenumber]')[-2].find(\"span\").text)\n",
        "  except:\n",
        "    maxPageNum = 1\n",
        "\n",
        "  print(maxPageNum)\n",
        "    \n",
        "  for i in range(1, maxPageNum+1):\n",
        "\n",
        "    contracts = []\n",
        "\n",
        "    # Creating a temporary URL for each page containing contracts\n",
        "    tempPageURL = url.format(i, day, day)\n",
        "    print(tempPageURL)\n",
        "\n",
        "    # Request the page and format it as a BeautifulSoup object so that we can perform scrapings\n",
        "    page = getPage(tempPageURL)\n",
        "\n",
        "    pages.append(Page(day, i, page))\n",
        "\n",
        "    # print(page)\n",
        "\n",
        "\n",
        "    \n",
        "\n",
        "print(str(len(pages)), \" pages found\")\n"
      ]
    },
    {
      "cell_type": "code",
      "execution_count": 21,
      "metadata": {},
      "outputs": [
        {
          "name": "stdout",
          "output_type": "stream",
          "text": [
            "done 1 0 \n",
            "\n",
            "done 1 5 \n",
            "\n",
            "done 1 310 \n",
            "\n",
            "done 1 334 \n",
            "\n",
            "done 1 388 \n",
            "\n",
            "done 1 16 \n",
            "\n",
            "done 1 15 \n",
            "\n",
            "done 1 5 \n",
            "\n",
            "done 1 5 \n",
            "\n",
            "done 1 252 \n",
            "\n",
            "done 1 260 \n",
            "\n",
            "done 1 194 \n",
            "\n",
            "done 1 14 \n",
            "\n",
            "done 1 2 \n",
            "\n",
            "done 1 112 \n",
            "\n",
            "done 1 49 \n",
            "\n",
            "done 1 0 \n",
            "\n",
            "done 1 0 \n",
            "\n",
            "done 1 0 \n",
            "\n"
          ]
        }
      ],
      "source": [
        "regNumbers = []\n",
        "\n",
        "\n",
        "for page in pages:\n",
        "\n",
        "\n",
        "  # Obtain a list of all the sections of HTML containing a contract in the web page\n",
        "  listOfContracts = page.pagefile.find_all(\"div\", {\"class\": \"registry-entry__header-mid__number\"})\n",
        "  \n",
        "\n",
        "  # Segment the registration number from the URL of each contract\n",
        "  for contract in listOfContracts:\n",
        "    href = contract.find(\"a\")['href']\n",
        "    regNum = href[href.index(\"Number=\")+7:]\n",
        "    regNumbers.append(regNum)\n",
        "\n",
        "  # print(regNumbers)\n",
        "\n",
        "  print(\"done\", i, len(listOfContracts), '\\n')"
      ]
    },
    {
      "cell_type": "code",
      "execution_count": 11,
      "metadata": {
        "colab": {
          "base_uri": "https://localhost:8080/"
        },
        "id": "UFa1lj9sHpkK",
        "outputId": "32168ad0-7959-428c-9ad0-8d707a6f732a"
      },
      "outputs": [],
      "source": [
        "# url=\"https://zakupki.gov.ru/epz/contract/contractCard/common-info.html?reestrNumber=1270000031322000018\"\n",
        "# r=requests.get(url).text\n",
        "# soup=BeautifulSoup(r)\n",
        "# tables=soup.findAll('table')\n",
        "# #Contracted=tables[3].find_all(\"td\",{\"class\":\"tableBlock__col\"})  ### that's about finding the winner and winning bid, the real of the contract\n",
        "# #Supplier=Contracted[2].text # WORKS\n",
        "# #FinalPrice=Contracted[3].text  # works\n",
        "\n",
        "# Bidders=tables[2].find_all(\"tr\",{\"class\":\"tableBlock__row\"})\n",
        "# #bidder1=Bidders[1].text\n",
        "# #bid1=Bidders[2].text\n",
        "# #bidder2=Bidders[3].text\n",
        "# #bi2=Bidders[4].text\n",
        "# print(Bidders)\n",
        "\n",
        "########## try to identify the number of tableBlock__row? 1/2/3 etc. and then generate bid1 bidder1 accordingly?\n"
      ]
    },
    {
      "cell_type": "markdown",
      "metadata": {
        "id": "L254l5YhpqNv"
      },
      "source": [
        "### Section 4: Details scraping\n",
        "\n",
        "The Contract Dataclass will store the information during scraping.\n",
        "If any information can't be scraped, default values have been provided in their place"
      ]
    },
    {
      "cell_type": "code",
      "execution_count": 22,
      "metadata": {
        "id": "Eg5Td-OGi3vz"
      },
      "outputs": [],
      "source": [
        "@dataclass\n",
        "class Contract:\n",
        "\n",
        "  # TODO: Add reg number to class\n",
        "\n",
        "  # Main Section\n",
        "  ID: str = \"none\"\n",
        "  price: float = 0.0\n",
        "  published: date = None\n",
        "  deadline: date = None\n",
        "  # organisationName: str = \"none\"\n",
        "\n",
        "  # Tab 1\n",
        "  method: str = \"none\"\n",
        "  tenderObject: str = \"none\"\n",
        "  organisationName: str = \"none\"\n",
        "  address: str = \"none\"\n",
        "  official: str = \"none\"\n",
        "  productCode: str = \"none\"\n",
        "\n",
        "\n",
        "  # Tab 2\n",
        "  # We may be missing info for this tab\n",
        "  participants: str = \"none\"\n",
        "  bids: float = 0.0\n",
        "  "
      ]
    },
    {
      "cell_type": "markdown",
      "metadata": {
        "id": "5yatvXkvpz2H"
      },
      "source": [
        "Method for scraping the data from each contract"
      ]
    },
    {
      "cell_type": "code",
      "execution_count": 23,
      "metadata": {
        "id": "Jq9BLFkUaDPW"
      },
      "outputs": [],
      "source": [
        "def scrapeData(reg):\n",
        "\n",
        "  dir = \"https://zakupki.gov.ru/epz/order/notice/ea44/view/{}.html?regNumber={}\"\n",
        "\n",
        "\n",
        "  # TODO Add function to retry contracts that have their connection aborted.\n",
        "\n",
        "\n",
        "  # Getting the web page for the given contract\n",
        "  tempDir = dir.format(\"common-info\", reg)\n",
        "  print(tempDir)\n",
        "  page = getPage(tempDir)\n",
        "\n",
        "  # print(page)\n",
        "\n",
        "  ### Basic info - Unique ID, Initial price, publication date and deadline \n",
        "\n",
        "  # ID = page.find(\"span\",{\"class\":\"navBreadcrumb__text\"}).text.strip()  ## Returns unique ID with No at the start from each particular tender page (not the results list)\n",
        "  ID = reg\n",
        "  try:\n",
        "    price=page.find(\"span\", {\"class\":\"cardMainInfo__content cost\"}).text.replace(\"\\xa0\",\",\").replace(\" \",\"\").replace(\"₽\",\"\").strip()\n",
        "  except:\n",
        "    price=0.0\n",
        "  cardInfo=page.find_all(\"span\",{\"class\":\"cardMainInfo__content\"}) ## there's list inside, with procurer and price if needed\n",
        "  published=str(cardInfo[3].text).strip()\n",
        "  deadline=str(cardInfo[4].text).strip()\n",
        "\n",
        "  ### First part info - tender type, object, procurer, address and official in charge\n",
        "\n",
        "  sectionInfo=page.find_all(\"span\",{\"class\":\"section__info\"})       ## same issue, but we can get a lot of stuff from this tab\n",
        "  method=sectionInfo[0].text\n",
        "  tenderObject=sectionInfo[4].text\n",
        "  organisationName=sectionInfo[8].text                              ## e.g. like that?\n",
        "  address=str(sectionInfo[9].text).strip()                                       ## 6 and 7 positions on the list return the same data..?\n",
        "  official=str(sectionInfo[11].text).strip()                                      ## just in case, price can be also extracted from here, nr. 13\n",
        "\n",
        "  ### Data taken from purchase order, it might contain multiple codes, to be tested! \n",
        "  tableBlock=page.find_all(\"td\",{\"class\":\"tableBlock__col\"})\n",
        "  productCode=tableBlock[1].text.strip()\n",
        "\n",
        "  ### Second part info - participants and bids\n",
        "\n",
        "\n",
        "  tempDir = dir.format(\"supplier-results\", reg)\n",
        "  print(tempDir)\n",
        "  page = getPage(tempDir)\n",
        "\n",
        "  tableBlock2=page.find_all(\"td\",{\"class\":\"tableBlock__col\"})\n",
        "  participants=tableBlock2[2].text\n",
        "  bids=tableBlock2[3].text\n",
        "\n",
        "  print(participants, bids)\n",
        "\n",
        "  # Create the Contract dataclass object and append it to a list of objects.\n",
        "  # This method means that missing data can be accounted for.\n",
        "  contract = Contract(ID, price, published, deadline, method, tenderObject, organisationName, address, official, productCode)\n",
        "  contracts.append(contract)\n"
      ]
    },
    {
      "cell_type": "markdown",
      "metadata": {
        "id": "CitfSwF2p94x"
      },
      "source": [
        "### Section 5: Starting execution\n",
        "Scrape the contracts themselves using threading"
      ]
    },
    {
      "cell_type": "code",
      "execution_count": 24,
      "metadata": {
        "id": "dLF0rfm4uOgY"
      },
      "outputs": [],
      "source": [
        "### this soup is used later on to extract values from tender page\n",
        "#soup1 = BeautifulSoup(requests.get(url1, headers={'User-Agent': 'Custom'}).content, \"html.parser\")"
      ]
    },
    {
      "cell_type": "code",
      "execution_count": 25,
      "metadata": {
        "colab": {
          "base_uri": "https://localhost:8080/"
        },
        "id": "RseKcK3_XT7R",
        "outputId": "2e193036-25a2-4b02-8d91-34a6293d9141"
      },
      "outputs": [
        {
          "name": "stdout",
          "output_type": "stream",
          "text": [
            "Starting scrape with 1961 reg numbers\n",
            "https://zakupki.gov.ru/epz/order/notice/ea44/view/common-info.html?regNumber=0869200000222001700\n",
            "https://zakupki.gov.ru/epz/order/notice/ea44/view/supplier-results.html?regNumber=0869200000222001700\n",
            "\n",
            "                                1 - Победитель\n",
            "                                \n",
            "                             \n",
            "                                7 000 000,00\n",
            "                            \n"
          ]
        }
      ],
      "source": [
        "from tqdm import tqdm\n",
        "\n",
        "contracts = []\n",
        "\n",
        "\n",
        "print(\"Starting scrape with {} reg numbers\".format(len(regNumbers)))\n",
        "\n",
        "# Ensuring that hte code works without threading first\n",
        "scrapeData(regNumbers[0])\n",
        "\n",
        "# print(contracts)\n",
        "\n",
        "# for regNum in tqdm(regNumbers):\n",
        "#     scrapeData(regNum)\n",
        "\n",
        "\n",
        "# for regNumber in tqdm(regNumbers[:50]):\n",
        "# # #  scrapeData(regNumber)\n",
        "#   thread = Thread(target = scrapeData, args = (regNumber,))\n",
        "#   thread.start()\n",
        "\n",
        "# print(contracts)\n",
        "\n",
        "\n",
        "# For each contract reg number, start a thread for its execution and display the progress.\n",
        "# for reg in tqdm(regNumbers):\n",
        "#   thread = Thread(target = scrapeData, args = (reg,))\n",
        "#   thread.start()\n",
        "\n",
        "\n",
        "# The contracts list now contains only successfully scraped contracts\n",
        "#print(len(contracts))"
      ]
    },
    {
      "cell_type": "markdown",
      "metadata": {
        "id": "wUHKuKTFqLij"
      },
      "source": [
        "Usually about 9/10 contracts are scraped successfully. This depends on how the Zakupki website is feeling that day. Sometimes erroneous webpages are returned instead of the webpage for the requested contract."
      ]
    },
    {
      "cell_type": "markdown",
      "metadata": {
        "id": "H9_G7hUrqT6g"
      },
      "source": [
        "### Section 6: Output\n",
        "\n",
        "Convert the list of contract classes to a dataframe so that they can be exported to a csv file"
      ]
    },
    {
      "cell_type": "code",
      "execution_count": 20,
      "metadata": {
        "id": "Z6p3oMf-eJbP"
      },
      "outputs": [
        {
          "name": "stdout",
          "output_type": "stream",
          "text": [
            "dict_keys(['ID', 'price', 'published', 'deadline', 'method', 'tenderObject', 'organisationName', 'address', 'official', 'productCode', 'participants', 'bids'])\n",
            "                     ID             price   published    deadline  \\\n",
            "0   0869200000222001700     11,400,000,00  03.05.2022  24.05.2022   \n",
            "1   0869200000222001691     11,895,000,00  03.05.2022  20.05.2022   \n",
            "2   0869200000222001695     18,219,924,00  03.05.2022  17.05.2022   \n",
            "3   0128200000122002263     38,218,224,96  03.05.2022  19.05.2022   \n",
            "4   0173200025422000017     34,149,635,18  04.05.2022  25.05.2022   \n",
            "5   0134200000122002266     12,000,000,00  04.05.2022  25.05.2022   \n",
            "6   2073400001222000013    907,766,833,94  04.05.2022  25.05.2022   \n",
            "7   0809500000322001036     30,172,043,84  03.05.2022  16.05.2022   \n",
            "8   0121200004722000358     24,754,762,50  04.05.2022  25.05.2022   \n",
            "9   0848300051722000243     38,456,956,80  04.05.2022  25.05.2022   \n",
            "10  0164200003022001265    153,300,000,00  04.05.2022  25.05.2022   \n",
            "11  0348100006022000105    249,750,000,00  04.05.2022  25.05.2022   \n",
            "12  0869200000222001700     11,400,000,00  03.05.2022  24.05.2022   \n",
            "13  0373100029522000060     38,202,356,94  04.05.2022  25.05.2022   \n",
            "14  0848300051722000245     43,254,212,40  04.05.2022  25.05.2022   \n",
            "15  0816500000622007666     39,476,882,96  04.05.2022  25.05.2022   \n",
            "16  0173200001422000483  1,727,529,812,40  04.05.2022  24.05.2022   \n",
            "17  0173200001422000486  1,245,645,400,34  04.05.2022  24.05.2022   \n",
            "18  0148300027922000025     30,493,883,48  04.05.2022  24.05.2022   \n",
            "19  0340200003322004884     14,172,600,00  04.05.2022  24.05.2022   \n",
            "20  0123300007422000027     38,858,626,80  04.05.2022  25.05.2022   \n",
            "21  0152200004722000657    643,277,702,20  04.05.2022  24.05.2022   \n",
            "22  0173200001422000485    136,250,705,71  04.05.2022  24.05.2022   \n",
            "23  0869200000222001721     37,022,000,00  04.05.2022  24.05.2022   \n",
            "24  0373100040122000197     79,382,840,00  04.05.2022  24.05.2022   \n",
            "25  0869200000222001716     10,639,500,00  04.05.2022  24.05.2022   \n",
            "26  0162300005722000040     27,687,000,00  04.05.2022  16.05.2022   \n",
            "27  0848300051722000246     47,772,799,20  04.05.2022  25.05.2022   \n",
            "28  0816500000622007635     10,199,360,00  04.05.2022  24.05.2022   \n",
            "29  0167200003422002467     15,302,999,97  04.05.2022  24.05.2022   \n",
            "\n",
            "                                               method  \\\n",
            "0                                 Электронный аукцион   \n",
            "1                                 Электронный аукцион   \n",
            "2                                 Электронный аукцион   \n",
            "3   Электронный аукцион на проведение работ по стр...   \n",
            "4                Открытый конкурс в электронной форме   \n",
            "5   Электронный аукцион на проведение работ по стр...   \n",
            "6                                 Электронный аукцион   \n",
            "7                                 Электронный аукцион   \n",
            "8                                 Электронный аукцион   \n",
            "9                Открытый конкурс в электронной форме   \n",
            "10               Открытый конкурс в электронной форме   \n",
            "11               Открытый конкурс в электронной форме   \n",
            "12                                Электронный аукцион   \n",
            "13               Открытый конкурс в электронной форме   \n",
            "14               Открытый конкурс в электронной форме   \n",
            "15  Открытый конкурс в электронной форме для заклю...   \n",
            "16                                Электронный аукцион   \n",
            "17                                Электронный аукцион   \n",
            "18               Открытый конкурс в электронной форме   \n",
            "19                                Электронный аукцион   \n",
            "20                                Электронный аукцион   \n",
            "21                                Электронный аукцион   \n",
            "22               Открытый конкурс в электронной форме   \n",
            "23                                Электронный аукцион   \n",
            "24  Электронный аукцион на проведение работ по стр...   \n",
            "25                                Электронный аукцион   \n",
            "26                                Электронный аукцион   \n",
            "27               Открытый конкурс в электронной форме   \n",
            "28                                Электронный аукцион   \n",
            "29                                Электронный аукцион   \n",
            "\n",
            "                                         tenderObject  \\\n",
            "0   поставка Тест-полосок для отдельных групп насе...   \n",
            "1   \\r\\n\\r\\nпоставка Тест-полосок для граждан, име...   \n",
            "2   Поставка лекарственного препарата для медицинс...   \n",
            "3   Очистные сооружения в д. Новое Аннино Петушинс...   \n",
            "4   Оказание услуг по осуществлению функций технич...   \n",
            "5   Выполнение работ по капитальному ремонту здани...   \n",
            "6   Поставка вертикально-фрезерных обрабатывающих ...   \n",
            "7                    услуги по предоставлению кредита   \n",
            "8   Диагностика и паспортизация на искусственные д...   \n",
            "9   \\n                    Уполномоченное учреждени...   \n",
            "10  \\n                    Уполномоченный орган\\n\\n...   \n",
            "11  \\n                    Заказчик\\n\\n            ...   \n",
            "12  поставка Тест-полосок для отдельных групп насе...   \n",
            "13  \\n                    Заказчик\\n\\n            ...   \n",
            "14  \\n                    Уполномоченное учреждени...   \n",
            "15  \\n                    Уполномоченное учреждени...   \n",
            "16  Оказание услуг по проведению расчетов по опера...   \n",
            "17  Выполнение комплекса работ по приведению в нор...   \n",
            "18  \\n                    Заказчик\\n\\n            ...   \n",
            "19  Поставка лекарственного препарата для медицинс...   \n",
            "20  Выполнение работ по ремонту внутрипоселковых а...   \n",
            "21  Выполнение работ по ремонту автомобильных доро...   \n",
            "22  \\n                    Уполномоченный орган\\n\\n...   \n",
            "23  поставка Тест-полосок для граждан, имеющих пра...   \n",
            "24  Выполнение работ по капитальному ремонту объек...   \n",
            "25  \\r\\nПоставка Тест-полосок для граждан, имеющих...   \n",
            "26  Благоустройство сквера им. И.Д.Самойлова с пло...   \n",
            "27  \\n                    Уполномоченное учреждени...   \n",
            "28  Поставка изделий медицинского назначения (труб...   \n",
            "29                  Поставка средств автотранспортных   \n",
            "\n",
            "                                     organisationName  \\\n",
            "0                           Уполномоченное учреждение   \n",
            "1                           Уполномоченное учреждение   \n",
            "2                                                  Да   \n",
            "3   \\n                    ДЕПАРТАМЕНТ ИМУЩЕСТВЕННЫ...   \n",
            "4   \\n                    ДЕПАРТАМЕНТ РАЗВИТИЯ НОВ...   \n",
            "5   \\n                    МИНИСТЕРСТВО ПО РЕГУЛИРО...   \n",
            "6   Заказчик, осуществляющий закупки в соответстви...   \n",
            "7   \\n                    ГОСУДАРСТВЕННОЕ КАЗЕННОЕ...   \n",
            "8   \\n                    КОМИТЕТ СТАВРОПОЛЬСКОГО ...   \n",
            "9                           Уполномоченное учреждение   \n",
            "10                               Уполномоченный орган   \n",
            "11                                           Заказчик   \n",
            "12                          Уполномоченное учреждение   \n",
            "13                                           Заказчик   \n",
            "14                          Уполномоченное учреждение   \n",
            "15                          Уполномоченное учреждение   \n",
            "16  \\n                    ДЕПАРТАМЕНТ ГОРОДА МОСКВ...   \n",
            "17  \\n                    ДЕПАРТАМЕНТ ГОРОДА МОСКВ...   \n",
            "18                                           Заказчик   \n",
            "19                                                 Да   \n",
            "20  \\n                    АДМИНИСТРАЦИЯ ЗЕЙСКОГО Р...   \n",
            "21  \\n                    ГЛАВНОЕ УПРАВЛЕНИЕ КОНТР...   \n",
            "22                               Уполномоченный орган   \n",
            "23                          Уполномоченное учреждение   \n",
            "24  \\n                    ФЕДЕРАЛЬНОЕ ГОСУДАРСТВЕН...   \n",
            "25                          Уполномоченное учреждение   \n",
            "26  \\n                    АДМИНИСТРАЦИЯ МУНИЦИПАЛЬ...   \n",
            "27                          Уполномоченное учреждение   \n",
            "28  \\n                    ГОСУДАРСТВЕННОЕ КАЗЕННОЕ...   \n",
            "29  \\n                    УПРАВЛЕНИЕ ГОСУДАРСТВЕНН...   \n",
            "\n",
            "                                              address  \\\n",
            "0   ГОСУДАРСТВЕННОЕ КАЗЕННОЕ УЧРЕЖДЕНИЕ \"ЦЕНТР ОРГ...   \n",
            "1   ГОСУДАРСТВЕННОЕ КАЗЕННОЕ УЧРЕЖДЕНИЕ \"ЦЕНТР ОРГ...   \n",
            "2                           Уполномоченное учреждение   \n",
            "3   Российская Федерация, 600000, Владимирская обл...   \n",
            "4   город Москва, улица Воздвиженка, дом 8/1, стро...   \n",
            "5   664003, Иркутская область, Города областного п...   \n",
            "6   АКЦИОНЕРНОЕ ОБЩЕСТВО \"ГОСУДАРСТВЕННЫЙ КОСМИЧЕС...   \n",
            "7   Российская Федерация, Мордовия Респ, Саранск г...   \n",
            "8   355006, СТАВРОПОЛЬСКИЙ КРАЙ, ГОРОД СТАВРОПОЛЬ,...   \n",
            "9   МУНИЦИПАЛЬНОЕ КАЗЕННОЕ УЧРЕЖДЕНИЕ \"ЦЕНТР МУНИЦ...   \n",
            "10  КОМИТЕТ ГОСУДАРСТВЕННОГО ЗАКАЗА ТАМБОВСКОЙ ОБЛ...   \n",
            "11  ФЕДЕРАЛЬНОЕ КАЗЕННОЕ УЧРЕЖДЕНИЕ \"УПРАВЛЕНИЕ АВ...   \n",
            "12  ГОСУДАРСТВЕННОЕ КАЗЕННОЕ УЧРЕЖДЕНИЕ \"ЦЕНТР ОРГ...   \n",
            "13  ФЕДЕРАЛЬНОЕ ГОСУДАРСТВЕННОЕ БЮДЖЕТНОЕ ОБРАЗОВА...   \n",
            "14  МУНИЦИПАЛЬНОЕ КАЗЕННОЕ УЧРЕЖДЕНИЕ \"ЦЕНТР МУНИЦ...   \n",
            "15  ГОСУДАРСТВЕННОЕ КАЗЕННОЕ УЧРЕЖДЕНИЕ РЕСПУБЛИКИ...   \n",
            "16   город Москва, улица Макаренко, дом 4, строение 1   \n",
            "17   город Москва, улица Макаренко, дом 4, строение 1   \n",
            "18  АДМИНИСТРАЦИЯ ГОРОДСКОГО ОКРУГА КРАСНОЗНАМЕНСК...   \n",
            "19                          Уполномоченное учреждение   \n",
            "20  676243, Амурская область, город Зея, 676243, А...   \n",
            "21  644002, ОМСКАЯ ОБЛАСТЬ, ГОРОД ОМСК, УЛИЦА КРАС...   \n",
            "22  ДЕПАРТАМЕНТ ГОРОДА МОСКВЫ ПО КОНКУРЕНТНОЙ ПОЛИ...   \n",
            "23  ГОСУДАРСТВЕННОЕ КАЗЕННОЕ УЧРЕЖДЕНИЕ \"ЦЕНТР ОРГ...   \n",
            "24  Российская Федерация, 119991, Москва, ЛЕНИНСКИ...   \n",
            "25  ГОСУДАРСТВЕННОЕ КАЗЕННОЕ УЧРЕЖДЕНИЕ \"ЦЕНТР ОРГ...   \n",
            "26  Российская Федерация, 624601, Свердловская обл...   \n",
            "27  МУНИЦИПАЛЬНОЕ КАЗЕННОЕ УЧРЕЖДЕНИЕ \"ЦЕНТР МУНИЦ...   \n",
            "28  Российская Федерация, 677000, Саха /Якутия/ Ре...   \n",
            "29  625003, Тюменская область, город Тюмень, ул. Р...   \n",
            "\n",
            "                                             official            productCode  \\\n",
            "0   Российская Федерация, 454084, Челябинская обл,...           21.20.23.111   \n",
            "1   Российская Федерация, 454084, Челябинская обл,...           21.20.23.111   \n",
            "2   Российская Федерация, 454087, Челябинская обл,...              МЕТФОРМИН   \n",
            "3                                     Овчаренко Е. А.           42.21.23.000   \n",
            "4                                      Давыдова Г. А.           71.12.20.190   \n",
            "5                                      Новикова В. А.           43.99.90.190   \n",
            "6   Российская Федерация, 121309, Москва, УЛИЦА НО...           29.10.59.270   \n",
            "7                                     Шалдыбина Я. В.  64.19.21.000-00000025   \n",
            "8                                      Хатагова Е. А.           71.20.19.190   \n",
            "9   Российская Федерация, 141310, Московская обл, ...           42.99.22.120   \n",
            "10  Российская Федерация, 393550, Тамбовская обл, ...           42.11.20.200   \n",
            "11  Российская Федерация, 603159, Нижегородская об...           52.21.22.000   \n",
            "12  Российская Федерация, 454084, Челябинская обл,...           21.20.23.111   \n",
            "13  Российская Федерация, 119454, Москва, ПРОСПЕКТ...           43.39.19.190   \n",
            "14  Российская Федерация, 141310, Московская обл, ...           42.99.22.120   \n",
            "15  Российская Федерация, 677000, Саха /Якутия/ Ре...           71.12.12.130   \n",
            "16                                       Служба О. О.           66.19.99.190   \n",
            "17                                       Служба О. О.           42.99.29.100   \n",
            "18       143090, Московская область, г.Краснознаменск           42.99.22.120   \n",
            "19  Российская Федерация, 610001, Кировская обл, К...            КАРБОПЛАТИН   \n",
            "20                                       Тусова А. С.           42.11.10.129   \n",
            "21                                       Засько К. В.           42.11.20.230   \n",
            "22   город Москва, улица Макаренко, дом 4, строение 1           62.01.11.000   \n",
            "23  Российская Федерация, 454084, Челябинская обл,...           21.20.23.111   \n",
            "24                                     Тимирова М. Ю.           43.32.10.110   \n",
            "25  Российская Федерация, 454084, Челябинская обл,...           21.20.23.111   \n",
            "26                                     Мурлыкин Д. С.           42.99.22.120   \n",
            "27  Российская Федерация, 141310, Московская обл, ...           42.99.22.120   \n",
            "28                                      Бурцева И. В.  22.21.29.120-00000002   \n",
            "29                                    Горшкалев Д. А.           29.10.22.000   \n",
            "\n",
            "   participants  bids  \n",
            "0          none   0.0  \n",
            "1          none   0.0  \n",
            "2          none   0.0  \n",
            "3          none   0.0  \n",
            "4          none   0.0  \n",
            "5          none   0.0  \n",
            "6          none   0.0  \n",
            "7          none   0.0  \n",
            "8          none   0.0  \n",
            "9          none   0.0  \n",
            "10         none   0.0  \n",
            "11         none   0.0  \n",
            "12         none   0.0  \n",
            "13         none   0.0  \n",
            "14         none   0.0  \n",
            "15         none   0.0  \n",
            "16         none   0.0  \n",
            "17         none   0.0  \n",
            "18         none   0.0  \n",
            "19         none   0.0  \n",
            "20         none   0.0  \n",
            "21         none   0.0  \n",
            "22         none   0.0  \n",
            "23         none   0.0  \n",
            "24         none   0.0  \n",
            "25         none   0.0  \n",
            "26         none   0.0  \n",
            "27         none   0.0  \n",
            "28         none   0.0  \n",
            "29         none   0.0  \n"
          ]
        }
      ],
      "source": [
        "contract = contracts[0]\n",
        "print(contract.__dict__.keys())\n",
        "df = pd.DataFrame(columns=contract.__dict__.keys())\n",
        "\n",
        "for contract in contracts:\n",
        "  df = df.append(contract.__dict__, ignore_index=True)\n",
        "\n",
        "with pd.option_context('display.max_rows', None, 'display.max_columns', None):\n",
        "    print(df)"
      ]
    },
    {
      "cell_type": "code",
      "execution_count": null,
      "metadata": {
        "id": "9ST7Qk4rVOFK"
      },
      "outputs": [],
      "source": [
        "df.to_csv(\"zakupki.csv\")"
      ]
    },
    {
      "cell_type": "code",
      "execution_count": null,
      "metadata": {},
      "outputs": [],
      "source": []
    }
  ],
  "metadata": {
    "colab": {
      "collapsed_sections": [],
      "name": "Copy of Zakupki.ipynb",
      "provenance": []
    },
    "interpreter": {
      "hash": "31f2aee4e71d21fbe5cf8b01ff0e069b9275f58929596ceb00d14d90e3e16cd6"
    },
    "kernelspec": {
      "display_name": "Python 3.8.9 64-bit",
      "language": "python",
      "name": "python3"
    },
    "language_info": {
      "codemirror_mode": {
        "name": "ipython",
        "version": 3
      },
      "file_extension": ".py",
      "mimetype": "text/x-python",
      "name": "python",
      "nbconvert_exporter": "python",
      "pygments_lexer": "ipython3",
      "version": "3.8.9"
    }
  },
  "nbformat": 4,
  "nbformat_minor": 0
}
