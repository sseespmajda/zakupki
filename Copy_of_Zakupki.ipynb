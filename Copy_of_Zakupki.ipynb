{
 "cells": [
  {
   "cell_type": "markdown",
   "metadata": {
    "id": "rajDyGemoV8Q"
   },
   "source": [
    "# Zakupki website scraping for Piotr"
   ]
  },
  {
   "cell_type": "markdown",
   "metadata": {
    "id": "xfVriCvQPi8u"
   },
   "source": [
    "The aim of this notebook is to scrape details of each contract hosted on the Russian Zakupki public sector contract awarding website.\n",
    "\n",
    "The input for this project will be the Zakupki URL. This code can be run on different dates to pull fresh contract data.\n",
    "\n",
    "Method:\n",
    "1.   Identify the number of pages of contracts to be scraped (using the contract filters provided).\n",
    "2.   Iterate through each page, scraping the registration number of each contract.\n",
    "3.   Access the website for each contract by placing the registraion number in the URL.\n",
    "4.   Scrape the details for each contract and add them to a list of Contracts dataclasses.\n",
    "5.   Format these Contract objects as a dataframe and output the dataframe to a csv file.\n",
    "\n",
    "\n",
    "The output of this project will be the CSV file, with each row representing a new contract from the webstie.\n"
   ]
  },
  {
   "cell_type": "markdown",
   "metadata": {
    "id": "9O34U-48RLCa"
   },
   "source": [
    "### Section 1: Setup"
   ]
  },
  {
   "cell_type": "code",
   "execution_count": 1,
   "metadata": {
    "id": "EkywDpTl3_lN"
   },
   "outputs": [],
   "source": [
    "import requests\n",
    "from requests.adapters import HTTPAdapter\n",
    "from requests.packages.urllib3.util.retry import Retry\n",
    "from bs4 import BeautifulSoup\n",
    "from datetime import date\n",
    "from dataclasses import dataclass\n",
    "from tqdm import tqdm\n",
    "from dateutil import parser\n",
    "from threading import Thread\n",
    "import pandas as pd\n",
    "from datetime import datetime, date, timedelta\n",
    "import logging\n",
    "import http.client\n",
    "from functools import lru_cache\n",
    "from concurrent.futures import ThreadPoolExecutor, as_completed\n",
    "import math\n",
    "from os import walk\n",
    "import json\n",
    "import numpy as np\n",
    "import csv\n"
   ]
  },
  {
   "cell_type": "code",
   "execution_count": 2,
   "metadata": {},
   "outputs": [],
   "source": [
    "## Finding the memory leak\n",
    "\n",
    "from collections import Counter\n",
    "import linecache\n",
    "import os\n",
    "import tracemalloc\n",
    "\n",
    "def display_top(snapshot, key_type='lineno', limit=3):\n",
    "    snapshot = snapshot.filter_traces((\n",
    "        tracemalloc.Filter(False, \"<frozen importlib._bootstrap>\"),\n",
    "        tracemalloc.Filter(False, \"<unknown>\"),\n",
    "    ))\n",
    "    top_stats = snapshot.statistics(key_type)\n",
    "\n",
    "    print(\"Top %s lines\" % limit)\n",
    "    for index, stat in enumerate(top_stats[:limit], 1):\n",
    "        frame = stat.traceback[0]\n",
    "        # replace \"/path/to/module/file.py\" with \"module/file.py\"\n",
    "        filename = os.sep.join(frame.filename.split(os.sep)[-2:])\n",
    "        print(\"#%s: %s:%s: %.1f KiB\"\n",
    "              % (index, filename, frame.lineno, stat.size / 1024))\n",
    "        line = linecache.getline(frame.filename, frame.lineno).strip()\n",
    "        if line:\n",
    "            print('    %s' % line)\n",
    "\n",
    "    other = top_stats[limit:]\n",
    "    if other:\n",
    "        size = sum(stat.size for stat in other)\n",
    "        print(\"%s other: %.1f KiB\" % (len(other), size / 1024))\n",
    "    total = sum(stat.size for stat in top_stats)\n",
    "    print(\"Total allocated size: %.1f KiB\" % (total / 1024))\n",
    "\n",
    "\n",
    "tracemalloc.start()"
   ]
  },
  {
   "cell_type": "code",
   "execution_count": 3,
   "metadata": {
    "id": "ohoWQEyyCpkk"
   },
   "outputs": [],
   "source": [
    "logging = False\n",
    "\n",
    "if logging:\n",
    "\n",
    "    http.client.HTTPConnection.debuglevel = 1\n",
    "\n",
    "    # You must initialize logging, otherwise you'll not see debug output.\n",
    "    logging.basicConfig()\n",
    "    logging.getLogger().setLevel(logging.DEBUG)\n",
    "    requests_log = logging.getLogger(\"requests.packages.urllib3\")\n",
    "    requests_log.setLevel(logging.DEBUG)\n",
    "    requests_log.propagate = True"
   ]
  },
  {
   "cell_type": "markdown",
   "metadata": {
    "id": "iJWBR30Apf9y"
   },
   "source": [
    "### Section 2: Determine Number of pages to scrape\n",
    "Test connection to the website and determine number of pages to scrape"
   ]
  },
  {
   "cell_type": "code",
   "execution_count": 4,
   "metadata": {
    "id": "IxF2lQm5Vq_8"
   },
   "outputs": [],
   "source": [
    "session = requests.Session()\n",
    "retry = Retry(connect=3, backoff_factor=0.5)\n",
    "adapter = HTTPAdapter(max_retries=retry)\n",
    "session.mount('http://', adapter)\n",
    "session.mount('https://', adapter)\n",
    "\n",
    "# @lru_cache(maxsize=None)\n",
    "def getPage(tempURL):\n",
    "  # If User-Agent is not set to custom, the website will know a Python script is accessing it and block some of the request\n",
    "\n",
    "  response = session.get(tempURL, headers={'User-Agent': 'Custom'})\n",
    "  return BeautifulSoup(response.content, \"html.parser\")"
   ]
  },
  {
   "cell_type": "code",
   "execution_count": 5,
   "metadata": {
    "colab": {
     "base_uri": "https://localhost:8080/"
    },
    "id": "vqetG6kV0HFi",
    "outputId": "d351bc31-6ef2-4d6c-89a8-bf9234b503dc"
   },
   "outputs": [
    {
     "name": "stdout",
     "output_type": "stream",
     "text": [
      "Created 1827 dates\n"
     ]
    }
   ],
   "source": [
    "# Getting the dates we want to scrape.\n",
    "\n",
    "url=\"https://zakupki.gov.ru/epz/contract/search/results.html?morphology=on&search-filter=%D0%94%D0%B0%D1%82%D0%B5+%D1%80%D0%B0%D0%B7%D0%BC%D0%B5%D1%89%D0%B5%D0%BD%D0%B8%D1%8F&fz44=on&contractStageList_0=on&contractStageList_1=on&contractStageList=0%2C1&contractPriceFrom=1000000&contractCurrencyID=-1&budgetLevelsIdNameHidden=%7B%7D&customerPlace=5277383&customerPlaceCodes=66000000000&contractDateFrom={}&contractDateTo={}&selectedLaws=FZ44&sortBy=UPDATE_DATE&pageNumber={}&sortDirection=false&recordsPerPage=_500&showLotsInfoHidden=false\"\n",
    "startDate = date(2016, 1, 1)\n",
    "endDate = date(2020, 12, 31)\n",
    "days = timedelta(days=1)\n",
    "\n",
    "startDateBefore = startDate\n",
    "\n",
    "calendar=[]\n",
    "\n",
    "while startDate<=endDate:\n",
    "  calendar.append(startDate.strftime('%d.%m.%Y'))\n",
    "  startDate+=days\n",
    "\n",
    "print(\"Created {} dates\".format(len(calendar)))"
   ]
  },
  {
   "cell_type": "markdown",
   "metadata": {
    "id": "p-Ol6Rbipi4N"
   },
   "source": [
    "\n",
    "### Section 3: Scrape each registration number\n",
    "\n",
    "Scrape the reg numbers of each contract, so they can be accessed individually"
   ]
  },
  {
   "cell_type": "code",
   "execution_count": 6,
   "metadata": {},
   "outputs": [],
   "source": [
    "class Page:\n",
    "\n",
    "    def __init__(self, day, pageNum, pagefile):\n",
    "\n",
    "        self.day = day\n",
    "        self.pageNum = pageNum\n",
    "        self.pagefile = pagefile\n"
   ]
  },
  {
   "cell_type": "code",
   "execution_count": 7,
   "metadata": {},
   "outputs": [],
   "source": [
    "def getContracts(page):\n",
    "\n",
    "    regNumbersList = []\n",
    "\n",
    "    # Obtain a list of all the sections of HTML containing a contract in the web page\n",
    "    listOfContracts = page.find_all(\"div\", {\"class\": \"registry-entry__header-mid__number\"})\n",
    "    \n",
    "    # Segment the registration number from the URL of each contract\n",
    "    for contract in listOfContracts:\n",
    "        href = contract.find(\"a\")['href']\n",
    "        regNum = href[href.index(\"Number=\")+7:]\n",
    "        regNumbersList.append(regNum)\n",
    "\n",
    "    return regNumbersList"
   ]
  },
  {
   "cell_type": "code",
   "execution_count": 8,
   "metadata": {},
   "outputs": [],
   "source": [
    "def progress(idx, data):\n",
    "\n",
    "    x_ = int(((idx+1) * 100) / len(data))\n",
    "    y_ = idx % math.ceil(len(data) / 10)\n",
    "    \n",
    "    print(\" ----\\n{}% completed\\n----\".format(x_)) if y_ == 0 else None"
   ]
  },
  {
   "cell_type": "code",
   "execution_count": 9,
   "metadata": {
    "id": "seJyyDBCFLGl"
   },
   "outputs": [],
   "source": [
    "# Getting the web page for all the contracts for each date in the range we want to scrape.\n",
    "\n",
    "regNumbersDict = {}\n",
    "\n",
    "def getRegNumbersForDate(i, day):\n",
    "\n",
    "  if day in regNumbersDict:\n",
    "    return\n",
    "\n",
    "  tempURL = url.format(day, day, 1)\n",
    "\n",
    "  print(tempURL)\n",
    "\n",
    "  page = getPage(tempURL)\n",
    "\n",
    "  # Scrape the max number of pages\n",
    "  try:\n",
    "    maxPageNum = int(page.select('a[data-pagenumber]')[-2].find(\"span\").text)\n",
    "    print(\"{} pages for this day\".format(maxPageNum))\n",
    "  except:\n",
    "    maxPageNum = 1\n",
    "\n",
    "\n",
    "  # Leave my variable names alone :(\n",
    "  totalRegNumbersForThisDay = 0\n",
    "\n",
    "  for i in range(1, maxPageNum+1):\n",
    "\n",
    "    # Creating a temporary URL for each page containing contracts\n",
    "    tempPageURL = url.format(day, day, i)\n",
    "\n",
    "    # Request the page and format it as a BeautifulSoup object so that we can perform scrapings\n",
    "    page = getPage(tempPageURL)\n",
    "\n",
    "    regNumbersList = getContracts(page)\n",
    "\n",
    "    totalRegNumbersForThisDay += len(regNumbersList)\n",
    "\n",
    "    regNumbersDict[day] = regNumbersList\n",
    "\n",
    "\n",
    "  print(\"Fetched day {} had {} contracts \\n\".format(day, totalRegNumbersForThisDay), end='')\n",
    "\n",
    "  del page\n",
    "  del regNumbersList\n",
    "\n",
    "  # progress(i, calendar)\n"
   ]
  },
  {
   "cell_type": "code",
   "execution_count": 10,
   "metadata": {},
   "outputs": [
    {
     "name": "stdout",
     "output_type": "stream",
     "text": [
      "Cached day 01.01.2016 had 80 contracts \n",
      "Cached day 02.01.2016 had 4 contracts \n",
      "Cached day 03.01.2016 had 2 contracts \n",
      "Cached day 04.01.2016 had 4 contracts \n",
      "Cached day 05.01.2016 had 1 contracts \n",
      "Cached day 06.01.2016 had 5 contracts \n",
      "Cached day 07.01.2016 had 0 contracts \n",
      "Cached day 08.01.2016 had 3 contracts \n",
      "Cached day 09.01.2016 had 1 contracts \n",
      "Cached day 10.01.2016 had 2 contracts \n",
      "Cached day 11.01.2016 had 115 contracts \n",
      "Cached day 12.01.2016 had 41 contracts \n",
      "Cached day 13.01.2016 had 23 contracts \n",
      "Cached day 14.01.2016 had 25 contracts \n",
      "Cached day 15.01.2016 had 25 contracts \n",
      "Cached day 16.01.2016 had 1 contracts \n",
      "Cached day 17.01.2016 had 0 contracts \n",
      "Cached day 18.01.2016 had 40 contracts \n",
      "Cached day 19.01.2016 had 34 contracts \n",
      "Cached day 20.01.2016 had 19 contracts \n",
      "Cached day 21.01.2016 had 21 contracts \n",
      "Cached day 22.01.2016 had 20 contracts \n",
      "Cached day 23.01.2016 had 3 contracts \n",
      "Cached day 24.01.2016 had 1 contracts \n",
      "Cached day 25.01.2016 had 48 contracts \n",
      "Cached day 26.01.2016 had 35 contracts \n",
      "Cached day 27.01.2016 had 31 contracts \n",
      "Cached day 28.01.2016 had 29 contracts \n",
      "Cached day 29.01.2016 had 22 contracts \n",
      "Cached day 30.01.2016 had 2 contracts \n",
      "Cached day 31.01.2016 had 7 contracts \n",
      "Cached day 01.02.2016 had 71 contracts \n",
      "Cached day 02.02.2016 had 39 contracts \n",
      "Cached day 03.02.2016 had 28 contracts \n",
      "Cached day 04.02.2016 had 19 contracts \n",
      "Cached day 05.02.2016 had 27 contracts \n",
      "Cached day 06.02.2016 had 2 contracts \n",
      "Cached day 07.02.2016 had 0 contracts \n",
      "Cached day 08.02.2016 had 43 contracts \n",
      "Cached day 09.02.2016 had 29 contracts \n",
      "Cached day 10.02.2016 had 23 contracts \n",
      "Cached day 11.02.2016 had 15 contracts \n",
      "Cached day 12.02.2016 had 10 contracts \n",
      "Cached day 13.02.2016 had 1 contracts \n",
      "Cached day 14.02.2016 had 1 contracts \n",
      "Cached day 15.02.2016 had 44 contracts \n",
      "Cached day 16.02.2016 had 20 contracts \n",
      "Cached day 17.02.2016 had 22 contracts \n",
      "Cached day 18.02.2016 had 14 contracts \n",
      "Cached day 19.02.2016 had 18 contracts \n",
      "Cached day 20.02.2016 had 16 contracts \n",
      "Cached day 21.02.2016 had 1 contracts \n",
      "Cached day 22.02.2016 had 3 contracts \n",
      "Cached day 23.02.2016 had 0 contracts \n",
      "Cached day 24.02.2016 had 48 contracts \n",
      "Cached day 25.02.2016 had 18 contracts \n",
      "Cached day 26.02.2016 had 22 contracts \n",
      "Cached day 27.02.2016 had 0 contracts \n",
      "Cached day 28.02.2016 had 0 contracts \n",
      "Cached day 29.02.2016 had 53 contracts \n",
      "Cached day 01.03.2016 had 44 contracts \n",
      "Cached day 02.03.2016 had 17 contracts \n",
      "Cached day 03.03.2016 had 24 contracts \n",
      "Cached day 04.03.2016 had 18 contracts \n",
      "Cached day 05.03.2016 had 0 contracts \n",
      "Cached day 06.03.2016 had 1 contracts \n",
      "Cached day 07.03.2016 had 0 contracts \n",
      "Cached day 08.03.2016 had 0 contracts \n",
      "Cached day 09.03.2016 had 43 contracts \n",
      "Cached day 10.03.2016 had 15 contracts \n",
      "Cached day 11.03.2016 had 20 contracts \n",
      "Cached day 12.03.2016 had 0 contracts \n",
      "Cached day 13.03.2016 had 0 contracts \n",
      "Cached day 14.03.2016 had 26 contracts \n",
      "Cached day 15.03.2016 had 29 contracts \n",
      "Cached day 16.03.2016 had 24 contracts \n",
      "Cached day 17.03.2016 had 27 contracts \n",
      "Cached day 18.03.2016 had 14 contracts \n",
      "Cached day 19.03.2016 had 1 contracts \n",
      "Cached day 20.03.2016 had 0 contracts \n",
      "Cached day 21.03.2016 had 39 contracts \n",
      "Cached day 22.03.2016 had 35 contracts \n",
      "Cached day 23.03.2016 had 22 contracts \n",
      "Cached day 24.03.2016 had 14 contracts \n",
      "Cached day 25.03.2016 had 24 contracts \n",
      "Cached day 26.03.2016 had 1 contracts \n",
      "Cached day 27.03.2016 had 0 contracts \n",
      "Cached day 28.03.2016 had 52 contracts \n",
      "Cached day 29.03.2016 had 37 contracts \n",
      "Cached day 30.03.2016 had 13 contracts \n",
      "Cached day 31.03.2016 had 26 contracts \n",
      "Cached day 01.04.2016 had 17 contracts \n",
      "Cached day 02.04.2016 had 2 contracts \n",
      "Cached day 03.04.2016 had 0 contracts \n",
      "Cached day 04.04.2016 had 38 contracts \n",
      "Cached day 05.04.2016 had 28 contracts \n",
      "Cached day 06.04.2016 had 5 contracts \n",
      "Cached day 07.04.2016 had 15 contracts \n",
      "Cached day 08.04.2016 had 10 contracts \n",
      "Cached day 09.04.2016 had 1 contracts \n",
      "Cached day 10.04.2016 had 1 contracts \n",
      "Cached day 11.04.2016 had 35 contracts \n",
      "Cached day 12.04.2016 had 34 contracts \n",
      "Cached day 13.04.2016 had 24 contracts \n",
      "Cached day 14.04.2016 had 14 contracts \n",
      "Cached day 15.04.2016 had 26 contracts \n",
      "Cached day 16.04.2016 had 0 contracts \n",
      "Cached day 17.04.2016 had 0 contracts \n",
      "Cached day 18.04.2016 had 57 contracts \n",
      "Cached day 19.04.2016 had 27 contracts \n",
      "Cached day 20.04.2016 had 19 contracts \n",
      "Cached day 21.04.2016 had 18 contracts \n",
      "Cached day 22.04.2016 had 16 contracts \n",
      "Cached day 23.04.2016 had 1 contracts \n",
      "Cached day 24.04.2016 had 2 contracts \n",
      "Cached day 25.04.2016 had 50 contracts \n",
      "Cached day 26.04.2016 had 39 contracts \n",
      "Cached day 27.04.2016 had 24 contracts \n",
      "Cached day 28.04.2016 had 12 contracts \n",
      "Cached day 29.04.2016 had 25 contracts \n",
      "Cached day 30.04.2016 had 9 contracts \n",
      "Cached day 01.05.2016 had 2 contracts \n",
      "Cached day 02.05.2016 had 0 contracts \n",
      "Cached day 03.05.2016 had 0 contracts \n",
      "Cached day 04.05.2016 had 61 contracts \n",
      "Cached day 05.05.2016 had 24 contracts \n",
      "Cached day 06.05.2016 had 28 contracts \n",
      "Cached day 07.05.2016 had 1 contracts \n",
      "Cached day 08.05.2016 had 0 contracts \n",
      "Cached day 09.05.2016 had 0 contracts \n",
      "Cached day 10.05.2016 had 57 contracts \n",
      "Cached day 11.05.2016 had 26 contracts \n",
      "Cached day 12.05.2016 had 22 contracts \n",
      "Cached day 13.05.2016 had 9 contracts \n",
      "Cached day 14.05.2016 had 0 contracts \n",
      "Cached day 15.05.2016 had 0 contracts \n",
      "Cached day 16.05.2016 had 42 contracts \n",
      "Cached day 17.05.2016 had 34 contracts \n",
      "Cached day 18.05.2016 had 12 contracts \n",
      "Cached day 19.05.2016 had 21 contracts \n",
      "Cached day 20.05.2016 had 6 contracts \n",
      "Cached day 21.05.2016 had 1 contracts \n",
      "Cached day 22.05.2016 had 1 contracts \n",
      "Cached day 23.05.2016 had 45 contracts \n",
      "Cached day 24.05.2016 had 40 contracts \n",
      "Cached day 25.05.2016 had 23 contracts \n",
      "Cached day 26.05.2016 had 12 contracts \n",
      "Cached day 27.05.2016 had 21 contracts \n",
      "Cached day 28.05.2016 had 2 contracts \n",
      "Cached day 29.05.2016 had 1 contracts \n",
      "Cached day 30.05.2016 had 45 contracts \n",
      "Cached day 31.05.2016 had 31 contracts \n",
      "Cached day 01.06.2016 had 40 contracts \n",
      "Cached day 02.06.2016 had 17 contracts \n",
      "Cached day 03.06.2016 had 15 contracts \n",
      "Cached day 04.06.2016 had 2 contracts \n",
      "Cached day 05.06.2016 had 0 contracts \n",
      "Cached day 06.06.2016 had 47 contracts \n",
      "Cached day 07.06.2016 had 22 contracts \n",
      "Cached day 08.06.2016 had 19 contracts \n",
      "Cached day 09.06.2016 had 16 contracts \n",
      "Cached day 10.06.2016 had 16 contracts \n",
      "Cached day 11.06.2016 had 3 contracts \n",
      "Cached day 12.06.2016 had 0 contracts \n",
      "Cached day 13.06.2016 had 0 contracts \n",
      "Cached day 14.06.2016 had 38 contracts \n",
      "Cached day 15.06.2016 had 15 contracts \n",
      "Cached day 16.06.2016 had 27 contracts \n",
      "Cached day 17.06.2016 had 15 contracts \n",
      "Cached day 18.06.2016 had 0 contracts \n",
      "Cached day 19.06.2016 had 1 contracts \n",
      "Cached day 20.06.2016 had 49 contracts \n",
      "Cached day 21.06.2016 had 36 contracts \n",
      "Cached day 22.06.2016 had 19 contracts \n",
      "Cached day 23.06.2016 had 16 contracts \n",
      "Cached day 24.06.2016 had 11 contracts \n",
      "Cached day 25.06.2016 had 0 contracts \n",
      "Cached day 26.06.2016 had 0 contracts \n",
      "Cached day 27.06.2016 had 58 contracts \n",
      "Cached day 28.06.2016 had 37 contracts \n",
      "Cached day 29.06.2016 had 40 contracts \n",
      "Cached day 30.06.2016 had 27 contracts \n",
      "Cached day 01.07.2016 had 27 contracts \n",
      "Cached day 02.07.2016 had 1 contracts \n",
      "Cached day 03.07.2016 had 1 contracts \n",
      "Cached day 04.07.2016 had 43 contracts \n",
      "Cached day 05.07.2016 had 30 contracts \n",
      "Cached day 06.07.2016 had 21 contracts \n",
      "Cached day 07.07.2016 had 21 contracts \n",
      "Cached day 08.07.2016 had 24 contracts \n",
      "Cached day 09.07.2016 had 0 contracts \n",
      "Cached day 10.07.2016 had 0 contracts \n",
      "Cached day 11.07.2016 had 41 contracts \n",
      "Cached day 12.07.2016 had 31 contracts \n",
      "Cached day 13.07.2016 had 21 contracts \n",
      "Cached day 14.07.2016 had 10 contracts \n",
      "Cached day 15.07.2016 had 11 contracts \n",
      "Cached day 16.07.2016 had 2 contracts \n",
      "Cached day 17.07.2016 had 0 contracts \n",
      "Cached day 18.07.2016 had 34 contracts \n",
      "Cached day 19.07.2016 had 17 contracts \n",
      "Cached day 20.07.2016 had 10 contracts \n",
      "Cached day 21.07.2016 had 9 contracts \n",
      "Cached day 22.07.2016 had 19 contracts \n",
      "Cached day 23.07.2016 had 3 contracts \n",
      "Cached day 24.07.2016 had 1 contracts \n",
      "Cached day 25.07.2016 had 42 contracts \n",
      "Cached day 26.07.2016 had 30 contracts \n",
      "Cached day 27.07.2016 had 22 contracts \n",
      "Cached day 28.07.2016 had 8 contracts \n",
      "Cached day 29.07.2016 had 9 contracts \n",
      "Cached day 30.07.2016 had 0 contracts \n",
      "Cached day 31.07.2016 had 0 contracts \n",
      "Cached day 01.08.2016 had 39 contracts \n",
      "Cached day 02.08.2016 had 16 contracts \n",
      "Cached day 03.08.2016 had 16 contracts \n",
      "Cached day 04.08.2016 had 19 contracts \n",
      "Cached day 05.08.2016 had 14 contracts \n",
      "Cached day 06.08.2016 had 1 contracts \n",
      "Cached day 07.08.2016 had 0 contracts \n",
      "Cached day 08.08.2016 had 34 contracts \n",
      "Cached day 09.08.2016 had 27 contracts \n",
      "Cached day 10.08.2016 had 15 contracts \n",
      "Cached day 11.08.2016 had 9 contracts \n",
      "Cached day 12.08.2016 had 11 contracts \n",
      "Cached day 13.08.2016 had 2 contracts \n",
      "Cached day 14.08.2016 had 0 contracts \n",
      "Cached day 15.08.2016 had 69 contracts \n",
      "Cached day 16.08.2016 had 13 contracts \n",
      "Cached day 17.08.2016 had 20 contracts \n",
      "Cached day 18.08.2016 had 7 contracts \n",
      "Cached day 19.08.2016 had 27 contracts \n",
      "Cached day 20.08.2016 had 0 contracts \n",
      "Cached day 21.08.2016 had 1 contracts \n",
      "Cached day 22.08.2016 had 47 contracts \n",
      "Cached day 23.08.2016 had 35 contracts \n",
      "Cached day 24.08.2016 had 16 contracts \n",
      "Cached day 25.08.2016 had 7 contracts \n",
      "Cached day 26.08.2016 had 22 contracts \n",
      "Cached day 27.08.2016 had 1 contracts \n",
      "Cached day 28.08.2016 had 0 contracts \n",
      "Cached day 29.08.2016 had 32 contracts \n",
      "Cached day 30.08.2016 had 33 contracts \n",
      "Cached day 31.08.2016 had 22 contracts \n",
      "Cached day 01.09.2016 had 24 contracts \n",
      "Cached day 02.09.2016 had 14 contracts \n",
      "Cached day 03.09.2016 had 0 contracts \n",
      "Cached day 04.09.2016 had 0 contracts \n",
      "Cached day 05.09.2016 had 45 contracts \n",
      "Cached day 06.09.2016 had 26 contracts \n",
      "Cached day 07.09.2016 had 13 contracts \n",
      "Cached day 08.09.2016 had 13 contracts \n",
      "Cached day 09.09.2016 had 6 contracts \n",
      "Cached day 10.09.2016 had 0 contracts \n",
      "Cached day 11.09.2016 had 0 contracts \n",
      "Cached day 12.09.2016 had 45 contracts \n",
      "Cached day 13.09.2016 had 28 contracts \n",
      "Cached day 14.09.2016 had 17 contracts \n",
      "Cached day 15.09.2016 had 15 contracts \n",
      "Cached day 16.09.2016 had 10 contracts \n",
      "Cached day 17.09.2016 had 0 contracts \n",
      "Cached day 18.09.2016 had 0 contracts \n",
      "Cached day 19.09.2016 had 26 contracts \n",
      "Cached day 20.09.2016 had 36 contracts \n",
      "Cached day 21.09.2016 had 10 contracts \n",
      "Cached day 22.09.2016 had 13 contracts \n",
      "Cached day 23.09.2016 had 5 contracts \n",
      "Cached day 24.09.2016 had 1 contracts \n",
      "Cached day 25.09.2016 had 1 contracts \n",
      "Cached day 26.09.2016 had 29 contracts \n",
      "Cached day 27.09.2016 had 36 contracts \n",
      "Cached day 28.09.2016 had 23 contracts \n",
      "Cached day 29.09.2016 had 24 contracts \n",
      "Cached day 30.09.2016 had 18 contracts \n",
      "Cached day 01.10.2016 had 5 contracts \n",
      "Cached day 02.10.2016 had 0 contracts \n",
      "Cached day 03.10.2016 had 36 contracts \n",
      "Cached day 04.10.2016 had 29 contracts \n",
      "Cached day 05.10.2016 had 18 contracts \n",
      "Cached day 06.10.2016 had 5 contracts \n",
      "Cached day 07.10.2016 had 15 contracts \n",
      "Cached day 08.10.2016 had 0 contracts \n",
      "Cached day 09.10.2016 had 1 contracts \n",
      "Cached day 10.10.2016 had 36 contracts \n",
      "Cached day 11.10.2016 had 47 contracts \n",
      "Cached day 12.10.2016 had 14 contracts \n",
      "Cached day 13.10.2016 had 16 contracts \n",
      "Cached day 14.10.2016 had 9 contracts \n",
      "Cached day 15.10.2016 had 0 contracts \n",
      "Cached day 16.10.2016 had 0 contracts \n",
      "Cached day 17.10.2016 had 39 contracts \n",
      "Cached day 18.10.2016 had 23 contracts \n",
      "Cached day 19.10.2016 had 15 contracts \n",
      "Cached day 20.10.2016 had 6 contracts \n",
      "Cached day 21.10.2016 had 18 contracts \n",
      "Cached day 22.10.2016 had 0 contracts \n",
      "Cached day 23.10.2016 had 0 contracts \n",
      "Cached day 24.10.2016 had 24 contracts \n",
      "Cached day 25.10.2016 had 15 contracts \n",
      "Cached day 26.10.2016 had 12 contracts \n",
      "Cached day 27.10.2016 had 13 contracts \n",
      "Cached day 28.10.2016 had 15 contracts \n",
      "Cached day 29.10.2016 had 1 contracts \n",
      "Cached day 30.10.2016 had 0 contracts \n",
      "Cached day 31.10.2016 had 35 contracts \n",
      "Cached day 01.11.2016 had 35 contracts \n",
      "Cached day 02.11.2016 had 27 contracts \n",
      "Cached day 03.11.2016 had 19 contracts \n",
      "Cached day 04.11.2016 had 0 contracts \n",
      "Cached day 05.11.2016 had 0 contracts \n",
      "Cached day 06.11.2016 had 0 contracts \n",
      "Cached day 07.11.2016 had 26 contracts \n",
      "Cached day 08.11.2016 had 18 contracts \n",
      "Cached day 09.11.2016 had 27 contracts \n",
      "Cached day 10.11.2016 had 26 contracts \n",
      "Cached day 11.11.2016 had 14 contracts \n",
      "Cached day 12.11.2016 had 1 contracts \n",
      "Cached day 13.11.2016 had 0 contracts \n",
      "Cached day 14.11.2016 had 29 contracts \n",
      "Cached day 15.11.2016 had 14 contracts \n",
      "Cached day 16.11.2016 had 18 contracts \n",
      "Cached day 17.11.2016 had 11 contracts \n",
      "Cached day 18.11.2016 had 14 contracts \n",
      "Cached day 19.11.2016 had 2 contracts \n",
      "Cached day 20.11.2016 had 0 contracts \n",
      "Cached day 21.11.2016 had 30 contracts \n",
      "Cached day 22.11.2016 had 28 contracts \n",
      "Cached day 23.11.2016 had 24 contracts \n",
      "Cached day 24.11.2016 had 6 contracts \n",
      "Cached day 25.11.2016 had 11 contracts \n",
      "Cached day 26.11.2016 had 0 contracts \n",
      "Cached day 27.11.2016 had 0 contracts \n",
      "Cached day 28.11.2016 had 35 contracts \n",
      "Cached day 29.11.2016 had 29 contracts \n",
      "Cached day 30.11.2016 had 28 contracts \n",
      "Cached day 01.12.2016 had 10 contracts \n",
      "Cached day 02.12.2016 had 18 contracts \n",
      "Cached day 03.12.2016 had 0 contracts \n",
      "Cached day 04.12.2016 had 0 contracts \n",
      "Cached day 05.12.2016 had 47 contracts \n",
      "Cached day 06.12.2016 had 43 contracts \n",
      "Cached day 07.12.2016 had 12 contracts \n",
      "Cached day 08.12.2016 had 10 contracts \n",
      "Cached day 09.12.2016 had 15 contracts \n",
      "Cached day 10.12.2016 had 0 contracts \n",
      "Cached day 11.12.2016 had 0 contracts \n",
      "Cached day 12.12.2016 had 51 contracts \n",
      "Cached day 13.12.2016 had 43 contracts \n",
      "Cached day 14.12.2016 had 63 contracts \n",
      "Cached day 15.12.2016 had 26 contracts \n",
      "Cached day 16.12.2016 had 41 contracts \n",
      "Cached day 17.12.2016 had 4 contracts \n",
      "Cached day 18.12.2016 had 1 contracts \n",
      "Cached day 19.12.2016 had 84 contracts \n",
      "Cached day 20.12.2016 had 34 contracts \n",
      "Cached day 21.12.2016 had 25 contracts \n",
      "Cached day 22.12.2016 had 18 contracts \n",
      "Cached day 23.12.2016 had 27 contracts \n",
      "Cached day 24.12.2016 had 0 contracts \n",
      "Cached day 25.12.2016 had 4 contracts \n",
      "Cached day 26.12.2016 had 82 contracts \n",
      "Cached day 27.12.2016 had 60 contracts \n",
      "Cached day 28.12.2016 had 43 contracts \n",
      "Cached day 29.12.2016 had 34 contracts \n",
      "Cached day 30.12.2016 had 79 contracts \n",
      "Cached day 31.12.2016 had 21 contracts \n",
      "Cached day 01.01.2017 had 88 contracts \n",
      "Cached day 02.01.2017 had 6 contracts \n",
      "Cached day 03.01.2017 had 0 contracts \n",
      "Cached day 04.01.2017 had 4 contracts \n",
      "Cached day 05.01.2017 had 0 contracts \n",
      "Cached day 06.01.2017 had 3 contracts \n",
      "Cached day 07.01.2017 had 0 contracts \n",
      "Cached day 08.01.2017 had 2 contracts \n",
      "Cached day 09.01.2017 had 123 contracts \n",
      "Cached day 10.01.2017 had 51 contracts \n",
      "Cached day 11.01.2017 had 29 contracts \n",
      "Cached day 12.01.2017 had 19 contracts \n",
      "Cached day 13.01.2017 had 10 contracts \n",
      "Cached day 14.01.2017 had 1 contracts \n",
      "Cached day 15.01.2017 had 0 contracts \n",
      "Cached day 16.01.2017 had 26 contracts \n",
      "Cached day 17.01.2017 had 23 contracts \n",
      "Cached day 18.01.2017 had 14 contracts \n",
      "Cached day 19.01.2017 had 10 contracts \n",
      "Cached day 20.01.2017 had 15 contracts \n",
      "Cached day 21.01.2017 had 1 contracts \n",
      "Cached day 22.01.2017 had 1 contracts \n",
      "Cached day 23.01.2017 had 45 contracts \n",
      "Cached day 24.01.2017 had 61 contracts \n",
      "Cached day 25.01.2017 had 32 contracts \n",
      "Cached day 26.01.2017 had 13 contracts \n",
      "Cached day 27.01.2017 had 25 contracts \n",
      "Cached day 28.01.2017 had 1 contracts \n",
      "Cached day 29.01.2017 had 0 contracts \n",
      "Cached day 30.01.2017 had 76 contracts \n",
      "Cached day 31.01.2017 had 60 contracts \n",
      "Cached day 01.02.2017 had 42 contracts \n",
      "Cached day 02.02.2017 had 20 contracts \n",
      "Cached day 03.02.2017 had 15 contracts \n",
      "Cached day 04.02.2017 had 1 contracts \n",
      "Cached day 05.02.2017 had 0 contracts \n",
      "Cached day 06.02.2017 had 49 contracts \n",
      "Cached day 07.02.2017 had 29 contracts \n",
      "Cached day 08.02.2017 had 16 contracts \n",
      "Cached day 09.02.2017 had 16 contracts \n",
      "Cached day 10.02.2017 had 13 contracts \n",
      "Cached day 11.02.2017 had 1 contracts \n",
      "Cached day 12.02.2017 had 0 contracts \n",
      "Cached day 13.02.2017 had 44 contracts \n",
      "Cached day 14.02.2017 had 23 contracts \n",
      "Cached day 15.02.2017 had 15 contracts \n",
      "Cached day 16.02.2017 had 14 contracts \n",
      "Cached day 17.02.2017 had 12 contracts \n",
      "Cached day 18.02.2017 had 1 contracts \n",
      "Cached day 19.02.2017 had 1 contracts \n",
      "Cached day 20.02.2017 had 40 contracts \n",
      "Cached day 21.02.2017 had 26 contracts \n",
      "Cached day 22.02.2017 had 13 contracts \n",
      "Cached day 23.02.2017 had 1 contracts \n",
      "Cached day 24.02.2017 had 0 contracts \n",
      "Cached day 25.02.2017 had 2 contracts \n",
      "Cached day 26.02.2017 had 2 contracts \n",
      "Cached day 27.02.2017 had 43 contracts \n",
      "Cached day 28.02.2017 had 39 contracts \n",
      "Cached day 01.03.2017 had 16 contracts \n",
      "Cached day 02.03.2017 had 2 contracts \n",
      "Cached day 03.03.2017 had 13 contracts \n",
      "Cached day 04.03.2017 had 1 contracts \n",
      "Cached day 05.03.2017 had 4 contracts \n",
      "Cached day 06.03.2017 had 44 contracts \n",
      "Cached day 07.03.2017 had 21 contracts \n",
      "Cached day 08.03.2017 had 1 contracts \n",
      "Cached day 09.03.2017 had 17 contracts \n",
      "Cached day 10.03.2017 had 17 contracts \n",
      "Cached day 11.03.2017 had 1 contracts \n",
      "Cached day 12.03.2017 had 2 contracts \n",
      "Cached day 13.03.2017 had 45 contracts \n",
      "Cached day 14.03.2017 had 26 contracts \n",
      "Cached day 15.03.2017 had 31 contracts \n",
      "Cached day 16.03.2017 had 18 contracts \n",
      "Cached day 17.03.2017 had 23 contracts \n",
      "Cached day 18.03.2017 had 2 contracts \n",
      "Cached day 19.03.2017 had 0 contracts \n",
      "Cached day 20.03.2017 had 54 contracts \n",
      "Cached day 21.03.2017 had 29 contracts \n",
      "Cached day 22.03.2017 had 21 contracts \n",
      "Cached day 23.03.2017 had 23 contracts \n",
      "Cached day 24.03.2017 had 13 contracts \n",
      "Cached day 25.03.2017 had 3 contracts \n",
      "Cached day 26.03.2017 had 1 contracts \n",
      "Cached day 27.03.2017 had 55 contracts \n",
      "Cached day 28.03.2017 had 22 contracts \n",
      "Cached day 29.03.2017 had 21 contracts \n",
      "Cached day 30.03.2017 had 13 contracts \n",
      "Cached day 31.03.2017 had 20 contracts \n",
      "Cached day 01.04.2017 had 1 contracts \n",
      "Cached day 02.04.2017 had 1 contracts \n",
      "Cached day 03.04.2017 had 72 contracts \n",
      "Cached day 04.04.2017 had 43 contracts \n",
      "Cached day 05.04.2017 had 23 contracts \n",
      "Cached day 06.04.2017 had 12 contracts \n",
      "Cached day 07.04.2017 had 27 contracts \n",
      "Cached day 08.04.2017 had 0 contracts \n",
      "Cached day 09.04.2017 had 1 contracts \n",
      "Cached day 10.04.2017 had 39 contracts \n",
      "Cached day 11.04.2017 had 43 contracts \n",
      "Cached day 12.04.2017 had 15 contracts \n",
      "Cached day 13.04.2017 had 16 contracts \n",
      "Cached day 14.04.2017 had 13 contracts \n",
      "Cached day 15.04.2017 had 0 contracts \n",
      "Cached day 16.04.2017 had 0 contracts \n",
      "Cached day 17.04.2017 had 49 contracts \n",
      "Cached day 18.04.2017 had 18 contracts \n",
      "Cached day 19.04.2017 had 22 contracts \n",
      "Cached day 20.04.2017 had 15 contracts \n",
      "Cached day 21.04.2017 had 13 contracts \n",
      "Cached day 22.04.2017 had 0 contracts \n",
      "Cached day 23.04.2017 had 1 contracts \n",
      "Cached day 24.04.2017 had 62 contracts \n",
      "Cached day 25.04.2017 had 21 contracts \n",
      "Cached day 26.04.2017 had 15 contracts \n",
      "Cached day 27.04.2017 had 15 contracts \n",
      "Cached day 28.04.2017 had 19 contracts \n",
      "Cached day 29.04.2017 had 3 contracts \n",
      "Cached day 30.04.2017 had 1 contracts \n",
      "Cached day 01.05.2017 had 3 contracts \n",
      "Cached day 02.05.2017 had 55 contracts \n",
      "Cached day 03.05.2017 had 31 contracts \n",
      "Cached day 04.05.2017 had 34 contracts \n",
      "Cached day 05.05.2017 had 38 contracts \n",
      "Cached day 06.05.2017 had 6 contracts \n",
      "Cached day 07.05.2017 had 1 contracts \n",
      "Cached day 08.05.2017 had 0 contracts \n",
      "Cached day 09.05.2017 had 2 contracts \n",
      "Cached day 10.05.2017 had 81 contracts \n",
      "Cached day 11.05.2017 had 24 contracts \n",
      "Cached day 12.05.2017 had 20 contracts \n",
      "Cached day 13.05.2017 had 0 contracts \n",
      "Cached day 14.05.2017 had 1 contracts \n",
      "Cached day 15.05.2017 had 59 contracts \n",
      "Cached day 16.05.2017 had 62 contracts \n",
      "Cached day 17.05.2017 had 53 contracts \n",
      "Cached day 18.05.2017 had 10 contracts \n",
      "Cached day 19.05.2017 had 16 contracts \n",
      "Cached day 20.05.2017 had 0 contracts \n",
      "Cached day 21.05.2017 had 1 contracts \n",
      "Cached day 22.05.2017 had 43 contracts \n",
      "Cached day 23.05.2017 had 35 contracts \n",
      "Cached day 24.05.2017 had 35 contracts \n",
      "Cached day 25.05.2017 had 14 contracts \n",
      "Cached day 26.05.2017 had 33 contracts \n",
      "Cached day 27.05.2017 had 0 contracts \n",
      "Cached day 28.05.2017 had 1 contracts \n",
      "Cached day 29.05.2017 had 65 contracts \n",
      "Cached day 30.05.2017 had 42 contracts \n",
      "Cached day 31.05.2017 had 40 contracts \n",
      "Cached day 01.06.2017 had 17 contracts \n",
      "Cached day 02.06.2017 had 20 contracts \n",
      "Cached day 03.06.2017 had 0 contracts \n",
      "Cached day 04.06.2017 had 1 contracts \n",
      "Cached day 05.06.2017 had 53 contracts \n",
      "Cached day 06.06.2017 had 39 contracts \n",
      "Cached day 07.06.2017 had 25 contracts \n",
      "Cached day 08.06.2017 had 10 contracts \n",
      "Cached day 09.06.2017 had 32 contracts \n",
      "Cached day 10.06.2017 had 8 contracts \n",
      "Cached day 11.06.2017 had 1 contracts \n",
      "Cached day 12.06.2017 had 0 contracts \n",
      "Cached day 13.06.2017 had 59 contracts \n",
      "Cached day 14.06.2017 had 40 contracts \n",
      "Cached day 15.06.2017 had 36 contracts \n",
      "Cached day 16.06.2017 had 30 contracts \n",
      "Cached day 17.06.2017 had 1 contracts \n",
      "Cached day 18.06.2017 had 1 contracts \n",
      "Cached day 19.06.2017 had 35 contracts \n",
      "Cached day 20.06.2017 had 36 contracts \n",
      "Cached day 21.06.2017 had 24 contracts \n",
      "Cached day 22.06.2017 had 20 contracts \n",
      "Cached day 23.06.2017 had 8 contracts \n",
      "Cached day 24.06.2017 had 1 contracts \n",
      "Cached day 25.06.2017 had 1 contracts \n",
      "Cached day 26.06.2017 had 77 contracts \n",
      "Cached day 27.06.2017 had 39 contracts \n",
      "Cached day 28.06.2017 had 22 contracts \n",
      "Cached day 29.06.2017 had 16 contracts \n",
      "Cached day 30.06.2017 had 23 contracts \n",
      "Cached day 01.07.2017 had 6 contracts \n",
      "Cached day 02.07.2017 had 4 contracts \n",
      "Cached day 03.07.2017 had 48 contracts \n",
      "Cached day 04.07.2017 had 39 contracts \n",
      "Cached day 05.07.2017 had 20 contracts \n",
      "Cached day 06.07.2017 had 5 contracts \n",
      "Cached day 07.07.2017 had 30 contracts \n",
      "Cached day 08.07.2017 had 0 contracts \n",
      "Cached day 09.07.2017 had 1 contracts \n",
      "Cached day 10.07.2017 had 33 contracts \n",
      "Cached day 11.07.2017 had 54 contracts \n",
      "Cached day 12.07.2017 had 26 contracts \n",
      "Cached day 13.07.2017 had 10 contracts \n",
      "Cached day 14.07.2017 had 12 contracts \n",
      "Cached day 15.07.2017 had 1 contracts \n",
      "Cached day 16.07.2017 had 1 contracts \n",
      "Cached day 17.07.2017 had 41 contracts \n",
      "Cached day 18.07.2017 had 25 contracts \n",
      "Cached day 19.07.2017 had 42 contracts \n",
      "Cached day 20.07.2017 had 13 contracts \n",
      "Cached day 21.07.2017 had 14 contracts \n",
      "Cached day 22.07.2017 had 0 contracts \n",
      "Cached day 23.07.2017 had 0 contracts \n",
      "Cached day 24.07.2017 had 63 contracts \n",
      "Cached day 25.07.2017 had 19 contracts \n",
      "Cached day 26.07.2017 had 16 contracts \n",
      "Cached day 27.07.2017 had 10 contracts \n",
      "Cached day 28.07.2017 had 18 contracts \n",
      "Cached day 29.07.2017 had 0 contracts \n",
      "Cached day 30.07.2017 had 2 contracts \n",
      "Cached day 31.07.2017 had 55 contracts \n",
      "Cached day 01.08.2017 had 52 contracts \n",
      "Cached day 02.08.2017 had 23 contracts \n",
      "Cached day 03.08.2017 had 10 contracts \n",
      "Cached day 04.08.2017 had 17 contracts \n",
      "Cached day 05.08.2017 had 2 contracts \n",
      "Cached day 06.08.2017 had 0 contracts \n",
      "Cached day 07.08.2017 had 67 contracts \n",
      "Cached day 08.08.2017 had 31 contracts \n",
      "Cached day 09.08.2017 had 21 contracts \n",
      "Cached day 10.08.2017 had 26 contracts \n",
      "Cached day 11.08.2017 had 20 contracts \n",
      "Cached day 12.08.2017 had 5 contracts \n",
      "Cached day 13.08.2017 had 0 contracts \n",
      "Cached day 14.08.2017 had 70 contracts \n",
      "Cached day 15.08.2017 had 32 contracts \n",
      "Cached day 16.08.2017 had 31 contracts \n",
      "Cached day 17.08.2017 had 17 contracts \n",
      "Cached day 18.08.2017 had 22 contracts \n",
      "Cached day 19.08.2017 had 0 contracts \n",
      "Cached day 20.08.2017 had 1 contracts \n",
      "Cached day 21.08.2017 had 47 contracts \n",
      "Cached day 22.08.2017 had 40 contracts \n",
      "Cached day 23.08.2017 had 38 contracts \n",
      "Cached day 24.08.2017 had 30 contracts \n",
      "Cached day 25.08.2017 had 23 contracts \n",
      "Cached day 26.08.2017 had 1 contracts \n",
      "Cached day 27.08.2017 had 0 contracts \n",
      "Cached day 28.08.2017 had 68 contracts \n",
      "Cached day 29.08.2017 had 51 contracts \n",
      "Cached day 30.08.2017 had 24 contracts \n",
      "Cached day 31.08.2017 had 14 contracts \n",
      "Cached day 01.09.2017 had 19 contracts \n",
      "Cached day 02.09.2017 had 1 contracts \n",
      "Cached day 03.09.2017 had 1 contracts \n",
      "Cached day 04.09.2017 had 50 contracts \n",
      "Cached day 05.09.2017 had 26 contracts \n",
      "Cached day 06.09.2017 had 24 contracts \n",
      "Cached day 07.09.2017 had 13 contracts \n",
      "Cached day 08.09.2017 had 22 contracts \n",
      "Cached day 09.09.2017 had 0 contracts \n",
      "Cached day 10.09.2017 had 2 contracts \n",
      "Cached day 11.09.2017 had 50 contracts \n",
      "Cached day 12.09.2017 had 40 contracts \n",
      "Cached day 13.09.2017 had 18 contracts \n",
      "Cached day 14.09.2017 had 9 contracts \n",
      "Cached day 15.09.2017 had 21 contracts \n",
      "Cached day 16.09.2017 had 1 contracts \n",
      "Cached day 17.09.2017 had 2 contracts \n",
      "Cached day 18.09.2017 had 71 contracts \n",
      "Cached day 19.09.2017 had 35 contracts \n",
      "Cached day 20.09.2017 had 31 contracts \n",
      "Cached day 21.09.2017 had 12 contracts \n",
      "Cached day 22.09.2017 had 26 contracts \n",
      "Cached day 23.09.2017 had 0 contracts \n",
      "Cached day 24.09.2017 had 0 contracts \n",
      "Cached day 25.09.2017 had 61 contracts \n",
      "Cached day 26.09.2017 had 50 contracts \n",
      "Cached day 27.09.2017 had 17 contracts \n",
      "Cached day 28.09.2017 had 15 contracts \n",
      "Cached day 29.09.2017 had 10 contracts \n",
      "Cached day 30.09.2017 had 3 contracts \n",
      "Cached day 01.10.2017 had 2 contracts \n",
      "Cached day 02.10.2017 had 60 contracts \n",
      "Cached day 03.10.2017 had 20 contracts \n",
      "Cached day 04.10.2017 had 36 contracts \n",
      "Cached day 05.10.2017 had 16 contracts \n",
      "Cached day 06.10.2017 had 30 contracts \n",
      "Cached day 07.10.2017 had 0 contracts \n",
      "Cached day 08.10.2017 had 0 contracts \n",
      "Cached day 09.10.2017 had 49 contracts \n",
      "Cached day 10.10.2017 had 23 contracts \n",
      "Cached day 11.10.2017 had 26 contracts \n",
      "Cached day 12.10.2017 had 9 contracts \n",
      "Cached day 13.10.2017 had 10 contracts \n",
      "Cached day 14.10.2017 had 0 contracts \n",
      "Cached day 15.10.2017 had 1 contracts \n",
      "Cached day 16.10.2017 had 41 contracts \n",
      "Cached day 17.10.2017 had 33 contracts \n",
      "Cached day 18.10.2017 had 19 contracts \n",
      "Cached day 19.10.2017 had 11 contracts \n",
      "Cached day 20.10.2017 had 13 contracts \n",
      "Cached day 21.10.2017 had 1 contracts \n",
      "Cached day 22.10.2017 had 0 contracts \n",
      "Cached day 23.10.2017 had 42 contracts \n",
      "Cached day 24.10.2017 had 43 contracts \n",
      "Cached day 25.10.2017 had 21 contracts \n",
      "Cached day 26.10.2017 had 17 contracts \n",
      "Cached day 27.10.2017 had 16 contracts \n",
      "Cached day 28.10.2017 had 1 contracts \n",
      "Cached day 29.10.2017 had 0 contracts \n",
      "Cached day 30.10.2017 had 79 contracts \n",
      "Cached day 31.10.2017 had 34 contracts \n",
      "Cached day 01.11.2017 had 24 contracts \n",
      "Cached day 02.11.2017 had 11 contracts \n",
      "Cached day 03.11.2017 had 17 contracts \n",
      "Cached day 04.11.2017 had 1 contracts \n",
      "Cached day 05.11.2017 had 0 contracts \n",
      "Cached day 06.11.2017 had 0 contracts \n",
      "Cached day 07.11.2017 had 42 contracts \n",
      "Cached day 08.11.2017 had 32 contracts \n",
      "Cached day 09.11.2017 had 27 contracts \n",
      "Cached day 10.11.2017 had 27 contracts \n",
      "Cached day 11.11.2017 had 2 contracts \n",
      "Cached day 12.11.2017 had 0 contracts \n",
      "Cached day 13.11.2017 had 58 contracts \n",
      "Cached day 14.11.2017 had 67 contracts \n",
      "Cached day 15.11.2017 had 34 contracts \n",
      "Cached day 16.11.2017 had 12 contracts \n",
      "Cached day 17.11.2017 had 10 contracts \n",
      "Cached day 18.11.2017 had 3 contracts \n",
      "Cached day 19.11.2017 had 0 contracts \n",
      "Cached day 20.11.2017 had 43 contracts \n",
      "Cached day 21.11.2017 had 53 contracts \n",
      "Cached day 22.11.2017 had 25 contracts \n",
      "Cached day 23.11.2017 had 12 contracts \n",
      "Cached day 24.11.2017 had 21 contracts \n",
      "Cached day 25.11.2017 had 4 contracts \n",
      "Cached day 26.11.2017 had 0 contracts \n",
      "Cached day 27.11.2017 had 50 contracts \n",
      "Cached day 28.11.2017 had 50 contracts \n",
      "Cached day 29.11.2017 had 21 contracts \n",
      "Cached day 30.11.2017 had 14 contracts \n",
      "Cached day 01.12.2017 had 32 contracts \n",
      "Cached day 02.12.2017 had 5 contracts \n",
      "Cached day 03.12.2017 had 1 contracts \n",
      "Cached day 04.12.2017 had 68 contracts \n",
      "Cached day 05.12.2017 had 39 contracts \n",
      "Cached day 06.12.2017 had 26 contracts \n",
      "Cached day 07.12.2017 had 28 contracts \n",
      "Cached day 08.12.2017 had 27 contracts \n",
      "Cached day 09.12.2017 had 0 contracts \n",
      "Cached day 10.12.2017 had 0 contracts \n",
      "Cached day 11.12.2017 had 81 contracts \n",
      "Cached day 12.12.2017 had 48 contracts \n",
      "Cached day 13.12.2017 had 39 contracts \n",
      "Cached day 14.12.2017 had 27 contracts \n",
      "Cached day 15.12.2017 had 39 contracts \n",
      "Cached day 16.12.2017 had 2 contracts \n",
      "Cached day 17.12.2017 had 0 contracts \n",
      "Cached day 18.12.2017 had 99 contracts \n",
      "Cached day 19.12.2017 had 52 contracts \n",
      "Cached day 20.12.2017 had 42 contracts \n",
      "Cached day 21.12.2017 had 19 contracts \n",
      "Cached day 22.12.2017 had 46 contracts \n",
      "Cached day 23.12.2017 had 5 contracts \n",
      "Cached day 24.12.2017 had 5 contracts \n",
      "Cached day 25.12.2017 had 110 contracts \n",
      "Cached day 26.12.2017 had 66 contracts \n",
      "Cached day 27.12.2017 had 56 contracts \n",
      "Cached day 28.12.2017 had 41 contracts \n",
      "Cached day 29.12.2017 had 108 contracts \n",
      "Cached day 30.12.2017 had 20 contracts \n",
      "Cached day 31.12.2017 had 38 contracts \n",
      "Cached day 01.01.2018 had 60 contracts \n",
      "Cached day 02.01.2018 had 4 contracts \n",
      "Cached day 03.01.2018 had 1 contracts \n",
      "Cached day 04.01.2018 had 1 contracts \n",
      "Cached day 05.01.2018 had 2 contracts \n",
      "Cached day 06.01.2018 had 3 contracts \n",
      "Cached day 07.01.2018 had 1 contracts \n",
      "Cached day 08.01.2018 had 2 contracts \n",
      "Cached day 09.01.2018 had 104 contracts \n",
      "Cached day 10.01.2018 had 39 contracts \n",
      "Cached day 11.01.2018 had 28 contracts \n",
      "Cached day 12.01.2018 had 28 contracts \n",
      "Cached day 13.01.2018 had 0 contracts \n",
      "Cached day 14.01.2018 had 1 contracts \n",
      "Cached day 15.01.2018 had 49 contracts \n",
      "Cached day 16.01.2018 had 35 contracts \n",
      "Cached day 17.01.2018 had 17 contracts \n",
      "Cached day 18.01.2018 had 22 contracts \n",
      "Cached day 19.01.2018 had 11 contracts \n",
      "Cached day 20.01.2018 had 2 contracts \n",
      "Cached day 21.01.2018 had 1 contracts \n",
      "Cached day 22.01.2018 had 66 contracts \n",
      "Cached day 23.01.2018 had 45 contracts \n",
      "Cached day 24.01.2018 had 19 contracts \n",
      "Cached day 25.01.2018 had 34 contracts \n",
      "Cached day 26.01.2018 had 32 contracts \n",
      "Cached day 27.01.2018 had 1 contracts \n",
      "Cached day 28.01.2018 had 1 contracts \n",
      "Cached day 29.01.2018 had 94 contracts \n",
      "Cached day 30.01.2018 had 51 contracts \n",
      "Cached day 31.01.2018 had 58 contracts \n",
      "Cached day 01.02.2018 had 21 contracts \n",
      "Cached day 02.02.2018 had 25 contracts \n",
      "Cached day 03.02.2018 had 4 contracts \n",
      "Cached day 04.02.2018 had 0 contracts \n",
      "Cached day 05.02.2018 had 73 contracts \n",
      "Cached day 06.02.2018 had 45 contracts \n",
      "Cached day 07.02.2018 had 25 contracts \n",
      "Cached day 08.02.2018 had 35 contracts \n",
      "Cached day 09.02.2018 had 29 contracts \n",
      "Cached day 10.02.2018 had 0 contracts \n",
      "Cached day 11.02.2018 had 0 contracts \n",
      "Cached day 12.02.2018 had 61 contracts \n",
      "Cached day 13.02.2018 had 20 contracts \n",
      "Cached day 14.02.2018 had 17 contracts \n",
      "Cached day 15.02.2018 had 16 contracts \n",
      "Cached day 16.02.2018 had 13 contracts \n",
      "Cached day 17.02.2018 had 0 contracts \n",
      "Cached day 18.02.2018 had 1 contracts \n",
      "Cached day 19.02.2018 had 56 contracts \n",
      "Cached day 20.02.2018 had 33 contracts \n",
      "Cached day 21.02.2018 had 10 contracts \n",
      "Cached day 22.02.2018 had 13 contracts \n",
      "Cached day 23.02.2018 had 0 contracts \n",
      "Cached day 24.02.2018 had 0 contracts \n",
      "Cached day 25.02.2018 had 2 contracts \n",
      "Cached day 26.02.2018 had 46 contracts \n",
      "Cached day 27.02.2018 had 26 contracts \n",
      "Cached day 28.02.2018 had 35 contracts \n",
      "Cached day 01.03.2018 had 17 contracts \n",
      "Cached day 02.03.2018 had 17 contracts \n",
      "Cached day 03.03.2018 had 0 contracts \n",
      "Cached day 04.03.2018 had 1 contracts \n",
      "Cached day 05.03.2018 had 51 contracts \n",
      "Cached day 06.03.2018 had 20 contracts \n",
      "Cached day 07.03.2018 had 17 contracts \n",
      "Cached day 08.03.2018 had 0 contracts \n",
      "Cached day 09.03.2018 had 1 contracts \n",
      "Cached day 10.03.2018 had 1 contracts \n",
      "Cached day 11.03.2018 had 1 contracts \n",
      "Cached day 12.03.2018 had 59 contracts \n",
      "Cached day 13.03.2018 had 26 contracts \n",
      "Cached day 14.03.2018 had 42 contracts \n",
      "Cached day 15.03.2018 had 19 contracts \n",
      "Cached day 16.03.2018 had 17 contracts \n",
      "Cached day 17.03.2018 had 0 contracts \n",
      "Cached day 18.03.2018 had 1 contracts \n",
      "Cached day 19.03.2018 had 68 contracts \n",
      "Cached day 20.03.2018 had 25 contracts \n",
      "Cached day 21.03.2018 had 20 contracts \n",
      "Cached day 22.03.2018 had 17 contracts \n",
      "Cached day 23.03.2018 had 26 contracts \n",
      "Cached day 24.03.2018 had 5 contracts \n",
      "Cached day 25.03.2018 had 1 contracts \n",
      "Cached day 26.03.2018 had 67 contracts \n",
      "Cached day 27.03.2018 had 44 contracts \n",
      "Cached day 28.03.2018 had 19 contracts \n",
      "Cached day 29.03.2018 had 16 contracts \n",
      "Cached day 30.03.2018 had 19 contracts \n",
      "Cached day 31.03.2018 had 4 contracts \n",
      "Cached day 01.04.2018 had 2 contracts \n",
      "Cached day 02.04.2018 had 79 contracts \n",
      "Cached day 03.04.2018 had 27 contracts \n",
      "Cached day 04.04.2018 had 21 contracts \n",
      "Cached day 05.04.2018 had 20 contracts \n",
      "Cached day 06.04.2018 had 14 contracts \n",
      "Cached day 07.04.2018 had 0 contracts \n",
      "Cached day 08.04.2018 had 0 contracts \n",
      "Cached day 09.04.2018 had 64 contracts \n",
      "Cached day 10.04.2018 had 39 contracts \n",
      "Cached day 11.04.2018 had 23 contracts \n",
      "Cached day 12.04.2018 had 14 contracts \n",
      "Cached day 13.04.2018 had 28 contracts \n",
      "Cached day 14.04.2018 had 1 contracts \n",
      "Cached day 15.04.2018 had 0 contracts \n",
      "Cached day 16.04.2018 had 79 contracts \n",
      "Cached day 17.04.2018 had 26 contracts \n",
      "Cached day 18.04.2018 had 22 contracts \n",
      "Cached day 19.04.2018 had 10 contracts \n",
      "Cached day 20.04.2018 had 26 contracts \n",
      "Cached day 21.04.2018 had 0 contracts \n",
      "Cached day 22.04.2018 had 0 contracts \n",
      "Cached day 23.04.2018 had 68 contracts \n",
      "Cached day 24.04.2018 had 45 contracts \n",
      "Cached day 25.04.2018 had 38 contracts \n",
      "Cached day 26.04.2018 had 20 contracts \n",
      "Cached day 27.04.2018 had 14 contracts \n",
      "Cached day 28.04.2018 had 38 contracts \n",
      "Cached day 29.04.2018 had 1 contracts \n",
      "Cached day 30.04.2018 had 4 contracts \n",
      "Cached day 01.05.2018 had 3 contracts \n",
      "Cached day 02.05.2018 had 3 contracts \n",
      "Cached day 03.05.2018 had 71 contracts \n",
      "Cached day 04.05.2018 had 37 contracts \n",
      "Cached day 05.05.2018 had 0 contracts \n",
      "Cached day 06.05.2018 had 0 contracts \n",
      "Cached day 07.05.2018 had 62 contracts \n",
      "Cached day 08.05.2018 had 40 contracts \n",
      "Cached day 09.05.2018 had 1 contracts \n",
      "Cached day 10.05.2018 had 60 contracts \n",
      "Cached day 11.05.2018 had 25 contracts \n",
      "Cached day 12.05.2018 had 1 contracts \n",
      "Cached day 13.05.2018 had 0 contracts \n",
      "Cached day 14.05.2018 had 44 contracts \n",
      "Cached day 15.05.2018 had 51 contracts \n",
      "Cached day 16.05.2018 had 17 contracts \n",
      "Cached day 17.05.2018 had 12 contracts \n",
      "Cached day 18.05.2018 had 35 contracts \n",
      "Cached day 19.05.2018 had 4 contracts \n",
      "Cached day 20.05.2018 had 0 contracts \n",
      "Cached day 21.05.2018 had 70 contracts \n",
      "Cached day 22.05.2018 had 50 contracts \n",
      "Cached day 23.05.2018 had 39 contracts \n",
      "Cached day 24.05.2018 had 30 contracts \n",
      "Cached day 25.05.2018 had 31 contracts \n",
      "Cached day 26.05.2018 had 2 contracts \n",
      "Cached day 27.05.2018 had 0 contracts \n",
      "Cached day 28.05.2018 had 64 contracts \n",
      "Cached day 29.05.2018 had 47 contracts \n",
      "Cached day 30.05.2018 had 35 contracts \n",
      "Cached day 31.05.2018 had 24 contracts \n",
      "Cached day 01.06.2018 had 25 contracts \n",
      "Cached day 02.06.2018 had 2 contracts \n",
      "Cached day 03.06.2018 had 1 contracts \n",
      "Cached day 04.06.2018 had 61 contracts \n",
      "Cached day 05.06.2018 had 44 contracts \n",
      "Cached day 06.06.2018 had 20 contracts \n",
      "Cached day 07.06.2018 had 12 contracts \n",
      "Cached day 08.06.2018 had 22 contracts \n",
      "Cached day 09.06.2018 had 26 contracts \n",
      "Cached day 10.06.2018 had 0 contracts \n",
      "Cached day 11.06.2018 had 0 contracts \n",
      "Cached day 12.06.2018 had 0 contracts \n",
      "Cached day 13.06.2018 had 64 contracts \n",
      "Cached day 14.06.2018 had 10 contracts \n",
      "Cached day 15.06.2018 had 17 contracts \n",
      "Cached day 16.06.2018 had 4 contracts \n",
      "Cached day 17.06.2018 had 0 contracts \n",
      "Cached day 18.06.2018 had 54 contracts \n",
      "Cached day 19.06.2018 had 25 contracts \n",
      "Cached day 20.06.2018 had 29 contracts \n",
      "Cached day 21.06.2018 had 21 contracts \n",
      "Cached day 22.06.2018 had 20 contracts \n",
      "Cached day 23.06.2018 had 0 contracts \n",
      "Cached day 24.06.2018 had 0 contracts \n",
      "Cached day 25.06.2018 had 41 contracts \n",
      "Cached day 26.06.2018 had 44 contracts \n",
      "Cached day 27.06.2018 had 26 contracts \n",
      "Cached day 28.06.2018 had 11 contracts \n",
      "Cached day 29.06.2018 had 26 contracts \n",
      "Cached day 30.06.2018 had 3 contracts \n",
      "Cached day 01.07.2018 had 3 contracts \n",
      "Cached day 02.07.2018 had 53 contracts \n",
      "Cached day 03.07.2018 had 42 contracts \n",
      "Cached day 04.07.2018 had 17 contracts \n",
      "Cached day 05.07.2018 had 9 contracts \n",
      "Cached day 06.07.2018 had 25 contracts \n",
      "Cached day 07.07.2018 had 1 contracts \n",
      "Cached day 08.07.2018 had 0 contracts \n",
      "Cached day 09.07.2018 had 48 contracts \n",
      "Cached day 10.07.2018 had 34 contracts \n",
      "Cached day 11.07.2018 had 23 contracts \n",
      "Cached day 12.07.2018 had 25 contracts \n",
      "Cached day 13.07.2018 had 13 contracts \n",
      "Cached day 14.07.2018 had 1 contracts \n",
      "Cached day 15.07.2018 had 0 contracts \n",
      "Cached day 16.07.2018 had 64 contracts \n",
      "Cached day 17.07.2018 had 35 contracts \n",
      "Cached day 18.07.2018 had 22 contracts \n",
      "Cached day 19.07.2018 had 19 contracts \n",
      "Cached day 20.07.2018 had 20 contracts \n",
      "Cached day 21.07.2018 had 1 contracts \n",
      "Cached day 22.07.2018 had 0 contracts \n",
      "Cached day 23.07.2018 had 44 contracts \n",
      "Cached day 24.07.2018 had 33 contracts \n",
      "Cached day 25.07.2018 had 24 contracts \n",
      "Cached day 26.07.2018 had 19 contracts \n",
      "Cached day 27.07.2018 had 26 contracts \n",
      "Cached day 28.07.2018 had 0 contracts \n",
      "Cached day 29.07.2018 had 1 contracts \n",
      "Cached day 30.07.2018 had 68 contracts \n",
      "Cached day 31.07.2018 had 42 contracts \n",
      "Cached day 01.08.2018 had 30 contracts \n",
      "Cached day 02.08.2018 had 7 contracts \n",
      "Cached day 03.08.2018 had 32 contracts \n",
      "Cached day 04.08.2018 had 2 contracts \n",
      "Cached day 05.08.2018 had 0 contracts \n",
      "Cached day 06.08.2018 had 46 contracts \n",
      "Cached day 07.08.2018 had 64 contracts \n",
      "Cached day 08.08.2018 had 18 contracts \n",
      "Cached day 09.08.2018 had 9 contracts \n",
      "Cached day 10.08.2018 had 16 contracts \n",
      "Cached day 11.08.2018 had 1 contracts \n",
      "Cached day 12.08.2018 had 1 contracts \n",
      "Cached day 13.08.2018 had 40 contracts \n",
      "Cached day 14.08.2018 had 45 contracts \n",
      "Cached day 15.08.2018 had 17 contracts \n",
      "Cached day 16.08.2018 had 14 contracts \n",
      "Cached day 17.08.2018 had 20 contracts \n",
      "Cached day 18.08.2018 had 0 contracts \n",
      "Cached day 19.08.2018 had 0 contracts \n",
      "Cached day 20.08.2018 had 58 contracts \n",
      "Cached day 21.08.2018 had 36 contracts \n",
      "Cached day 22.08.2018 had 15 contracts \n",
      "Cached day 23.08.2018 had 25 contracts \n",
      "Cached day 24.08.2018 had 17 contracts \n",
      "Cached day 25.08.2018 had 1 contracts \n",
      "Cached day 26.08.2018 had 1 contracts \n",
      "Cached day 27.08.2018 had 51 contracts \n",
      "Cached day 28.08.2018 had 24 contracts \n",
      "Cached day 29.08.2018 had 23 contracts \n",
      "Cached day 30.08.2018 had 13 contracts \n",
      "Cached day 31.08.2018 had 24 contracts \n",
      "Cached day 01.09.2018 had 6 contracts \n",
      "Cached day 02.09.2018 had 0 contracts \n",
      "Cached day 03.09.2018 had 41 contracts \n",
      "Cached day 04.09.2018 had 33 contracts \n",
      "Cached day 05.09.2018 had 21 contracts \n",
      "Cached day 06.09.2018 had 16 contracts \n",
      "Cached day 07.09.2018 had 9 contracts \n",
      "Cached day 08.09.2018 had 1 contracts \n",
      "Cached day 09.09.2018 had 0 contracts \n",
      "Cached day 10.09.2018 had 43 contracts \n",
      "Cached day 11.09.2018 had 19 contracts \n",
      "Cached day 12.09.2018 had 14 contracts \n",
      "Cached day 13.09.2018 had 10 contracts \n",
      "Cached day 14.09.2018 had 19 contracts \n",
      "Cached day 15.09.2018 had 2 contracts \n",
      "Cached day 16.09.2018 had 0 contracts \n",
      "Cached day 17.09.2018 had 49 contracts \n",
      "Cached day 18.09.2018 had 26 contracts \n",
      "Cached day 19.09.2018 had 16 contracts \n",
      "Cached day 20.09.2018 had 9 contracts \n",
      "Cached day 21.09.2018 had 15 contracts \n",
      "Cached day 22.09.2018 had 0 contracts \n",
      "Cached day 23.09.2018 had 0 contracts \n",
      "Cached day 24.09.2018 had 50 contracts \n",
      "Cached day 25.09.2018 had 23 contracts \n",
      "Cached day 26.09.2018 had 19 contracts \n",
      "Cached day 27.09.2018 had 13 contracts \n",
      "Cached day 28.09.2018 had 28 contracts \n",
      "Cached day 29.09.2018 had 1 contracts \n",
      "Cached day 30.09.2018 had 1 contracts \n",
      "Cached day 01.10.2018 had 53 contracts \n",
      "Cached day 02.10.2018 had 29 contracts \n",
      "Cached day 03.10.2018 had 14 contracts \n",
      "Cached day 04.10.2018 had 8 contracts \n",
      "Cached day 05.10.2018 had 13 contracts \n",
      "Cached day 06.10.2018 had 0 contracts \n",
      "Cached day 07.10.2018 had 1 contracts \n",
      "Cached day 08.10.2018 had 41 contracts \n",
      "Cached day 09.10.2018 had 30 contracts \n",
      "Cached day 10.10.2018 had 14 contracts \n",
      "Cached day 11.10.2018 had 14 contracts \n",
      "Cached day 12.10.2018 had 12 contracts \n",
      "Cached day 13.10.2018 had 1 contracts \n",
      "Cached day 14.10.2018 had 0 contracts \n",
      "Cached day 15.10.2018 had 47 contracts \n",
      "Cached day 16.10.2018 had 28 contracts \n",
      "Cached day 17.10.2018 had 16 contracts \n",
      "Cached day 18.10.2018 had 13 contracts \n",
      "Cached day 19.10.2018 had 23 contracts \n",
      "Cached day 20.10.2018 had 1 contracts \n",
      "Cached day 21.10.2018 had 0 contracts \n",
      "Cached day 22.10.2018 had 52 contracts \n",
      "Cached day 23.10.2018 had 63 contracts \n",
      "Cached day 24.10.2018 had 22 contracts \n",
      "Cached day 25.10.2018 had 14 contracts \n",
      "Cached day 26.10.2018 had 15 contracts \n",
      "Cached day 27.10.2018 had 0 contracts \n",
      "Cached day 28.10.2018 had 0 contracts \n",
      "Cached day 29.10.2018 had 58 contracts \n",
      "Cached day 30.10.2018 had 64 contracts \n",
      "Cached day 31.10.2018 had 21 contracts \n",
      "Cached day 01.11.2018 had 11 contracts \n",
      "Cached day 02.11.2018 had 16 contracts \n",
      "Cached day 03.11.2018 had 0 contracts \n",
      "Cached day 04.11.2018 had 0 contracts \n",
      "Cached day 05.11.2018 had 3 contracts \n",
      "Cached day 06.11.2018 had 53 contracts \n",
      "Cached day 07.11.2018 had 28 contracts \n",
      "Cached day 08.11.2018 had 51 contracts \n",
      "Cached day 09.11.2018 had 19 contracts \n",
      "Cached day 10.11.2018 had 0 contracts \n",
      "Cached day 11.11.2018 had 0 contracts \n",
      "Cached day 12.11.2018 had 58 contracts \n",
      "Cached day 13.11.2018 had 54 contracts \n",
      "Cached day 14.11.2018 had 27 contracts \n",
      "Cached day 15.11.2018 had 13 contracts \n",
      "Cached day 16.11.2018 had 9 contracts \n",
      "Cached day 17.11.2018 had 1 contracts \n",
      "Cached day 18.11.2018 had 1 contracts \n",
      "Cached day 19.11.2018 had 44 contracts \n",
      "Cached day 20.11.2018 had 63 contracts \n",
      "Cached day 21.11.2018 had 15 contracts \n",
      "Cached day 22.11.2018 had 17 contracts \n",
      "Cached day 23.11.2018 had 19 contracts \n",
      "Cached day 24.11.2018 had 0 contracts \n",
      "Cached day 25.11.2018 had 0 contracts \n",
      "Cached day 26.11.2018 had 65 contracts \n",
      "Cached day 27.11.2018 had 35 contracts \n",
      "Cached day 28.11.2018 had 18 contracts \n",
      "Cached day 29.11.2018 had 16 contracts \n",
      "Cached day 30.11.2018 had 20 contracts \n",
      "Cached day 01.12.2018 had 7 contracts \n",
      "Cached day 02.12.2018 had 0 contracts \n",
      "Cached day 03.12.2018 had 63 contracts \n",
      "Cached day 04.12.2018 had 41 contracts \n",
      "Cached day 05.12.2018 had 22 contracts \n",
      "Cached day 06.12.2018 had 19 contracts \n",
      "Cached day 07.12.2018 had 33 contracts \n",
      "Cached day 08.12.2018 had 0 contracts \n",
      "Cached day 09.12.2018 had 3 contracts \n",
      "Cached day 10.12.2018 had 74 contracts \n",
      "Cached day 11.12.2018 had 50 contracts \n",
      "Cached day 12.12.2018 had 20 contracts \n",
      "Cached day 13.12.2018 had 15 contracts \n",
      "Cached day 14.12.2018 had 27 contracts \n",
      "Cached day 15.12.2018 had 2 contracts \n",
      "Cached day 16.12.2018 had 1 contracts \n",
      "Cached day 17.12.2018 had 102 contracts \n",
      "Cached day 18.12.2018 had 48 contracts \n",
      "Cached day 19.12.2018 had 38 contracts \n",
      "Cached day 20.12.2018 had 29 contracts \n",
      "Cached day 21.12.2018 had 34 contracts \n",
      "Cached day 22.12.2018 had 5 contracts \n",
      "Cached day 23.12.2018 had 2 contracts \n",
      "Cached day 24.12.2018 had 160 contracts \n",
      "Cached day 25.12.2018 had 109 contracts \n",
      "Cached day 26.12.2018 had 42 contracts \n",
      "Cached day 27.12.2018 had 24 contracts \n",
      "Cached day 28.12.2018 had 71 contracts \n",
      "Cached day 29.12.2018 had 109 contracts \n",
      "Cached day 30.12.2018 had 13 contracts \n",
      "Cached day 31.12.2018 had 28 contracts \n",
      "Cached day 01.01.2019 had 39 contracts \n",
      "Cached day 02.01.2019 had 3 contracts \n",
      "Cached day 03.01.2019 had 1 contracts \n",
      "Cached day 04.01.2019 had 4 contracts \n",
      "Cached day 05.01.2019 had 1 contracts \n",
      "Cached day 06.01.2019 had 1 contracts \n",
      "Cached day 07.01.2019 had 3 contracts \n",
      "Cached day 08.01.2019 had 3 contracts \n",
      "Cached day 09.01.2019 had 89 contracts \n",
      "Cached day 10.01.2019 had 43 contracts \n",
      "Cached day 11.01.2019 had 24 contracts \n",
      "Cached day 12.01.2019 had 0 contracts \n",
      "Cached day 13.01.2019 had 0 contracts \n",
      "Cached day 14.01.2019 had 28 contracts \n",
      "Cached day 15.01.2019 had 24 contracts \n",
      "Cached day 16.01.2019 had 27 contracts \n",
      "Cached day 17.01.2019 had 21 contracts \n",
      "Cached day 18.01.2019 had 14 contracts \n",
      "Cached day 19.01.2019 had 2 contracts \n",
      "Cached day 20.01.2019 had 1 contracts \n",
      "Cached day 21.01.2019 had 27 contracts \n",
      "Cached day 22.01.2019 had 30 contracts \n",
      "Cached day 23.01.2019 had 28 contracts \n",
      "Cached day 24.01.2019 had 26 contracts \n",
      "Cached day 25.01.2019 had 43 contracts \n",
      "Cached day 26.01.2019 had 2 contracts \n",
      "Cached day 27.01.2019 had 0 contracts \n",
      "Cached day 28.01.2019 had 82 contracts \n",
      "Cached day 29.01.2019 had 65 contracts \n",
      "Cached day 30.01.2019 had 56 contracts \n",
      "Cached day 31.01.2019 had 47 contracts \n",
      "Cached day 01.02.2019 had 45 contracts \n",
      "Cached day 02.02.2019 had 4 contracts \n",
      "Cached day 03.02.2019 had 4 contracts \n",
      "Cached day 04.02.2019 had 82 contracts \n",
      "Cached day 05.02.2019 had 57 contracts \n",
      "Cached day 06.02.2019 had 31 contracts \n",
      "Cached day 07.02.2019 had 43 contracts \n",
      "Cached day 08.02.2019 had 27 contracts \n",
      "Cached day 09.02.2019 had 0 contracts \n",
      "Cached day 10.02.2019 had 1 contracts \n",
      "Cached day 11.02.2019 had 55 contracts \n",
      "Cached day 12.02.2019 had 28 contracts \n",
      "Cached day 13.02.2019 had 22 contracts \n",
      "Cached day 14.02.2019 had 23 contracts \n",
      "Cached day 15.02.2019 had 21 contracts \n",
      "Cached day 16.02.2019 had 1 contracts \n",
      "Cached day 17.02.2019 had 0 contracts \n",
      "Cached day 18.02.2019 had 33 contracts \n",
      "Cached day 19.02.2019 had 21 contracts \n",
      "Cached day 20.02.2019 had 19 contracts \n",
      "Cached day 21.02.2019 had 29 contracts \n",
      "Cached day 22.02.2019 had 12 contracts \n",
      "Cached day 23.02.2019 had 0 contracts \n",
      "Cached day 24.02.2019 had 0 contracts \n",
      "Cached day 25.02.2019 had 42 contracts \n",
      "Cached day 26.02.2019 had 28 contracts \n",
      "Cached day 27.02.2019 had 14 contracts \n",
      "Cached day 28.02.2019 had 18 contracts \n",
      "Cached day 01.03.2019 had 20 contracts \n",
      "Cached day 02.03.2019 had 2 contracts \n",
      "Cached day 03.03.2019 had 0 contracts \n",
      "Cached day 04.03.2019 had 42 contracts \n",
      "Cached day 05.03.2019 had 31 contracts \n",
      "Cached day 06.03.2019 had 12 contracts \n",
      "Cached day 07.03.2019 had 9 contracts \n",
      "Cached day 08.03.2019 had 0 contracts \n",
      "Cached day 09.03.2019 had 0 contracts \n",
      "Cached day 10.03.2019 had 0 contracts \n",
      "Cached day 11.03.2019 had 45 contracts \n",
      "Cached day 12.03.2019 had 32 contracts \n",
      "Cached day 13.03.2019 had 11 contracts \n",
      "Cached day 14.03.2019 had 6 contracts \n",
      "Cached day 15.03.2019 had 12 contracts \n",
      "Cached day 16.03.2019 had 1 contracts \n",
      "Cached day 17.03.2019 had 7 contracts \n",
      "Cached day 18.03.2019 had 18 contracts \n",
      "Cached day 19.03.2019 had 60 contracts \n",
      "Cached day 20.03.2019 had 22 contracts \n",
      "Cached day 21.03.2019 had 11 contracts \n",
      "Cached day 22.03.2019 had 32 contracts \n",
      "Cached day 23.03.2019 had 0 contracts \n",
      "Cached day 24.03.2019 had 2 contracts \n",
      "Cached day 25.03.2019 had 75 contracts \n",
      "Cached day 26.03.2019 had 38 contracts \n",
      "Cached day 27.03.2019 had 19 contracts \n",
      "Cached day 28.03.2019 had 18 contracts \n",
      "Cached day 29.03.2019 had 26 contracts \n",
      "Cached day 30.03.2019 had 1 contracts \n",
      "Cached day 31.03.2019 had 0 contracts \n",
      "Cached day 01.04.2019 had 60 contracts \n",
      "Cached day 02.04.2019 had 58 contracts \n",
      "Cached day 03.04.2019 had 14 contracts \n",
      "Cached day 04.04.2019 had 10 contracts \n",
      "Cached day 05.04.2019 had 33 contracts \n",
      "Cached day 06.04.2019 had 0 contracts \n",
      "Cached day 07.04.2019 had 0 contracts \n",
      "Cached day 08.04.2019 had 43 contracts \n",
      "Cached day 09.04.2019 had 35 contracts \n",
      "Cached day 10.04.2019 had 22 contracts \n",
      "Cached day 11.04.2019 had 24 contracts \n",
      "Cached day 12.04.2019 had 39 contracts \n",
      "Cached day 13.04.2019 had 1 contracts \n",
      "Cached day 14.04.2019 had 1 contracts \n",
      "Cached day 15.04.2019 had 49 contracts \n",
      "Cached day 16.04.2019 had 31 contracts \n",
      "Cached day 17.04.2019 had 11 contracts \n",
      "Cached day 18.04.2019 had 13 contracts \n",
      "Cached day 19.04.2019 had 32 contracts \n",
      "Cached day 20.04.2019 had 0 contracts \n",
      "Cached day 21.04.2019 had 0 contracts \n",
      "Cached day 22.04.2019 had 77 contracts \n",
      "Cached day 23.04.2019 had 47 contracts \n",
      "Cached day 24.04.2019 had 40 contracts \n",
      "Cached day 25.04.2019 had 26 contracts \n",
      "Cached day 26.04.2019 had 22 contracts \n",
      "Cached day 27.04.2019 had 2 contracts \n",
      "Cached day 28.04.2019 had 1 contracts \n",
      "Cached day 29.04.2019 had 109 contracts \n",
      "Cached day 30.04.2019 had 46 contracts \n",
      "Cached day 01.05.2019 had 1 contracts \n",
      "Cached day 02.05.2019 had 0 contracts \n",
      "Cached day 03.05.2019 had 1 contracts \n",
      "Cached day 04.05.2019 had 0 contracts \n",
      "Cached day 05.05.2019 had 2 contracts \n",
      "Cached day 06.05.2019 had 79 contracts \n",
      "Cached day 07.05.2019 had 58 contracts \n",
      "Cached day 08.05.2019 had 38 contracts \n",
      "Cached day 09.05.2019 had 1 contracts \n",
      "Cached day 10.05.2019 had 3 contracts \n",
      "Cached day 11.05.2019 had 1 contracts \n",
      "Cached day 12.05.2019 had 0 contracts \n",
      "Cached day 13.05.2019 had 55 contracts \n",
      "Cached day 14.05.2019 had 23 contracts \n",
      "Cached day 15.05.2019 had 28 contracts \n",
      "Cached day 16.05.2019 had 15 contracts \n",
      "Cached day 17.05.2019 had 24 contracts \n",
      "Cached day 18.05.2019 had 1 contracts \n",
      "Cached day 19.05.2019 had 0 contracts \n",
      "Cached day 20.05.2019 had 76 contracts \n",
      "Cached day 21.05.2019 had 22 contracts \n",
      "Cached day 22.05.2019 had 11 contracts \n",
      "Cached day 23.05.2019 had 16 contracts \n",
      "Cached day 24.05.2019 had 38 contracts \n",
      "Cached day 25.05.2019 had 6 contracts \n",
      "Cached day 26.05.2019 had 1 contracts \n",
      "Cached day 27.05.2019 had 76 contracts \n",
      "Cached day 28.05.2019 had 66 contracts \n",
      "Cached day 29.05.2019 had 26 contracts \n",
      "Cached day 30.05.2019 had 20 contracts \n",
      "Cached day 31.05.2019 had 42 contracts \n",
      "Cached day 01.06.2019 had 1 contracts \n",
      "Cached day 02.06.2019 had 1 contracts \n",
      "Cached day 03.06.2019 had 96 contracts \n",
      "Cached day 04.06.2019 had 63 contracts \n",
      "Cached day 05.06.2019 had 32 contracts \n",
      "Cached day 06.06.2019 had 22 contracts \n",
      "Cached day 07.06.2019 had 27 contracts \n",
      "Cached day 08.06.2019 had 0 contracts \n",
      "Cached day 09.06.2019 had 2 contracts \n",
      "Cached day 10.06.2019 had 65 contracts \n",
      "Cached day 11.06.2019 had 42 contracts \n",
      "Cached day 12.06.2019 had 0 contracts \n",
      "Cached day 13.06.2019 had 18 contracts \n",
      "Cached day 14.06.2019 had 20 contracts \n",
      "Cached day 15.06.2019 had 1 contracts \n",
      "Cached day 16.06.2019 had 0 contracts \n",
      "Cached day 17.06.2019 had 56 contracts \n",
      "Cached day 18.06.2019 had 40 contracts \n",
      "Cached day 19.06.2019 had 7 contracts \n",
      "Cached day 20.06.2019 had 11 contracts \n",
      "Cached day 21.06.2019 had 31 contracts \n",
      "Cached day 22.06.2019 had 1 contracts \n",
      "Cached day 23.06.2019 had 0 contracts \n",
      "Cached day 24.06.2019 had 57 contracts \n",
      "Cached day 25.06.2019 had 46 contracts \n",
      "Cached day 26.06.2019 had 27 contracts \n",
      "Cached day 27.06.2019 had 7 contracts \n",
      "Cached day 28.06.2019 had 35 contracts \n",
      "Cached day 29.06.2019 had 0 contracts \n",
      "Cached day 30.06.2019 had 0 contracts \n",
      "Cached day 01.07.2019 had 40 contracts \n",
      "Cached day 02.07.2019 had 36 contracts \n",
      "Cached day 03.07.2019 had 58 contracts \n",
      "Cached day 04.07.2019 had 17 contracts \n",
      "Cached day 05.07.2019 had 31 contracts \n",
      "Cached day 06.07.2019 had 2 contracts \n",
      "Cached day 07.07.2019 had 0 contracts \n",
      "Cached day 08.07.2019 had 61 contracts \n",
      "Cached day 09.07.2019 had 45 contracts \n",
      "Cached day 10.07.2019 had 38 contracts \n",
      "Cached day 11.07.2019 had 11 contracts \n",
      "Cached day 12.07.2019 had 20 contracts \n",
      "Cached day 13.07.2019 had 0 contracts \n",
      "Cached day 14.07.2019 had 0 contracts \n",
      "Cached day 15.07.2019 had 83 contracts \n",
      "Cached day 16.07.2019 had 36 contracts \n",
      "Cached day 17.07.2019 had 19 contracts \n",
      "Cached day 18.07.2019 had 14 contracts \n",
      "Cached day 19.07.2019 had 31 contracts \n",
      "Cached day 20.07.2019 had 6 contracts \n",
      "Cached day 21.07.2019 had 1 contracts \n",
      "Cached day 22.07.2019 had 101 contracts \n",
      "Cached day 23.07.2019 had 46 contracts \n",
      "Cached day 24.07.2019 had 28 contracts \n",
      "Cached day 25.07.2019 had 17 contracts \n",
      "Cached day 26.07.2019 had 27 contracts \n",
      "Cached day 27.07.2019 had 2 contracts \n",
      "Cached day 28.07.2019 had 1 contracts \n",
      "Cached day 29.07.2019 had 83 contracts \n",
      "Cached day 30.07.2019 had 37 contracts \n",
      "Cached day 31.07.2019 had 25 contracts \n",
      "Cached day 01.08.2019 had 15 contracts \n",
      "Cached day 02.08.2019 had 33 contracts \n",
      "Cached day 03.08.2019 had 1 contracts \n",
      "Cached day 04.08.2019 had 0 contracts \n",
      "Cached day 05.08.2019 had 94 contracts \n",
      "Cached day 06.08.2019 had 39 contracts \n",
      "Cached day 07.08.2019 had 21 contracts \n",
      "Cached day 08.08.2019 had 24 contracts \n",
      "Cached day 09.08.2019 had 41 contracts \n",
      "Cached day 10.08.2019 had 4 contracts \n",
      "Cached day 11.08.2019 had 1 contracts \n",
      "Cached day 12.08.2019 had 80 contracts \n",
      "Cached day 13.08.2019 had 53 contracts \n",
      "Cached day 14.08.2019 had 29 contracts \n",
      "Cached day 15.08.2019 had 9 contracts \n",
      "Cached day 16.08.2019 had 33 contracts \n",
      "Cached day 17.08.2019 had 0 contracts \n",
      "Cached day 18.08.2019 had 1 contracts \n",
      "Cached day 19.08.2019 had 65 contracts \n",
      "Cached day 20.08.2019 had 47 contracts \n",
      "Cached day 21.08.2019 had 32 contracts \n",
      "Cached day 22.08.2019 had 13 contracts \n",
      "Cached day 23.08.2019 had 28 contracts \n",
      "Cached day 24.08.2019 had 0 contracts \n",
      "Cached day 25.08.2019 had 0 contracts \n",
      "Cached day 26.08.2019 had 49 contracts \n",
      "Cached day 27.08.2019 had 32 contracts \n",
      "Cached day 28.08.2019 had 20 contracts \n",
      "Cached day 29.08.2019 had 9 contracts \n",
      "Cached day 30.08.2019 had 40 contracts \n",
      "Cached day 31.08.2019 had 0 contracts \n",
      "Cached day 01.09.2019 had 5 contracts \n",
      "Cached day 02.09.2019 had 73 contracts \n",
      "Cached day 03.09.2019 had 22 contracts \n",
      "Cached day 04.09.2019 had 14 contracts \n",
      "Cached day 05.09.2019 had 16 contracts \n",
      "Cached day 06.09.2019 had 44 contracts \n",
      "Cached day 07.09.2019 had 1 contracts \n",
      "Cached day 08.09.2019 had 1 contracts \n",
      "Cached day 09.09.2019 had 63 contracts \n",
      "Cached day 10.09.2019 had 39 contracts \n",
      "Cached day 11.09.2019 had 20 contracts \n",
      "Cached day 12.09.2019 had 12 contracts \n",
      "Cached day 13.09.2019 had 24 contracts \n",
      "Cached day 14.09.2019 had 1 contracts \n",
      "Cached day 15.09.2019 had 1 contracts \n",
      "Cached day 16.09.2019 had 49 contracts \n",
      "Cached day 17.09.2019 had 22 contracts \n",
      "Cached day 18.09.2019 had 12 contracts \n",
      "Cached day 19.09.2019 had 13 contracts \n",
      "Cached day 20.09.2019 had 27 contracts \n",
      "Cached day 21.09.2019 had 1 contracts \n",
      "Cached day 22.09.2019 had 0 contracts \n",
      "Cached day 23.09.2019 had 78 contracts \n",
      "Cached day 24.09.2019 had 32 contracts \n",
      "Cached day 25.09.2019 had 32 contracts \n",
      "Cached day 26.09.2019 had 16 contracts \n",
      "Cached day 27.09.2019 had 26 contracts \n",
      "Cached day 28.09.2019 had 1 contracts \n",
      "Cached day 29.09.2019 had 0 contracts \n",
      "Cached day 30.09.2019 had 58 contracts \n",
      "Cached day 01.10.2019 had 41 contracts \n",
      "Cached day 02.10.2019 had 12 contracts \n",
      "Cached day 03.10.2019 had 13 contracts \n",
      "Cached day 04.10.2019 had 32 contracts \n",
      "Cached day 05.10.2019 had 0 contracts \n",
      "Cached day 06.10.2019 had 0 contracts \n",
      "Cached day 07.10.2019 had 60 contracts \n",
      "Cached day 08.10.2019 had 31 contracts \n",
      "Cached day 09.10.2019 had 23 contracts \n",
      "Cached day 10.10.2019 had 9 contracts \n",
      "Cached day 11.10.2019 had 34 contracts \n",
      "Cached day 12.10.2019 had 0 contracts \n",
      "Cached day 13.10.2019 had 1 contracts \n",
      "Cached day 14.10.2019 had 52 contracts \n",
      "Cached day 15.10.2019 had 39 contracts \n",
      "Cached day 16.10.2019 had 21 contracts \n",
      "Cached day 17.10.2019 had 5 contracts \n",
      "Cached day 18.10.2019 had 24 contracts \n",
      "Cached day 19.10.2019 had 1 contracts \n",
      "Cached day 20.10.2019 had 2 contracts \n",
      "Cached day 21.10.2019 had 46 contracts \n",
      "Cached day 22.10.2019 had 32 contracts \n",
      "Cached day 23.10.2019 had 38 contracts \n",
      "Cached day 24.10.2019 had 16 contracts \n",
      "Cached day 25.10.2019 had 50 contracts \n",
      "Cached day 26.10.2019 had 0 contracts \n",
      "Cached day 27.10.2019 had 0 contracts \n",
      "Cached day 28.10.2019 had 77 contracts \n",
      "Cached day 29.10.2019 had 26 contracts \n",
      "Cached day 30.10.2019 had 24 contracts \n",
      "Cached day 31.10.2019 had 10 contracts \n",
      "Cached day 01.11.2019 had 31 contracts \n",
      "Cached day 02.11.2019 had 1 contracts \n",
      "Cached day 03.11.2019 had 0 contracts \n",
      "Cached day 04.11.2019 had 0 contracts \n",
      "Cached day 05.11.2019 had 63 contracts \n",
      "Cached day 06.11.2019 had 27 contracts \n",
      "Cached day 07.11.2019 had 19 contracts \n",
      "Cached day 08.11.2019 had 25 contracts \n",
      "Cached day 09.11.2019 had 0 contracts \n",
      "Cached day 10.11.2019 had 0 contracts \n",
      "Cached day 11.11.2019 had 85 contracts \n",
      "Cached day 12.11.2019 had 21 contracts \n",
      "Cached day 13.11.2019 had 15 contracts \n",
      "Cached day 14.11.2019 had 18 contracts \n",
      "Cached day 15.11.2019 had 10 contracts \n",
      "Cached day 16.11.2019 had 1 contracts \n",
      "Cached day 17.11.2019 had 0 contracts \n",
      "Cached day 18.11.2019 had 44 contracts \n",
      "Cached day 19.11.2019 had 22 contracts \n",
      "Cached day 20.11.2019 had 18 contracts \n",
      "Cached day 21.11.2019 had 10 contracts \n",
      "Cached day 22.11.2019 had 42 contracts \n",
      "Cached day 23.11.2019 had 0 contracts \n",
      "Cached day 24.11.2019 had 16 contracts \n",
      "Cached day 25.11.2019 had 75 contracts \n",
      "Cached day 26.11.2019 had 70 contracts \n",
      "Cached day 27.11.2019 had 24 contracts \n",
      "Cached day 28.11.2019 had 17 contracts \n",
      "Cached day 29.11.2019 had 40 contracts \n",
      "Cached day 30.11.2019 had 4 contracts \n",
      "Cached day 01.12.2019 had 10 contracts \n",
      "Cached day 02.12.2019 had 96 contracts \n",
      "Cached day 03.12.2019 had 31 contracts \n",
      "Cached day 04.12.2019 had 14 contracts \n",
      "Cached day 05.12.2019 had 19 contracts \n",
      "Cached day 06.12.2019 had 39 contracts \n",
      "Cached day 07.12.2019 had 3 contracts \n",
      "Cached day 08.12.2019 had 0 contracts \n",
      "Cached day 09.12.2019 had 88 contracts \n",
      "Cached day 10.12.2019 had 49 contracts \n",
      "Cached day 11.12.2019 had 17 contracts \n",
      "Cached day 12.12.2019 had 18 contracts \n",
      "Cached day 13.12.2019 had 50 contracts \n",
      "Cached day 14.12.2019 had 0 contracts \n",
      "Cached day 15.12.2019 had 1 contracts \n",
      "Cached day 16.12.2019 had 130 contracts \n",
      "Cached day 17.12.2019 had 53 contracts \n",
      "Cached day 18.12.2019 had 31 contracts \n",
      "Cached day 19.12.2019 had 45 contracts \n",
      "Cached day 20.12.2019 had 101 contracts \n",
      "Cached day 21.12.2019 had 1 contracts \n",
      "Cached day 22.12.2019 had 7 contracts \n",
      "Cached day 23.12.2019 had 160 contracts \n",
      "Cached day 24.12.2019 had 85 contracts \n",
      "Cached day 25.12.2019 had 46 contracts \n",
      "Cached day 26.12.2019 had 31 contracts \n",
      "Cached day 27.12.2019 had 77 contracts \n",
      "Cached day 28.12.2019 had 13 contracts \n",
      "Cached day 29.12.2019 had 0 contracts \n",
      "Cached day 30.12.2019 had 133 contracts \n",
      "Cached day 31.12.2019 had 62 contracts \n",
      "Cached day 01.01.2020 had 49 contracts \n",
      "Cached day 02.01.2020 had 0 contracts \n",
      "Cached day 03.01.2020 had 0 contracts \n",
      "Cached day 04.01.2020 had 0 contracts \n",
      "Cached day 05.01.2020 had 0 contracts \n",
      "Cached day 06.01.2020 had 2 contracts \n",
      "Cached day 07.01.2020 had 0 contracts \n",
      "Cached day 08.01.2020 had 1 contracts \n",
      "Cached day 09.01.2020 had 113 contracts \n",
      "Cached day 10.01.2020 had 43 contracts \n",
      "Cached day 11.01.2020 had 0 contracts \n",
      "Cached day 12.01.2020 had 0 contracts \n",
      "Cached day 13.01.2020 had 52 contracts \n",
      "Cached day 14.01.2020 had 22 contracts \n",
      "Cached day 15.01.2020 had 21 contracts \n",
      "Cached day 16.01.2020 had 33 contracts \n",
      "Cached day 17.01.2020 had 21 contracts \n",
      "Cached day 18.01.2020 had 3 contracts \n",
      "Cached day 19.01.2020 had 0 contracts \n",
      "Cached day 20.01.2020 had 60 contracts \n",
      "Cached day 21.01.2020 had 36 contracts \n",
      "Cached day 22.01.2020 had 25 contracts \n",
      "Cached day 23.01.2020 had 23 contracts \n",
      "Cached day 24.01.2020 had 56 contracts \n",
      "Cached day 25.01.2020 had 0 contracts \n",
      "Cached day 26.01.2020 had 1 contracts \n",
      "Cached day 27.01.2020 had 120 contracts \n",
      "Cached day 28.01.2020 had 54 contracts \n",
      "Cached day 29.01.2020 had 40 contracts \n",
      "Cached day 30.01.2020 had 41 contracts \n",
      "Cached day 31.01.2020 had 81 contracts \n",
      "Cached day 01.02.2020 had 1 contracts \n",
      "Cached day 02.02.2020 had 0 contracts \n",
      "Cached day 03.02.2020 had 53 contracts \n",
      "Cached day 04.02.2020 had 19 contracts \n",
      "Cached day 05.02.2020 had 28 contracts \n",
      "Cached day 06.02.2020 had 26 contracts \n",
      "Cached day 07.02.2020 had 41 contracts \n",
      "Cached day 08.02.2020 had 2 contracts \n",
      "Cached day 09.02.2020 had 0 contracts \n",
      "Cached day 10.02.2020 had 33 contracts \n",
      "Cached day 11.02.2020 had 22 contracts \n",
      "Cached day 12.02.2020 had 24 contracts \n",
      "Cached day 13.02.2020 had 15 contracts \n",
      "Cached day 14.02.2020 had 26 contracts \n",
      "Cached day 15.02.2020 had 1 contracts \n",
      "Cached day 16.02.2020 had 0 contracts \n",
      "Cached day 17.02.2020 had 37 contracts \n",
      "Cached day 18.02.2020 had 23 contracts \n",
      "Cached day 19.02.2020 had 26 contracts \n",
      "Cached day 20.02.2020 had 23 contracts \n",
      "Cached day 21.02.2020 had 31 contracts \n",
      "Cached day 22.02.2020 had 0 contracts \n",
      "Cached day 23.02.2020 had 0 contracts \n",
      "Cached day 24.02.2020 had 2 contracts \n",
      "Cached day 25.02.2020 had 43 contracts \n",
      "Cached day 26.02.2020 had 40 contracts \n",
      "Cached day 27.02.2020 had 18 contracts \n",
      "Cached day 28.02.2020 had 66 contracts \n",
      "Cached day 29.02.2020 had 0 contracts \n",
      "Cached day 01.03.2020 had 0 contracts \n",
      "Cached day 02.03.2020 had 46 contracts \n",
      "Cached day 03.03.2020 had 28 contracts \n",
      "Cached day 04.03.2020 had 26 contracts \n",
      "Cached day 05.03.2020 had 11 contracts \n",
      "Cached day 06.03.2020 had 8 contracts \n",
      "Cached day 07.03.2020 had 0 contracts \n",
      "Cached day 08.03.2020 had 0 contracts \n",
      "Cached day 09.03.2020 had 3 contracts \n",
      "Cached day 10.03.2020 had 47 contracts \n",
      "Cached day 11.03.2020 had 21 contracts \n",
      "Cached day 12.03.2020 had 12 contracts \n",
      "Cached day 13.03.2020 had 26 contracts \n",
      "Cached day 14.03.2020 had 0 contracts \n",
      "Cached day 15.03.2020 had 0 contracts \n",
      "Cached day 16.03.2020 had 58 contracts \n",
      "Cached day 17.03.2020 had 39 contracts \n",
      "Cached day 18.03.2020 had 24 contracts \n",
      "Cached day 19.03.2020 had 4 contracts \n",
      "Cached day 20.03.2020 had 15 contracts \n",
      "Cached day 21.03.2020 had 0 contracts \n",
      "Cached day 22.03.2020 had 3 contracts \n",
      "Cached day 23.03.2020 had 71 contracts \n",
      "Cached day 24.03.2020 had 47 contracts \n",
      "Cached day 25.03.2020 had 12 contracts \n",
      "Cached day 26.03.2020 had 8 contracts \n",
      "Cached day 27.03.2020 had 22 contracts \n",
      "Cached day 28.03.2020 had 4 contracts \n",
      "Cached day 29.03.2020 had 3 contracts \n",
      "Cached day 30.03.2020 had 43 contracts \n",
      "Cached day 31.03.2020 had 30 contracts \n",
      "Cached day 01.04.2020 had 9 contracts \n",
      "Cached day 02.04.2020 had 6 contracts \n",
      "Cached day 03.04.2020 had 11 contracts \n",
      "Cached day 04.04.2020 had 1 contracts \n",
      "Cached day 05.04.2020 had 7 contracts \n",
      "Cached day 06.04.2020 had 87 contracts \n",
      "Cached day 07.04.2020 had 69 contracts \n",
      "Cached day 08.04.2020 had 24 contracts \n",
      "Cached day 09.04.2020 had 28 contracts \n",
      "Cached day 10.04.2020 had 48 contracts \n",
      "Cached day 11.04.2020 had 0 contracts \n",
      "Cached day 12.04.2020 had 0 contracts \n",
      "Cached day 13.04.2020 had 34 contracts \n",
      "Cached day 14.04.2020 had 11 contracts \n",
      "Cached day 15.04.2020 had 9 contracts \n",
      "Cached day 16.04.2020 had 7 contracts \n",
      "Cached day 17.04.2020 had 33 contracts \n",
      "Cached day 18.04.2020 had 5 contracts \n",
      "Cached day 19.04.2020 had 1 contracts \n",
      "Cached day 20.04.2020 had 96 contracts \n",
      "Cached day 21.04.2020 had 54 contracts \n",
      "Cached day 22.04.2020 had 19 contracts \n",
      "Cached day 23.04.2020 had 24 contracts \n",
      "Cached day 24.04.2020 had 33 contracts \n",
      "Cached day 25.04.2020 had 2 contracts \n",
      "Cached day 26.04.2020 had 0 contracts \n",
      "Cached day 27.04.2020 had 52 contracts \n",
      "Cached day 28.04.2020 had 36 contracts \n",
      "Cached day 29.04.2020 had 23 contracts \n",
      "Cached day 30.04.2020 had 25 contracts \n",
      "Cached day 01.05.2020 had 0 contracts \n",
      "Cached day 02.05.2020 had 3 contracts \n",
      "Cached day 03.05.2020 had 2 contracts \n",
      "Cached day 04.05.2020 had 1 contracts \n",
      "Cached day 05.05.2020 had 0 contracts \n",
      "Cached day 06.05.2020 had 85 contracts \n",
      "Cached day 07.05.2020 had 26 contracts \n",
      "Cached day 08.05.2020 had 57 contracts \n",
      "Cached day 09.05.2020 had 0 contracts \n",
      "Cached day 10.05.2020 had 2 contracts \n",
      "Cached day 11.05.2020 had 3 contracts \n",
      "Cached day 12.05.2020 had 62 contracts \n",
      "Cached day 13.05.2020 had 22 contracts \n",
      "Cached day 14.05.2020 had 18 contracts \n",
      "Cached day 15.05.2020 had 17 contracts \n",
      "Cached day 16.05.2020 had 0 contracts \n",
      "Cached day 17.05.2020 had 0 contracts \n",
      "Cached day 18.05.2020 had 40 contracts \n",
      "Cached day 19.05.2020 had 31 contracts \n",
      "Cached day 20.05.2020 had 22 contracts \n",
      "Cached day 21.05.2020 had 9 contracts \n",
      "Cached day 22.05.2020 had 12 contracts \n",
      "Cached day 23.05.2020 had 1 contracts \n",
      "Cached day 24.05.2020 had 3 contracts \n",
      "Cached day 25.05.2020 had 86 contracts \n",
      "Cached day 26.05.2020 had 36 contracts \n",
      "Cached day 27.05.2020 had 24 contracts \n",
      "Cached day 28.05.2020 had 9 contracts \n",
      "Cached day 29.05.2020 had 32 contracts \n",
      "Cached day 30.05.2020 had 0 contracts \n",
      "Cached day 31.05.2020 had 1 contracts \n",
      "Cached day 01.06.2020 had 49 contracts \n",
      "Cached day 02.06.2020 had 30 contracts \n",
      "Cached day 03.06.2020 had 15 contracts \n",
      "Cached day 04.06.2020 had 16 contracts \n",
      "Cached day 05.06.2020 had 34 contracts \n",
      "Cached day 06.06.2020 had 2 contracts \n",
      "Cached day 07.06.2020 had 0 contracts \n",
      "Cached day 08.06.2020 had 92 contracts \n",
      "Cached day 09.06.2020 had 36 contracts \n",
      "Cached day 10.06.2020 had 13 contracts \n",
      "Cached day 11.06.2020 had 11 contracts \n",
      "Cached day 12.06.2020 had 1 contracts \n",
      "Cached day 13.06.2020 had 1 contracts \n",
      "Cached day 14.06.2020 had 0 contracts \n",
      "Cached day 15.06.2020 had 73 contracts \n",
      "Cached day 16.06.2020 had 38 contracts \n",
      "Cached day 17.06.2020 had 18 contracts \n",
      "Cached day 18.06.2020 had 15 contracts \n",
      "Cached day 19.06.2020 had 28 contracts \n",
      "Cached day 20.06.2020 had 1 contracts \n",
      "Cached day 21.06.2020 had 0 contracts \n",
      "Cached day 22.06.2020 had 72 contracts \n",
      "Cached day 23.06.2020 had 17 contracts \n",
      "Cached day 24.06.2020 had 1 contracts \n",
      "Cached day 25.06.2020 had 21 contracts \n",
      "Cached day 26.06.2020 had 22 contracts \n",
      "Cached day 27.06.2020 had 0 contracts \n",
      "Cached day 28.06.2020 had 0 contracts \n",
      "Cached day 29.06.2020 had 67 contracts \n",
      "Cached day 30.06.2020 had 38 contracts \n",
      "Cached day 01.07.2020 had 6 contracts \n",
      "Cached day 02.07.2020 had 20 contracts \n",
      "Cached day 03.07.2020 had 35 contracts \n",
      "Cached day 04.07.2020 had 0 contracts \n",
      "Cached day 05.07.2020 had 0 contracts \n",
      "Cached day 06.07.2020 had 36 contracts \n",
      "Cached day 07.07.2020 had 34 contracts \n",
      "Cached day 08.07.2020 had 15 contracts \n",
      "Cached day 09.07.2020 had 10 contracts \n",
      "Cached day 10.07.2020 had 11 contracts \n",
      "Cached day 11.07.2020 had 1 contracts \n",
      "Cached day 12.07.2020 had 0 contracts \n",
      "Cached day 13.07.2020 had 33 contracts \n",
      "Cached day 14.07.2020 had 46 contracts \n",
      "Cached day 15.07.2020 had 12 contracts \n",
      "Cached day 16.07.2020 had 5 contracts \n",
      "Cached day 17.07.2020 had 30 contracts \n",
      "Cached day 18.07.2020 had 1 contracts \n",
      "Cached day 19.07.2020 had 0 contracts \n",
      "Cached day 20.07.2020 had 59 contracts \n",
      "Cached day 21.07.2020 had 23 contracts \n",
      "Cached day 22.07.2020 had 18 contracts \n",
      "Cached day 23.07.2020 had 9 contracts \n",
      "Cached day 24.07.2020 had 28 contracts \n",
      "Cached day 25.07.2020 had 0 contracts \n",
      "Cached day 26.07.2020 had 0 contracts \n",
      "Cached day 27.07.2020 had 53 contracts \n",
      "Cached day 28.07.2020 had 22 contracts \n",
      "Cached day 29.07.2020 had 12 contracts \n",
      "Cached day 30.07.2020 had 16 contracts \n",
      "Cached day 31.07.2020 had 26 contracts \n",
      "Cached day 01.08.2020 had 1 contracts \n",
      "Cached day 02.08.2020 had 1 contracts \n",
      "Cached day 03.08.2020 had 48 contracts \n",
      "Cached day 04.08.2020 had 21 contracts \n",
      "Cached day 05.08.2020 had 10 contracts \n",
      "Cached day 06.08.2020 had 8 contracts \n",
      "Cached day 07.08.2020 had 28 contracts \n",
      "Cached day 08.08.2020 had 0 contracts \n",
      "Cached day 09.08.2020 had 1 contracts \n",
      "Cached day 10.08.2020 had 51 contracts \n",
      "Cached day 11.08.2020 had 36 contracts \n",
      "Cached day 12.08.2020 had 13 contracts \n",
      "Cached day 13.08.2020 had 9 contracts \n",
      "Cached day 14.08.2020 had 26 contracts \n",
      "Cached day 15.08.2020 had 0 contracts \n",
      "Cached day 16.08.2020 had 0 contracts \n",
      "Cached day 17.08.2020 had 56 contracts \n",
      "Cached day 18.08.2020 had 16 contracts \n",
      "Cached day 19.08.2020 had 17 contracts \n",
      "Cached day 20.08.2020 had 7 contracts \n",
      "Cached day 21.08.2020 had 30 contracts \n",
      "Cached day 22.08.2020 had 0 contracts \n",
      "Cached day 23.08.2020 had 1 contracts \n",
      "Cached day 24.08.2020 had 61 contracts \n",
      "Cached day 25.08.2020 had 21 contracts \n",
      "Cached day 26.08.2020 had 18 contracts \n",
      "Cached day 27.08.2020 had 20 contracts \n",
      "Cached day 28.08.2020 had 3 contracts \n",
      "Cached day 29.08.2020 had 0 contracts \n",
      "Cached day 30.08.2020 had 0 contracts \n",
      "Cached day 31.08.2020 had 33 contracts \n",
      "Cached day 01.09.2020 had 46 contracts \n",
      "Cached day 02.09.2020 had 31 contracts \n",
      "Cached day 03.09.2020 had 11 contracts \n",
      "Cached day 04.09.2020 had 8 contracts \n",
      "Cached day 05.09.2020 had 2 contracts \n",
      "Cached day 06.09.2020 had 0 contracts \n",
      "Cached day 07.09.2020 had 33 contracts \n",
      "Cached day 08.09.2020 had 23 contracts \n",
      "Cached day 09.09.2020 had 7 contracts \n",
      "Cached day 10.09.2020 had 12 contracts \n",
      "Cached day 11.09.2020 had 19 contracts \n",
      "Cached day 12.09.2020 had 1 contracts \n",
      "Cached day 13.09.2020 had 0 contracts \n",
      "Cached day 14.09.2020 had 50 contracts \n",
      "Cached day 15.09.2020 had 22 contracts \n",
      "Cached day 16.09.2020 had 22 contracts \n",
      "Cached day 17.09.2020 had 10 contracts \n",
      "Cached day 18.09.2020 had 27 contracts \n",
      "Cached day 19.09.2020 had 0 contracts \n",
      "Cached day 20.09.2020 had 0 contracts \n",
      "Cached day 21.09.2020 had 47 contracts \n",
      "Cached day 22.09.2020 had 34 contracts \n",
      "Cached day 23.09.2020 had 19 contracts \n",
      "Cached day 24.09.2020 had 4 contracts \n",
      "Cached day 25.09.2020 had 22 contracts \n",
      "Cached day 26.09.2020 had 1 contracts \n",
      "Cached day 27.09.2020 had 0 contracts \n",
      "Cached day 28.09.2020 had 34 contracts \n",
      "Cached day 29.09.2020 had 24 contracts \n",
      "Cached day 30.09.2020 had 20 contracts \n",
      "Cached day 01.10.2020 had 8 contracts \n",
      "Cached day 02.10.2020 had 16 contracts \n",
      "Cached day 03.10.2020 had 0 contracts \n",
      "Cached day 04.10.2020 had 0 contracts \n",
      "Cached day 05.10.2020 had 45 contracts \n",
      "Cached day 06.10.2020 had 32 contracts \n",
      "Cached day 07.10.2020 had 11 contracts \n",
      "Cached day 08.10.2020 had 17 contracts \n",
      "Cached day 09.10.2020 had 11 contracts \n",
      "Cached day 10.10.2020 had 0 contracts \n",
      "Cached day 11.10.2020 had 0 contracts \n",
      "Cached day 12.10.2020 had 40 contracts \n",
      "Cached day 13.10.2020 had 19 contracts \n",
      "Cached day 14.10.2020 had 14 contracts \n",
      "Cached day 15.10.2020 had 8 contracts \n",
      "Cached day 16.10.2020 had 14 contracts \n",
      "Cached day 17.10.2020 had 0 contracts \n",
      "Cached day 18.10.2020 had 2 contracts \n",
      "Cached day 19.10.2020 had 40 contracts \n",
      "Cached day 20.10.2020 had 27 contracts \n",
      "Cached day 21.10.2020 had 7 contracts \n",
      "Cached day 22.10.2020 had 11 contracts \n",
      "Cached day 23.10.2020 had 21 contracts \n",
      "Cached day 24.10.2020 had 0 contracts \n",
      "Cached day 25.10.2020 had 0 contracts \n",
      "Cached day 26.10.2020 had 42 contracts \n",
      "Cached day 27.10.2020 had 40 contracts \n",
      "Cached day 28.10.2020 had 14 contracts \n",
      "Cached day 29.10.2020 had 6 contracts \n",
      "Cached day 30.10.2020 had 14 contracts \n",
      "Cached day 31.10.2020 had 1 contracts \n",
      "Cached day 01.11.2020 had 2 contracts \n",
      "Cached day 02.11.2020 had 69 contracts \n",
      "Cached day 03.11.2020 had 19 contracts \n",
      "Cached day 04.11.2020 had 0 contracts \n",
      "Cached day 05.11.2020 had 9 contracts \n",
      "Cached day 06.11.2020 had 10 contracts \n",
      "Cached day 07.11.2020 had 0 contracts \n",
      "Cached day 08.11.2020 had 0 contracts \n",
      "Cached day 09.11.2020 had 36 contracts \n",
      "Cached day 10.11.2020 had 33 contracts \n",
      "Cached day 11.11.2020 had 8 contracts \n",
      "Cached day 12.11.2020 had 11 contracts \n",
      "Cached day 13.11.2020 had 26 contracts \n",
      "Cached day 14.11.2020 had 0 contracts \n",
      "Cached day 15.11.2020 had 0 contracts \n",
      "Cached day 16.11.2020 had 27 contracts \n",
      "Cached day 17.11.2020 had 24 contracts \n",
      "Cached day 18.11.2020 had 13 contracts \n",
      "Cached day 19.11.2020 had 16 contracts \n",
      "Cached day 20.11.2020 had 30 contracts \n",
      "Cached day 21.11.2020 had 1 contracts \n",
      "Cached day 22.11.2020 had 0 contracts \n",
      "Cached day 23.11.2020 had 68 contracts \n",
      "Cached day 24.11.2020 had 30 contracts \n",
      "Cached day 25.11.2020 had 23 contracts \n",
      "Cached day 26.11.2020 had 15 contracts \n",
      "Cached day 27.11.2020 had 31 contracts \n",
      "Cached day 28.11.2020 had 1 contracts \n",
      "Cached day 29.11.2020 had 1 contracts \n",
      "Cached day 30.11.2020 had 57 contracts \n",
      "Cached day 01.12.2020 had 26 contracts \n",
      "Cached day 02.12.2020 had 23 contracts \n",
      "Cached day 03.12.2020 had 12 contracts \n",
      "Cached day 04.12.2020 had 21 contracts \n",
      "Cached day 05.12.2020 had 1 contracts \n",
      "Cached day 06.12.2020 had 1 contracts \n",
      "Cached day 07.12.2020 had 50 contracts \n",
      "Cached day 08.12.2020 had 39 contracts \n",
      "Cached day 09.12.2020 had 39 contracts \n",
      "Cached day 10.12.2020 had 17 contracts \n",
      "Cached day 11.12.2020 had 32 contracts \n",
      "Cached day 12.12.2020 had 1 contracts \n",
      "Cached day 13.12.2020 had 3 contracts \n",
      "Cached day 14.12.2020 had 93 contracts \n",
      "Cached day 15.12.2020 had 60 contracts \n",
      "Cached day 16.12.2020 had 22 contracts \n",
      "Cached day 17.12.2020 had 23 contracts \n",
      "Cached day 18.12.2020 had 36 contracts \n",
      "Cached day 19.12.2020 had 4 contracts \n",
      "Cached day 20.12.2020 had 0 contracts \n",
      "Cached day 21.12.2020 had 121 contracts \n",
      "Cached day 22.12.2020 had 51 contracts \n",
      "Cached day 23.12.2020 had 32 contracts \n",
      "Cached day 24.12.2020 had 25 contracts \n",
      "Cached day 25.12.2020 had 59 contracts \n",
      "Cached day 26.12.2020 had 14 contracts \n",
      "Cached day 27.12.2020 had 9 contracts \n",
      "Cached day 28.12.2020 had 106 contracts \n",
      "Cached day 29.12.2020 had 101 contracts \n",
      "Cached day 30.12.2020 had 67 contracts \n",
      "Cached day 31.12.2020 had 36 contracts \n",
      "------------------- \n",
      " 41177 contracts found in total\n"
     ]
    }
   ],
   "source": [
    "\n",
    "## This now has regNumbers caching too \n",
    "\n",
    "cachedRegNums = {}\n",
    "\n",
    "# load the data from the json file\n",
    "with open('cachedRegNums.json', 'r') as f:\n",
    "  cachedRegNums = json.load(f)\n",
    "\n",
    "\n",
    "with ThreadPoolExecutor(max_workers=50) as ex:\n",
    "  for i, day in enumerate(calendar):\n",
    "    if day in cachedRegNums:\n",
    "      regNumbersDict[day] = cachedRegNums[day]\n",
    "      print(\"Cached day {} had {} contracts \\n\".format(day, len(regNumbersDict[day])), end='')\n",
    "    else:\n",
    "      ex.submit(getRegNumbersForDate, i, day)\n",
    "\n",
    "    \n",
    "combinedRegNumbersDict = {**cachedRegNums, **regNumbersDict}\n",
    "\n",
    "# print(combinedRegNumbersDict)\n",
    "\n",
    "\n",
    "with open('cachedRegNums.json', 'w') as f:\n",
    "  json.dump(combinedRegNumbersDict, f)\n",
    "\n",
    "\n",
    "tempRegNumbers = list(regNumbersDict.values())\n",
    "\n",
    "regNumbers = []\n",
    "\n",
    "for t in tempRegNumbers:\n",
    "  regNumbers.extend(t)\n",
    "\n",
    "# print(regNumbers)\n",
    "\n",
    "print(\"------------------- \\n {} contracts found in total\".format(len(regNumbers)))"
   ]
  },
  {
   "cell_type": "markdown",
   "metadata": {},
   "source": [
    "The below is just for testing labels etc."
   ]
  },
  {
   "cell_type": "code",
   "execution_count": 11,
   "metadata": {
    "colab": {
     "base_uri": "https://localhost:8080/"
    },
    "id": "UFa1lj9sHpkK",
    "outputId": "32168ad0-7959-428c-9ad0-8d707a6f732a"
   },
   "outputs": [],
   "source": [
    "# url=\"https://zakupki.gov.ru/epz/contract/contractCard/common-info.html?reestrNumber=3662310492216000051\"\n",
    "# soup=getPage(url)\n",
    "# secondtab=soup.findAll(\"span\", {\"class\":\"grey-main-light\"})[-2]\n",
    "# print(secondtab)\n",
    "# # # # products=soup.findAll(\"span\",{\"class\":\"section__info\"})\n",
    "# # # product=products[24].text.strip()\n",
    "# # print(product)\n",
    "\n",
    "# # # # # ### first tab info ###\n",
    "# # table=soup.findAll(\"td\",{\"class\":\"tableBlock__col\"})\n",
    "# # # # cardinfo=soup.findAll(\"span\",{\"class\":\"cardMainInfo__content\"})\n",
    "# # # signed=cardinfo[3].text.strip()\n",
    "# # # deadline=cardinfo[4].text.strip()\n",
    "# # # # price=soup.find(\"span\", {\"class\":\"cardMainInfo__content cost\"}).text.replace(\"\\xa0\",\"\").replace(\",\",\".\").replace(\"₽\",\"\").strip()\n",
    "# # print(signed)\n",
    "# # # org=table[0].text.strip().split(\"\\n\")\n",
    "# # # procurer=org[0]\n",
    "# # # INN=org[9]\n",
    "# # # KPP=org[13]\n",
    "# # # registered=org[17]\n",
    "\n",
    "# try:\n",
    "#     address=table[3].text.strip()\n",
    "#     numbermail=table[3].text.strip().split(\"\\n\")\n",
    "# #     number=numbermail[0]\n",
    "# #     mail=numbermail[1].strip()\n",
    "\n",
    "# # except:\n",
    "# #     address=table[2].text.strip()\n",
    "# #     numbermail=table[2].text.strip().split(\"\\n\")\n",
    "# #     number=numbermail[0]\n",
    "# #     mail=numbermail[1].strip()\n",
    "\n",
    "# table=soup.findAll(\"section\",{\"class\":\"blockInfo__section section\"})\n",
    "# # # check=table[6]\n",
    "# # # print(check)\n",
    "\n",
    "# # section=soup.findAll(\"span\",{\"class\":\"section__info\"})\n",
    "# # # method=section[3].text.strip()\n",
    "# # # print(method)\n",
    "# # # # print(method)\n",
    "# # # # # # ### second tab info ###\n",
    "# # print((table))\n",
    "\n",
    "# try:\n",
    "#   check=table[3]\n",
    "#   method=check.findAll('span', {'class':'section__info'})[0].text.strip()\n",
    "\n",
    "# except:\n",
    "#   method=section[6].text.strip()\n",
    "\n",
    "# print(method)\n",
    "\n",
    "# # # secondtab=soup.findAll(\"div\", {\"class\": \"col\"})\n",
    "# # # # print(secondtab)\n",
    "# # # tables = []\n",
    "# for tab in secondtab:\n",
    "#     tables.append(tab.findAll(\"tbody\"))\n",
    "\n",
    "# object=tables[-1][0].findAll(\"td\",{\"class\":\"tableBlock__col\"})\n",
    "# code=object[1].text.strip().split(\"\\n\")[-1].strip()\n",
    "# print(code)\n"
   ]
  },
  {
   "cell_type": "markdown",
   "metadata": {
    "id": "L254l5YhpqNv"
   },
   "source": [
    "### Section 4: Details scraping\n",
    "\n",
    "The Contract Dataclass will store the information during scraping.\n",
    "If any information can't be scraped, default values have been provided in their place"
   ]
  },
  {
   "cell_type": "code",
   "execution_count": 12,
   "metadata": {
    "id": "Eg5Td-OGi3vz"
   },
   "outputs": [],
   "source": [
    "@dataclass\n",
    "class Contract:\n",
    "\n",
    "  # TODO: Add reg number to class\n",
    "\n",
    "  # Main Section\n",
    "  id: float = 0\n",
    "  price: float = 0.0\n",
    "  signed: date = None\n",
    "  deadline: date = None\n",
    "\n",
    "  # Tab 1\n",
    "  method: str = \"none\"\n",
    "  procurer: str = \"none\"\n",
    "  supplier: str = \"none\"\n",
    "  proinn: str = \"none\"\n",
    "  supinn: str = \"none\"\n",
    "  registered: date = None\n",
    "  address: str = \"none\"\n",
    "  number: str = \"none\"\n",
    "  mail: str = \"none\"\n",
    "\n",
    "  # Tab 2\n",
    "  code: float = 0.0\n",
    "  product: str = \"none\"\n",
    "  \n",
    "\n",
    "  def __repr__(self):\n",
    "    return \"\\nContract id= {} \\n First tab: price={}, signed={}, deadline={}, method={}, procurer={}, supplier={}, proinn={}, supinn={}, registered={}, address={}, number={}, mail={} \\n  Second tab: code={}, product={})\".format(self.id, self.price, self.signed, self.deadline, self.method, self.procurer, self.supplier, self.proinn, self.supinn, self.registered, self.address, self.number, self.mail, self.code,  self.product)\n",
    "\n",
    "  "
   ]
  },
  {
   "cell_type": "markdown",
   "metadata": {
    "id": "5yatvXkvpz2H"
   },
   "source": [
    "Method for scraping the data from each contract"
   ]
  },
  {
   "cell_type": "code",
   "execution_count": 13,
   "metadata": {},
   "outputs": [],
   "source": [
    "def getSectionDict(page):\n",
    "\n",
    "    sections=page.findAll(\"section\",{\"class\":\"blockInfo__section section\"})\n",
    "\n",
    "    # print([key.findAll(\"span\") for key in sections])\n",
    "\n",
    "    # Turning the sections into a dictionary that will be easier to work with.\n",
    "    pairs = [key.findAll(\"span\") for key in sections]\n",
    "\n",
    "    pairs = list(filter(None, pairs))\n",
    "\n",
    "\n",
    "    titles = []\n",
    "    values = []\n",
    "\n",
    "    for x in pairs:\n",
    "        if len(x) > 1:\n",
    "            try:\n",
    "                titles.append(x[0])\n",
    "                values.append(x[1])\n",
    "            except:\n",
    "                pass\n",
    "\n",
    "    sectionDict = {titles[i].text.strip() : values[i].text.strip() for i in range(len(titles))}\n",
    "\n",
    "    return sectionDict\n",
    "\n",
    "\n",
    "def getTableDict(page, secondTab=False):\n",
    "\n",
    "\n",
    "    if secondTab:\n",
    "        sectionOfInterest = page.findAll(\"div\", {\"class\": \"col\"})[-1]\n",
    "    else:\n",
    "        sectionOfInterest = page\n",
    "\n",
    "    table = sectionOfInterest.findAll(\"tr\",{\"class\":\"tableBlock__row\"})\n",
    "\n",
    "    # print(table[3])\n",
    "\n",
    "    headers = [i.text.strip() for i in table[0].findAll(\"th\", {\"class\":\"tableBlock__col tableBlock__col_header\"})]\n",
    "    data = [list(filter(None, [j.strip() for j in i.text.split(\"\\n\")])) for i in table[1].findAll(\"td\")]\n",
    "\n",
    "    if len(headers) == 0:\n",
    "        headers = [i.text.strip() for i in table[2].findAll(\"th\", {\"class\":\"tableBlock__col tableBlock__col_header\"})]\n",
    "        data = [list(filter(None, [j.strip() for j in i.text.split(\"\\n\")])) for i in table[3].findAll(\"td\")]\n",
    "\n",
    "    if len(headers) == 0:\n",
    "        headers = [i.text.strip() for i in table[3].findAll(\"th\", {\"class\":\"tableBlock__col tableBlock__col_header\"})]\n",
    "        data = [list(filter(None, [j.strip() for j in i.text.split(\"\\n\")])) for i in table[4].findAll(\"td\")]\n",
    "\n",
    "\n",
    "\n",
    "    # This is hacky.\n",
    "    if len(data) < len(headers):\n",
    "        data = [[[]] for i in range(len(headers))]\n",
    "\n",
    "        \n",
    "\n",
    "    tableDict = {headers[i] : data[i] for i in range(len(headers))}\n",
    "\n",
    "    return tableDict"
   ]
  },
  {
   "cell_type": "code",
   "execution_count": 14,
   "metadata": {
    "id": "Jq9BLFkUaDPW"
   },
   "outputs": [],
   "source": [
    "def scrapeData(reg):\n",
    "\n",
    "  try:\n",
    "    # Input: reg = one registration number.\n",
    "\n",
    "    # Different URL from the one above, this accesses more information from Zakupki.\n",
    "    dir = \"https://zakupki.gov.ru/epz/contract/contractCard/{}.html?reestrNumber={}\"\n",
    "\n",
    "    # Getting the web page for the given contract\n",
    "    tempDir = dir.format(\"common-info\", reg)\n",
    "    page = getPage(tempDir)\n",
    "\n",
    "    # We probably don't need this with the method I've used below.\n",
    "    contractTypeTwo = False\n",
    "\n",
    "    # Enter the text here that should be present to signify the second type of contract.\n",
    "    if page.findAll(text=\"Основание заключения контракта с единственным поставщиком\"):\n",
    "      contractTypeTwo = True\n",
    "      \n",
    "    id = reg  \n",
    "    sectionDict = getSectionDict(page)\n",
    "    firstTableDict = getTableDict(page)\n",
    "\n",
    "    # print(sectionDict)\n",
    "    # print(firstTableDict)\n",
    "\n",
    "    # print(sectionDict, firstTableDict)\n",
    "    # try:\n",
    "    #   price=sectionDict[\"Цена контракта\"].replace(\"\\xa0\",\"\").replace(\",\",\".\").replace(\"₽\",\"\").strip().split()[0]\n",
    "    # except:\n",
    "    #   price=sectionDict[\"Ориентировочное значение цены контракта\"].replace(\"\\xa0\",\"\").replace(\",\",\".\").replace(\"₽\",\"\").strip().split()[0]\n",
    "    #   try:\n",
    "    #     price=sectionDict[\"Максимальное значение цены контракта\"].replace(\"\\xa0\",\"\").replace(\",\",\".\").replace(\"₽\",\"\").strip().split()[0]\n",
    "    #   except:\n",
    "    price=page.find('span', {'class':'cardMainInfo__content cost'}).text.strip().replace(\"₽\",\"\").replace(\" \",\"\")\n",
    "      \n",
    "    signed=sectionDict[\"Дата заключения контракта\"].split()[0]\n",
    "    deadline=sectionDict[\"Дата окончания исполнения контракта\"].split()[0]\n",
    "    \n",
    "    ### fixed issue with method ### \n",
    "    try:\n",
    "      method = sectionDict[\"Способ определения поставщика (подрядчика, исполнителя)\"]\n",
    "    except:\n",
    "      if page.findAll(text=\"Основание заключения контракта с единственным поставщиком\"):\n",
    "            method=\"Закупка у единственного поставщика (подрядчика, исполнителя)\"\n",
    "            \n",
    "    procurer=sectionDict[\"Полное наименование заказчика\"]\n",
    "    supplier=firstTableDict[\"Организация\"][0]\n",
    "\n",
    "    proinn=sectionDict[\"ИНН\"]\n",
    "\n",
    "    ### fixed issues for missing values sometimes in the table ###\n",
    "    \n",
    "    registered=firstTableDict[\"Организация\"][-1]\n",
    "    \n",
    "    ### fixed, testing ###   \n",
    "    try: \n",
    "      if firstTableDict[\"Организация\"][-4]==\"КПП:\":\n",
    "          supinn=firstTableDict[\"Организация\"][-5]\n",
    "      else:\n",
    "          supinn=firstTableDict[\"Организация\"][-3]\n",
    "    except:\n",
    "      supinn=\"\"\n",
    "\n",
    "    ### fixed issues in lower table ### \n",
    "    \n",
    "    try:\n",
    "      address=firstTableDict[\"Адрес места нахождения\"]\n",
    "    except:\n",
    "      address=firstTableDict[\"Адрес в стране регистрации\"]\n",
    "    number=firstTableDict[\"Телефон, электронная почта\"][0]\n",
    "    mail=firstTableDict[\"Телефон, электронная почта\"][1]\n",
    "\n",
    "    ### details about winner - ALSO, THERE'S OPTION TO SCRAPE SUBCONTRACTORS ### \n",
    "\n",
    "    page.decompose()\n",
    "\n",
    "    ### Second tab ###\n",
    "    tempDir = dir.format(\"payment-info-and-target-of-order\", reg)\n",
    "    page = getPage(tempDir)\n",
    "\n",
    "    ### code stands for the product code, which can be later identified to return industry type ### \n",
    "    \n",
    "    secondTableDict = getTableDict(page, True)\n",
    "    \n",
    "    try:\n",
    "      code = secondTableDict[\"Позиции по КТРУ, ОКПД2\"][1][1:-1]\n",
    "    except:\n",
    "      code = ''\n",
    "        \n",
    "    product = secondTableDict[\"Наименование объекта закупки и его характеристики\"][0]\n",
    "    \n",
    "    # Create the Contract dataclass object and append it to a list of objects.\n",
    "    # This method means that missing data can be accounted for.\n",
    "    # print(method)\n",
    "\n",
    "    contract = Contract(id=id, price=price, signed=signed, deadline=deadline, method=method, procurer=procurer, supplier=supplier, proinn=proinn, supinn=supinn, registered=registered, address=address, number=number, mail=mail, code=code, product=product)\n",
    "    \n",
    "    # contracts.append(contract)\n",
    "    # print('Completed {}'.format(id))\n",
    "\n",
    "    page.decompose()\n",
    "\n",
    "    return contract\n",
    "  except Exception as e:\n",
    "    failedRegNumbers.append(reg)\n",
    "    print(\"Failed to scrape {}\".format(reg))\n",
    "    print(e)"
   ]
  },
  {
   "cell_type": "markdown",
   "metadata": {
    "id": "CitfSwF2p94x"
   },
   "source": [
    "### Section 5: Starting execution\n",
    "Scrape the contracts themselves using threading"
   ]
  },
  {
   "cell_type": "code",
   "execution_count": 15,
   "metadata": {},
   "outputs": [],
   "source": [
    "def scrape(reg):\n",
    "    \n",
    "    try:\n",
    "        _ = int(reg)\n",
    "        # print(\"Scraping {}\".format(reg))\n",
    "        return [scrapeData(reg)]\n",
    "    except TypeError:\n",
    "        \n",
    "        # TODO make 500 contracts change here.\n",
    "        \n",
    "        contracts = []\n",
    "\n",
    "        \n",
    "\n",
    "        for idx, r in enumerate(reg):\n",
    "            # print(\"Scraping {}\".format(r))\n",
    "            contracts.append(scrapeData(r))\n",
    "            # progress(i + idx, regNumbers)\n",
    "\n",
    "        return contracts"
   ]
  },
  {
   "cell_type": "code",
   "execution_count": 16,
   "metadata": {
    "colab": {
     "base_uri": "https://localhost:8080/"
    },
    "id": "RseKcK3_XT7R",
    "outputId": "2e193036-25a2-4b02-8d91-34a6293d9141"
   },
   "outputs": [
    {
     "name": "stdout",
     "output_type": "stream",
     "text": [
      "Starting scrape with 41177 reg numbers\n",
      "\n",
      "23831 of 41177 contracts are uncached. Fetching...\n"
     ]
    },
    {
     "name": "stderr",
     "output_type": "stream",
     "text": [
      "110it [01:17,  1.63it/s]"
     ]
    },
    {
     "name": "stdout",
     "output_type": "stream",
     "text": [
      "Failed to scrape 3660601895220000071\n",
      "'Организация'\n"
     ]
    },
    {
     "name": "stderr",
     "output_type": "stream",
     "text": [
      "116it [01:23,  1.16it/s]"
     ]
    },
    {
     "name": "stdout",
     "output_type": "stream",
     "text": [
      "Failed to scrape 3666100466118000147\n",
      "'Наименование объекта закупки и его характеристики'\n"
     ]
    },
    {
     "name": "stderr",
     "output_type": "stream",
     "text": [
      "156it [01:50,  1.64it/s]"
     ]
    },
    {
     "name": "stdout",
     "output_type": "stream",
     "text": [
      "Failed to scrape 3666000588819000002\n",
      "'Наименование объекта закупки и его характеристики'\n"
     ]
    },
    {
     "name": "stderr",
     "output_type": "stream",
     "text": [
      "167it [01:56,  1.66it/s]"
     ]
    },
    {
     "name": "stdout",
     "output_type": "stream",
     "text": [
      "Failed to scrape 2661900214920000296\n",
      "'Организация'\n"
     ]
    },
    {
     "name": "stderr",
     "output_type": "stream",
     "text": [
      "231it [02:40,  1.52it/s]"
     ]
    },
    {
     "name": "stdout",
     "output_type": "stream",
     "text": [
      "'NoneType' object has no attribute '__dict__'\n"
     ]
    },
    {
     "name": "stderr",
     "output_type": "stream",
     "text": [
      "244it [02:50,  1.53it/s]"
     ]
    },
    {
     "name": "stdout",
     "output_type": "stream",
     "text": [
      "Failed to scrape 2661900214920000262\n",
      "'Организация'\n"
     ]
    },
    {
     "name": "stderr",
     "output_type": "stream",
     "text": [
      "251it [02:55,  1.79it/s]"
     ]
    },
    {
     "name": "stdout",
     "output_type": "stream",
     "text": [
      "'NoneType' object has no attribute '__dict__'\n"
     ]
    },
    {
     "name": "stderr",
     "output_type": "stream",
     "text": [
      "338it [03:48,  2.04it/s]"
     ]
    },
    {
     "name": "stdout",
     "output_type": "stream",
     "text": [
      "'NoneType' object has no attribute '__dict__'\n"
     ]
    },
    {
     "name": "stderr",
     "output_type": "stream",
     "text": [
      "358it [04:03,  1.46it/s]"
     ]
    },
    {
     "name": "stdout",
     "output_type": "stream",
     "text": [
      "'NoneType' object has no attribute '__dict__'\n"
     ]
    },
    {
     "name": "stderr",
     "output_type": "stream",
     "text": [
      "448it [05:02,  1.62it/s]"
     ]
    },
    {
     "name": "stdout",
     "output_type": "stream",
     "text": [
      "Failed to scrape 1665801738920000114\n",
      "'Наименование объекта закупки и его характеристики'\n"
     ]
    },
    {
     "name": "stderr",
     "output_type": "stream",
     "text": [
      "471it [05:17,  1.46it/s]"
     ]
    },
    {
     "name": "stdout",
     "output_type": "stream",
     "text": [
      "Failed to scrape 2666100878620000122\n",
      "'Организация'\n"
     ]
    },
    {
     "name": "stderr",
     "output_type": "stream",
     "text": [
      "535it [06:02,  1.59it/s]"
     ]
    },
    {
     "name": "stdout",
     "output_type": "stream",
     "text": [
      "'NoneType' object has no attribute '__dict__'\n"
     ]
    },
    {
     "name": "stderr",
     "output_type": "stream",
     "text": [
      "617it [06:56,  1.55it/s]"
     ]
    },
    {
     "name": "stdout",
     "output_type": "stream",
     "text": [
      "Failed to scrape 3666000798020000347\n",
      "'Наименование объекта закупки и его характеристики'\n"
     ]
    },
    {
     "name": "stderr",
     "output_type": "stream",
     "text": [
      "700it [07:56,  1.79it/s]"
     ]
    },
    {
     "name": "stdout",
     "output_type": "stream",
     "text": [
      "Failed to scrape 1666101464520000297\n",
      "'Организация'\n"
     ]
    },
    {
     "name": "stderr",
     "output_type": "stream",
     "text": [
      "734it [08:21,  1.58it/s]"
     ]
    },
    {
     "name": "stdout",
     "output_type": "stream",
     "text": [
      "Failed to scrape 1665808957720000109\n",
      "list index out of range\n"
     ]
    },
    {
     "name": "stderr",
     "output_type": "stream",
     "text": [
      "839it [09:30,  1.28it/s]"
     ]
    },
    {
     "name": "stdout",
     "output_type": "stream",
     "text": [
      "Failed to scrape 2662309705520000308\n",
      "'Организация'\n"
     ]
    },
    {
     "name": "stderr",
     "output_type": "stream",
     "text": [
      "966it [10:53,  1.65it/s]"
     ]
    },
    {
     "name": "stdout",
     "output_type": "stream",
     "text": [
      "Failed to scrape 1772905090120000118\n",
      "'Наименование объекта закупки и его характеристики'\n"
     ]
    },
    {
     "name": "stderr",
     "output_type": "stream",
     "text": [
      "980it [11:03,  2.01it/s]"
     ]
    },
    {
     "name": "stdout",
     "output_type": "stream",
     "text": [
      "'NoneType' object has no attribute '__dict__'\n"
     ]
    },
    {
     "name": "stderr",
     "output_type": "stream",
     "text": [
      "1034it [11:39,  1.37it/s]"
     ]
    },
    {
     "name": "stdout",
     "output_type": "stream",
     "text": [
      "'NoneType' object has no attribute '__dict__'\n"
     ]
    },
    {
     "name": "stderr",
     "output_type": "stream",
     "text": [
      "1159it [13:05,  1.55it/s]"
     ]
    },
    {
     "name": "stdout",
     "output_type": "stream",
     "text": [
      "Failed to scrape 3660200715619000001\n",
      "'Наименование объекта закупки и его характеристики'\n"
     ]
    },
    {
     "name": "stderr",
     "output_type": "stream",
     "text": [
      "1337it [15:15,  1.32it/s]"
     ]
    },
    {
     "name": "stdout",
     "output_type": "stream",
     "text": [
      "Failed to scrape 3666000798021000034\n",
      "'Наименование объекта закупки и его характеристики'\n"
     ]
    },
    {
     "name": "stderr",
     "output_type": "stream",
     "text": [
      "1355it [15:30,  1.26it/s]"
     ]
    },
    {
     "name": "stdout",
     "output_type": "stream",
     "text": [
      "Failed to scrape 2666100878620000126\n",
      "'Организация'\n"
     ]
    },
    {
     "name": "stderr",
     "output_type": "stream",
     "text": [
      "1364it [15:36,  1.20it/s]"
     ]
    },
    {
     "name": "stdout",
     "output_type": "stream",
     "text": [
      "'NoneType' object has no attribute '__dict__'\n"
     ]
    },
    {
     "name": "stderr",
     "output_type": "stream",
     "text": [
      "1529it [17:30,  1.28it/s]"
     ]
    },
    {
     "name": "stdout",
     "output_type": "stream",
     "text": [
      "Failed to scrape 3667808274920000002\n",
      "'Наименование объекта закупки и его характеристики'\n"
     ]
    },
    {
     "name": "stderr",
     "output_type": "stream",
     "text": [
      "1562it [17:52,  1.83it/s]"
     ]
    },
    {
     "name": "stdout",
     "output_type": "stream",
     "text": [
      "'NoneType' object has no attribute '__dict__'\n"
     ]
    },
    {
     "name": "stderr",
     "output_type": "stream",
     "text": [
      "1646it [18:42,  1.47it/s]"
     ]
    },
    {
     "name": "stdout",
     "output_type": "stream",
     "text": [
      "'NoneType' object has no attribute '__dict__'\n"
     ]
    },
    {
     "name": "stderr",
     "output_type": "stream",
     "text": [
      "1668it [18:57,  1.19it/s]"
     ]
    },
    {
     "name": "stdout",
     "output_type": "stream",
     "text": [
      "Failed to scrape 3666005552917000016\n",
      "'Наименование объекта закупки и его характеристики'\n"
     ]
    },
    {
     "name": "stderr",
     "output_type": "stream",
     "text": [
      "1787it [20:14,  1.49it/s]"
     ]
    },
    {
     "name": "stdout",
     "output_type": "stream",
     "text": [
      "Failed to scrape 2667138083420000438\n",
      "'Организация'\n"
     ]
    },
    {
     "name": "stderr",
     "output_type": "stream",
     "text": [
      "1879it [21:12,  1.56it/s]"
     ]
    },
    {
     "name": "stdout",
     "output_type": "stream",
     "text": [
      "'NoneType' object has no attribute '__dict__'\n"
     ]
    },
    {
     "name": "stderr",
     "output_type": "stream",
     "text": [
      "1940it [21:57,  1.16it/s]"
     ]
    },
    {
     "name": "stdout",
     "output_type": "stream",
     "text": [
      "Failed to scrape 2667114714720000013\n",
      "'Организация'\n"
     ]
    },
    {
     "name": "stderr",
     "output_type": "stream",
     "text": [
      "1976it [22:21,  1.69it/s]"
     ]
    },
    {
     "name": "stdout",
     "output_type": "stream",
     "text": [
      "Failed to scrape 2661800178420000132\n",
      "'Организация'\n"
     ]
    },
    {
     "name": "stderr",
     "output_type": "stream",
     "text": [
      "2155it [24:17,  1.54it/s]"
     ]
    },
    {
     "name": "stdout",
     "output_type": "stream",
     "text": [
      "'NoneType' object has no attribute '__dict__'\n"
     ]
    },
    {
     "name": "stderr",
     "output_type": "stream",
     "text": [
      "2159it [24:20,  1.51it/s]"
     ]
    },
    {
     "name": "stdout",
     "output_type": "stream",
     "text": [
      "Failed to scrape 3662501736918000006\n",
      "'Наименование объекта закупки и его характеристики'\n"
     ]
    },
    {
     "name": "stderr",
     "output_type": "stream",
     "text": [
      "2170it [24:27,  1.62it/s]"
     ]
    },
    {
     "name": "stdout",
     "output_type": "stream",
     "text": [
      "Failed to scrape 3666000798021000033\n",
      "'Наименование объекта закупки и его характеристики'\n"
     ]
    },
    {
     "name": "stderr",
     "output_type": "stream",
     "text": [
      "2215it [24:58,  1.77it/s]"
     ]
    },
    {
     "name": "stdout",
     "output_type": "stream",
     "text": [
      "Failed to scrape 3666000798020000269\n",
      "'Наименование объекта закупки и его характеристики'\n"
     ]
    },
    {
     "name": "stderr",
     "output_type": "stream",
     "text": [
      "3691it [26:06, 1408.54it/s]"
     ]
    },
    {
     "name": "stdout",
     "output_type": "stream",
     "text": [
      "'NoneType' object has no attribute '__dict__'\n",
      "'NoneType' object has no attribute '__dict__'\n",
      "'NoneType' object has no attribute '__dict__'\n",
      "'NoneType' object has no attribute '__dict__'\n"
     ]
    },
    {
     "name": "stderr",
     "output_type": "stream",
     "text": [
      "4700it [26:06, 2513.61it/s]"
     ]
    },
    {
     "name": "stdout",
     "output_type": "stream",
     "text": [
      "'NoneType' object has no attribute '__dict__'\n",
      "'NoneType' object has no attribute '__dict__'\n",
      "'NoneType' object has no attribute '__dict__'\n",
      "'NoneType' object has no attribute '__dict__'\n",
      "'NoneType' object has no attribute '__dict__'\n",
      "'NoneType' object has no attribute '__dict__'\n",
      "'NoneType' object has no attribute '__dict__'\n"
     ]
    },
    {
     "name": "stderr",
     "output_type": "stream",
     "text": [
      "5163it [26:08, 706.55it/s] "
     ]
    },
    {
     "name": "stdout",
     "output_type": "stream",
     "text": [
      "Failed to scrape 3660800191517000008\n",
      "'Наименование объекта закупки и его характеристики'\n",
      "'NoneType' object has no attribute '__dict__'\n"
     ]
    },
    {
     "name": "stderr",
     "output_type": "stream",
     "text": [
      "5221it [26:27, 54.82it/s] "
     ]
    },
    {
     "name": "stdout",
     "output_type": "stream",
     "text": [
      "Failed to scrape 3664500283620000005\n",
      "'Наименование объекта закупки и его характеристики'\n",
      "'NoneType' object has no attribute '__dict__'\n"
     ]
    },
    {
     "name": "stderr",
     "output_type": "stream",
     "text": [
      "5931it [31:35,  1.40it/s]"
     ]
    },
    {
     "name": "stdout",
     "output_type": "stream",
     "text": [
      "Failed to scrape 3666100466119000006\n",
      "'Наименование объекта закупки и его характеристики'\n"
     ]
    },
    {
     "name": "stderr",
     "output_type": "stream",
     "text": [
      "5964it [31:57,  1.27it/s]"
     ]
    },
    {
     "name": "stdout",
     "output_type": "stream",
     "text": [
      "Failed to scrape 1666101464520000321\n",
      "'Наименование объекта закупки и его характеристики'\n"
     ]
    },
    {
     "name": "stderr",
     "output_type": "stream",
     "text": [
      "6035it [32:48,  1.65it/s]"
     ]
    },
    {
     "name": "stdout",
     "output_type": "stream",
     "text": [
      "Failed to scrape 2665804173720000304\n",
      "'Организация'\n"
     ]
    },
    {
     "name": "stderr",
     "output_type": "stream",
     "text": [
      "6237it [35:07,  1.59it/s]"
     ]
    },
    {
     "name": "stdout",
     "output_type": "stream",
     "text": [
      "'NoneType' object has no attribute '__dict__'\n"
     ]
    },
    {
     "name": "stderr",
     "output_type": "stream",
     "text": [
      "6310it [36:00,  1.42it/s]"
     ]
    },
    {
     "name": "stdout",
     "output_type": "stream",
     "text": [
      "'NoneType' object has no attribute '__dict__'\n"
     ]
    },
    {
     "name": "stderr",
     "output_type": "stream",
     "text": [
      "6393it [36:57,  1.34it/s]"
     ]
    },
    {
     "name": "stdout",
     "output_type": "stream",
     "text": [
      "Failed to scrape 1665808957719000131\n",
      "list index out of range\n"
     ]
    },
    {
     "name": "stderr",
     "output_type": "stream",
     "text": [
      "6467it [37:55,  1.30it/s]"
     ]
    },
    {
     "name": "stdout",
     "output_type": "stream",
     "text": [
      "Failed to scrape 2666100878620000127\n",
      "'Организация'\n"
     ]
    },
    {
     "name": "stderr",
     "output_type": "stream",
     "text": [
      "6478it [38:03,  1.19it/s]"
     ]
    },
    {
     "name": "stdout",
     "output_type": "stream",
     "text": [
      "'NoneType' object has no attribute '__dict__'\n"
     ]
    },
    {
     "name": "stderr",
     "output_type": "stream",
     "text": [
      "6497it [38:16,  1.44it/s]"
     ]
    },
    {
     "name": "stdout",
     "output_type": "stream",
     "text": [
      "Failed to scrape 3661900735520000025\n",
      "'Наименование объекта закупки и его характеристики'\n"
     ]
    },
    {
     "name": "stderr",
     "output_type": "stream",
     "text": [
      "6980it [43:37,  1.63it/s]"
     ]
    },
    {
     "name": "stdout",
     "output_type": "stream",
     "text": [
      "Failed to scrape 1666100166019000069\n",
      "Failed to scrape 3662501738320000005'Организация'\n",
      "'Наименование объекта закупки и его характеристики'\n",
      "\n"
     ]
    },
    {
     "name": "stderr",
     "output_type": "stream",
     "text": [
      "7001it [43:53,  1.27it/s]"
     ]
    },
    {
     "name": "stdout",
     "output_type": "stream",
     "text": [
      "Failed to scrape 2665808158520000020\n",
      "'Организация'\n"
     ]
    },
    {
     "name": "stderr",
     "output_type": "stream",
     "text": [
      "7103it [45:02,  1.55it/s]"
     ]
    },
    {
     "name": "stdout",
     "output_type": "stream",
     "text": [
      "Failed to scrape 1666001327920000180\n",
      "'Организация'\n"
     ]
    },
    {
     "name": "stderr",
     "output_type": "stream",
     "text": [
      "7137it [45:31,  1.27it/s]"
     ]
    },
    {
     "name": "stdout",
     "output_type": "stream",
     "text": [
      "Failed to scrape 3666600829019000001\n",
      "'Наименование объекта закупки и его характеристики'\n"
     ]
    },
    {
     "name": "stderr",
     "output_type": "stream",
     "text": [
      "7276it [47:15,  1.45it/s]"
     ]
    },
    {
     "name": "stdout",
     "output_type": "stream",
     "text": [
      "Failed to scrape 1665902945020000053\n",
      "'Телефон, электронная почта'\n"
     ]
    },
    {
     "name": "stderr",
     "output_type": "stream",
     "text": [
      "7312it [47:39,  1.76it/s]"
     ]
    },
    {
     "name": "stdout",
     "output_type": "stream",
     "text": [
      "'NoneType' object has no attribute '__dict__'\n"
     ]
    },
    {
     "name": "stderr",
     "output_type": "stream",
     "text": [
      "7364it [48:18,  1.27it/s]"
     ]
    },
    {
     "name": "stdout",
     "output_type": "stream",
     "text": [
      "Failed to scrape 2661900214920000465\n",
      "'Организация'\n"
     ]
    },
    {
     "name": "stderr",
     "output_type": "stream",
     "text": [
      "7502it [49:57,  1.22it/s]"
     ]
    },
    {
     "name": "stdout",
     "output_type": "stream",
     "text": [
      "'NoneType' object has no attribute '__dict__'\n"
     ]
    },
    {
     "name": "stderr",
     "output_type": "stream",
     "text": [
      "7542it [50:24,  1.68it/s]"
     ]
    },
    {
     "name": "stdout",
     "output_type": "stream",
     "text": [
      "Failed to scrape 1666100918720000043\n",
      "'Организация'\n"
     ]
    },
    {
     "name": "stderr",
     "output_type": "stream",
     "text": [
      "7554it [50:33,  1.23it/s]"
     ]
    },
    {
     "name": "stdout",
     "output_type": "stream",
     "text": [
      "Failed to scrape 1660900206920000209\n",
      "'Организация'\n"
     ]
    },
    {
     "name": "stderr",
     "output_type": "stream",
     "text": [
      "7574it [50:48,  1.25it/s]"
     ]
    },
    {
     "name": "stdout",
     "output_type": "stream",
     "text": [
      "'NoneType' object has no attribute '__dict__'\n"
     ]
    },
    {
     "name": "stderr",
     "output_type": "stream",
     "text": [
      "7714it [52:30,  1.31it/s]"
     ]
    },
    {
     "name": "stdout",
     "output_type": "stream",
     "text": [
      "Failed to scrape 1665802145918000128\n",
      "'Наименование объекта закупки и его характеристики'\n"
     ]
    },
    {
     "name": "stderr",
     "output_type": "stream",
     "text": [
      "7748it [52:53,  1.37it/s]"
     ]
    },
    {
     "name": "stdout",
     "output_type": "stream",
     "text": [
      "Failed to scrape 2667422224020000184\n",
      "'Организация'\n"
     ]
    },
    {
     "name": "stderr",
     "output_type": "stream",
     "text": [
      "8021it [56:13,  1.32it/s]"
     ]
    },
    {
     "name": "stdout",
     "output_type": "stream",
     "text": [
      "Failed to scrape 1668503165720000001\n",
      "'Организация'\n"
     ]
    },
    {
     "name": "stderr",
     "output_type": "stream",
     "text": [
      "8052it [56:36,  1.42it/s]"
     ]
    },
    {
     "name": "stdout",
     "output_type": "stream",
     "text": [
      "Failed to scrape 3662310492216000051\n",
      "'Наименование объекта закупки и его характеристики'\n"
     ]
    },
    {
     "name": "stderr",
     "output_type": "stream",
     "text": [
      "8194it [58:21,  1.30it/s]"
     ]
    },
    {
     "name": "stdout",
     "output_type": "stream",
     "text": [
      "Failed to scrape 3660601895220000076\n",
      "'Организация'\n"
     ]
    },
    {
     "name": "stderr",
     "output_type": "stream",
     "text": [
      "8245it [58:53,  1.26it/s]"
     ]
    },
    {
     "name": "stdout",
     "output_type": "stream",
     "text": [
      "Failed to scrape 2667143939720000061\n",
      "'Наименование объекта закупки и его характеристики'\n"
     ]
    },
    {
     "name": "stderr",
     "output_type": "stream",
     "text": [
      "8360it [1:00:09,  1.93it/s]"
     ]
    },
    {
     "name": "stdout",
     "output_type": "stream",
     "text": [
      "Failed to scrape 3660601895220000036\n",
      "list index out of range\n"
     ]
    },
    {
     "name": "stderr",
     "output_type": "stream",
     "text": [
      "8445it [1:01:09,  1.44it/s]"
     ]
    },
    {
     "name": "stdout",
     "output_type": "stream",
     "text": [
      "Failed to scrape 3662502483118000001\n",
      "'Наименование объекта закупки и его характеристики'\n"
     ]
    },
    {
     "name": "stderr",
     "output_type": "stream",
     "text": [
      "8557it [1:02:30,  1.77it/s]"
     ]
    },
    {
     "name": "stdout",
     "output_type": "stream",
     "text": [
      "Failed to scrape 2666100460819000023\n",
      "list index out of range\n"
     ]
    },
    {
     "name": "stderr",
     "output_type": "stream",
     "text": [
      "8598it [1:02:58,  2.00it/s]"
     ]
    },
    {
     "name": "stdout",
     "output_type": "stream",
     "text": [
      "Failed to scrape 1666001327920000181\n",
      "'Организация'\n"
     ]
    },
    {
     "name": "stderr",
     "output_type": "stream",
     "text": [
      "8635it [1:03:22,  1.47it/s]"
     ]
    },
    {
     "name": "stdout",
     "output_type": "stream",
     "text": [
      "Failed to scrape 3666000798020000303\n",
      "'Наименование объекта закупки и его характеристики'\n",
      "'NoneType' object has no attribute '__dict__'\n"
     ]
    },
    {
     "name": "stderr",
     "output_type": "stream",
     "text": [
      "8636it [1:03:22,  1.59it/s]"
     ]
    },
    {
     "name": "stdout",
     "output_type": "stream",
     "text": [
      "'NoneType' object has no attribute '__dict__'\n"
     ]
    },
    {
     "name": "stderr",
     "output_type": "stream",
     "text": [
      "8693it [1:04:03,  1.47it/s]"
     ]
    },
    {
     "name": "stdout",
     "output_type": "stream",
     "text": [
      "'NoneType' object has no attribute '__dict__'\n"
     ]
    },
    {
     "name": "stderr",
     "output_type": "stream",
     "text": [
      "8726it [1:04:29,  1.11it/s]"
     ]
    },
    {
     "name": "stdout",
     "output_type": "stream",
     "text": [
      "Failed to scrape 1666001327920000327\n",
      "'Организация'\n"
     ]
    },
    {
     "name": "stderr",
     "output_type": "stream",
     "text": [
      "8805it [1:05:30,  1.38it/s]"
     ]
    },
    {
     "name": "stdout",
     "output_type": "stream",
     "text": [
      "Failed to scrape 2665808158520000023\n",
      "'Организация'\n"
     ]
    },
    {
     "name": "stderr",
     "output_type": "stream",
     "text": [
      "8922it [1:06:56,  1.85it/s]"
     ]
    },
    {
     "name": "stdout",
     "output_type": "stream",
     "text": [
      "Failed to scrape 2665804173720000285\n",
      "'Организация'\n"
     ]
    },
    {
     "name": "stderr",
     "output_type": "stream",
     "text": [
      "8924it [1:06:57,  1.39it/s]"
     ]
    },
    {
     "name": "stdout",
     "output_type": "stream",
     "text": [
      "'NoneType' object has no attribute '__dict__'\n"
     ]
    },
    {
     "name": "stderr",
     "output_type": "stream",
     "text": [
      "8947it [1:07:15,  1.02it/s]"
     ]
    },
    {
     "name": "stdout",
     "output_type": "stream",
     "text": [
      "Failed to scrape 3660601895220000089\n",
      "'Организация'\n"
     ]
    },
    {
     "name": "stderr",
     "output_type": "stream",
     "text": [
      "9018it [1:08:07,  1.22it/s]"
     ]
    },
    {
     "name": "stdout",
     "output_type": "stream",
     "text": [
      "'NoneType' object has no attribute '__dict__'\n"
     ]
    },
    {
     "name": "stderr",
     "output_type": "stream",
     "text": [
      "10250it [1:08:40, 1108.88it/s]"
     ]
    },
    {
     "name": "stdout",
     "output_type": "stream",
     "text": [
      "'NoneType' object has no attribute '__dict__'\n",
      "'NoneType' object has no attribute '__dict__'\n",
      "'NoneType' object has no attribute '__dict__'\n",
      "'NoneType' object has no attribute '__dict__'\n",
      "'NoneType' object has no attribute '__dict__'\n",
      "'NoneType' object has no attribute '__dict__'\n"
     ]
    },
    {
     "name": "stderr",
     "output_type": "stream",
     "text": [
      "11494it [1:08:40, 2294.73it/s]"
     ]
    },
    {
     "name": "stdout",
     "output_type": "stream",
     "text": [
      "'NoneType' object has no attribute '__dict__'\n",
      "'NoneType' object has no attribute '__dict__'\n",
      "'NoneType' object has no attribute '__dict__'\n",
      "'NoneType' object has no attribute '__dict__'\n",
      "'NoneType' object has no attribute '__dict__'\n",
      "'NoneType' object has no attribute '__dict__'\n"
     ]
    },
    {
     "name": "stderr",
     "output_type": "stream",
     "text": [
      "13582it [1:08:40, 4581.53it/s]"
     ]
    },
    {
     "name": "stdout",
     "output_type": "stream",
     "text": [
      "'NoneType' object has no attribute '__dict__'\n",
      "'NoneType' object has no attribute '__dict__'\n",
      "'NoneType' object has no attribute '__dict__'\n",
      "'NoneType' object has no attribute '__dict__'\n",
      "'NoneType' object has no attribute '__dict__'\n",
      "'NoneType' object has no attribute '__dict__'\n",
      "'NoneType' object has no attribute '__dict__'\n"
     ]
    },
    {
     "name": "stderr",
     "output_type": "stream",
     "text": [
      "14279it [1:12:48,  1.62it/s]  "
     ]
    },
    {
     "name": "stdout",
     "output_type": "stream",
     "text": [
      "Failed to scrape 2665801087320000058\n",
      "'Организация'\n"
     ]
    },
    {
     "name": "stderr",
     "output_type": "stream",
     "text": [
      "14345it [1:13:34,  1.46it/s]"
     ]
    },
    {
     "name": "stdout",
     "output_type": "stream",
     "text": [
      "Failed to scrape 3660601895220000075\n",
      "'Организация'\n"
     ]
    },
    {
     "name": "stderr",
     "output_type": "stream",
     "text": [
      "14364it [1:13:49,  1.16it/s]"
     ]
    },
    {
     "name": "stdout",
     "output_type": "stream",
     "text": [
      "Failed to scrape 2661900214920000260\n",
      "'Организация'\n"
     ]
    },
    {
     "name": "stderr",
     "output_type": "stream",
     "text": [
      "14388it [1:14:05,  1.83it/s]"
     ]
    },
    {
     "name": "stdout",
     "output_type": "stream",
     "text": [
      "'NoneType' object has no attribute '__dict__'\n"
     ]
    },
    {
     "name": "stderr",
     "output_type": "stream",
     "text": [
      "14458it [1:14:53,  1.18it/s]"
     ]
    },
    {
     "name": "stdout",
     "output_type": "stream",
     "text": [
      "Failed to scrape 1722300731619000182\n",
      "'Наименование объекта закупки и его характеристики'\n"
     ]
    },
    {
     "name": "stderr",
     "output_type": "stream",
     "text": [
      "14485it [1:15:15,  1.14it/s]"
     ]
    },
    {
     "name": "stdout",
     "output_type": "stream",
     "text": [
      "Failed to scrape 1666101464520000113\n",
      "'Наименование объекта закупки и его характеристики'\n"
     ]
    },
    {
     "name": "stderr",
     "output_type": "stream",
     "text": [
      "14522it [1:15:39,  1.52it/s]"
     ]
    },
    {
     "name": "stdout",
     "output_type": "stream",
     "text": [
      "Failed to scrape 3666005552920000027\n",
      "'Наименование объекта закупки и его характеристики'\n"
     ]
    },
    {
     "name": "stderr",
     "output_type": "stream",
     "text": [
      "14540it [1:15:52,  1.41it/s]"
     ]
    },
    {
     "name": "stdout",
     "output_type": "stream",
     "text": [
      "'NoneType' object has no attribute '__dict__'\n"
     ]
    },
    {
     "name": "stderr",
     "output_type": "stream",
     "text": [
      "14565it [1:16:09,  1.26it/s]"
     ]
    },
    {
     "name": "stdout",
     "output_type": "stream",
     "text": [
      "Failed to scrape 3661201332819000002\n",
      "'Наименование объекта закупки и его характеристики'\n"
     ]
    },
    {
     "name": "stderr",
     "output_type": "stream",
     "text": [
      "14586it [1:16:26,  1.15it/s]"
     ]
    },
    {
     "name": "stdout",
     "output_type": "stream",
     "text": [
      "'NoneType' object has no attribute '__dict__'\n"
     ]
    },
    {
     "name": "stderr",
     "output_type": "stream",
     "text": [
      "14602it [1:16:36,  1.37it/s]"
     ]
    },
    {
     "name": "stdout",
     "output_type": "stream",
     "text": [
      "Failed to scrape 3660600930918000001\n",
      "'Наименование объекта закупки и его характеристики'\n"
     ]
    },
    {
     "name": "stderr",
     "output_type": "stream",
     "text": [
      "14628it [1:16:55,  1.40it/s]"
     ]
    },
    {
     "name": "stdout",
     "output_type": "stream",
     "text": [
      "Failed to scrape 3668100596020000035\n",
      "'Наименование объекта закупки и его характеристики'\n"
     ]
    },
    {
     "name": "stderr",
     "output_type": "stream",
     "text": [
      "14714it [1:17:59,  1.18it/s]"
     ]
    },
    {
     "name": "stdout",
     "output_type": "stream",
     "text": [
      "Failed to scrape 3666100295320000131\n",
      "'Наименование объекта закупки и его характеристики'\n"
     ]
    },
    {
     "name": "stderr",
     "output_type": "stream",
     "text": [
      "14795it [1:19:02,  2.19it/s]"
     ]
    },
    {
     "name": "stdout",
     "output_type": "stream",
     "text": [
      "'NoneType' object has no attribute '__dict__'\n"
     ]
    },
    {
     "name": "stderr",
     "output_type": "stream",
     "text": [
      "14835it [1:19:29,  1.46it/s]"
     ]
    },
    {
     "name": "stdout",
     "output_type": "stream",
     "text": [
      "Failed to scrape 2667030834520000209\n",
      "'Организация'\n"
     ]
    },
    {
     "name": "stderr",
     "output_type": "stream",
     "text": [
      "14865it [1:19:51,  1.86it/s]"
     ]
    },
    {
     "name": "stdout",
     "output_type": "stream",
     "text": [
      "'NoneType' object has no attribute '__dict__'\n"
     ]
    },
    {
     "name": "stderr",
     "output_type": "stream",
     "text": [
      "14883it [1:20:05,  1.25it/s]"
     ]
    },
    {
     "name": "stdout",
     "output_type": "stream",
     "text": [
      "Failed to scrape 3663201775419000008\n",
      "'Наименование объекта закупки и его характеристики'\n"
     ]
    },
    {
     "name": "stderr",
     "output_type": "stream",
     "text": [
      "14912it [1:20:27,  1.55it/s]"
     ]
    },
    {
     "name": "stdout",
     "output_type": "stream",
     "text": [
      "Failed to scrape 3666005552918000262\n",
      "'Наименование объекта закупки и его характеристики'\n"
     ]
    },
    {
     "name": "stderr",
     "output_type": "stream",
     "text": [
      "14942it [1:20:46,  1.83it/s]"
     ]
    },
    {
     "name": "stdout",
     "output_type": "stream",
     "text": [
      "'NoneType' object has no attribute '__dict__'\n"
     ]
    },
    {
     "name": "stderr",
     "output_type": "stream",
     "text": [
      "15002it [1:21:33,  1.52it/s]"
     ]
    },
    {
     "name": "stdout",
     "output_type": "stream",
     "text": [
      "Failed to scrape 1666001327920000324\n",
      "'Организация'\n"
     ]
    },
    {
     "name": "stderr",
     "output_type": "stream",
     "text": [
      "15044it [1:22:02,  1.75it/s]"
     ]
    },
    {
     "name": "stdout",
     "output_type": "stream",
     "text": [
      "'NoneType' object has no attribute '__dict__'\n"
     ]
    },
    {
     "name": "stderr",
     "output_type": "stream",
     "text": [
      "15055it [1:22:09,  1.65it/s]"
     ]
    },
    {
     "name": "stdout",
     "output_type": "stream",
     "text": [
      "Failed to scrape 3662600920119000001\n",
      "'Наименование объекта закупки и его характеристики'\n"
     ]
    },
    {
     "name": "stderr",
     "output_type": "stream",
     "text": [
      "15126it [1:23:03,  1.08it/s]"
     ]
    },
    {
     "name": "stdout",
     "output_type": "stream",
     "text": [
      "'NoneType' object has no attribute '__dict__'\n"
     ]
    },
    {
     "name": "stderr",
     "output_type": "stream",
     "text": [
      "15190it [1:23:50,  1.28it/s]"
     ]
    },
    {
     "name": "stdout",
     "output_type": "stream",
     "text": [
      "'NoneType' object has no attribute '__dict__'\n"
     ]
    },
    {
     "name": "stderr",
     "output_type": "stream",
     "text": [
      "15392it [1:26:18,  1.48it/s]"
     ]
    },
    {
     "name": "stdout",
     "output_type": "stream",
     "text": [
      "'NoneType' object has no attribute '__dict__'\n"
     ]
    },
    {
     "name": "stderr",
     "output_type": "stream",
     "text": [
      "16716it [1:28:34, 1210.94it/s]"
     ]
    },
    {
     "name": "stdout",
     "output_type": "stream",
     "text": [
      "'NoneType' object has no attribute '__dict__'\n",
      "'NoneType' object has no attribute '__dict__'\n",
      "'NoneType' object has no attribute '__dict__'\n",
      "'NoneType' object has no attribute '__dict__'\n",
      "'NoneType' object has no attribute '__dict__'\n"
     ]
    },
    {
     "name": "stderr",
     "output_type": "stream",
     "text": [
      "17657it [1:30:55,  4.13it/s]  "
     ]
    },
    {
     "name": "stdout",
     "output_type": "stream",
     "text": [
      "Failed to scrape 1668609305320000080\n",
      "'Наименование объекта закупки и его характеристики'\n",
      "'NoneType' object has no attribute '__dict__'\n",
      "Failed to scrape 1666001346221000001\n",
      "'Наименование объекта закупки и его характеристики'\n",
      "'NoneType' object has no attribute '__dict__'\n"
     ]
    },
    {
     "name": "stderr",
     "output_type": "stream",
     "text": [
      "17769it [1:31:31,  3.38it/s]"
     ]
    },
    {
     "name": "stdout",
     "output_type": "stream",
     "text": [
      "Failed to scrape 2666001041519000928\n",
      "'Наименование объекта закупки и его характеристики'\n",
      "'NoneType' object has no attribute '__dict__'\n"
     ]
    },
    {
     "name": "stderr",
     "output_type": "stream",
     "text": [
      "18184it [1:35:50,  1.86it/s]"
     ]
    },
    {
     "name": "stdout",
     "output_type": "stream",
     "text": [
      "Failed to scrape 3666600818719000003\n",
      "'Наименование объекта закупки и его характеристики'\n"
     ]
    },
    {
     "name": "stderr",
     "output_type": "stream",
     "text": [
      "18189it [1:35:55,  1.01it/s]"
     ]
    },
    {
     "name": "stdout",
     "output_type": "stream",
     "text": [
      "Failed to scrape 1666202396320000063\n",
      "'Организация'\n"
     ]
    },
    {
     "name": "stderr",
     "output_type": "stream",
     "text": [
      "18246it [1:36:33,  1.60it/s]"
     ]
    },
    {
     "name": "stdout",
     "output_type": "stream",
     "text": [
      "Failed to scrape 3661700353120000005\n",
      "list index out of range\n"
     ]
    },
    {
     "name": "stderr",
     "output_type": "stream",
     "text": [
      "18250it [1:36:36,  1.30it/s]"
     ]
    },
    {
     "name": "stdout",
     "output_type": "stream",
     "text": [
      "Failed to scrape 1665802857420000053\n",
      "list index out of range\n"
     ]
    },
    {
     "name": "stderr",
     "output_type": "stream",
     "text": [
      "18574it [1:40:25,  1.09it/s]"
     ]
    },
    {
     "name": "stdout",
     "output_type": "stream",
     "text": [
      "'NoneType' object has no attribute '__dict__'\n"
     ]
    },
    {
     "name": "stderr",
     "output_type": "stream",
     "text": [
      "18589it [1:40:35,  1.76it/s]"
     ]
    },
    {
     "name": "stdout",
     "output_type": "stream",
     "text": [
      "'NoneType' object has no attribute '__dict__'\n"
     ]
    },
    {
     "name": "stderr",
     "output_type": "stream",
     "text": [
      "18594it [1:40:39,  1.47it/s]"
     ]
    },
    {
     "name": "stdout",
     "output_type": "stream",
     "text": [
      "Failed to scrape 2666901486220000129\n",
      "'Наименование объекта закупки и его характеристики'\n"
     ]
    },
    {
     "name": "stderr",
     "output_type": "stream",
     "text": [
      "18644it [1:41:16,  1.46it/s]"
     ]
    },
    {
     "name": "stdout",
     "output_type": "stream",
     "text": [
      "Failed to scrape 1660900206920000156\n",
      "'Организация'\n"
     ]
    },
    {
     "name": "stderr",
     "output_type": "stream",
     "text": [
      "18710it [1:42:03,  1.31it/s]"
     ]
    },
    {
     "name": "stdout",
     "output_type": "stream",
     "text": [
      "'NoneType' object has no attribute '__dict__'\n"
     ]
    },
    {
     "name": "stderr",
     "output_type": "stream",
     "text": [
      "18718it [1:42:09,  1.81it/s]"
     ]
    },
    {
     "name": "stdout",
     "output_type": "stream",
     "text": [
      "'NoneType' object has no attribute '__dict__'\n"
     ]
    },
    {
     "name": "stderr",
     "output_type": "stream",
     "text": [
      "18906it [1:44:24,  1.08it/s]"
     ]
    },
    {
     "name": "stdout",
     "output_type": "stream",
     "text": [
      "Failed to scrape 1666001327920000323\n",
      "'Организация'\n"
     ]
    },
    {
     "name": "stderr",
     "output_type": "stream",
     "text": [
      "19281it [1:48:49,  1.67it/s]"
     ]
    },
    {
     "name": "stdout",
     "output_type": "stream",
     "text": [
      "Failed to scrape 2668000042220000084\n",
      "'Организация'\n"
     ]
    },
    {
     "name": "stderr",
     "output_type": "stream",
     "text": [
      "19470it [1:51:06,  1.54it/s]"
     ]
    },
    {
     "name": "stdout",
     "output_type": "stream",
     "text": [
      "'NoneType' object has no attribute '__dict__'\n"
     ]
    },
    {
     "name": "stderr",
     "output_type": "stream",
     "text": [
      "19580it [1:52:30,  1.68it/s]"
     ]
    },
    {
     "name": "stdout",
     "output_type": "stream",
     "text": [
      "'NoneType' object has no attribute '__dict__'\n"
     ]
    },
    {
     "name": "stderr",
     "output_type": "stream",
     "text": [
      "19605it [1:52:52,  1.04s/it]"
     ]
    },
    {
     "name": "stdout",
     "output_type": "stream",
     "text": [
      "Failed to scrape 1665802857420000020\n",
      "list index out of range\n"
     ]
    },
    {
     "name": "stderr",
     "output_type": "stream",
     "text": [
      "19882it [1:56:18,  1.99it/s]"
     ]
    },
    {
     "name": "stdout",
     "output_type": "stream",
     "text": [
      "Failed to scrape 3666100224820000246\n",
      "'Организация'\n"
     ]
    },
    {
     "name": "stderr",
     "output_type": "stream",
     "text": [
      "19920it [1:56:46,  1.35it/s]"
     ]
    },
    {
     "name": "stdout",
     "output_type": "stream",
     "text": [
      "Failed to scrape 3662503996520000010\n",
      "'Наименование объекта закупки и его характеристики'\n"
     ]
    },
    {
     "name": "stderr",
     "output_type": "stream",
     "text": [
      "19967it [1:57:22,  1.47it/s]"
     ]
    },
    {
     "name": "stdout",
     "output_type": "stream",
     "text": [
      "Failed to scrape 1666001327920000175\n",
      "'Организация'\n"
     ]
    },
    {
     "name": "stderr",
     "output_type": "stream",
     "text": [
      "20060it [1:58:31,  1.25it/s]"
     ]
    },
    {
     "name": "stdout",
     "output_type": "stream",
     "text": [
      "Failed to scrape 1666001327917000279\n",
      "'Наименование объекта закупки и его характеристики'\n"
     ]
    },
    {
     "name": "stderr",
     "output_type": "stream",
     "text": [
      "20160it [1:59:42,  1.68it/s]"
     ]
    },
    {
     "name": "stdout",
     "output_type": "stream",
     "text": [
      "'NoneType' object has no attribute '__dict__'\n"
     ]
    },
    {
     "name": "stderr",
     "output_type": "stream",
     "text": [
      "20246it [2:00:45,  1.65it/s]"
     ]
    },
    {
     "name": "stdout",
     "output_type": "stream",
     "text": [
      "Failed to scrape 1665808957720000246\n",
      "list index out of range\n"
     ]
    },
    {
     "name": "stderr",
     "output_type": "stream",
     "text": [
      "20256it [2:00:52,  1.38it/s]"
     ]
    },
    {
     "name": "stdout",
     "output_type": "stream",
     "text": [
      "Failed to scrape 3667144244920000097\n",
      "'Наименование объекта закупки и его характеристики'\n"
     ]
    },
    {
     "name": "stderr",
     "output_type": "stream",
     "text": [
      "20289it [2:01:20,  1.39it/s]"
     ]
    },
    {
     "name": "stdout",
     "output_type": "stream",
     "text": [
      "Failed to scrape 2661900214920000263\n",
      "'Организация'\n"
     ]
    },
    {
     "name": "stderr",
     "output_type": "stream",
     "text": [
      "20325it [2:01:49,  1.63it/s]"
     ]
    },
    {
     "name": "stdout",
     "output_type": "stream",
     "text": [
      "Failed to scrape 1660900206920000211\n",
      "'Организация'\n"
     ]
    },
    {
     "name": "stderr",
     "output_type": "stream",
     "text": [
      "20435it [2:03:07,  1.11it/s]"
     ]
    },
    {
     "name": "stdout",
     "output_type": "stream",
     "text": [
      "Failed to scrape 2666001041519000955\n",
      "'Наименование объекта закупки и его характеристики'\n"
     ]
    },
    {
     "name": "stderr",
     "output_type": "stream",
     "text": [
      "20447it [2:03:15,  1.19it/s]"
     ]
    },
    {
     "name": "stdout",
     "output_type": "stream",
     "text": [
      "Failed to scrape 3663300876020000002\n",
      "list index out of range\n"
     ]
    },
    {
     "name": "stderr",
     "output_type": "stream",
     "text": [
      "20517it [2:04:08,  1.10it/s]"
     ]
    },
    {
     "name": "stdout",
     "output_type": "stream",
     "text": [
      "Failed to scrape 1666101464520000164\n",
      "'Организация'\n"
     ]
    },
    {
     "name": "stderr",
     "output_type": "stream",
     "text": [
      "21694it [2:04:28, 1344.04it/s]"
     ]
    },
    {
     "name": "stdout",
     "output_type": "stream",
     "text": [
      "'NoneType' object has no attribute '__dict__'\n",
      "'NoneType' object has no attribute '__dict__'\n"
     ]
    },
    {
     "name": "stderr",
     "output_type": "stream",
     "text": [
      "22828it [2:04:28, 2635.43it/s]"
     ]
    },
    {
     "name": "stdout",
     "output_type": "stream",
     "text": [
      "'NoneType' object has no attribute '__dict__'\n",
      "'NoneType' object has no attribute '__dict__'\n",
      "'NoneType' object has no attribute '__dict__'\n",
      "'NoneType' object has no attribute '__dict__'\n",
      "'NoneType' object has no attribute '__dict__'\n",
      "'NoneType' object has no attribute '__dict__'\n",
      "'NoneType' object has no attribute '__dict__'\n",
      "'NoneType' object has no attribute '__dict__'\n"
     ]
    },
    {
     "name": "stderr",
     "output_type": "stream",
     "text": [
      "23831it [2:04:28,  3.19it/s]  \n"
     ]
    },
    {
     "name": "stdout",
     "output_type": "stream",
     "text": [
      "'NoneType' object has no attribute '__dict__'\n",
      "'NoneType' object has no attribute '__dict__'\n",
      "'NoneType' object has no attribute '__dict__'\n",
      "Failed to scrape 93 contracts\n",
      "['3660601895220000071', '3666100466118000147', '3666000588819000002', '2661900214920000296', '2661900214920000262', '1665801738920000114', '2666100878620000122', '3666000798020000347', '1666101464520000297', '1665808957720000109', '2662309705520000308', '1772905090120000118', '3660200715619000001', '3666000798021000034', '2666100878620000126', '3667808274920000002', '3666005552917000016', '2667138083420000438', '2667114714720000013', '2661800178420000132', '3662501736918000006', '3666000798021000033', '3666000798020000269', '3660800191517000008', '3664500283620000005', '3666100466119000006', '1666101464520000321', '2665804173720000304', '1665808957719000131', '2666100878620000127', '3661900735520000025', '1666100166019000069', '3662501738320000005', '2665808158520000020', '1666001327920000180', '3666600829019000001', '1665902945020000053', '2661900214920000465', '1666100918720000043', '1660900206920000209', '1665802145918000128', '2667422224020000184', '1668503165720000001', '3662310492216000051', '3660601895220000076', '2667143939720000061', '3660601895220000036', '3662502483118000001', '2666100460819000023', '1666001327920000181', '3666000798020000303', '1666001327920000327', '2665808158520000023', '2665804173720000285', '3660601895220000089', '2665801087320000058', '3660601895220000075', '2661900214920000260', '1722300731619000182', '1666101464520000113', '3666005552920000027', '3661201332819000002', '3660600930918000001', '3668100596020000035', '3666100295320000131', '2667030834520000209', '3663201775419000008', '3666005552918000262', '1666001327920000324', '3662600920119000001', '1668609305320000080', '1666001346221000001', '2666001041519000928', '3666600818719000003', '1666202396320000063', '3661700353120000005', '1665802857420000053', '2666901486220000129', '1660900206920000156', '1666001327920000323', '2668000042220000084', '1665802857420000020', '3666100224820000246', '3662503996520000010', '1666001327920000175', '1666001327917000279', '1665808957720000246', '3667144244920000097', '2661900214920000263', '1660900206920000211', '2666001041519000955', '3663300876020000002', '1666101464520000164']\n",
      "Top 3 lines\n",
      "#1: ipykernel_12934/665796888.py:33: 33010.8 KiB\n",
      "    cachedContracts = list(csv.reader(f))\n",
      "#2: ipykernel_12934/3216462887.py:42: 23194.6 KiB\n",
      "    data = [list(filter(None, [j.strip() for j in i.text.split(\"\\n\")])) for i in table[1].findAll(\"td\")]\n",
      "#3: python3.8/threading.py:244: 14515.8 KiB\n",
      "    self._waiters = _deque()\n",
      "1785 other: 90268.7 KiB\n",
      "Total allocated size: 160989.9 KiB\n"
     ]
    }
   ],
   "source": [
    "progressNum = 0\n",
    "\n",
    "failedRegNumbers = []\n",
    "\n",
    "# regNumbers = [3666404326716000002, 3666404326716000002, 1722300731616000034, 1722300731616000034, 2666001041516000469]\n",
    "\n",
    "print(\"Starting scrape with {} reg numbers\\n\".format(len(regNumbers)))\n",
    "\n",
    "# scrape(regNumbers[:10])\n",
    "\n",
    "# for contract in contracts:\n",
    "#     print(contract)\n",
    "\n",
    "# for regNumber in tqdm(regNumbers[:50]):\n",
    "#   thread = Thread(target = scrapeData, args = (regNumber,))\n",
    "#   thread.start()\n",
    "\n",
    "# regNumbers = ['3662502457421000001']\n",
    "# regNumbers = ['1665800691921000016']\n",
    "\n",
    "threading = True\n",
    "\n",
    "if threading:\n",
    "\n",
    "    interval = 1\n",
    "\n",
    "    with ThreadPoolExecutor(max_workers=20) as ex:\n",
    "        threads = []\n",
    "\n",
    "        cachedContracts = {}\n",
    "\n",
    "        with open('cachedContracts.csv', encoding=\"utf-8\") as f:\n",
    "            cachedContracts = list(csv.reader(f))\n",
    "        \n",
    "        cachedContracts = list(filter(None, cachedContracts))\n",
    "        \n",
    "        cachedContractRegNums = [row[0] for row in cachedContracts]\n",
    "\n",
    "        uncachedRegNumbers = list(set(regNumbers) - set(cachedContractRegNums))\n",
    "\n",
    "        print(\"{} of {} contracts are uncached. Fetching...\".format(len(uncachedRegNumbers), len(regNumbers)))\n",
    "        \n",
    "        for i in range(0, len(uncachedRegNumbers), interval):\n",
    "            tempNumbers = uncachedRegNumbers[i:i+interval]\n",
    "            # print(tempNumbers)\n",
    "            threads.append(ex.submit(scrape, tempNumbers))\n",
    "        \n",
    "\n",
    "        completed = 0\n",
    "\n",
    "        for result in tqdm(as_completed(threads)):\n",
    "\n",
    "            try:\n",
    "                contracts = result.result()\n",
    "\n",
    "                completed += interval\n",
    "\n",
    "                # progress(completed, uncachedRegNumbers)\n",
    "\n",
    "                formattedContracts = [list(contract.__dict__.values()) for contract in contracts]\n",
    "\n",
    "                # newCachedContracts = {**cachedContracts, **formattedContracts}\n",
    "\n",
    "                with open('cachedContracts.csv', 'a', encoding=\"utf-8\", newline='') as f:\n",
    "                    writer = csv.writer(f)\n",
    "                    writer.writerows(formattedContracts)\n",
    "            except Exception as e:\n",
    "                print(e)\n",
    "                \n",
    "            # print(\"{} finished\".format(interval))\n",
    "\n",
    "else:\n",
    "\n",
    "    scrape(regNumbers)\n",
    "\n",
    "# print(\"Scraped {} contracts\".format(len(contracts)))\n",
    "print(\"Failed to scrape {} contracts\".format(len(failedRegNumbers)))\n",
    "print(failedRegNumbers) if len(failedRegNumbers) > 0 else None\n",
    "\n",
    "snapshot = tracemalloc.take_snapshot()\n",
    "display_top(snapshot)"
   ]
  },
  {
   "cell_type": "markdown",
   "metadata": {},
   "source": [
    "### Now that the data is saved to the hard disk, we can run the below code without needing to rerun the scraping process"
   ]
  },
  {
   "cell_type": "code",
   "execution_count": 19,
   "metadata": {},
   "outputs": [
    {
     "name": "stdout",
     "output_type": "stream",
     "text": [
      "2016-01-01 2020-12-31\n"
     ]
    },
    {
     "data": {
      "text/html": [
       "<div>\n",
       "<style scoped>\n",
       "    .dataframe tbody tr th:only-of-type {\n",
       "        vertical-align: middle;\n",
       "    }\n",
       "\n",
       "    .dataframe tbody tr th {\n",
       "        vertical-align: top;\n",
       "    }\n",
       "\n",
       "    .dataframe thead th {\n",
       "        text-align: right;\n",
       "    }\n",
       "</style>\n",
       "<table border=\"1\" class=\"dataframe\">\n",
       "  <thead>\n",
       "    <tr style=\"text-align: right;\">\n",
       "      <th></th>\n",
       "      <th>id</th>\n",
       "      <th>price</th>\n",
       "      <th>signed</th>\n",
       "      <th>deadline</th>\n",
       "      <th>method</th>\n",
       "      <th>procurer</th>\n",
       "      <th>supplier</th>\n",
       "      <th>proinn</th>\n",
       "      <th>supinn</th>\n",
       "      <th>registered</th>\n",
       "      <th>address</th>\n",
       "      <th>number</th>\n",
       "      <th>mail</th>\n",
       "      <th>code</th>\n",
       "      <th>product</th>\n",
       "    </tr>\n",
       "  </thead>\n",
       "  <tbody>\n",
       "    <tr>\n",
       "      <th>0</th>\n",
       "      <td>3660800365518000015</td>\n",
       "      <td>1 974 925,54</td>\n",
       "      <td>2018-07-30</td>\n",
       "      <td>2018-12-31</td>\n",
       "      <td>Электронный аукцион</td>\n",
       "      <td>ЕКАТЕРИНБУРГСКОЕ МУНИЦИПАЛЬНОЕ УНИТАРНОЕ ПРЕДП...</td>\n",
       "      <td>ОБЩЕСТВО С ОГРАНИЧЕННОЙ ОТВЕТСТВЕННОСТЬЮ \"СПЕЦ...</td>\n",
       "      <td>6608003655</td>\n",
       "      <td>6664079721</td>\n",
       "      <td>01.09.2011</td>\n",
       "      <td>['620010, ОБЛ СВЕРДЛОВСКАЯ 66, Г ЕКАТЕРИНБУРГ,...</td>\n",
       "      <td>7-343-2260122</td>\n",
       "      <td>tender@specregion.ru</td>\n",
       "      <td>14.12.30.190</td>\n",
       "      <td>Белье</td>\n",
       "    </tr>\n",
       "    <tr>\n",
       "      <th>1</th>\n",
       "      <td>1770989550919007394</td>\n",
       "      <td>1 460 823,00</td>\n",
       "      <td>2019-05-12</td>\n",
       "      <td>2020-06-30</td>\n",
       "      <td>Закупка у единственного поставщика (подрядчика...</td>\n",
       "      <td>МЕЖРЕГИОНАЛЬНЫЙ ФИЛИАЛ ФЕДЕРАЛЬНОГО КАЗЕННОГО ...</td>\n",
       "      <td>ПЫТАЛЕВ АНДРЕЙ СТЕПАНОВИЧИндивидуальный предпр...</td>\n",
       "      <td>7709895509</td>\n",
       "      <td>773671146984</td>\n",
       "      <td>20.07.2018</td>\n",
       "      <td>['Г МОСКВА 77']</td>\n",
       "      <td>8-912-4150862</td>\n",
       "      <td>pzs_arenda@mail.ru</td>\n",
       "      <td>68.20.12.000</td>\n",
       "      <td>Передача во временное владение и пользование ч...</td>\n",
       "    </tr>\n",
       "    <tr>\n",
       "      <th>2</th>\n",
       "      <td>3666005552917000109</td>\n",
       "      <td>5 347 130,00</td>\n",
       "      <td>2017-09-13</td>\n",
       "      <td>2017-12-31</td>\n",
       "      <td>Закупка у единственного поставщика (подрядчика...</td>\n",
       "      <td>МУНИЦИПАЛЬНОЕ БЮДЖЕТНОЕ УЧРЕЖДЕНИЕ \"ЕКАТЕРИНБУ...</td>\n",
       "      <td>Общество с ограниченной ответственностью \"МО \"...</td>\n",
       "      <td>6660055529</td>\n",
       "      <td>6658126476</td>\n",
       "      <td>08.02.2001</td>\n",
       "      <td>['620102, г. Екатеринбург, ул. Ясная, 46']</td>\n",
       "      <td>(343) 231-80-10</td>\n",
       "      <td>omt@omt-ural.ru</td>\n",
       "      <td>26.60.13.190</td>\n",
       "      <td>Устройство терморегулирующее \"Аллон 2001\"</td>\n",
       "    </tr>\n",
       "    <tr>\n",
       "      <th>3</th>\n",
       "      <td>3668200734219000001</td>\n",
       "      <td>3 361 200,00</td>\n",
       "      <td>2019-08-04</td>\n",
       "      <td>2019-09-30</td>\n",
       "      <td>Электронный аукцион</td>\n",
       "      <td>МУНИЦИПАЛЬНОЕ КАЗЕННОЕ УЧРЕЖДЕНИЕ \"УПРАВЛЕНИЕ ...</td>\n",
       "      <td>ОБЩЕСТВО С ОГРАНИЧЕННОЙ ОТВЕТСТВЕННОСТЬЮ \"ЕКАТ...</td>\n",
       "      <td>6682007342</td>\n",
       "      <td>6672249991</td>\n",
       "      <td>01.01.2012</td>\n",
       "      <td>['620026, ОБЛ СВЕРДЛОВСКАЯ 66, Г ЕКАТЕРИНБУРГ,...</td>\n",
       "      <td>7-343-3787200</td>\n",
       "      <td>102@eta-info.ru</td>\n",
       "      <td>86.90.19.140</td>\n",
       "      <td>Предоставление услуг по организации отдыха и о...</td>\n",
       "    </tr>\n",
       "    <tr>\n",
       "      <th>4</th>\n",
       "      <td>3661100106218000013</td>\n",
       "      <td>1 200 000,00</td>\n",
       "      <td>2018-03-29</td>\n",
       "      <td>2018-12-31</td>\n",
       "      <td>Закупка у единственного поставщика (подрядчика...</td>\n",
       "      <td>МУНИЦИПАЛЬНОЕ УНИТАРНОЕ ПРЕДПРИЯТИЕ \"КОМБИНАТ ...</td>\n",
       "      <td>ОТКРЫТОЕ АКЦИОНЕРНОЕ ОБЩЕСТВО \"ЭНЕРГОСБЫТ ПЛЮС...</td>\n",
       "      <td>6611001062</td>\n",
       "      <td>5612042824</td>\n",
       "      <td>22.05.2014</td>\n",
       "      <td>['143421, ОБЛ МОСКОВСКАЯ 50, Р-Н КРАСНОГОРСКИЙ...</td>\n",
       "      <td>8-34355-52497</td>\n",
       "      <td>sesb@ies-holding.com</td>\n",
       "      <td>35.11.10.115</td>\n",
       "      <td>Электроэнергия, произведенная атомными электро...</td>\n",
       "    </tr>\n",
       "  </tbody>\n",
       "</table>\n",
       "</div>"
      ],
      "text/plain": [
       "                    id          price     signed   deadline  \\\n",
       "0  3660800365518000015  1 974 925,54  2018-07-30 2018-12-31   \n",
       "1  1770989550919007394  1 460 823,00  2019-05-12 2020-06-30   \n",
       "2  3666005552917000109  5 347 130,00  2017-09-13 2017-12-31   \n",
       "3  3668200734219000001  3 361 200,00  2019-08-04 2019-09-30   \n",
       "4  3661100106218000013  1 200 000,00  2018-03-29 2018-12-31   \n",
       "\n",
       "                                              method  \\\n",
       "0                                Электронный аукцион   \n",
       "1  Закупка у единственного поставщика (подрядчика...   \n",
       "2  Закупка у единственного поставщика (подрядчика...   \n",
       "3                                Электронный аукцион   \n",
       "4  Закупка у единственного поставщика (подрядчика...   \n",
       "\n",
       "                                            procurer  \\\n",
       "0  ЕКАТЕРИНБУРГСКОЕ МУНИЦИПАЛЬНОЕ УНИТАРНОЕ ПРЕДП...   \n",
       "1  МЕЖРЕГИОНАЛЬНЫЙ ФИЛИАЛ ФЕДЕРАЛЬНОГО КАЗЕННОГО ...   \n",
       "2  МУНИЦИПАЛЬНОЕ БЮДЖЕТНОЕ УЧРЕЖДЕНИЕ \"ЕКАТЕРИНБУ...   \n",
       "3  МУНИЦИПАЛЬНОЕ КАЗЕННОЕ УЧРЕЖДЕНИЕ \"УПРАВЛЕНИЕ ...   \n",
       "4  МУНИЦИПАЛЬНОЕ УНИТАРНОЕ ПРЕДПРИЯТИЕ \"КОМБИНАТ ...   \n",
       "\n",
       "                                            supplier      proinn  \\\n",
       "0  ОБЩЕСТВО С ОГРАНИЧЕННОЙ ОТВЕТСТВЕННОСТЬЮ \"СПЕЦ...  6608003655   \n",
       "1  ПЫТАЛЕВ АНДРЕЙ СТЕПАНОВИЧИндивидуальный предпр...  7709895509   \n",
       "2  Общество с ограниченной ответственностью \"МО \"...  6660055529   \n",
       "3  ОБЩЕСТВО С ОГРАНИЧЕННОЙ ОТВЕТСТВЕННОСТЬЮ \"ЕКАТ...  6682007342   \n",
       "4  ОТКРЫТОЕ АКЦИОНЕРНОЕ ОБЩЕСТВО \"ЭНЕРГОСБЫТ ПЛЮС...  6611001062   \n",
       "\n",
       "         supinn  registered  \\\n",
       "0    6664079721  01.09.2011   \n",
       "1  773671146984  20.07.2018   \n",
       "2    6658126476  08.02.2001   \n",
       "3    6672249991  01.01.2012   \n",
       "4    5612042824  22.05.2014   \n",
       "\n",
       "                                             address           number  \\\n",
       "0  ['620010, ОБЛ СВЕРДЛОВСКАЯ 66, Г ЕКАТЕРИНБУРГ,...    7-343-2260122   \n",
       "1                                    ['Г МОСКВА 77']    8-912-4150862   \n",
       "2         ['620102, г. Екатеринбург, ул. Ясная, 46']  (343) 231-80-10   \n",
       "3  ['620026, ОБЛ СВЕРДЛОВСКАЯ 66, Г ЕКАТЕРИНБУРГ,...    7-343-3787200   \n",
       "4  ['143421, ОБЛ МОСКОВСКАЯ 50, Р-Н КРАСНОГОРСКИЙ...    8-34355-52497   \n",
       "\n",
       "                   mail          code  \\\n",
       "0  tender@specregion.ru  14.12.30.190   \n",
       "1    pzs_arenda@mail.ru  68.20.12.000   \n",
       "2       omt@omt-ural.ru  26.60.13.190   \n",
       "3       102@eta-info.ru  86.90.19.140   \n",
       "4  sesb@ies-holding.com  35.11.10.115   \n",
       "\n",
       "                                             product  \n",
       "0                                              Белье  \n",
       "1  Передача во временное владение и пользование ч...  \n",
       "2          Устройство терморегулирующее \"Аллон 2001\"  \n",
       "3  Предоставление услуг по организации отдыха и о...  \n",
       "4  Электроэнергия, произведенная атомными электро...  "
      ]
     },
     "execution_count": 19,
     "metadata": {},
     "output_type": "execute_result"
    }
   ],
   "source": [
    "cachedContracts = []\n",
    "\n",
    "with open('cachedContracts.csv', encoding=\"utf-8\") as f:\n",
    "    cachedContracts = list(csv.reader(f))\n",
    "\n",
    "\n",
    "df = pd.DataFrame(columns=Contract().__dict__.keys(), data=cachedContracts)\n",
    "\n",
    "df['signed'] = pd.to_datetime(df['signed'])\n",
    "df['deadline'] = pd.to_datetime(df['deadline'])\n",
    "\n",
    "start = datetime.fromordinal(startDateBefore.toordinal()).strftime(\"%Y-%m-%d\")\n",
    "end = datetime.fromordinal(endDate.toordinal()).strftime(\"%Y-%m-%d\")\n",
    "\n",
    "print(start, end)\n",
    "\n",
    "mask = (df['signed'] >= start) & (df['signed'] <= end)\n",
    "\n",
    "selectedDatesDF = df.loc[mask]\n",
    "\n",
    "selectedDatesDF.head()"
   ]
  },
  {
   "cell_type": "code",
   "execution_count": 22,
   "metadata": {},
   "outputs": [
    {
     "data": {
      "text/plain": [
       "(41098, 15)"
      ]
     },
     "execution_count": 22,
     "metadata": {},
     "output_type": "execute_result"
    }
   ],
   "source": [
    "selectedDatesDF.shape"
   ]
  },
  {
   "cell_type": "markdown",
   "metadata": {
    "id": "H9_G7hUrqT6g"
   },
   "source": [
    "### Section 6: Output\n",
    "\n",
    "Convert the list of contract classes to a dataframe so that they can be exported to a csv file"
   ]
  },
  {
   "cell_type": "code",
   "execution_count": 20,
   "metadata": {
    "id": "9ST7Qk4rVOFK"
   },
   "outputs": [],
   "source": [
    "selectedDatesDF.to_csv(\"zakupki{}to{}.csv\".format(startDateBefore, endDate))"
   ]
  },
  {
   "cell_type": "code",
   "execution_count": null,
   "metadata": {},
   "outputs": [],
   "source": []
  },
  {
   "cell_type": "code",
   "execution_count": null,
   "metadata": {},
   "outputs": [],
   "source": []
  }
 ],
 "metadata": {
  "colab": {
   "collapsed_sections": [],
   "name": "Copy of Zakupki.ipynb",
   "provenance": []
  },
  "interpreter": {
   "hash": "31f2aee4e71d21fbe5cf8b01ff0e069b9275f58929596ceb00d14d90e3e16cd6"
  },
  "kernelspec": {
   "display_name": "Python 3.8.9 64-bit",
   "language": "python",
   "name": "python3"
  },
  "language_info": {
   "codemirror_mode": {
    "name": "ipython",
    "version": 3
   },
   "file_extension": ".py",
   "mimetype": "text/x-python",
   "name": "python",
   "nbconvert_exporter": "python",
   "pygments_lexer": "ipython3",
   "version": "3.8.9"
  }
 },
 "nbformat": 4,
 "nbformat_minor": 1
}
