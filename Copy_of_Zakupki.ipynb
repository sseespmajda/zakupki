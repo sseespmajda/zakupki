{
  "cells": [
    {
      "cell_type": "markdown",
      "metadata": {
        "id": "rajDyGemoV8Q"
      },
      "source": [
        "# Zakupki website scraping for Piotr"
      ]
    },
    {
      "cell_type": "markdown",
      "metadata": {
        "id": "xfVriCvQPi8u"
      },
      "source": [
        "The aim of this notebook is to scrape details of each contract hosted on the Russian Zakupki public sector contract awarding website.\n",
        "\n",
        "The input for this project will be the Zakupki URL. This code can be run on different dates to pull fresh contract data.\n",
        "\n",
        "Method:\n",
        "1.   Identify the number of pages of contracts to be scraped (using the contract filters provided).\n",
        "2.   Iterate through each page, scraping the registration number of each contract.\n",
        "3.   Access the website for each contract by placing the registraion number in the URL.\n",
        "4.   Scrape the details for each contract and add them to a list of Contracts dataclasses.\n",
        "5.   Format these Contract objects as a dataframe and output the dataframe to a csv file.\n",
        "\n",
        "\n",
        "The output of this project will be the CSV file, with each row representing a new contract from the webstie.\n"
      ]
    },
    {
      "cell_type": "markdown",
      "metadata": {
        "id": "9O34U-48RLCa"
      },
      "source": [
        "### Section 1: Setup"
      ]
    },
    {
      "cell_type": "code",
      "execution_count": 282,
      "metadata": {
        "id": "EkywDpTl3_lN"
      },
      "outputs": [],
      "source": [
        "import requests\n",
        "from bs4 import BeautifulSoup\n",
        "from datetime import date\n",
        "from dataclasses import dataclass\n",
        "from tqdm import tqdm\n",
        "from dateutil import parser\n",
        "from threading import Thread\n",
        "import pandas as pd\n",
        "import datetime\n",
        "from datetime import date, timedelta\n",
        "import logging\n",
        "import http.client\n",
        "from functools import cache"
      ]
    },
    {
      "cell_type": "code",
      "execution_count": 283,
      "metadata": {
        "id": "ohoWQEyyCpkk"
      },
      "outputs": [],
      "source": [
        "logging = False\n",
        "\n",
        "if logging:\n",
        "\n",
        "    http.client.HTTPConnection.debuglevel = 1\n",
        "\n",
        "    # You must initialize logging, otherwise you'll not see debug output.\n",
        "    logging.basicConfig()\n",
        "    logging.getLogger().setLevel(logging.DEBUG)\n",
        "    requests_log = logging.getLogger(\"requests.packages.urllib3\")\n",
        "    requests_log.setLevel(logging.DEBUG)\n",
        "    requests_log.propagate = True"
      ]
    },
    {
      "cell_type": "markdown",
      "metadata": {
        "id": "iJWBR30Apf9y"
      },
      "source": [
        "### Section 2: Determine Number of pages to scrape\n",
        "Test connection to the website and determine number of pages to scrape"
      ]
    },
    {
      "cell_type": "code",
      "execution_count": 284,
      "metadata": {
        "colab": {
          "base_uri": "https://localhost:8080/"
        },
        "id": "vqetG6kV0HFi",
        "outputId": "d351bc31-6ef2-4d6c-89a8-bf9234b503dc"
      },
      "outputs": [
        {
          "name": "stdout",
          "output_type": "stream",
          "text": [
            "Created 1 dates\n"
          ]
        }
      ],
      "source": [
        "# Getting the dates we want to scrape.\n",
        "\n",
        "url=\"https://zakupki.gov.ru/epz/contract/search/results.html?morphology=on&search-filter=%D0%94%D0%B0%D1%82%D0%B5+%D1%80%D0%B0%D0%B7%D0%BC%D0%B5%D1%89%D0%B5%D0%BD%D0%B8%D1%8F&fz44=on&contractStageList_0=on&contractStageList_1=on&contractStageList=0%2C1&contractPriceFrom=1000000&contractCurrencyID=-1&budgetLevelsIdNameHidden=%7B%7D&customerPlace=5277383&customerPlaceCodes=66000000000&contractDateFrom={}&contractDateTo={}&selectedLaws=FZ44&sortBy=UPDATE_DATE&pageNumber={}&sortDirection=false&recordsPerPage=_500&showLotsInfoHidden=false\"\n",
        "start = date(2016, 6, 6)\n",
        "end = date(2016, 6, 6)\n",
        "days = timedelta(days=1)\n",
        "\n",
        "calendar=[]\n",
        "\n",
        "while start<=end:\n",
        "  calendar.append(start.strftime('%d.%m.%Y'))\n",
        "  start+=days\n",
        "\n",
        "print(\"Created {} dates\".format(len(calendar)))"
      ]
    },
    {
      "cell_type": "markdown",
      "metadata": {
        "id": "p-Ol6Rbipi4N"
      },
      "source": [
        "\n",
        "### Section 3: Scrape each registration number\n",
        "\n",
        "Scrape the reg numbers of each contract, so they can be accessed individually"
      ]
    },
    {
      "cell_type": "code",
      "execution_count": 285,
      "metadata": {
        "id": "IxF2lQm5Vq_8"
      },
      "outputs": [],
      "source": [
        "@cache\n",
        "def getPage(tempURL):\n",
        "  # If User-Agent is not set to custom, the website will know a Python script is accessing it and block some of the request\n",
        "  return BeautifulSoup(requests.get(tempURL, headers={'User-Agent': 'Custom'}).content, \"html.parser\")"
      ]
    },
    {
      "cell_type": "code",
      "execution_count": 286,
      "metadata": {},
      "outputs": [],
      "source": [
        "class Page:\n",
        "\n",
        "    def __init__(self, day, pageNum, pagefile):\n",
        "\n",
        "        self.day = day\n",
        "        self.pageNum = pageNum\n",
        "        self.pagefile = pagefile\n"
      ]
    },
    {
      "cell_type": "code",
      "execution_count": 287,
      "metadata": {},
      "outputs": [],
      "source": [
        "def getContracts(page):\n",
        "\n",
        "    regNumbersList = []\n",
        "\n",
        "    # Obtain a list of all the sections of HTML containing a contract in the web page\n",
        "    listOfContracts = page.find_all(\"div\", {\"class\": \"registry-entry__header-mid__number\"})\n",
        "    \n",
        "    # Segment the registration number from the URL of each contract\n",
        "    for contract in listOfContracts:\n",
        "        href = contract.find(\"a\")['href']\n",
        "        regNum = href[href.index(\"Number=\")+7:]\n",
        "        regNumbersList.append(regNum)\n",
        "\n",
        "    return regNumbersList"
      ]
    },
    {
      "cell_type": "code",
      "execution_count": 289,
      "metadata": {
        "id": "seJyyDBCFLGl"
      },
      "outputs": [
        {
          "name": "stdout",
          "output_type": "stream",
          "text": [
            "06.06.2016 had 47 contracts ------------------- \n",
            " 47 contracts found in total\n"
          ]
        }
      ],
      "source": [
        "# Getting the web page for all the contracts for each date in the range we want to scrape.\n",
        "\n",
        "\n",
        "regNumbers = []\n",
        "\n",
        "\n",
        "for idx, day in enumerate(calendar):\n",
        "\n",
        "  tempURL = url.format(day, day, 1)\n",
        "\n",
        "  page = getPage(tempURL)\n",
        "\n",
        "  # Scrape the max number of pages\n",
        "  try:\n",
        "    maxPageNum = int(page.select('a[data-pagenumber]')[-2].find(\"span\").text)\n",
        "  except:\n",
        "    maxPageNum = 1\n",
        "\n",
        "  # Leave my variable names alone :(\n",
        "  totalRegNumbersForThisDay = 0\n",
        "\n",
        "  for i in range(1, maxPageNum+1):\n",
        "\n",
        "    # Creating a temporary URL for each page containing contracts\n",
        "    tempPageURL = url.format(day, day, i)\n",
        "\n",
        "    # Request the page and format it as a BeautifulSoup object so that we can perform scrapings\n",
        "    page = getPage(tempPageURL)\n",
        "\n",
        "    regNumbersList = getContracts(page)\n",
        "\n",
        "    totalRegNumbersForThisDay += len(regNumbersList)\n",
        "\n",
        "    regNumbers.extend(regNumbersList) \n",
        "\n",
        "\n",
        "  print(\"{} had {} contracts \".format(day, totalRegNumbersForThisDay), end='')\n",
        "  \n",
        "  #print(\" ----  {}% completed\".format(int(((idx+1) * 100) / len(calendar)))) if idx % int(len(calendar) / 10) == 0 else print()\n",
        "\n",
        "print(\"------------------- \\n {} contracts found in total\".format(len(regNumbers)))\n"
      ]
    },
    {
      "cell_type": "markdown",
      "metadata": {},
      "source": [
        "The below is just for testing labels etc."
      ]
    },
    {
      "cell_type": "code",
      "execution_count": null,
      "metadata": {
        "colab": {
          "base_uri": "https://localhost:8080/"
        },
        "id": "UFa1lj9sHpkK",
        "outputId": "32168ad0-7959-428c-9ad0-8d707a6f732a"
      },
      "outputs": [],
      "source": [
        "# url=\"https://zakupki.gov.ru/epz/contract/contractCard/common-info.html?reestrNumber=3665500092616000001\"\n",
        "# soup=getPage(url)\n",
        "# # # products=soup.findAll(\"span\",{\"class\":\"section__info\"})\n",
        "# # # product=products[24].text.strip()\n",
        "# # print(product)\n",
        "\n",
        "# # # # # ### first tab info ###\n",
        "# # table=soup.findAll(\"td\",{\"class\":\"tableBlock__col\"})\n",
        "# # # # cardinfo=soup.findAll(\"span\",{\"class\":\"cardMainInfo__content\"})\n",
        "# # # signed=cardinfo[3].text.strip()\n",
        "# # # deadline=cardinfo[4].text.strip()\n",
        "# # # # price=soup.find(\"span\", {\"class\":\"cardMainInfo__content cost\"}).text.replace(\"\\xa0\",\"\").replace(\",\",\".\").replace(\"₽\",\"\").strip()\n",
        "# # print(signed)\n",
        "# # # org=table[0].text.strip().split(\"\\n\")\n",
        "# # # procurer=org[0]\n",
        "# # # INN=org[9]\n",
        "# # # KPP=org[13]\n",
        "# # # registered=org[17]\n",
        "\n",
        "# try:\n",
        "#     address=table[3].text.strip()\n",
        "#     numbermail=table[3].text.strip().split(\"\\n\")\n",
        "# #     number=numbermail[0]\n",
        "# #     mail=numbermail[1].strip()\n",
        "\n",
        "# # except:\n",
        "# #     address=table[2].text.strip()\n",
        "# #     numbermail=table[2].text.strip().split(\"\\n\")\n",
        "# #     number=numbermail[0]\n",
        "# #     mail=numbermail[1].strip()\n",
        "\n",
        "# table=soup.findAll(\"section\",{\"class\":\"blockInfo__section section\"})\n",
        "# # # check=table[6]\n",
        "# # # print(check)\n",
        "\n",
        "# # section=soup.findAll(\"span\",{\"class\":\"section__info\"})\n",
        "# # # method=section[3].text.strip()\n",
        "# # # print(method)\n",
        "# # # # print(method)\n",
        "# # # # # # ### second tab info ###\n",
        "# # print((table))\n",
        "\n",
        "# try:\n",
        "#   check=table[3]\n",
        "#   method=check.findAll('span', {'class':'section__info'})[0].text.strip()\n",
        "\n",
        "# except:\n",
        "#   method=section[6].text.strip()\n",
        "\n",
        "# print(method)\n",
        "\n",
        "# # # secondtab=soup.findAll(\"div\", {\"class\": \"col\"})\n",
        "# # # # print(secondtab)\n",
        "# # # tables = []\n",
        "# for tab in secondtab:\n",
        "#     tables.append(tab.findAll(\"tbody\"))\n",
        "\n",
        "# object=tables[-1][0].findAll(\"td\",{\"class\":\"tableBlock__col\"})\n",
        "# code=object[1].text.strip().split(\"\\n\")[-1].strip()\n",
        "# print(code)\n"
      ]
    },
    {
      "cell_type": "markdown",
      "metadata": {
        "id": "L254l5YhpqNv"
      },
      "source": [
        "### Section 4: Details scraping\n",
        "\n",
        "The Contract Dataclass will store the information during scraping.\n",
        "If any information can't be scraped, default values have been provided in their place"
      ]
    },
    {
      "cell_type": "code",
      "execution_count": 290,
      "metadata": {
        "id": "Eg5Td-OGi3vz"
      },
      "outputs": [],
      "source": [
        "@dataclass\n",
        "class Contract:\n",
        "\n",
        "  # TODO: Add reg number to class\n",
        "\n",
        "  # Main Section\n",
        "  id: float = 0\n",
        "  price: float = 0.0\n",
        "  signed: date = None\n",
        "  deadline: date = None\n",
        "\n",
        "  # Tab 1\n",
        "  method: str = \"none\"\n",
        "  procurer: str = \"none\"\n",
        "  supplier: str = \"none\"\n",
        "  proinn: str = \"none\"\n",
        "  prokpp: str = \"none\"\n",
        "  supinn: str = \"none\"\n",
        "  supkpp: str = \"none\"\n",
        "  registered: date = None\n",
        "  address: str = \"none\"\n",
        "  number: str = \"none\"\n",
        "  mail: str = \"none\"\n",
        "\n",
        "  # Tab 2\n",
        "  code: float = 0.0\n",
        "  product: str = \"none\"\n",
        "  \n",
        "\n",
        "  def __repr__(self):\n",
        "    return \"\\nContract id= {} \\n First tab: price={}, signed={}, deadline={}, method={}, procurer={}, supplier={}, proinn={}, prokpp={}, supinn={}, supkpp={}, registered={}, address={}, number={}, mail={} \\n  Second tab: code={}, product={})\".format(self.id, self.price, self.signed, self.deadline, self.method, self.procurer, self.supplier, self.proinn, self.prokpp, self.supinn, self.supkpp, self.registered, self.address, self.number, self.mail, self.code,  self.product)\n",
        "\n",
        "  "
      ]
    },
    {
      "cell_type": "markdown",
      "metadata": {
        "id": "5yatvXkvpz2H"
      },
      "source": [
        "Method for scraping the data from each contract"
      ]
    },
    {
      "cell_type": "code",
      "execution_count": 291,
      "metadata": {},
      "outputs": [],
      "source": [
        "def getSectionDict(page):\n",
        "\n",
        "    sections=page.findAll(\"section\",{\"class\":\"blockInfo__section section\"})\n",
        "\n",
        "    # Turning the sections into a dictionary that will be easier to work with.\n",
        "    titles = [key.findAll(\"span\")[0] for key in sections]\n",
        "    values = [key.findAll(\"span\")[1] for key in sections]\n",
        "\n",
        "    sectionDict = {titles[i].text.strip() : values[i].text.strip() for i in range(len(titles))}\n",
        "\n",
        "    return sectionDict\n",
        "\n",
        "\n",
        "def getTableDict(page, secondTab=False):\n",
        "\n",
        "\n",
        "    if secondTab:\n",
        "        sectionOfInterest = page.findAll(\"div\", {\"class\": \"col\"})[-1]\n",
        "    else:\n",
        "        sectionOfInterest = page\n",
        "\n",
        "    table = sectionOfInterest.findAll(\"tr\",{\"class\":\"tableBlock__row\"})\n",
        "\n",
        "    headers = [i.text.strip() for i in table[0].findAll(\"th\", {\"class\":\"tableBlock__col tableBlock__col_header\"})]\n",
        "    data = [list(filter(None, [j.strip() for j in i.text.split(\"\\n\")])) for i in table[1].findAll(\"td\")]\n",
        "  \n",
        "    tableDict = {headers[i] : data[i] for i in range(len(headers))}\n",
        "\n",
        "    return tableDict"
      ]
    },
    {
      "cell_type": "code",
      "execution_count": 292,
      "metadata": {
        "id": "Jq9BLFkUaDPW"
      },
      "outputs": [],
      "source": [
        "def scrapeData(reg):\n",
        "\n",
        "  # Input: reg = one registration number.\n",
        "\n",
        "  # Different URL from the one above, this accesses more information from Zakupki.\n",
        "  dir = \"https://zakupki.gov.ru/epz/contract/contractCard/{}.html?reestrNumber={}\"\n",
        "\n",
        "  # Getting the web page for the given contract\n",
        "  tempDir = dir.format(\"common-info\", reg)\n",
        "  page = getPage(tempDir)\n",
        "\n",
        "  # We probably don't need this with the method I've used below.\n",
        "  contractTypeTwo = False\n",
        "\n",
        "  # Enter the text here that should be present to signify the second type of contract.\n",
        "  if page.findAll(text=\"Основание заключения контракта с единственным поставщиком\"):\n",
        "    contractTypeTwo = True\n",
        "    \n",
        "  id = reg  \n",
        "  sectionDict = getSectionDict(page)\n",
        "  firstTableDict = getTableDict(page)\n",
        "\n",
        "  print(sectionDict)\n",
        "  print(firstTableDict)\n",
        "\n",
        "  # print(sectionDict, firstTableDict)\n",
        "  price=sectionDict[\"Цена контракта\"].replace(\"\\xa0\",\"\").replace(\",\",\".\").replace(\"₽\",\"\").strip().split()[0]\n",
        "  signed=sectionDict[\"Дата заключения контракта\"]\n",
        "  deadline=sectionDict[\"Дата окончания исполнения контракта\"].split()[0]\n",
        "  method = sectionDict[\"Способ определения поставщика (подрядчика, исполнителя)\"]\n",
        "  procurer=sectionDict[\"Полное наименование заказчика\"]\n",
        "  supplier=firstTableDict[\"Организация\"][0]\n",
        "\n",
        "  proinn=sectionDict[\"ИНН\"]\n",
        "  prokpp=sectionDict[\"КПП\"]\n",
        "\n",
        "  supinn=firstTableDict[\"ИНН:\"]\n",
        "  supkpp=firstTableDict[\"КПП:\"]\n",
        "\n",
        "  registered=firstTableDict[\"Организация\"][-1]\n",
        "  try:\n",
        "    address=firstTableDict[\"Адрес места нахождения\"]\n",
        "  except:\n",
        "    address=firstTableDict[\"Адрес в стране регистрации\"]\n",
        "  number=firstTableDict[\"Телефон, электронная почта\"][0]\n",
        "  mail=firstTableDict[\"Телефон, электронная почта\"][1]\n",
        "\n",
        "  ### details about winner - ALSO, THERE'S OPTION TO SCRAPE SUBCONTRACTORS ### \n",
        "\n",
        "  ### Second tab ###\n",
        "  tempDir = dir.format(\"payment-info-and-target-of-order\", reg)\n",
        "  page = getPage(tempDir)\n",
        "\n",
        "  ### code stands for the product code, which can be later identified to return industry type ### \n",
        "  \n",
        "  secondTableDict = getTableDict(page, True)\n",
        "  \n",
        "  try:\n",
        "    code = secondTableDict[\"Позиции по КТРУ, ОКПД2\"][1][1:-1]\n",
        "    product = secondTableDict[\"Позиции по КТРУ, ОКПД2\"][0]\n",
        "  except:\n",
        "    code = 0.0\n",
        "    product = \"\"\n",
        "    print(\"Failed to entirely scrape. \\n {}\".format(tempDir))\n",
        "\n",
        "  # Create the Contract dataclass object and append it to a list of objects.\n",
        "  # This method means that missing data can be accounted for.\n",
        "  # print(method)\n",
        "\n",
        "  contract = Contract(id=id, price=price, signed=signed, deadline=deadline, method=method, procurer=procurer, supplier=supplier, proinn=proinn, prokpp=prokpp, supinn=supinn, supkpp=supkpp, registered=registered, address=address, number=number, mail=mail, code=code, product=product)\n",
        "  contracts.append(contract)\n",
        "\n"
      ]
    },
    {
      "cell_type": "markdown",
      "metadata": {
        "id": "CitfSwF2p94x"
      },
      "source": [
        "### Section 5: Starting execution\n",
        "Scrape the contracts themselves using threading"
      ]
    },
    {
      "cell_type": "code",
      "execution_count": 293,
      "metadata": {},
      "outputs": [],
      "source": [
        "def scrape(reg):\n",
        "    \n",
        "    try:\n",
        "        _ = int(reg)\n",
        "        print(\"Scraping {}\".format(reg))\n",
        "        scrapeData(reg)\n",
        "    except TypeError:\n",
        "        for r in tqdm(reg):\n",
        "            print(\"Scraping {}\".format(r))\n",
        "            scrapeData(r)"
      ]
    },
    {
      "cell_type": "code",
      "execution_count": 294,
      "metadata": {
        "colab": {
          "base_uri": "https://localhost:8080/"
        },
        "id": "RseKcK3_XT7R",
        "outputId": "2e193036-25a2-4b02-8d91-34a6293d9141"
      },
      "outputs": [
        {
          "name": "stdout",
          "output_type": "stream",
          "text": [
            "Starting scrape with 47 reg numbers\n",
            "\n"
          ]
        },
        {
          "name": "stderr",
          "output_type": "stream",
          "text": [
            "  0%|          | 0/2 [00:00<?, ?it/s]"
          ]
        },
        {
          "name": "stdout",
          "output_type": "stream",
          "text": [
            "Scraping 3665500092616000001\n"
          ]
        },
        {
          "name": "stderr",
          "output_type": "stream",
          "text": [
            "  0%|          | 0/2 [00:04<?, ?it/s]"
          ]
        },
        {
          "name": "stdout",
          "output_type": "stream",
          "text": [
            "{'Реестровый номер контракта': '36655000926 16 000001', 'Статус контракта': 'Исполнение завершено', 'Номер извещения об осуществлении закупки': '0162300011316000007', 'Способ определения поставщика (подрядчика, исполнителя)': 'Электронный аукцион', 'Дата подведения результатов определения поставщика (подрядчика, исполнителя)': '23.05.2016', 'Дата размещения (по местному времени)': '07.06.2016 10:04 (МСК+2)', 'Реквизиты документа, подтверждающего основание заключения контракта': '0162300011316000007-1', 'Информация о банковском и (или) казначейском сопровождении контракта': 'Банковское или казначейское сопровождение контракта не требуется', 'Полное наименование заказчика': 'Управление образования администрации Тугулымского городского округа', 'Сокращенное наименование заказчика': 'УПРАВЛЕНИЕ ОБРАЗОВАНИЯ АДМИНИСТРАЦИИ ТГО', 'Дата постановки на учет в налоговом органе': '06.02.1992', 'Идентификационный код заказчика': '36655000926663301001', 'ИНН': '6655000926', 'КПП': '663301001', 'Код организационно-правовой формы': '75404', 'Код ОКПО': '02116474', 'Код территории муниципального образования': '65725000051 – пгт Тугулым', 'Наименование бюджета': 'Бюджет Тугулымского городского округа', 'Уровень бюджета': '13\\xa0-\\xa0местный бюджет', 'Дата заключения контракта': '06.06.2016', 'Номер контракта': '0162300011316000007-0216683-02', 'Цена контракта': '1\\xa0665\\xa0000,00', 'Валюта контракта': 'Российский рубль (₽)', 'Дата начала исполнения контракта': '06.06.2016', 'Дата окончания исполнения контракта': '25.12.2016', 'Идентификатор этапа контракта': '23539759', 'Размер обеспечения исполнения контракта, ₽': '83\\xa0250,00', 'Код по ОКПО:': '31392241'}\n",
            "{'Организация': ['ОБЩЕСТВО С ОГРАНИЧЕННОЙ ОТВЕТСТВЕННОСТЬЮ \"КИП\" (ООО \"КИП\")', 'Код по ОКПО:', '31392241', 'ИНН:', '6671015334', 'КПП:', '667101001', 'Дата постановки на учет:', '25.06.2015'], 'Страна, код': ['Российская Федерация', '643'], 'Адрес места нахождения': ['620146, обл СВЕРДЛОВСКАЯ 66, г ЕКАТЕРИНБУРГ, ул АМУНДСЕНА, ДОМ 62, КАБИНЕТ 6'], 'Телефон, электронная почта': ['7-34321-73333', 'info@avtospec.ru'], '': []}\n"
          ]
        },
        {
          "name": "stderr",
          "output_type": "stream",
          "text": [
            "\n"
          ]
        },
        {
          "ename": "KeyError",
          "evalue": "'ИНН:'",
          "output_type": "error",
          "traceback": [
            "\u001b[1;31m---------------------------------------------------------------------------\u001b[0m",
            "\u001b[1;31mTypeError\u001b[0m                                 Traceback (most recent call last)",
            "\u001b[1;32mc:\\Users\\majda\\Dropbox\\PhD\\Data\\github\\zakupki\\Copy_of_Zakupki.ipynb Cell 21'\u001b[0m in \u001b[0;36mscrape\u001b[1;34m(reg)\u001b[0m\n\u001b[0;32m      <a href='vscode-notebook-cell:/c%3A/Users/majda/Dropbox/PhD/Data/github/zakupki/Copy_of_Zakupki.ipynb#ch0000020?line=2'>3</a>\u001b[0m \u001b[39mtry\u001b[39;00m:\n\u001b[1;32m----> <a href='vscode-notebook-cell:/c%3A/Users/majda/Dropbox/PhD/Data/github/zakupki/Copy_of_Zakupki.ipynb#ch0000020?line=3'>4</a>\u001b[0m     _ \u001b[39m=\u001b[39m \u001b[39mint\u001b[39;49m(reg)\n\u001b[0;32m      <a href='vscode-notebook-cell:/c%3A/Users/majda/Dropbox/PhD/Data/github/zakupki/Copy_of_Zakupki.ipynb#ch0000020?line=4'>5</a>\u001b[0m     \u001b[39mprint\u001b[39m(\u001b[39m\"\u001b[39m\u001b[39mScraping \u001b[39m\u001b[39m{}\u001b[39;00m\u001b[39m\"\u001b[39m\u001b[39m.\u001b[39mformat(reg))\n",
            "\u001b[1;31mTypeError\u001b[0m: int() argument must be a string, a bytes-like object or a real number, not 'list'",
            "\nDuring handling of the above exception, another exception occurred:\n",
            "\u001b[1;31mKeyError\u001b[0m                                  Traceback (most recent call last)",
            "\u001b[1;32mc:\\Users\\majda\\Dropbox\\PhD\\Data\\github\\zakupki\\Copy_of_Zakupki.ipynb Cell 22'\u001b[0m in \u001b[0;36m<cell line: 5>\u001b[1;34m()\u001b[0m\n\u001b[0;32m      <a href='vscode-notebook-cell:/c%3A/Users/majda/Dropbox/PhD/Data/github/zakupki/Copy_of_Zakupki.ipynb#ch0000021?line=0'>1</a>\u001b[0m contracts \u001b[39m=\u001b[39m []\n\u001b[0;32m      <a href='vscode-notebook-cell:/c%3A/Users/majda/Dropbox/PhD/Data/github/zakupki/Copy_of_Zakupki.ipynb#ch0000021?line=2'>3</a>\u001b[0m \u001b[39mprint\u001b[39m(\u001b[39m\"\u001b[39m\u001b[39mStarting scrape with \u001b[39m\u001b[39m{}\u001b[39;00m\u001b[39m reg numbers\u001b[39m\u001b[39m\\n\u001b[39;00m\u001b[39m\"\u001b[39m\u001b[39m.\u001b[39mformat(\u001b[39mlen\u001b[39m(regNumbers)))\n\u001b[1;32m----> <a href='vscode-notebook-cell:/c%3A/Users/majda/Dropbox/PhD/Data/github/zakupki/Copy_of_Zakupki.ipynb#ch0000021?line=4'>5</a>\u001b[0m scrape(regNumbers[:\u001b[39m2\u001b[39;49m])\n\u001b[0;32m      <a href='vscode-notebook-cell:/c%3A/Users/majda/Dropbox/PhD/Data/github/zakupki/Copy_of_Zakupki.ipynb#ch0000021?line=6'>7</a>\u001b[0m \u001b[39mfor\u001b[39;00m contract \u001b[39min\u001b[39;00m contracts:\n\u001b[0;32m      <a href='vscode-notebook-cell:/c%3A/Users/majda/Dropbox/PhD/Data/github/zakupki/Copy_of_Zakupki.ipynb#ch0000021?line=7'>8</a>\u001b[0m     \u001b[39mprint\u001b[39m(contract)\n",
            "\u001b[1;32mc:\\Users\\majda\\Dropbox\\PhD\\Data\\github\\zakupki\\Copy_of_Zakupki.ipynb Cell 21'\u001b[0m in \u001b[0;36mscrape\u001b[1;34m(reg)\u001b[0m\n\u001b[0;32m      <a href='vscode-notebook-cell:/c%3A/Users/majda/Dropbox/PhD/Data/github/zakupki/Copy_of_Zakupki.ipynb#ch0000020?line=7'>8</a>\u001b[0m \u001b[39mfor\u001b[39;00m r \u001b[39min\u001b[39;00m tqdm(reg):\n\u001b[0;32m      <a href='vscode-notebook-cell:/c%3A/Users/majda/Dropbox/PhD/Data/github/zakupki/Copy_of_Zakupki.ipynb#ch0000020?line=8'>9</a>\u001b[0m     \u001b[39mprint\u001b[39m(\u001b[39m\"\u001b[39m\u001b[39mScraping \u001b[39m\u001b[39m{}\u001b[39;00m\u001b[39m\"\u001b[39m\u001b[39m.\u001b[39mformat(r))\n\u001b[1;32m---> <a href='vscode-notebook-cell:/c%3A/Users/majda/Dropbox/PhD/Data/github/zakupki/Copy_of_Zakupki.ipynb#ch0000020?line=9'>10</a>\u001b[0m     scrapeData(r)\n",
            "\u001b[1;32mc:\\Users\\majda\\Dropbox\\PhD\\Data\\github\\zakupki\\Copy_of_Zakupki.ipynb Cell 19'\u001b[0m in \u001b[0;36mscrapeData\u001b[1;34m(reg)\u001b[0m\n\u001b[0;32m     <a href='vscode-notebook-cell:/c%3A/Users/majda/Dropbox/PhD/Data/github/zakupki/Copy_of_Zakupki.ipynb#ch0000018?line=33'>34</a>\u001b[0m proinn\u001b[39m=\u001b[39msectionDict[\u001b[39m\"\u001b[39m\u001b[39mИНН\u001b[39m\u001b[39m\"\u001b[39m]\n\u001b[0;32m     <a href='vscode-notebook-cell:/c%3A/Users/majda/Dropbox/PhD/Data/github/zakupki/Copy_of_Zakupki.ipynb#ch0000018?line=34'>35</a>\u001b[0m prokpp\u001b[39m=\u001b[39msectionDict[\u001b[39m\"\u001b[39m\u001b[39mКПП\u001b[39m\u001b[39m\"\u001b[39m]\n\u001b[1;32m---> <a href='vscode-notebook-cell:/c%3A/Users/majda/Dropbox/PhD/Data/github/zakupki/Copy_of_Zakupki.ipynb#ch0000018?line=36'>37</a>\u001b[0m supinn\u001b[39m=\u001b[39mfirstTableDict[\u001b[39m\"\u001b[39;49m\u001b[39mИНН:\u001b[39;49m\u001b[39m\"\u001b[39;49m]\n\u001b[0;32m     <a href='vscode-notebook-cell:/c%3A/Users/majda/Dropbox/PhD/Data/github/zakupki/Copy_of_Zakupki.ipynb#ch0000018?line=37'>38</a>\u001b[0m supkpp\u001b[39m=\u001b[39mfirstTableDict[\u001b[39m\"\u001b[39m\u001b[39mКПП:\u001b[39m\u001b[39m\"\u001b[39m]\n\u001b[0;32m     <a href='vscode-notebook-cell:/c%3A/Users/majda/Dropbox/PhD/Data/github/zakupki/Copy_of_Zakupki.ipynb#ch0000018?line=39'>40</a>\u001b[0m registered\u001b[39m=\u001b[39mfirstTableDict[\u001b[39m\"\u001b[39m\u001b[39mОрганизация\u001b[39m\u001b[39m\"\u001b[39m][\u001b[39m-\u001b[39m\u001b[39m1\u001b[39m]\n",
            "\u001b[1;31mKeyError\u001b[0m: 'ИНН:'"
          ]
        }
      ],
      "source": [
        "contracts = []\n",
        "\n",
        "print(\"Starting scrape with {} reg numbers\\n\".format(len(regNumbers)))\n",
        "\n",
        "scrape(regNumbers[:2])\n",
        "\n",
        "for contract in contracts:\n",
        "    print(contract)\n",
        "\n",
        "# for regNumber in tqdm(regNumbers[:50]):\n",
        "#   thread = Thread(target = scrapeData, args = (regNumber,))\n",
        "#   thread.start()\n"
      ]
    },
    {
      "cell_type": "code",
      "execution_count": null,
      "metadata": {},
      "outputs": [],
      "source": [
        "print(contracts)"
      ]
    },
    {
      "cell_type": "markdown",
      "metadata": {
        "id": "H9_G7hUrqT6g"
      },
      "source": [
        "### Section 6: Output\n",
        "\n",
        "Convert the list of contract classes to a dataframe so that they can be exported to a csv file"
      ]
    },
    {
      "cell_type": "code",
      "execution_count": null,
      "metadata": {
        "id": "Z6p3oMf-eJbP"
      },
      "outputs": [],
      "source": [
        "contract = contracts[0]\n",
        "print(contract.__dict__.keys())\n",
        "df = pd.DataFrame(columns=contract.__dict__.keys())\n",
        "pd.options.display.float_format = '{:.2f}'.format\n",
        "\n",
        "\n",
        "for contract in contracts:\n",
        "  df = df.append(contract.__dict__, ignore_index=True)\n",
        "\n",
        "with pd.option_context('display.max_rows', None, 'display.max_columns', None):\n",
        "    print(df)"
      ]
    },
    {
      "cell_type": "code",
      "execution_count": null,
      "metadata": {
        "id": "9ST7Qk4rVOFK"
      },
      "outputs": [],
      "source": [
        "df.to_csv(\"zakupki.csv\")"
      ]
    },
    {
      "cell_type": "code",
      "execution_count": null,
      "metadata": {},
      "outputs": [],
      "source": []
    }
  ],
  "metadata": {
    "colab": {
      "collapsed_sections": [],
      "name": "Copy of Zakupki.ipynb",
      "provenance": []
    },
    "interpreter": {
      "hash": "77edd9a980bfddd358a4fcbf4f3e7f49f98b43dd432ee51433ccfac9d125dab6"
    },
    "kernelspec": {
      "display_name": "Python 3.10.4 64-bit",
      "language": "python",
      "name": "python3"
    },
    "language_info": {
      "codemirror_mode": {
        "name": "ipython",
        "version": 3
      },
      "file_extension": ".py",
      "mimetype": "text/x-python",
      "name": "python",
      "nbconvert_exporter": "python",
      "pygments_lexer": "ipython3",
      "version": "3.10.4"
    }
  },
  "nbformat": 4,
  "nbformat_minor": 0
}
