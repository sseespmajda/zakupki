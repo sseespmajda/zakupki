{
  "cells": [
    {
      "cell_type": "markdown",
      "metadata": {
        "id": "rajDyGemoV8Q"
      },
      "source": [
        "# Zakupki website scraping for Piotr"
      ]
    },
    {
      "cell_type": "markdown",
      "metadata": {
        "id": "xfVriCvQPi8u"
      },
      "source": [
        "The aim of this notebook is to scrape details of each contract hosted on the Russian Zakupki public sector contract awarding website.\n",
        "\n",
        "The input for this project will be the Zakupki URL. This code can be run on different dates to pull fresh contract data.\n",
        "\n",
        "Method:\n",
        "1.   Identify the number of pages of contracts to be scraped (using the contract filters provided).\n",
        "2.   Iterate through each page, scraping the registration number of each contract.\n",
        "3.   Access the website for each contract by placing the registraion number in the URL.\n",
        "4.   Scrape the details for each contract and add them to a list of Contracts dataclasses.\n",
        "5.   Format these Contract objects as a dataframe and output the dataframe to a csv file.\n",
        "\n",
        "\n",
        "The output of this project will be the CSV file, with each row representing a new contract from the webstie.\n"
      ]
    },
    {
      "cell_type": "markdown",
      "metadata": {
        "id": "9O34U-48RLCa"
      },
      "source": [
        "### Section 1: Setup"
      ]
    },
    {
      "cell_type": "code",
      "execution_count": 45,
      "metadata": {
        "id": "EkywDpTl3_lN"
      },
      "outputs": [],
      "source": [
        "import requests\n",
        "from bs4 import BeautifulSoup\n",
        "from datetime import date\n",
        "from dataclasses import dataclass\n",
        "from tqdm import tqdm\n",
        "from dateutil import parser\n",
        "from threading import Thread\n",
        "import pandas as pd\n",
        "import datetime\n",
        "from datetime import date, timedelta\n",
        "import logging\n",
        "import http.client\n",
        "from functools import cache"
      ]
    },
    {
      "cell_type": "code",
      "execution_count": 2,
      "metadata": {
        "id": "ohoWQEyyCpkk"
      },
      "outputs": [],
      "source": [
        "logging = False\n",
        "\n",
        "if logging:\n",
        "\n",
        "    http.client.HTTPConnection.debuglevel = 1\n",
        "\n",
        "    # You must initialize logging, otherwise you'll not see debug output.\n",
        "    logging.basicConfig()\n",
        "    logging.getLogger().setLevel(logging.DEBUG)\n",
        "    requests_log = logging.getLogger(\"requests.packages.urllib3\")\n",
        "    requests_log.setLevel(logging.DEBUG)\n",
        "    requests_log.propagate = True"
      ]
    },
    {
      "cell_type": "markdown",
      "metadata": {
        "id": "iJWBR30Apf9y"
      },
      "source": [
        "### Section 2: Determine Number of pages to scrape\n",
        "Test connection to the website and determine number of pages to scrape"
      ]
    },
    {
      "cell_type": "code",
      "execution_count": 54,
      "metadata": {
        "colab": {
          "base_uri": "https://localhost:8080/"
        },
        "id": "vqetG6kV0HFi",
        "outputId": "d351bc31-6ef2-4d6c-89a8-bf9234b503dc"
      },
      "outputs": [
        {
          "name": "stdout",
          "output_type": "stream",
          "text": [
            "Created 41 dates\n"
          ]
        }
      ],
      "source": [
        "# Getting the dates we want to scrape.\n",
        "\n",
        "url=\"https://zakupki.gov.ru/epz/contract/search/results.html?morphology=on&search-filter=%D0%94%D0%B0%D1%82%D0%B5+%D1%80%D0%B0%D0%B7%D0%BC%D0%B5%D1%89%D0%B5%D0%BD%D0%B8%D1%8F&fz44=on&contractStageList_0=on&contractStageList_1=on&contractStageList=0%2C1&contractPriceFrom=1000000&contractCurrencyID=-1&budgetLevelsIdNameHidden=%7B%7D&customerPlace=5277383&customerPlaceCodes=66000000000&contractDateFrom={}&contractDateTo={}&selectedLaws=FZ44&sortBy=UPDATE_DATE&pageNumber={}&sortDirection=false&recordsPerPage=_500&showLotsInfoHidden=false\"\n",
        "start = date(2016, 6, 5)\n",
        "end = date(2016, 7, 15)\n",
        "days = timedelta(days=1)\n",
        "\n",
        "calendar=[]\n",
        "\n",
        "while start<=end:\n",
        "  calendar.append(start.strftime('%d.%m.%Y'))\n",
        "  start+=days\n",
        "\n",
        "print(\"Created {} dates\".format(len(calendar)))"
      ]
    },
    {
      "cell_type": "markdown",
      "metadata": {
        "id": "p-Ol6Rbipi4N"
      },
      "source": [
        "\n",
        "### Section 3: Scrape each registration number\n",
        "\n",
        "Scrape the reg numbers of each contract, so they can be accessed individually"
      ]
    },
    {
      "cell_type": "code",
      "execution_count": 55,
      "metadata": {
        "id": "IxF2lQm5Vq_8"
      },
      "outputs": [],
      "source": [
        "@cache\n",
        "def getPage(tempURL):\n",
        "  # If User-Agent is not set to custom, the website will know a Python script is accessing it and block some of the request\n",
        "  return BeautifulSoup(requests.get(tempURL, headers={'User-Agent': 'Custom'}).content, \"html.parser\")"
      ]
    },
    {
      "cell_type": "code",
      "execution_count": 56,
      "metadata": {},
      "outputs": [],
      "source": [
        "class Page:\n",
        "\n",
        "    def __init__(self, day, pageNum, pagefile):\n",
        "\n",
        "        self.day = day\n",
        "        self.pageNum = pageNum\n",
        "        self.pagefile = pagefile\n"
      ]
    },
    {
      "cell_type": "code",
      "execution_count": 57,
      "metadata": {},
      "outputs": [],
      "source": [
        "def getContracts(page):\n",
        "\n",
        "    regNumbersList = []\n",
        "\n",
        "    # Obtain a list of all the sections of HTML containing a contract in the web page\n",
        "    listOfContracts = page.find_all(\"div\", {\"class\": \"registry-entry__header-mid__number\"})\n",
        "    \n",
        "    # Segment the registration number from the URL of each contract\n",
        "    for contract in listOfContracts:\n",
        "        href = contract.find(\"a\")['href']\n",
        "        regNum = href[href.index(\"Number=\")+7:]\n",
        "        regNumbersList.append(regNum)\n",
        "\n",
        "    return regNumbersList"
      ]
    },
    {
      "cell_type": "code",
      "execution_count": 350,
      "metadata": {
        "id": "seJyyDBCFLGl"
      },
      "outputs": [
        {
          "name": "stdout",
          "output_type": "stream",
          "text": [
            "05.06.2016 had 0 contracts  ----  2% completed\n",
            "06.06.2016 had 47 contracts \n",
            "07.06.2016 had 22 contracts \n",
            "08.06.2016 had 19 contracts \n",
            "09.06.2016 had 16 contracts  ----  12% completed\n",
            "10.06.2016 had 16 contracts \n",
            "11.06.2016 had 3 contracts \n",
            "12.06.2016 had 0 contracts \n",
            "13.06.2016 had 0 contracts  ----  21% completed\n",
            "14.06.2016 had 38 contracts \n",
            "15.06.2016 had 15 contracts \n",
            "16.06.2016 had 27 contracts \n",
            "17.06.2016 had 15 contracts  ----  31% completed\n",
            "18.06.2016 had 0 contracts \n",
            "19.06.2016 had 1 contracts \n",
            "20.06.2016 had 49 contracts \n",
            "21.06.2016 had 36 contracts  ----  41% completed\n",
            "22.06.2016 had 19 contracts \n",
            "23.06.2016 had 16 contracts \n",
            "24.06.2016 had 11 contracts \n",
            "25.06.2016 had 0 contracts  ----  51% completed\n",
            "26.06.2016 had 0 contracts \n",
            "27.06.2016 had 58 contracts \n",
            "28.06.2016 had 37 contracts \n",
            "29.06.2016 had 40 contracts  ----  60% completed\n",
            "30.06.2016 had 27 contracts \n",
            "01.07.2016 had 27 contracts \n",
            "02.07.2016 had 1 contracts \n",
            "03.07.2016 had 1 contracts  ----  70% completed\n",
            "04.07.2016 had 43 contracts \n",
            "05.07.2016 had 30 contracts \n",
            "06.07.2016 had 21 contracts \n",
            "07.07.2016 had 21 contracts  ----  80% completed\n",
            "08.07.2016 had 24 contracts \n",
            "09.07.2016 had 0 contracts \n",
            "10.07.2016 had 0 contracts \n",
            "11.07.2016 had 41 contracts  ----  90% completed\n",
            "12.07.2016 had 31 contracts \n",
            "13.07.2016 had 21 contracts \n",
            "14.07.2016 had 10 contracts \n",
            "15.07.2016 had 11 contracts  ----  100% completed\n",
            "------------------- \n",
            " 794 contracts found in total\n"
          ]
        }
      ],
      "source": [
        "# Getting the web page for all the contracts for each date in the range we want to scrape.\n",
        "\n",
        "\n",
        "regNumbers = []\n",
        "\n",
        "\n",
        "for idx, day in enumerate(calendar):\n",
        "\n",
        "  tempURL = url.format(day, day, 1)\n",
        "\n",
        "  page = getPage(tempURL)\n",
        "\n",
        "  # Scrape the max number of pages\n",
        "  try:\n",
        "    maxPageNum = int(page.select('a[data-pagenumber]')[-2].find(\"span\").text)\n",
        "  except:\n",
        "    maxPageNum = 1\n",
        "\n",
        "  # Leave my variable names alone :(\n",
        "  totalRegNumbersForThisDay = 0\n",
        "\n",
        "  for i in range(1, maxPageNum+1):\n",
        "\n",
        "    # Creating a temporary URL for each page containing contracts\n",
        "    tempPageURL = url.format(day, day, i)\n",
        "\n",
        "    # Request the page and format it as a BeautifulSoup object so that we can perform scrapings\n",
        "    page = getPage(tempPageURL)\n",
        "\n",
        "    regNumbersList = getContracts(page)\n",
        "\n",
        "    totalRegNumbersForThisDay += len(regNumbersList)\n",
        "\n",
        "    regNumbers.extend(regNumbersList) \n",
        "\n",
        "\n",
        "  print(\"{} had {} contracts \".format(day, totalRegNumbersForThisDay), end='')\n",
        "  print(\" ----  {}% completed\".format(int(((idx+1) * 100) / len(calendar)))) if idx % int(len(calendar) / 10) == 0 else print()\n",
        "\n",
        "print(\"------------------- \\n {} contracts found in total\".format(len(regNumbers)))\n"
      ]
    },
    {
      "cell_type": "markdown",
      "metadata": {},
      "source": [
        "The below is just for testing labels etc."
      ]
    },
    {
      "cell_type": "code",
      "execution_count": 276,
      "metadata": {
        "colab": {
          "base_uri": "https://localhost:8080/"
        },
        "id": "UFa1lj9sHpkK",
        "outputId": "32168ad0-7959-428c-9ad0-8d707a6f732a"
      },
      "outputs": [],
      "source": [
        "# url=\"https://zakupki.gov.ru/epz/contract/contractCard/common-info.html?reestrNumber=3665500092616000001\"\n",
        "# soup=getPage(url)\n",
        "# # # products=soup.findAll(\"span\",{\"class\":\"section__info\"})\n",
        "# # # product=products[24].text.strip()\n",
        "# # print(product)\n",
        "\n",
        "# # # # # ### first tab info ###\n",
        "# # table=soup.findAll(\"td\",{\"class\":\"tableBlock__col\"})\n",
        "# # # # cardinfo=soup.findAll(\"span\",{\"class\":\"cardMainInfo__content\"})\n",
        "# # # signed=cardinfo[3].text.strip()\n",
        "# # # deadline=cardinfo[4].text.strip()\n",
        "# # # # price=soup.find(\"span\", {\"class\":\"cardMainInfo__content cost\"}).text.replace(\"\\xa0\",\"\").replace(\",\",\".\").replace(\"₽\",\"\").strip()\n",
        "# # print(signed)\n",
        "# # # org=table[0].text.strip().split(\"\\n\")\n",
        "# # # procurer=org[0]\n",
        "# # # INN=org[9]\n",
        "# # # KPP=org[13]\n",
        "# # # registered=org[17]\n",
        "\n",
        "# try:\n",
        "#     address=table[3].text.strip()\n",
        "#     numbermail=table[3].text.strip().split(\"\\n\")\n",
        "# #     number=numbermail[0]\n",
        "# #     mail=numbermail[1].strip()\n",
        "\n",
        "# # except:\n",
        "# #     address=table[2].text.strip()\n",
        "# #     numbermail=table[2].text.strip().split(\"\\n\")\n",
        "# #     number=numbermail[0]\n",
        "# #     mail=numbermail[1].strip()\n",
        "\n",
        "# table=soup.findAll(\"section\",{\"class\":\"blockInfo__section section\"})\n",
        "# # # check=table[6]\n",
        "# # # print(check)\n",
        "\n",
        "# # section=soup.findAll(\"span\",{\"class\":\"section__info\"})\n",
        "# # # method=section[3].text.strip()\n",
        "# # # print(method)\n",
        "# # # # print(method)\n",
        "# # # # # # ### second tab info ###\n",
        "# # print((table))\n",
        "\n",
        "# try:\n",
        "#   check=table[3]\n",
        "#   method=check.findAll('span', {'class':'section__info'})[0].text.strip()\n",
        "\n",
        "# except:\n",
        "#   method=section[6].text.strip()\n",
        "\n",
        "# print(method)\n",
        "\n",
        "# # # secondtab=soup.findAll(\"div\", {\"class\": \"col\"})\n",
        "# # # # print(secondtab)\n",
        "# # # tables = []\n",
        "# for tab in secondtab:\n",
        "#     tables.append(tab.findAll(\"tbody\"))\n",
        "\n",
        "# object=tables[-1][0].findAll(\"td\",{\"class\":\"tableBlock__col\"})\n",
        "# code=object[1].text.strip().split(\"\\n\")[-1].strip()\n",
        "# print(code)\n"
      ]
    },
    {
      "cell_type": "markdown",
      "metadata": {
        "id": "L254l5YhpqNv"
      },
      "source": [
        "### Section 4: Details scraping\n",
        "\n",
        "The Contract Dataclass will store the information during scraping.\n",
        "If any information can't be scraped, default values have been provided in their place"
      ]
    },
    {
      "cell_type": "code",
      "execution_count": 361,
      "metadata": {
        "id": "Eg5Td-OGi3vz"
      },
      "outputs": [],
      "source": [
        "@dataclass\n",
        "class Contract:\n",
        "\n",
        "  # TODO: Add reg number to class\n",
        "\n",
        "  # Main Section\n",
        "  id: float = 0\n",
        "  price: float = 0.0\n",
        "  signed: date = None\n",
        "  deadline: date = None\n",
        "\n",
        "  # Tab 1\n",
        "  method: str = \"none\"\n",
        "  procurer: str = \"none\"\n",
        "  inn: str = \"none\"\n",
        "  kpp: str = \"none\"\n",
        "  registered: date = None\n",
        "  address: str = \"none\"\n",
        "  number: str = \"none\"\n",
        "  mail: str = \"none\"\n",
        "\n",
        "  # Tab 2\n",
        "  code: float = 0.0\n",
        "  product: str = \"none\"\n",
        "  \n",
        "\n",
        "  def __repr__(self):\n",
        "    return \"\\nContract id= {} \\n First tab: price={}, signed={}, deadline={}, method={}, procurer={}, inn={}, kpp={}, registered={}, address={}, number={}, mail={} \\n  Second tab: code={}, product={})\".format(self.id, self.price, self.signed, self.deadline, self.method, self.procurer, self.inn, self.kpp, self.registered, self.address, self.number, self.mail, self.code,  self.product)\n",
        "\n",
        "  "
      ]
    },
    {
      "cell_type": "markdown",
      "metadata": {
        "id": "5yatvXkvpz2H"
      },
      "source": [
        "Method for scraping the data from each contract"
      ]
    },
    {
      "cell_type": "code",
      "execution_count": 362,
      "metadata": {},
      "outputs": [],
      "source": [
        "def getSectionDict(page):\n",
        "\n",
        "    sections=page.findAll(\"section\",{\"class\":\"blockInfo__section section\"})\n",
        "\n",
        "    # Turning the sections into a dictionary that will be easier to work with.\n",
        "    titles = [key.findAll(\"span\")[0] for key in sections]\n",
        "    values = [key.findAll(\"span\")[1] for key in sections]\n",
        "\n",
        "    sectionDict = {titles[i].text.strip() : values[i].text.strip() for i in range(len(titles))}\n",
        "\n",
        "    return sectionDict\n",
        "\n",
        "\n",
        "def getTableDict(page, secondTab=False):\n",
        "\n",
        "\n",
        "    if secondTab:\n",
        "        sectionOfInterest = page.findAll(\"div\", {\"class\": \"col\"})[-1]\n",
        "    else:\n",
        "        sectionOfInterest = page\n",
        "\n",
        "    table = sectionOfInterest.findAll(\"tr\",{\"class\":\"tableBlock__row\"})\n",
        "\n",
        "    headers = [i.text.strip() for i in table[0].findAll(\"th\", {\"class\":\"tableBlock__col tableBlock__col_header\"})]\n",
        "    data = [list(filter(None, [j.strip() for j in i.text.split(\"\\n\")])) for i in table[1].findAll(\"td\")]\n",
        "  \n",
        "    tableDict = {headers[i] : data[i] for i in range(len(headers))}\n",
        "\n",
        "    return tableDict"
      ]
    },
    {
      "cell_type": "code",
      "execution_count": 369,
      "metadata": {
        "id": "Jq9BLFkUaDPW"
      },
      "outputs": [],
      "source": [
        "def scrapeData(reg):\n",
        "\n",
        "  # Input: reg = one registration number.\n",
        "\n",
        "  # Different URL from the one above, this accesses more information from Zakupki.\n",
        "  dir = \"https://zakupki.gov.ru/epz/contract/contractCard/{}.html?reestrNumber={}\"\n",
        "\n",
        "  # Getting the web page for the given contract\n",
        "  tempDir = dir.format(\"common-info\", reg)\n",
        "  page = getPage(tempDir)\n",
        "\n",
        "  # print(page)\n",
        "\n",
        "\n",
        "  # We probably don't need this with the method I've used below.\n",
        "  contractTypeTwo = False\n",
        "\n",
        "  # Enter the text here that should be present to signify the second type of contract.\n",
        "  if page.findAll(text=\"Основание заключения контракта с единственным поставщиком\"):\n",
        "    contractTypeTwo = True\n",
        "\n",
        "\n",
        "  # print(page)\n",
        "\n",
        "  id = reg\n",
        "\n",
        "  ### first tab info ###\n",
        "  cardinfo=page.findAll(\"span\",{\"class\":\"cardMainInfo__content\"})\n",
        "  signed=cardinfo[3].text.strip()\n",
        "  deadline=cardinfo[4].text.strip()\n",
        "  price=page.find(\"span\", {\"class\":\"cardMainInfo__content cost\"}).text.replace(\"\\xa0\",\"\").replace(\",\",\".\").replace(\"₽\",\"\").strip()\n",
        "\n",
        "  ### if there's Основание заключения контракта с единственным поставщиком - then change location in the table ### \n",
        "\n",
        "  \n",
        "  sectionDict = getSectionDict(page)\n",
        "  firstTableDict = getTableDict(page)\n",
        "\n",
        "  print(sectionDict, firstTableDict)\n",
        "\n",
        "\n",
        "  # print(sectionDict, firstTableDict)\n",
        "\n",
        "  method = sectionDict[\"Способ определения поставщика (подрядчика, исполнителя)\"]\n",
        "\n",
        "  ### details about winner - ALSO, THERE'S OPTION TO SCRAPE SUBCONTRACTORS ### \n",
        "\n",
        "\n",
        "  # print(firstTableDict)\n",
        "\n",
        "\n",
        "  # Get these from the firstTableDict\n",
        "  # procurer=org[0]\n",
        "  # inn=org[9]\n",
        "  # kpp=org[13]\n",
        "  # registered=org[17]\n",
        "\n",
        "  # address=table[2].text.strip()\n",
        "  # numbermail=table[3].text.strip().split(\"\\n\")\n",
        "  # number=numbermail[0]\n",
        "  # mail=numbermail[1].strip()\n",
        "\n",
        "  ### Second tab ###\n",
        "  tempDir = dir.format(\"payment-info-and-target-of-order\", reg)\n",
        "  page = getPage(tempDir)\n",
        "\n",
        "  ### code stands for the product code, which can be later identified to return industry type ### \n",
        "  \n",
        "  secondTableDict = getTableDict(page, True)\n",
        "\n",
        "  # print(secondTableDict)\n",
        "  # secondtab=page.findAll(\"div\", {\"class\": \"col\"})\n",
        "  # tables = []\n",
        "  # for tab in secondtab:\n",
        "  #     tables.append(tab.findAll(\"tbody\"))\n",
        "  # object=tables[-1][0].findAll(\"td\",{\"class\":\"tableBlock__col\"})\n",
        "  # print(object)\n",
        "\n",
        "  \n",
        "  try:\n",
        "    code = secondTableDict[\"Позиции по КТРУ, ОКПД2\"][1][1:-1]\n",
        "    product = secondTableDict[\"Позиции по КТРУ, ОКПД2\"][0]\n",
        "  except:\n",
        "    code = 0.0\n",
        "    product = \"\"\n",
        "    print(\"Failed to entirely scrape. \\n {}\".format(tempDir))\n",
        "\n",
        "\n",
        "  # Create the Contract dataclass object and append it to a list of objects.\n",
        "  # This method means that missing data can be accounted for.\n",
        "  # print(method)\n",
        "\n",
        "  contract = Contract(id=id, price=price, signed=signed, deadline=deadline, method=method, code=code, product=product)\n",
        "  contracts.append(contract)\n",
        "\n"
      ]
    },
    {
      "cell_type": "markdown",
      "metadata": {
        "id": "CitfSwF2p94x"
      },
      "source": [
        "### Section 5: Starting execution\n",
        "Scrape the contracts themselves using threading"
      ]
    },
    {
      "cell_type": "code",
      "execution_count": 370,
      "metadata": {},
      "outputs": [],
      "source": [
        "def scrape(reg):\n",
        "    \n",
        "    try:\n",
        "        _ = int(reg)\n",
        "        print(\"Scraping {}\".format(reg))\n",
        "        scrapeData(reg)\n",
        "    except TypeError:\n",
        "        for r in tqdm(reg):\n",
        "            print(\"Scraping {}\".format(r))\n",
        "            scrapeData(r)"
      ]
    },
    {
      "cell_type": "code",
      "execution_count": 371,
      "metadata": {
        "colab": {
          "base_uri": "https://localhost:8080/"
        },
        "id": "RseKcK3_XT7R",
        "outputId": "2e193036-25a2-4b02-8d91-34a6293d9141"
      },
      "outputs": [
        {
          "name": "stdout",
          "output_type": "stream",
          "text": [
            "Starting scrape with 794 reg numbers\n",
            "\n"
          ]
        },
        {
          "name": "stderr",
          "output_type": "stream",
          "text": [
            " 10%|█         | 5/50 [00:00<00:01, 43.48it/s]"
          ]
        },
        {
          "name": "stdout",
          "output_type": "stream",
          "text": [
            "Scraping 3665500092616000001\n",
            "{'Реестровый номер контракта': '36655000926 16 000001', 'Статус контракта': 'Исполнение завершено', 'Номер извещения об осуществлении закупки': '0162300011316000007', 'Способ определения поставщика (подрядчика, исполнителя)': 'Электронный аукцион', 'Дата подведения результатов определения поставщика (подрядчика, исполнителя)': '23.05.2016', 'Дата размещения (по местному времени)': '07.06.2016 10:04 (МСК+2)', 'Реквизиты документа, подтверждающего основание заключения контракта': '0162300011316000007-1', 'Информация о банковском и (или) казначейском сопровождении контракта': 'Банковское или казначейское сопровождение контракта не требуется', 'Полное наименование заказчика': 'Управление образования администрации Тугулымского городского округа', 'Сокращенное наименование заказчика': 'УПРАВЛЕНИЕ ОБРАЗОВАНИЯ АДМИНИСТРАЦИИ ТГО', 'Дата постановки на учет в налоговом органе': '06.02.1992', 'Идентификационный код заказчика': '36655000926663301001', 'ИНН': '6655000926', 'КПП': '663301001', 'Код организационно-правовой формы': '75404', 'Код ОКПО': '02116474', 'Код территории муниципального образования': '65725000051 – пгт Тугулым', 'Наименование бюджета': 'Бюджет Тугулымского городского округа', 'Уровень бюджета': '13\\xa0-\\xa0местный бюджет', 'Дата заключения контракта': '06.06.2016', 'Номер контракта': '0162300011316000007-0216683-02', 'Цена контракта': '1\\xa0665\\xa0000,00', 'Валюта контракта': 'Российский рубль (₽)', 'Дата начала исполнения контракта': '06.06.2016', 'Дата окончания исполнения контракта': '25.12.2016', 'Идентификатор этапа контракта': '23539759', 'Размер обеспечения исполнения контракта, ₽': '83\\xa0250,00', 'Код по ОКПО:': '31392241'} {'Организация': ['ОБЩЕСТВО С ОГРАНИЧЕННОЙ ОТВЕТСТВЕННОСТЬЮ \"КИП\" (ООО \"КИП\")', 'Код по ОКПО:', '31392241', 'ИНН:', '6671015334', 'КПП:', '667101001', 'Дата постановки на учет:', '25.06.2015'], 'Страна, код': ['Российская Федерация', '643'], 'Адрес места нахождения': ['620146, обл СВЕРДЛОВСКАЯ 66, г ЕКАТЕРИНБУРГ, ул АМУНДСЕНА, ДОМ 62, КАБИНЕТ 6'], 'Телефон, электронная почта': ['7-34321-73333', 'info@avtospec.ru'], '': []}\n",
            "Scraping 1666001117616000001\n",
            "{'Реестровый номер контракта': '16660011176 16 000001', 'Статус контракта': 'Исполнение завершено', 'Номер извещения об осуществлении закупки': '0862100004116000001', 'Способ определения поставщика (подрядчика, исполнителя)': 'Электронный аукцион', 'Дата подведения результатов определения поставщика (подрядчика, исполнителя)': '24.05.2016', 'Дата размещения (по местному времени)': '07.06.2016 13:53 (МСК+2)', 'Реквизиты документа, подтверждающего основание заключения контракта': 'Протокол подведения итогов электронного аукциона № 1453671 от 24.05.2016', 'Информация о банковском и (или) казначейском сопровождении контракта': 'Банковское или казначейское сопровождение контракта не требуется', 'Полное наименование заказчика': 'ФЕДЕРАЛЬНОЕ ГОСУДАРСТВЕННОЕ КАЗЕННОЕ ОБЩЕОБРАЗОВАТЕЛЬНОЕ УЧРЕЖДЕНИЕ \"ЕКАТЕРИНБУРГСКОЕ СУВОРОВСКОЕ ВОЕННОЕ УЧИЛИЩЕ\" МИНИСТЕРСТВА ОБОРОНЫ РОССИЙСКОЙ ФЕДЕРАЦИИ', 'Дата постановки на учет в налоговом органе': '03.11.1994', 'Идентификационный код заказчика': '16660011176667001001', 'ИНН': '', 'КПП': '', 'Код организационно-правовой формы': '', 'Код ОКПО': '', 'Код территории муниципального образования': '65701000001 – г Екатеринбург', 'Наименование бюджета': 'Федеральный бюджет', 'Уровень бюджета': '11\\xa0-\\xa0федеральный бюджет', 'Дата заключения контракта': '06.06.2016', 'Номер контракта': '441797', 'Цена контракта': '1\\xa0746\\xa0485,54', 'Валюта контракта': 'Российский рубль (₽)', 'Дата начала исполнения контракта': '06.06.2016', 'Дата окончания исполнения контракта': '01.08.2016', 'Идентификатор этапа контракта': '23541975', 'Размер обеспечения исполнения контракта, ₽': '130\\xa0987,25', 'Код по ОКПО:': '89301220'} {'Организация': ['ОБЩЕСТВО С ОГРАНИЧЕННОЙ ОТВЕТСТВЕННОСТЬЮ \"УРАЛТРЕЙД\" (ОБЩЕСТВО С ОГРАНИЧЕННОЙ ОТВЕТСТВЕННОСТЬЮ \"УРАЛТРЕЙД\")', 'Код по ОКПО:', '89301220', 'ИНН:', '6672283657', 'КПП:', '667201001', 'Дата постановки на учет:', '30.10.2008'], 'Страна, код': ['Российская Федерация', '643'], 'Адрес места нахождения': ['620075, обл СВЕРДЛОВСКАЯ 66, г ЕКАТЕРИНБУРГ, ул БЕЛИНСКОГО, 34, ОФИС 310'], 'Телефон, электронная почта': ['8-343-3780603', '1@3852522.ru'], '': []}\n",
            "Scraping 3664200113616000036\n",
            "{'Реестровый номер контракта': '36642001136 16 000036', 'Статус контракта': 'Исполнение завершено', 'Номер извещения об осуществлении закупки': '0162200011816000500', 'Способ определения поставщика (подрядчика, исполнителя)': 'Электронный аукцион', 'Дата подведения результатов определения поставщика (подрядчика, исполнителя)': '20.05.2016', 'Дата размещения (по местному времени)': '02.10.2017 14:31 (МСК+2)', 'Реквизиты документа, подтверждающего основание заключения контракта': '0162200011816000500-3', 'Информация о банковском и (или) казначейском сопровождении контракта': 'Банковское или казначейское сопровождение контракта не требуется', 'Основание для изменения': 'исправление сведений', 'Реквизиты документа, являющегося основанием\\n                                        изменения условий контракта': '«Дополнительное соглашение к контракту»\\n                                        \\n                                        \\n                                        \\n                                            от \\n                                            18.08.2017 (МСК+2)', 'Полное наименование заказчика': 'АДМИНИСТРАЦИЯ ИРБИТСКОГО МУНИЦИПАЛЬНОГО ОБРАЗОВАНИЯ', 'Сокращенное наименование заказчика': 'АДМИНИСТРАЦИЯ ИРБИТСКОГО МО', 'Дата постановки на учет в налоговом органе': '01.09.2011', 'Идентификационный код заказчика': '36642001136667601001', 'ИНН': '6642001136', 'КПП': '667601001', 'Код организационно-правовой формы': '75404', 'Код ОКПО': '04041616', 'Код территории муниципального образования': '65000000 – Муниципальные образования Свердловской области', 'Наименование бюджета': 'Бюджет Ирбитского муниципального образования', 'Уровень бюджета': '30\\xa0-\\xa0местный бюджет', 'Дата заключения контракта': '06.06.2016', 'Номер контракта': '0162200011816000500-0138270-01', 'Цена контракта': '18\\xa0187\\xa0717,84\\n                                                \\n                                                    \\n\\nЗагрузка ...', 'В том числе НДС': '0,00 ₽', 'Валюта контракта': 'Российский рубль (₽)', 'Дата начала исполнения контракта': '06.06.2016', 'Дата окончания исполнения контракта': '31.12.2017', 'Идентификатор этапа контракта': '23540851', 'Номер реестровой записи реестра независимых гарантий\\n                                            (исполнение контракта)': '01Q36642001136160013', 'Размер обеспечения исполнения контракта, ₽': '12\\xa0677\\xa0350,50', 'Код по ОКПО:': '80140175'} {'Организация': [\"ООО 'Инвестгражданстрой' (ООО 'Инвестгражданстрой')\", 'Код по ОКПО:', '80140175', 'ИНН:', '7204109295', 'КПП:', '720501001', 'Дата постановки на учет:', '10.06.2015'], 'Страна, код': ['Российская Федерация', '643'], 'Адрес места нахождения': ['627750, Российская Федерация, Тюменская обл., Ишимский р-н, г. Ишим, ул. Промышленная, 6, ОКАТО: 71405000000'], 'Телефон, электронная почта': ['7-34551-51413', 'investgs@mail.ru'], '': []}\n",
            "Scraping 2662200237116000039\n",
            "{'Реестровый номер контракта': '26622002371 16 000039', 'Статус контракта': 'Исполнение завершено', 'Номер извещения об осуществлении закупки': '0362300326216000040', 'Способ определения поставщика (подрядчика, исполнителя)': 'Закупка у единственного поставщика (подрядчика, исполнителя)', 'Дата размещения (по местному времени)': '23.06.2016 09:58 (МСК+2)', 'Основание заключения контракта с единственным поставщиком': 'Закупка оказания услуг по водоснабжению, водоотведению, теплоснабжению, обращению с твердыми коммунальными отходами, газоснабжению (за исключением услуг по реализации сжиженного газа), по подключению (присоединению) к сетям инженерно-технического обеспечения по хранению и ввозу (вывозу) наркотических средств и психотропных веществ', 'Информация о банковском и (или) казначейском сопровождении контракта': 'Банковское или казначейское сопровождение контракта не требуется', 'Основание для изменения': 'техническая ошибка', 'Полное наименование заказчика': 'ГОСУДАРСТВЕННОЕ БЮДЖЕТНОЕ УЧРЕЖДЕНИЕ ЗДРАВООХРАНЕНИЯ СВЕРДЛОВСКОЙ ОБЛАСТИ \"НИЖНЕСАЛДИНСКАЯ ЦЕНТРАЛЬНАЯ ГОРОДСКАЯ БОЛЬНИЦА\"', 'Сокращенное наименование заказчика': 'ГБУЗ СО \"НИЖНЕСАЛДИНСКАЯ ЦГБ\"', 'Дата постановки на учет в налоговом органе': '01.01.2013', 'Идентификационный код заказчика': '26622002371662201001', 'ИНН': '6622002371', 'КПП': '662301001', 'Код организационно-правовой формы': '75203', 'Код ОКПО': '01944878', 'Код территории муниципального образования': '65750000 – Нижняя Салда', 'Наименование бюджета': 'Бюджет Свердловской области', 'Уровень бюджета': '12\\xa0-\\xa0бюджет субъекта Российской Федерации', 'Наименование внебюджетных средств': '21\\xa0-\\xa0Средства бюджетных учреждений', 'Дата заключения контракта': '06.06.2016', 'Номер контракта': '126/16', 'Цена контракта': '1\\xa0910\\xa0940,52', 'Валюта контракта': 'Российский рубль (₽)', 'Дата начала исполнения контракта': '06.06.2016', 'Дата окончания исполнения контракта': '31.12.2016\\n                                \\n                                    \\n\\nЗагрузка ...', 'Идентификатор этапа контракта': '23581123', 'Код по ОКПО:': '0000000'} {'Организация': ['МУНИЦИПАЛЬНОЕ УНИТАРНОЕ ПРЕДПРИЯТИЕ \"САЛДАЭНЕРГО\" (МУП \"САЛДАЭНЕРГО\")', 'Код по ОКПО:', '0000000', 'ИНН:', '6623104190', 'КПП:', '662301001', 'Дата постановки на учет:', '05.08.2014'], 'Страна, код': ['Российская Федерация', '643'], 'Адрес места нахождения': ['624740, обл СВЕРДЛОВСКАЯ 66, г НИЖНЯЯ САЛДА, ул ЛЕНИНА, 19'], 'Телефон, электронная почта': ['7-34345-30610', 'saldaenergo@mail.ru'], '': []}\n",
            "Scraping 3663000494317000008\n",
            "{'Реестровый номер контракта': '36630004943 17 000008', 'Статус контракта': 'Исполнение завершено', 'Номер извещения об осуществлении закупки': '0362300162216000032', 'Способ определения поставщика (подрядчика, исполнителя)': 'Электронный аукцион', 'Дата подведения результатов определения поставщика (подрядчика, исполнителя)': '26.05.2016', 'Дата размещения (по местному времени)': '31.07.2017 13:31 (МСК+2)', 'Реквизиты документа, подтверждающего основание заключения контракта': '0362300162216000032-3; 0362300162216000032-3', 'Информация о банковском и (или) казначейском сопровождении контракта': 'Банковское или казначейское сопровождение контракта не требуется', 'Полное наименование заказчика': 'МУНИЦИПАЛЬНОЕ БЮДЖЕТНОЕ УЧРЕЖДЕНИЕ \"САНАТОРИЙ-ПРОФИЛАКТОРИЙ \"СОЛНЫШКО\"', 'Сокращенное наименование заказчика': 'МБУ \"ДООЦ \"СОЛНЫШКО\"', 'Дата постановки на учет в налоговом органе': '06.04.1995', 'Идентификационный код заказчика': '36630004943668101001', 'ИНН': '6630004943', 'КПП': '668101001', 'Код организационно-правовой формы': '75403', 'Код ОКПО': '35154366', 'Код территории муниципального образования': '65749000 – город Лесной', 'Наименование бюджета': 'Бюджет городского округа \"Город Лесной\"', 'Уровень бюджета': '30\\xa0-\\xa0местный бюджет', 'Дата заключения контракта': '06.06.2016', 'Номер контракта': '154', 'Цена контракта': '1\\xa0615\\xa0787,26', 'Валюта контракта': 'Российский рубль (₽)', 'Дата начала исполнения контракта': '07.06.2016', 'Дата окончания исполнения контракта': '16.06.2016', 'Идентификатор этапа контракта': '25285209', 'Номер реестровой записи реестра независимых гарантий\\n                                            (исполнение контракта)': '0J536630004943160006', 'Размер обеспечения исполнения контракта, ₽': '190\\xa0795,00', 'Код по ОКПО:': '47667094'} {'Организация': ['ОБЩЕСТВО С ОГРАНИЧЕННОЙ ОТВЕТСТВЕННОСТЬЮ \"ПРИОРИТЕТ\" (ООО \"ПРИОРИТЕТ\")', 'Код по ОКПО:', '47667094', 'ИНН:', '6671035299', 'КПП:', '667101001', 'Дата постановки на учет:', '18.02.2016'], 'Страна, код': ['Российская Федерация', '643'], 'Адрес места нахождения': ['620142, Г. Екатеринбург, УЛ. Большакова, 85-19'], 'Телефон, электронная почта': ['8-343-2867845', 'u-consalt@mail.ru'], '': []}\n",
            "Scraping 3663000494316000046\n",
            "{'Реестровый номер контракта': '36630004943 16 000046', 'Статус контракта': 'Исполнение завершено', 'Номер извещения об осуществлении закупки': '0362300162216000033', 'Способ определения поставщика (подрядчика, исполнителя)': 'Электронный аукцион', 'Дата подведения результатов определения поставщика (подрядчика, исполнителя)': '26.05.2016', 'Дата размещения (по местному времени)': '27.06.2016 16:31 (МСК+2)', 'Реквизиты документа, подтверждающего основание заключения контракта': '0362300162216000033-3; протокола подведения итогов № 03623001622000034-3 от «26» мая 2016 года', 'Информация о банковском и (или) казначейском сопровождении контракта': 'Банковское или казначейское сопровождение контракта не требуется', 'Полное наименование заказчика': 'Муниципальное бюджетное учреждение \"Санаторий-профилакторий \"Солнышко\"', 'Сокращенное наименование заказчика': 'МБУ \"ДООЦ \"СОЛНЫШКО\"', 'Дата постановки на учет в налоговом органе': '06.04.1995', 'Идентификационный код заказчика': '36630004943663001001', 'ИНН': '6630004943', 'КПП': '668101001', 'Код организационно-правовой формы': '75403', 'Код ОКПО': '35154366', 'Код территории муниципального образования': '65749000 – город Лесной', 'Наименование бюджета': 'Бюджет городского округа \"Город Лесной\"', 'Уровень бюджета': '13\\xa0-\\xa0местный бюджет', 'Дата заключения контракта': '06.06.2016', 'Номер контракта': '155', 'Цена контракта': '1\\xa0550\\xa0708,75', 'Валюта контракта': 'Российский рубль (₽)', 'Дата начала исполнения контракта': '06.06.2016', 'Дата окончания исполнения контракта': '16.06.2016', 'Идентификатор этапа контракта': '23947365', 'Размер обеспечения исполнения контракта, ₽': '155\\xa0070,89', 'Код по ОКПО:': '36402659'} {'Организация': ['Общество с ограниченной ответственностью \"УМКА\" (ООО \"УМКА\")', 'Код по ОКПО:', '36402659', 'ИНН:', '6658475445', 'КПП:', '665801001', 'Дата постановки на учет:', '11.08.2015'], 'Страна, код': ['Российская Федерация', '643'], 'Адрес места нахождения': ['620000, Свердловская обл, Екатеринбург г, ул.репина, д.20 - 7'], 'Телефон, электронная почта': ['8-912-0399343', 'dettov_com6@mail.ru'], '': []}\n",
            "Scraping 3667131029816000032\n",
            "{'Реестровый номер контракта': '36671310298 16 000032', 'Статус контракта': 'Исполнение завершено', 'Номер извещения об осуществлении закупки': '0162300005316000934', 'Способ определения поставщика (подрядчика, исполнителя)': 'Электронный аукцион', 'Дата подведения результатов определения поставщика (подрядчика, исполнителя)': '23.05.2016', 'Дата размещения (по местному времени)': '25.01.2017 16:28 (МСК+2)', 'Реквизиты документа, подтверждающего основание заключения контракта': 'Протокол подведения итогов электронного аукциона № 0162300005316000934-3 от 24.05.2016; 23.05.2016, №0162300005316000934, протокол подведения итогов электронного аукциона', 'Информация о банковском и (или) казначейском сопровождении контракта': 'Банковское или казначейское сопровождение контракта не требуется', 'Причина изменения условий контракта': 'При уменьшении по предложению заказчика предусмотренных контрактом (за исключением контракта, предметом которого является выполнение работ по строительству, реконструкции, капитальному ремонту, сносу объекта капитального строительства, проведению работ по сохранению объектов культурного наследия (памятников истории и культуры) народов Российской Федерации) количества товара, объема работы или услуги не более чем на десять процентов с уменьшением цены контракта исходя из цены единицы товара, работы или услуги', 'Реквизиты документа, являющегося основанием\\n                                        изменения условий контракта': '«Дополнительное соглашение к контракту»\\n                                        \\n                                        3\\n                                        \\n                                            от \\n                                            24.01.2017 (МСК+2)', 'Полное наименование заказчика': 'МУНИЦИПАЛЬНОЕ КАЗЕННОЕ УЧРЕЖДЕНИЕ \"ГОРОДСКОЕ БЛАГОУСТРОЙСТВО\"', 'Сокращенное наименование заказчика': 'МКУ \"ГОРОДСКОЕ БЛАГОУСТРОЙСТВО\"', 'Дата постановки на учет в налоговом органе': '04.02.2010', 'Идентификационный код заказчика': '36671310298667101001', 'ИНН': '6671310298', 'КПП': '667101001', 'Код организационно-правовой формы': '75404', 'Код ОКПО': '65600107', 'Код территории муниципального образования': '65701000 – город Екатеринбург', 'Наименование бюджета': 'Бюджет муниципального образования \"город Екатеринбург\"', 'Уровень бюджета': '30\\xa0-\\xa0местный бюджет', 'Дата заключения контракта': '06.06.2016', 'Номер контракта': 'Ф.2016.99977', 'Цена контракта': '5\\xa0461\\xa0152,44\\n                                                \\n                                                    \\n\\nЗагрузка ...', 'Валюта контракта': 'Российский рубль (₽)', 'Дата начала исполнения контракта': '06.06.2016', 'Дата окончания исполнения контракта': '31.12.2016', 'Идентификатор этапа контракта': '23542748', 'Номер реестровой записи реестра независимых гарантий\\n                                            (исполнение контракта)': '0ID36671310298160012', 'Размер обеспечения исполнения контракта, ₽': '371\\xa0730,04'} {'Организация': ['Кагарманов Сабирьян РаисовичИндивидуальный\\xa0предприниматель', 'ИНН:', '666001899996', 'Дата постановки на учет:', '01.10.2007'], 'Страна, код': ['Российская Федерация', '643'], 'Адрес места нахождения': ['620137, Свердловская область, город Екатеринбург, ул. Советская, д. 46 кв. 14'], 'Телефон, электронная почта': ['73433793303-343-3793303', 'armetiki@mail.ru'], '': []}\n",
            "Scraping 3660200986916000054\n",
            "{'Реестровый номер контракта': '36602009869 16 000054', 'Статус контракта': 'Исполнение завершено', 'Номер извещения об осуществлении закупки': '0362300008616000044', 'Способ определения поставщика (подрядчика, исполнителя)': 'Электронный аукцион', 'Дата подведения результатов определения поставщика (подрядчика, исполнителя)': '24.05.2016', 'Дата размещения (по местному времени)': '06.06.2016 09:06 (МСК+2)', 'Основание заключения контракта с единственным поставщиком': 'Закупка вследствие признания несостоявшимся электронного аукциона по основаниям, представленным в пункте 6 части 2, части 5, части 7 статьи 52 Федерального закона', 'Реквизиты документа, подтверждающего основание заключения контракта': '0362300008616000044-3', 'Информация о банковском и (или) казначейском сопровождении контракта': 'Банковское или казначейское сопровождение контракта не требуется', 'Полное наименование заказчика': 'Муниципальное бюджетное учреждение Артемовского городского округа \"Жилкомстрой\"', 'Сокращенное наименование заказчика': 'МКУ ЖКС', 'Дата постановки на учет в налоговом органе': '27.04.2005', 'Идентификационный код заказчика': '36602009869660201001', 'ИНН': '6602009869', 'КПП': '667701001', 'Код организационно-правовой формы': '75404', 'Код ОКПО': '77156528', 'Код территории муниципального образования': '65703000 – Артемовский', 'Наименование бюджета': 'Бюджет Артемовского городского округа', 'Уровень бюджета': '13\\xa0-\\xa0местный бюджет', 'Дата заключения контракта': '06.06.2016', 'Номер контракта': '0362300008616000044-0050433-01', 'Цена контракта': '1\\xa0979\\xa0555,48', 'Валюта контракта': 'Российский рубль (₽)', 'Дата начала исполнения контракта': '06.06.2016', 'Дата окончания исполнения контракта': '05.07.2016', 'Идентификатор этапа контракта': '23508611', 'Номер реестровой записи реестра независимых гарантий\\n                                            (исполнение контракта)': '0B636602009869160011', 'Размер обеспечения исполнения контракта, ₽': '198\\xa0950,30', 'Код по ОКПО:': '98697317'} {'Организация': ['ООО \"Егоршинская строительная компания\"', 'Код по ОКПО:', '98697317', 'ИНН:', '6602010818', 'КПП:', '660201001', 'Дата постановки на учет:', '26.10.2006'], 'Страна, код': ['Российская Федерация', '643'], 'Адрес места нахождения': ['623780 Свердловская область, г. Артемовский, ул. Паровозников,30'], 'Телефон, электронная почта': ['7-963-2733300', 'esc66@mail.ru'], '': []}\n",
            "Scraping 2667138083416000369\n",
            "{'Реестровый номер контракта': '26671380834 16 000369', 'Статус контракта': 'Исполнение завершено', 'Номер извещения об осуществлении закупки': '0362200050716000449', 'Способ определения поставщика (подрядчика, исполнителя)': 'Закупка у единственного поставщика (подрядчика, исполнителя)', 'Дата размещения (по местному времени)': '02.05.2017 10:43 (МСК+2)', 'Основание заключения контракта с единственным поставщиком': 'Закупка оказания услуг по водоснабжению, водоотведению, теплоснабжению, обращению с твердыми коммунальными отходами, газоснабжению (за исключением услуг по реализации сжиженного газа), по подключению (присоединению) к сетям инженерно-технического обеспечения по хранению и ввозу (вывозу) наркотических средств и психотропных веществ', 'Информация о банковском и (или) казначейском сопровождении контракта': 'Банковское или казначейское сопровождение контракта не требуется', 'Причина изменения условий контракта': 'При уменьшении по предложению заказчика предусмотренных контрактом (за исключением контракта, предметом которого является выполнение работ по строительству, реконструкции, капитальному ремонту, сносу объекта капитального строительства, проведению работ по сохранению объектов культурного наследия (памятников истории и культуры) народов Российской Федерации) количества товара, объема работы или услуги не более чем на десять процентов с уменьшением цены контракта исходя из цены единицы товара, работы или услуги', 'Реквизиты документа, являющегося основанием\\n                                        изменения условий контракта': '«Дополнительное соглашение к контракту»\\n                                        \\n                                        1\\n                                        \\n                                            от \\n                                            27.04.2017 (МСК+2)', 'Полное наименование заказчика': 'ГОСУДАРСТВЕННОЕ БЮДЖЕТНОЕ УЧРЕЖДЕНИЕ ЗДРАВООХРАНЕНИЯ СВЕРДЛОВСКОЙ ОБЛАСТИ \"ПРОТИВОТУБЕРКУЛЕЗНЫЙ ДИСПАНСЕР\"', 'Сокращенное наименование заказчика': 'ГБУЗ СО \"ПТД\"', 'Дата постановки на учет в налоговом органе': '16.12.2011', 'Идентификационный код заказчика': '26671380834667101001', 'ИНН': '6671380834', 'КПП': '667101001', 'Код организационно-правовой формы': '75203', 'Код ОКПО': '37930277', 'Код территории муниципального образования': '65000000 – Муниципальные образования Свердловской области', 'Наименование бюджета': 'Бюджет Свердловской области', 'Уровень бюджета': '20\\xa0-\\xa0бюджет субъекта Российской Федерации', 'Дата заключения контракта': '06.06.2016', 'Номер контракта': '12-С', 'Цена контракта': '1\\xa0241\\xa0473,83\\n                                                \\n                                                    \\n\\nЗагрузка ...', 'Валюта контракта': 'Российский рубль (₽)', 'Дата начала исполнения контракта': '01.01.2016', 'Дата окончания исполнения контракта': '31.12.2016', 'Идентификатор этапа контракта': '23510339', 'Код по ОКПО:': '11111111'} {'Организация': ['ОТКРЫТОЕ АКЦИОНЕРНОЕ ОБЩЕСТВО \"БОГДАНОВИЧСКАЯ ГЕНЕРИРУЮЩАЯ КОМПАНИЯ\" (ОАО \"БГК\")', 'Код по ОКПО:', '11111111', 'ИНН:', '6633016739', 'КПП:', '663301001', 'Дата постановки на учет:', '06.07.2010'], 'Страна, код': ['Российская Федерация', '643'], 'Адрес места нахождения': ['623530, обл СВЕРДЛОВСКАЯ 66, г БОГДАНОВИЧ, ул ГАГАРИНА, 26\"А\"'], 'Телефон, электронная почта': ['7-000-0000000', 'energ@bk.ru'], '': []}\n",
            "Scraping 3667319873216000029\n",
            "{'Реестровый номер контракта': '36673198732 16 000029', 'Статус контракта': 'Исполнение завершено', 'Номер извещения об осуществлении закупки': '0162300005316001398', 'Способ определения поставщика (подрядчика, исполнителя)': 'Электронный аукцион', 'Дата подведения результатов определения поставщика (подрядчика, исполнителя)': '24.05.2016', 'Дата размещения (по местному времени)': '29.12.2016 10:23 (МСК+2)', 'Реквизиты документа, подтверждающего основание заключения контракта': '0162300005316001398-3', 'Информация о банковском и (или) казначейском сопровождении контракта': 'Банковское или казначейское сопровождение контракта не требуется', 'Полное наименование заказчика': 'МУНИЦИПАЛЬНОЕ БЮДЖЕТНОЕ УЧРЕЖДЕНИЕ \"ОРДЖОНИКИДЗЕВСКИЙ ДОРОЖНО-ЭКСПЛУАТАЦИОННЫЙ УЧАСТОК\"', 'Сокращенное наименование заказчика': 'МБУ \"ОРДЖОНИКИДЗЕВСКИЙ ДЭУ\"', 'Дата постановки на учет в налоговом органе': '01.01.2012', 'Идентификационный код заказчика': '36673198732668601001', 'ИНН': '6673198732', 'КПП': '668601001', 'Код организационно-правовой формы': '75403', 'Код ОКПО': '05171156', 'Код территории муниципального образования': '65701000 – город Екатеринбург', 'Наименование бюджета': 'Бюджет муниципального образования \"город Екатеринбург\"', 'Уровень бюджета': '30\\xa0-\\xa0местный бюджет', 'Дата заключения контракта': '06.06.2016', 'Номер контракта': 'Ф.2016.99461', 'Цена контракта': '1\\xa0760\\xa0945,20', 'Валюта контракта': 'Российский рубль (₽)', 'Дата начала исполнения контракта': '06.06.2016', 'Дата окончания исполнения контракта': '30.11.2016', 'Идентификатор этапа контракта': '28147546', 'Размер обеспечения исполнения контракта, ₽': '113\\xa0516,00', 'Код по ОКПО:': '56972732'} {'Организация': ['ОБЩЕСТВО С ОГРАНИЧЕННОЙ ОТВЕТСТВЕННОСТЬЮ \"РАПШАН\" (ООО \"РАПШАН\")', 'Код по ОКПО:', '56972732', 'ИНН:', '6663080354', 'КПП:', '667301001', 'Дата постановки на учет:', '09.12.2002'], 'Страна, код': ['Российская Федерация', '643'], 'Адрес места нахождения': ['620017, Российская Федерация, Свердловская обл., г. Екатеринбург, ул. Фронтовых бригад, дом 31, 526, ОКАТО: 65401385000'], 'Телефон, электронная почта': ['7-343-3831500', 'buhga2013@mail.ru'], '': []}\n"
          ]
        },
        {
          "name": "stderr",
          "output_type": "stream",
          "text": [
            " 32%|███▏      | 16/50 [00:00<00:00, 43.30it/s]"
          ]
        },
        {
          "name": "stdout",
          "output_type": "stream",
          "text": [
            "Scraping 1667033496216000273\n",
            "{'Реестровый номер контракта': '16670334962 16 000273', 'Статус контракта': 'Исполнение завершено', 'Номер извещения об осуществлении закупки': '0862100000216000315', 'Способ определения поставщика (подрядчика, исполнителя)': 'Закупка у единственного поставщика (подрядчика, исполнителя)', 'Дата размещения (по местному времени)': '21.12.2016 16:49 (МСК+2)', 'Основание заключения контракта с единственным поставщиком': 'Закупка оказания услуг по водоснабжению, водоотведению, теплоснабжению, обращению с твердыми коммунальными отходами, газоснабжению (за исключением услуг по реализации сжиженного газа), по подключению (присоединению) к сетям инженерно-технического обеспечения по хранению и ввозу (вывозу) наркотических средств и психотропных веществ', 'Информация о банковском и (или) казначейском сопровождении контракта': 'Банковское или казначейское сопровождение контракта не требуется', 'Причина изменения условий контракта': 'При снижении цены контракта без изменения предусмотренных контрактом количества товара, объема работы или услуги, качества поставляемого товара, выполняемой работы, оказываемой услуги и иных условий контракта', 'Реквизиты документа, являющегося основанием\\n                                        изменения условий контракта': '«Дополнительное соглашение к контракту »\\n                                        \\n                                        Соглашение о расторжении № 1 от 21.12.2016 года\\n                                        \\n                                            от \\n                                            21.12.2016 (МСК+2)', 'Полное наименование заказчика': 'ФЕДЕРАЛЬНОЕ КАЗЕННОЕ УЧРЕЖДЕНИЕ \"ОБЪЕДИНЕННОЕ СТРАТЕГИЧЕСКОЕ КОМАНДОВАНИЕ ЦЕНТРАЛЬНОГО ВОЕННОГО ОКРУГА\"', 'Дата постановки на учет в налоговом органе': '08.04.2011', 'Идентификационный код заказчика': '16670334962667001001', 'ИНН': '', 'КПП': '', 'Код организационно-правовой формы': '', 'Код ОКПО': '', 'Код территории муниципального образования': '65701000001 – г Екатеринбург', 'Наименование бюджета': 'Федеральный бюджет', 'Уровень бюджета': '10\\xa0-\\xa0федеральный бюджет', 'Дата заключения контракта': '06.06.2016', 'Номер контракта': '55/К/353', 'Цена контракта': '10\\xa0099\\xa0906,99\\n                                                \\n                                                    \\n\\nЗагрузка ...', 'Валюта контракта': 'Российский рубль (₽)', 'Дата начала исполнения контракта': '06.06.2016', 'Дата окончания исполнения контракта': '31.12.2016', 'Идентификатор этапа контракта': '23554380', 'Код по ОКПО:': '31481387'} {'Организация': ['МУНИЦИПАЛЬНОЕ УНИТАРНОЕ МНОГООТРАСЛЕВОЕ КОММУНАЛЬНОЕ ПРЕДПРИЯТИЕ (МУМКП)', 'Код по ОКПО:', '31481387', 'ИНН:', '2291000743', 'КПП:', '229101001', 'Дата постановки на учет:', '17.11.2005'], 'Страна, код': ['Российская Федерация', '643'], 'Адрес места нахождения': ['658076, край АЛТАЙСКИЙ 22, п ЗАТО СИБИРСКИЙ, ул СТРОИТЕЛЕЙ, 5, А'], 'Телефон, электронная почта': ['000-00-00', '/@mail.ru'], '': []}\n",
            "Scraping 3667131029816000031\n",
            "{'Реестровый номер контракта': '36671310298 16 000031', 'Статус контракта': 'Исполнение завершено', 'Номер извещения об осуществлении закупки': '0162300005316001396', 'Способ определения поставщика (подрядчика, исполнителя)': 'Электронный аукцион', 'Дата подведения результатов определения поставщика (подрядчика, исполнителя)': '23.05.2016', 'Дата размещения (по местному времени)': '19.12.2016 17:33 (МСК+2)', 'Реквизиты документа, подтверждающего основание заключения контракта': 'Протокол подведения итогов электронного аукциона № 0162300005316001396-3 от 24.05.2016; 23.05.2016, №0162300005316001396, протокол подведения итогов электронного аукциона', 'Информация о банковском и (или) казначейском сопровождении контракта': 'Банковское или казначейское сопровождение контракта не требуется', 'Причина изменения условий контракта': '', 'Реквизиты документа, являющегося основанием\\n                                        изменения условий контракта': '«Дополнительное соглашение к контракту»\\n                                        \\n                                        2\\n                                        \\n                                            от \\n                                            19.12.2016 (МСК+2)', 'Полное наименование заказчика': 'МУНИЦИПАЛЬНОЕ КАЗЕННОЕ УЧРЕЖДЕНИЕ \"ГОРОДСКОЕ БЛАГОУСТРОЙСТВО\"', 'Сокращенное наименование заказчика': 'МКУ \"ГОРОДСКОЕ БЛАГОУСТРОЙСТВО\"', 'Дата постановки на учет в налоговом органе': '04.02.2010', 'Идентификационный код заказчика': '36671310298667101001', 'ИНН': '6671310298', 'КПП': '667101001', 'Код организационно-правовой формы': '75404', 'Код ОКПО': '65600107', 'Код территории муниципального образования': '65701000 – город Екатеринбург', 'Наименование бюджета': 'Бюджет муниципального образования \"город Екатеринбург\"', 'Уровень бюджета': '30\\xa0-\\xa0местный бюджет', 'Дата заключения контракта': '06.06.2016', 'Номер контракта': 'Ф.2016.100000', 'Цена контракта': '1\\xa0571\\xa0527,54\\n                                                \\n                                                    \\n\\nЗагрузка ...', 'Валюта контракта': 'Российский рубль (₽)', 'Дата начала исполнения контракта': '06.06.2016', 'Дата окончания исполнения контракта': '31.12.2016', 'Идентификатор этапа контракта': '23542749', 'Номер реестровой записи реестра независимых гарантий\\n                                            (исполнение контракта)': '0J536671310298160013', 'Размер обеспечения исполнения контракта, ₽': '83\\xa0312,25', 'Код по ОКПО:': '27729410'} {'Организация': ['Общество с ограниченной ответственностью «Уральская Парковочная Компания» (ООО \"УПК\")', 'Код по ОКПО:', '27729410', 'ИНН:', '6670412890', 'КПП:', '667001001', 'Дата постановки на учет:', '15.10.2013'], 'Страна, код': [], 'Адрес места нахождения': ['620078, Свердловская область, город Екатеринбург, 620078, Российская Федерация, Свердловская обл., г. Екатеринбург, ул. Библиотечная, 45, 685'], 'Телефон, электронная почта': ['+7(922)1880794', 'info@ural-pc.ru'], 'Статус': ['субъект малого предпринимательства']}\n",
            "Scraping 1666101464516000179\n",
            "{'Реестровый номер контракта': '16661014645 16 000179', 'Статус контракта': 'Исполнение завершено', 'Номер извещения об осуществлении закупки': '0362100026216000181', 'Способ определения поставщика (подрядчика, исполнителя)': 'Электронный аукцион', 'Дата подведения результатов определения поставщика (подрядчика, исполнителя)': '24.05.2016', 'Дата размещения (по местному времени)': '21.11.2016 11:27 (МСК+2)', 'Реквизиты документа, подтверждающего основание заключения контракта': '0362100026216000181-3; 159-3 от 24.05.2016', 'Информация о банковском и (или) казначейском сопровождении контракта': 'Банковское или казначейское сопровождение контракта не требуется', 'Причина изменения условий контракта': 'При увеличении по предложению заказчика предусмотренных контрактом (за исключением контракта, предметом которого является выполнение работ по строительству, реконструкции, капитальному ремонту, сносу объекта капитального строительства, проведению работ по сохранению объектов культурного наследия (памятников истории и культуры) народов Российской Федерации)  количества товара, объема работы или услуги не более чем на десять процентов с учетом положений бюджетного законодательства Российской Федерации о возможности изменения цены контракта пропорционально дополнительному количеству товара, дополнительному объему работы или услуги исходя из установленной в контракте цены единицы товара, работы или услуги, но не более чем на десять процентов цены контракта', 'Реквизиты документа, являющегося основанием\\n                                        изменения условий контракта': '«Дополнительное соглашение к контракту»\\n                                        \\n                                        б/н\\n                                        \\n                                            от \\n                                            17.11.2016 (МСК+2)', 'Полное наименование заказчика': 'ФЕДЕРАЛЬНОЕ КАЗЕННОЕ УЧРЕЖДЕНИЕ \"УРАЛЬСКОЕ ОКРУЖНОЕ УПРАВЛЕНИЕ МАТЕРИАЛЬНО-ТЕХНИЧЕСКОГО СНАБЖЕНИЯ МИНИСТЕРСТВА ВНУТРЕННИХ ДЕЛ РОССИЙСКОЙ ФЕДЕРАЦИИ\"', 'Сокращенное наименование заказчика': 'ФКУ \"УОУМТС МВД РОССИИ\"', 'Дата постановки на учет в налоговом органе': '30.06.2015', 'Идентификационный код заказчика': '16661014645667101001', 'ИНН': '6661014645', 'КПП': '667101001', 'Код организационно-правовой формы': '75104', 'Код ОКПО': '08569917', 'Код территории муниципального образования': '65701000 – город Екатеринбург', 'Наименование бюджета': 'Федеральный бюджет', 'Уровень бюджета': '10\\xa0-\\xa0федеральный бюджет', 'Дата заключения контракта': '06.06.2016', 'Номер контракта': '0362100026216000181-0000782-01', 'Цена контракта': '1\\xa0584\\xa0613,70\\n                                                \\n                                                    \\n\\nЗагрузка ...', 'Валюта контракта': 'Российский рубль (₽)', 'Дата начала исполнения контракта': '06.06.2016', 'Дата окончания исполнения контракта': '28.02.2017', 'Идентификатор этапа контракта': '23555776', 'Размер обеспечения исполнения контракта, ₽': '151\\xa0926,96', 'Код по ОКПО:': '61247252'} {'Организация': ['Общество с ограниченной ответственностью \"Колос\"', 'Код по ОКПО:', '61247252', 'ИНН:', '7417018500', 'КПП:', '741701001', 'Дата постановки на учет:', '22.05.2005'], 'Страна, код': ['Российская Федерация', '643'], 'Адрес места нахождения': ['456912, Челябинская обл. г. Сатка, ул. Торговая-7'], 'Телефон, электронная почта': ['8-35161-41711', 'satkakolos@mail.ru'], '': []}\n",
            "Scraping 1666101464516000183\n",
            "{'Реестровый номер контракта': '16661014645 16 000183', 'Статус контракта': 'Исполнение завершено', 'Номер извещения об осуществлении закупки': '0362100026216000180', 'Способ определения поставщика (подрядчика, исполнителя)': 'Электронный аукцион', 'Дата подведения результатов определения поставщика (подрядчика, исполнителя)': '24.05.2016', 'Дата размещения (по местному времени)': '21.11.2016 11:23 (МСК+2)', 'Реквизиты документа, подтверждающего основание заключения контракта': '0362100026216000180-3; №158-3 от 24.05.2016', 'Информация о банковском и (или) казначейском сопровождении контракта': 'Банковское или казначейское сопровождение контракта не требуется', 'Причина изменения условий контракта': 'При увеличении по предложению заказчика предусмотренных контрактом (за исключением контракта, предметом которого является выполнение работ по строительству, реконструкции, капитальному ремонту, сносу объекта капитального строительства, проведению работ по сохранению объектов культурного наследия (памятников истории и культуры) народов Российской Федерации)  количества товара, объема работы или услуги не более чем на десять процентов с учетом положений бюджетного законодательства Российской Федерации о возможности изменения цены контракта пропорционально дополнительному количеству товара, дополнительному объему работы или услуги исходя из установленной в контракте цены единицы товара, работы или услуги, но не более чем на десять процентов цены контракта', 'Реквизиты документа, являющегося основанием\\n                                        изменения условий контракта': '«Дополнительное соглашение к контракту»\\n                                        \\n                                        б/н\\n                                        \\n                                            от \\n                                            17.11.2016 (МСК+2)', 'Полное наименование заказчика': 'ФЕДЕРАЛЬНОЕ КАЗЕННОЕ УЧРЕЖДЕНИЕ \"УРАЛЬСКОЕ ОКРУЖНОЕ УПРАВЛЕНИЕ МАТЕРИАЛЬНО-ТЕХНИЧЕСКОГО СНАБЖЕНИЯ МИНИСТЕРСТВА ВНУТРЕННИХ ДЕЛ РОССИЙСКОЙ ФЕДЕРАЦИИ\"', 'Сокращенное наименование заказчика': 'ФКУ \"УОУМТС МВД РОССИИ\"', 'Дата постановки на учет в налоговом органе': '30.06.2015', 'Идентификационный код заказчика': '16661014645667101001', 'ИНН': '6661014645', 'КПП': '667101001', 'Код организационно-правовой формы': '75104', 'Код ОКПО': '08569917', 'Код территории муниципального образования': '65701000 – город Екатеринбург', 'Наименование бюджета': 'Федеральный бюджет', 'Уровень бюджета': '10\\xa0-\\xa0федеральный бюджет', 'Дата заключения контракта': '06.06.2016', 'Номер контракта': '0362100026216000180-0000782-01', 'Цена контракта': '2\\xa0705\\xa0862,00\\n                                                \\n                                                    \\n\\nЗагрузка ...', 'Валюта контракта': 'Российский рубль (₽)', 'Дата начала исполнения контракта': '06.06.2016', 'Дата окончания исполнения контракта': '28.02.2017', 'Идентификатор этапа контракта': '23554550', 'Размер обеспечения исполнения контракта, ₽': '278\\xa0592,00', 'Код по ОКПО:': '00000000'} {'Организация': ['Общество с ограниченной ответственностью \"Хлебник\"', 'Код по ОКПО:', '00000000', 'ИНН:', '6658476431', 'КПП:', '665801001', 'Дата постановки на учет:', '28.06.2008'], 'Страна, код': ['Российская Федерация', '643'], 'Адрес места нахождения': ['620034, г. Екатеринбург, ул. Бебеля, 17 - 1009'], 'Телефон, электронная почта': ['8-908-9245060', 'horkova_1984@mail.ru'], '': []}\n",
            "Scraping 3664900138216000040\n",
            "{'Реестровый номер контракта': '36649001382 16 000040', 'Статус контракта': 'Исполнение завершено', 'Номер извещения об осуществлении закупки': '0162300028416000034', 'Способ определения поставщика (подрядчика, исполнителя)': 'Электронный аукцион', 'Дата подведения результатов определения поставщика (подрядчика, исполнителя)': '24.05.2016', 'Дата размещения (по местному времени)': '07.06.2016 11:02 (МСК+2)', 'Основание заключения контракта с единственным поставщиком': 'Закупка вследствие признания несостоявшимся электронного аукциона по основаниям, представленным в пункте 6 части 2, части 5, части 7 статьи 52 Федерального закона', 'Реквизиты документа, подтверждающего основание заключения контракта': 'Протокол подведения итогов открытого аукциона № 0162300028416000034-3', 'Информация о банковском и (или) казначейском сопровождении контракта': 'Банковское или казначейское сопровождение контракта не требуется', 'Полное наименование заказчика': 'АДМИНИСТРАЦИЯ ПЫШМИНСКОГО ГОРОДСКОГО ОКРУГА', 'Сокращенное наименование заказчика': 'АДМИНИСТРАЦИЯ ПЫШМИНСКОГО ГОРОДСКОГО ОКРУГА', 'Дата постановки на учет в налоговом органе': '30.10.2002', 'Идентификационный код заказчика': '36649001382664901001', 'ИНН': '6649001382', 'КПП': '663301001', 'Код организационно-правовой формы': '75404', 'Код ОКПО': '04041705', 'Код территории муниципального образования': '65718000 – Пышминский', 'Наименование бюджета': 'Бюджет Пышминского городского округа', 'Уровень бюджета': '13\\xa0-\\xa0местный бюджет', 'Дата заключения контракта': '06.06.2016', 'Номер контракта': '0906/16-ГРП-2', 'Цена контракта': '8\\xa0990\\xa0929,45', 'Валюта контракта': 'Российский рубль (₽)', 'Дата начала исполнения контракта': '06.06.2016', 'Дата окончания исполнения контракта': '31.08.2016', 'Идентификатор этапа контракта': '23542279', 'Номер реестровой записи реестра независимых гарантий\\n                                            (исполнение контракта)': '0B636649001382160006', 'Размер обеспечения исполнения контракта, ₽': '451\\xa0805,50', 'Код по ОКПО:': '30822679'} {'Организация': ['Общество с ограниченной ответственностью \"ТЕРМОКОМФОРТ\"\" (ООО \"Термокомфорт\")', 'Код по ОКПО:', '30822679', 'ИНН:', '6613010376', 'КПП:', '661301001', 'Дата постановки на учет:', '14.09.2011'], 'Страна, код': ['Российская Федерация', '643'], 'Адрес места нахождения': ['Страна: Российская Федерация; ОКАТО: 65233551000; Почтовый индекс: 623550; Субъект РФ: Свердловская; Город: Пышминский р-н, -; Населенный пункт: Пышма; Улица: Кирова; Дом: 75; Офис: 3;'], 'Телефон, электронная почта': ['902-444-5393', 'ural@gmail.com'], '': []}\n",
            "Scraping 1667033496216000271\n",
            "{'Реестровый номер контракта': '16670334962 16 000271', 'Статус контракта': 'Исполнение завершено', 'Номер извещения об осуществлении закупки': '0862100000216000314', 'Способ определения поставщика (подрядчика, исполнителя)': 'Закупка у единственного поставщика (подрядчика, исполнителя)', 'Дата размещения (по местному времени)': '15.12.2016 10:45 (МСК+2)', 'Основание заключения контракта с единственным поставщиком': 'Закупка оказания услуг по водоснабжению, водоотведению, теплоснабжению, обращению с твердыми коммунальными отходами, газоснабжению (за исключением услуг по реализации сжиженного газа), по подключению (присоединению) к сетям инженерно-технического обеспечения по хранению и ввозу (вывозу) наркотических средств и психотропных веществ', 'Информация о банковском и (или) казначейском сопровождении контракта': 'Банковское или казначейское сопровождение контракта не требуется', 'Причина изменения условий контракта': 'При снижении цены контракта без изменения предусмотренных контрактом количества товара, объема работы или услуги, качества поставляемого товара, выполняемой работы, оказываемой услуги и иных условий контракта', 'Реквизиты документа, являющегося основанием\\n                                        изменения условий контракта': '«Дополнительное соглашение к контракту »\\n                                        \\n                                        Соглашение о расторжении от 15.12.2016 года Государственного контракта № 55/к/348 от 06 июня 2016 г.\\n                                        \\n                                            от \\n                                            15.12.2016 (МСК+2)', 'Полное наименование заказчика': 'ФЕДЕРАЛЬНОЕ КАЗЕННОЕ УЧРЕЖДЕНИЕ \"ОБЪЕДИНЕННОЕ СТРАТЕГИЧЕСКОЕ КОМАНДОВАНИЕ ЦЕНТРАЛЬНОГО ВОЕННОГО ОКРУГА\"', 'Дата постановки на учет в налоговом органе': '08.04.2011', 'Идентификационный код заказчика': '16670334962667001001', 'ИНН': '', 'КПП': '', 'Код организационно-правовой формы': '', 'Код ОКПО': '', 'Код территории муниципального образования': '65701000001 – г Екатеринбург', 'Наименование бюджета': 'Федеральный бюджет', 'Уровень бюджета': '10\\xa0-\\xa0федеральный бюджет', 'Дата заключения контракта': '06.06.2016', 'Номер контракта': '55/К/348', 'Цена контракта': '15\\xa0973\\xa0628,93\\n                                                \\n                                                    \\n\\nЗагрузка ...', 'Валюта контракта': 'Российский рубль (₽)', 'Дата начала исполнения контракта': '06.06.2016', 'Дата окончания исполнения контракта': '31.12.2016', 'Идентификатор этапа контракта': '23551928', 'Код по ОКПО:': '22729025'} {'Организация': ['МУНИЦИПАЛЬНОЕ УНИТАРНОЕ ПРЕДПРИЯТИЕ ЖИЛИЩНО-КОММУНАЛЬНОГО ХОЗЯЙСТВА \"КЕДР\" (МУП ЖКХ \"КЕДР\")', 'Код по ОКПО:', '22729025', 'ИНН:', '6607010561', 'КПП:', '660701001', 'Дата постановки на учет:', '01.01.2013'], 'Страна, код': ['Российская Федерация', '643'], 'Адрес места нахождения': ['624790, обл СВЕРДЛОВСКАЯ 66, п СВОБОДНЫЙ, ул СВОБОДЫ, 65'], 'Телефон, электронная почта': ['0-0-0', '/@MAIL.RU'], '': []}\n",
            "Scraping 3666202436416000053\n",
            "{'Реестровый номер контракта': '36662024364 16 000053', 'Статус контракта': 'Исполнение завершено', 'Номер извещения об осуществлении закупки': '0162300005316001190', 'Способ определения поставщика (подрядчика, исполнителя)': 'Закупка у единственного поставщика (подрядчика, исполнителя)', 'Дата размещения (по местному времени)': '07.06.2016 08:56 (МСК+2)', 'Основание заключения контракта с единственным поставщиком': 'Закупка вследствие признания несостоявшимися открытого конкурса в соответствии с частями 1 и 7 статьи 55 Федерального закона решения об осуществлении закупки у единственного поставщика (подрядчика, исполнителя)', 'Реквизиты документа, подтверждающего основание заключения контракта': 'Протокол рассмотрения единственной заявки на участие в открытом конкурсе № ПРЕ1 от 18.05.2016;44-ФЗ от 05.04.2013 Статья 93, ч.1, п.п.25, 18.05.2016, №0162300005316001190, протокол рассмотрения и оценки конкурсных заявок', 'Информация о банковском и (или) казначейском сопровождении контракта': 'Банковское или казначейское сопровождение контракта не требуется', 'Полное наименование заказчика': 'АДМИНИСТРАЦИЯ ОКТЯБРЬСКОГО РАЙОНА ГОРОДА ЕКАТЕРИНБУРГА', 'Сокращенное наименование заказчика': 'АДМИНИСТРАЦИЯ ОКТЯБРЬСКОГО РАЙОНА', 'Дата постановки на учет в налоговом органе': '05.01.1994', 'Идентификационный код заказчика': '36662024364667201001', 'ИНН': '6662024364', 'КПП': '668501001', 'Код организационно-правовой формы': '75404', 'Код ОКПО': '04041786', 'Код территории муниципального образования': '65701000 – город Екатеринбург', 'Наименование бюджета': 'Бюджет муниципального образования \"город Екатеринбург\"', 'Уровень бюджета': '13\\xa0-\\xa0местный бюджет', 'Дата заключения контракта': '06.06.2016', 'Номер контракта': '377', 'Цена контракта': '8\\xa0135\\xa0501,67', 'Валюта контракта': 'Российский рубль (₽)', 'Дата начала исполнения контракта': '06.06.2016', 'Дата окончания исполнения контракта': '30.12.2016', 'Идентификатор этапа контракта': '23532987', 'Размер обеспечения исполнения контракта, ₽': '813\\xa0550,17', 'Код по ОКПО:': '16515597'} {'Организация': ['Общество с ограниченной ответственностью «Санаторий «Соколиный камень»', 'Код по ОКПО:', '16515597', 'ИНН:', '6625026349', 'КПП:', '662501001', 'Дата постановки на учет:', '03.12.2001'], 'Страна, код': [], 'Адрес места нахождения': ['623100, Свердловская область, город Первоуральск, ул. Папанинцев, д. 36'], 'Телефон, электронная почта': ['(3439) 647921', 'info@sokolkamen.ru'], 'Статус': ['субъект малого предпринимательства']}\n",
            "Scraping 3667011827016000002\n",
            "{'Реестровый номер контракта': '36670118270 16 000002', 'Статус контракта': 'Исполнение завершено', 'Номер извещения об осуществлении закупки': '0162300005316001377', 'Способ определения поставщика (подрядчика, исполнителя)': 'Электронный аукцион', 'Дата подведения результатов определения поставщика (подрядчика, исполнителя)': '25.05.2016', 'Дата размещения (по местному времени)': '09.06.2016 12:25 (МСК+2)', 'Реквизиты документа, подтверждающего основание заключения контракта': 'Протокол подведения итогов электронного аукциона № 0162300005316001377-3 от 25.05.2016; 25.05.2016, №0162300005316001377, протокол подведения итогов электронного аукциона', 'Информация о банковском и (или) казначейском сопровождении контракта': 'Банковское или казначейское сопровождение контракта не требуется', 'Основание для изменения': 'Уточнение КБК по муниципальному контракту', 'Полное наименование заказчика': 'МУНИЦИПАЛЬНОЕ КАЗЕННОЕ УЧРЕЖДЕНИЕ \"БУХГАЛТЕРСКОЕ ОБЕСПЕЧЕНИЕ МУНИЦИПАЛЬНЫХ УЧРЕЖДЕНИЙ МОЛОДЕЖНОЙ ПОЛИТИКИ ГОРОДА ЕКАТЕРИНБУРГА\"', 'Сокращенное наименование заказчика': 'МКУ \"ЦБ МУ МП\"', 'Дата постановки на учет в налоговом органе': '12.04.2006', 'Идентификационный код заказчика': '36670118270667001001', 'ИНН': '6670118270', 'КПП': '667001001', 'Код организационно-правовой формы': '75404', 'Код ОКПО': '94998223', 'Код территории муниципального образования': '65701000 – город Екатеринбург', 'Наименование бюджета': 'Бюджет муниципального образования \"город Екатеринбург\"', 'Уровень бюджета': '13\\xa0-\\xa0местный бюджет', 'Дата заключения контракта': '06.06.2016', 'Номер контракта': 'Ф.2016.101406', 'Цена контракта': '1\\xa0057\\xa0320,00', 'Валюта контракта': 'Российский рубль (₽)', 'Дата начала исполнения контракта': '06.06.2016', 'Дата окончания исполнения контракта': '31.12.2016', 'Идентификатор этапа контракта': '23560745', 'Размер обеспечения исполнения контракта, ₽': '53\\xa0400,00', 'Код по ОКПО:': '48588801'} {'Организация': ['Общество с ограниченной ответственностью \"ПАРУС-Екатеринбург\"', 'Код по ОКПО:', '48588801', 'ИНН:', '6659045773', 'КПП:', '665801001', 'Дата постановки на учет:', '02.05.2012'], 'Страна, код': [], 'Адрес места нахождения': ['620014, Свердловская область, город Екатеринбург, 620014, Российская Федерация, Свердловская обл., г. Екатеринбург, ул. Маршала Жукова, дом 13'], 'Телефон, электронная почта': ['3768133', 'info@parus-ural.ru'], 'Статус': ['субъект малого предпринимательства']}\n",
            "Scraping 1666101464516000180\n",
            "{'Реестровый номер контракта': '16661014645 16 000180', 'Статус контракта': 'Исполнение завершено', 'Номер извещения об осуществлении закупки': '0362100026216000176', 'Способ определения поставщика (подрядчика, исполнителя)': 'Электронный аукцион', 'Дата подведения результатов определения поставщика (подрядчика, исполнителя)': '24.05.2016', 'Дата размещения (по местному времени)': '23.11.2016 10:24 (МСК+2)', 'Реквизиты документа, подтверждающего основание заключения контракта': '0362100026216000176-3; 160-3 от 24.05.2016', 'Информация о банковском и (или) казначейском сопровождении контракта': 'Банковское или казначейское сопровождение контракта не требуется', 'Причина изменения условий контракта': 'При увеличении по предложению заказчика предусмотренных контрактом (за исключением контракта, предметом которого является выполнение работ по строительству, реконструкции, капитальному ремонту, сносу объекта капитального строительства, проведению работ по сохранению объектов культурного наследия (памятников истории и культуры) народов Российской Федерации)  количества товара, объема работы или услуги не более чем на десять процентов с учетом положений бюджетного законодательства Российской Федерации о возможности изменения цены контракта пропорционально дополнительному количеству товара, дополнительному объему работы или услуги исходя из установленной в контракте цены единицы товара, работы или услуги, но не более чем на десять процентов цены контракта', 'Реквизиты документа, являющегося основанием\\n                                        изменения условий контракта': '«Дополнительное соглашение к контракту»\\n                                        \\n                                        б/н\\n                                        \\n                                            от \\n                                            22.11.2016 (МСК+2)', 'Полное наименование заказчика': 'ФЕДЕРАЛЬНОЕ КАЗЕННОЕ УЧРЕЖДЕНИЕ \"УРАЛЬСКОЕ ОКРУЖНОЕ УПРАВЛЕНИЕ МАТЕРИАЛЬНО-ТЕХНИЧЕСКОГО СНАБЖЕНИЯ МИНИСТЕРСТВА ВНУТРЕННИХ ДЕЛ РОССИЙСКОЙ ФЕДЕРАЦИИ\"', 'Сокращенное наименование заказчика': 'ФКУ \"УОУМТС МВД РОССИИ\"', 'Дата постановки на учет в налоговом органе': '30.06.2015', 'Идентификационный код заказчика': '16661014645667101001', 'ИНН': '6661014645', 'КПП': '667101001', 'Код организационно-правовой формы': '75104', 'Код ОКПО': '08569917', 'Код территории муниципального образования': '65701000 – город Екатеринбург', 'Наименование бюджета': 'Федеральный бюджет', 'Уровень бюджета': '10\\xa0-\\xa0федеральный бюджет', 'Дата заключения контракта': '06.06.2016', 'Номер контракта': '0362100026216000176-0000782-01', 'Цена контракта': '1\\xa0367\\xa0932,29\\n                                                \\n                                                    \\n\\nЗагрузка ...', 'Валюта контракта': 'Российский рубль (₽)', 'Дата начала исполнения контракта': '06.06.2016', 'Дата окончания исполнения контракта': '28.02.2017', 'Идентификатор этапа контракта': '23555352', 'Размер обеспечения исполнения контракта, ₽': '135\\xa0268,67', 'Код по ОКПО:': '00000000'} {'Организация': ['Общество с ограниченной ответственностью \"Хлебный дом\"', 'Код по ОКПО:', '00000000', 'ИНН:', '5902218205', 'КПП:', '590201001', 'Дата постановки на учет:', '28.02.2007'], 'Страна, код': ['Российская Федерация', '643'], 'Адрес места нахождения': ['614990, г. Пермь, ул. Окулова 73А'], 'Телефон, электронная почта': ['8-342-2371799', 'permhleb@mail.ru'], '': []}\n",
            "Scraping 2666100878616000152\n",
            "{'Реестровый номер контракта': '26661008786 16 000152', 'Статус контракта': 'Исполнение завершено', 'Номер извещения об осуществлении закупки': '0162200011816000544', 'Номер лота': '1', 'Способ определения поставщика (подрядчика, исполнителя)': 'Открытый конкурс', 'Дата подведения результатов определения поставщика (подрядчика, исполнителя)': '23.05.2016', 'Дата размещения (по местному времени)': '07.06.2016 13:24 (МСК+2)', 'Реквизиты документа, подтверждающего основание заключения контракта': 'Протокол рассмотрения и оценки заявок на участие в открытом конкурсе № ПРО1 от 23.05.2016', 'Информация о банковском и (или) казначейском сопровождении контракта': 'Банковское или казначейское сопровождение контракта не требуется', 'Полное наименование заказчика': 'ГОСУДАРСТВЕННОЕ БЮДЖЕТНОЕ УЧРЕЖДЕНИЕ ЗДРАВООХРАНЕНИЯ СВЕРДЛОВСКОЙ ОБЛАСТИ \"НАУЧНО-ПРАКТИЧЕСКИЙ ЦЕНТР СПЕЦИАЛИЗИРОВАННЫХ ВИДОВ МЕДИЦИНСКОЙ ПОМОЩИ \"УРАЛЬСКИЙ ИНСТИТУТ КАРДИОЛОГИИ\"', 'Сокращенное наименование заказчика': 'ГБУЗ СО \"УРАЛЬСКИЙ ИНСТИТУТ КАРДИОЛОГИИ\"', 'Дата постановки на учет в налоговом органе': '20.09.1993', 'Идентификационный код заказчика': '26661008786666101001', 'ИНН': '6661008786', 'КПП': '667101001', 'Код организационно-правовой формы': '75203', 'Код ОКПО': '25042318', 'Код территории муниципального образования': '65701000 – город Екатеринбург', 'Наименование бюджета': 'Бюджет Свердловской области', 'Уровень бюджета': '12\\xa0-\\xa0бюджет субъекта Российской Федерации', 'Наименование внебюджетных средств': '21\\xa0-\\xa0Средства бюджетных учреждений', 'Дата заключения контракта': '06.06.2016', 'Номер контракта': '№ 202', 'Цена контракта': '13\\xa0490\\xa0000,00', 'Валюта контракта': 'Российский рубль (₽)', 'Дата начала исполнения контракта': '06.06.2016', 'Дата окончания исполнения контракта': '31.12.2016', 'Идентификатор этапа контракта': '23544557', 'Размер обеспечения исполнения контракта, ₽': '4\\xa0050\\xa0000,00', 'Код по ОКПО:': '69031391'}"
          ]
        },
        {
          "name": "stderr",
          "output_type": "stream",
          "text": [
            " 54%|█████▍    | 27/50 [00:00<00:00, 46.60it/s]"
          ]
        },
        {
          "name": "stdout",
          "output_type": "stream",
          "text": [
            " {'Организация': ['ОТКРЫТОЕ АКЦИОНЕРНОЕ ОБЩЕСТВО \"УРАЛЬСКИЙ ВЫСТАВОЧНЫЙ ЦЕНТР\" (ОАО \"УВЦ\")', 'Код по ОКПО:', '69031391', 'ИНН:', '6671334073', 'КПП:', '668501001', 'Дата постановки на учет:', '08.11.2012'], 'Страна, код': ['Российская Федерация', '643'], 'Адрес места нахождения': ['620060, обл СВЕРДЛОВСКАЯ 66, г ЕКАТЕРИНБУРГ, б-р ЭКСПО-БУЛЬВАР, 2'], 'Телефон, электронная почта': ['7-343-2157998', 'uvc@ekaterinburdexpo.ru'], '': []}\n",
            "Scraping 3668200433416000057\n",
            "{'Реестровый номер контракта': '36682004334 16 000057', 'Статус контракта': 'Исполнение завершено', 'Номер извещения об осуществлении закупки': '0362300379616000057', 'Способ определения поставщика (подрядчика, исполнителя)': 'Электронный аукцион', 'Дата подведения результатов определения поставщика (подрядчика, исполнителя)': '25.05.2016', 'Дата размещения (по местному времени)': '06.06.2016 09:07 (МСК+2)', 'Основание заключения контракта с единственным поставщиком': 'Закупка вследствие признания несостоявшимся электронного аукциона по основаниям, представленным в пункте 6 части 2, части 5, части 7 статьи 52 Федерального закона', 'Реквизиты документа, подтверждающего основание заключения контракта': '0362300379616000057-1', 'Информация о банковском и (или) казначейском сопровождении контракта': 'Банковское или казначейское сопровождение контракта не требуется', 'Полное наименование заказчика': 'МУНИЦИПАЛЬНОЕ БЮДЖЕТНОЕ УЧРЕЖДЕНИЕ НОВОУРАЛЬСКОГО ГОРОДСКОГО ОКРУГА \"ДОРОЖНО-КОММУНАЛЬНАЯ СЛУЖБА\"', 'Сокращенное наименование заказчика': 'МБУ \"ДКС\"', 'Дата постановки на учет в налоговом органе': '31.10.2013', 'Идентификационный код заказчика': '36682004334668201001', 'ИНН': '6682004334', 'КПП': '668201001', 'Код организационно-правовой формы': '75403', 'Код ОКПО': '31397638', 'Код территории муниципального образования': '65752000001 – г Новоуральск', 'Наименование бюджета': 'Бюджет Новоуральского городского округа', 'Уровень бюджета': '13\\xa0-\\xa0местный бюджет', 'Дата заключения контракта': '06.06.2016', 'Номер контракта': '0362300379616000057-0553950-01', 'Цена контракта': '1\\xa0850\\xa0000,00', 'Валюта контракта': 'Российский рубль (₽)', 'Дата начала исполнения контракта': '06.06.2016', 'Дата окончания исполнения контракта': '31.12.2016', 'Идентификатор этапа контракта': '23508886', 'Номер реестровой записи реестра независимых гарантий\\n                                            (исполнение контракта)': '01Q36682004334160005', 'Размер обеспечения исполнения контракта, ₽': '185\\xa0000,00', 'Код по ОКПО:': '39921093'} {'Организация': ['Общество с ограниченной ответственностью «СЕЛЕН»', 'Код по ОКПО:', '39921093', 'ИНН:', '6686069420', 'КПП:', '668601001', 'Дата постановки на учет:', '06.06.2016'], 'Страна, код': ['Российская Федерация', '643'], 'Адрес места нахождения': ['620012 екатеринбург, улКузнецова 21- 154'], 'Телефон, электронная почта': ['7-343-3725959', 'oooselen@yandex.ru'], '': []}\n",
            "Scraping 3663100025016000008\n",
            "{'Реестровый номер контракта': '36631000250 16 000008', 'Статус контракта': 'Исполнение завершено', 'Номер извещения об осуществлении закупки': '0862300027016000137', 'Способ определения поставщика (подрядчика, исполнителя)': 'Электронный аукцион', 'Дата подведения результатов определения поставщика (подрядчика, исполнителя)': '24.05.2016', 'Дата размещения (по местному времени)': '17.08.2016 15:49 (МСК+2)', 'Реквизиты документа, подтверждающего основание заключения контракта': '0862300027016000137-3; № 91 от 24.05.2016 г.', 'Информация о банковском и (или) казначейском сопровождении контракта': 'Банковское или казначейское сопровождение контракта не требуется', 'Основание для изменения': 'В целях приведения в соответствие данных контракта.', 'Полное наименование заказчика': 'МУНИЦИПАЛЬНОЕ БЮДЖЕТНОЕ УЧРЕЖДЕНИЕ КУЛЬТУРЫ \"ЦЕНТР КУЛЬТУРЫ И ИСКУССТВА\"', 'Сокращенное наименование заказчика': 'МАУК \"ЦКИИ\"', 'Дата постановки на учет в налоговом органе': '11.05.1994', 'Идентификационный код заказчика': '36631000250661701001', 'ИНН': '6631000250', 'КПП': '661701001', 'Код организационно-правовой формы': '75401', 'Код ОКПО': '05076628', 'Код территории муниципального образования': '65755000001 – г Североуральск', 'Наименование бюджета': 'Бюджет Североуральского городского округа', 'Уровень бюджета': '30\\xa0-\\xa0местный бюджет', 'Наименование внебюджетных средств': '60\\xa0-\\xa0Средства бюджетных учреждений', 'Дата заключения контракта': '06.06.2016', 'Номер контракта': '87', 'Цена контракта': '1\\xa0340\\xa0087,75', 'Валюта контракта': 'Российский рубль (₽)', 'Дата начала исполнения контракта': '07.06.2016', 'Дата окончания исполнения контракта': '30.09.2016', 'Идентификатор этапа контракта': '23524727', 'Номер реестровой записи реестра независимых гарантий\\n                                            (исполнение контракта)': '00U36631000250160003', 'Размер обеспечения исполнения контракта, ₽': '92\\xa0419,85'} {'Организация': ['КВАЧУК ТАТЬЯНА БОРИСОВНАИндивидуальный\\xa0предприниматель', 'ИНН:', '661801006280', 'Дата постановки на учет:', '31.08.2007'], 'Страна, код': ['Российская Федерация', '643'], 'Адрес места нахождения': ['Свердловская обл., г. Красноуральск, ул. Ленина, 9-67'], 'Телефон, электронная почта': ['7-912-2520787', 'kv_kosty@mail.ru'], '': []}\n",
            "Scraping 1665841607016000090\n",
            "{'Реестровый номер контракта': '16658416070 16 000090', 'Статус контракта': 'Исполнение завершено', 'Номер извещения об осуществлении закупки': '0862100000816000073', 'Способ определения поставщика (подрядчика, исполнителя)': 'Электронный аукцион', 'Дата подведения результатов определения поставщика (подрядчика, исполнителя)': '24.05.2016', 'Дата размещения (по местному времени)': '08.06.2016 09:26 (МСК+2)', 'Реквизиты документа, подтверждающего основание заключения контракта': 'Протокол подведения итогов электронного аукциона № 0862100000816000073-3 от 24.05.2016', 'Информация о банковском и (или) казначейском сопровождении контракта': 'Банковское или казначейское сопровождение контракта не требуется', 'Причина изменения условий контракта': 'Изменение условий контракта по согласованию сторон в части поставки товара, выполнения работ или оказания услуги при улучшении их по качеству, техническим и функциональным характеристикам по сравнению с качеством, техническими и функциональными характеристиками, указанными в контракте', 'Реквизиты документа, являющегося основанием\\n                                        изменения условий контракта': '«Дополнительное соглашение к контракту»\\n                                        \\n                                        Дополнительное соглашение', 'Полное наименование заказчика': 'федеральное казенное учреждение \"Центр хозяйственного и сервисного обеспечения Главного управления Министерства внутренних дел Российской Федерации по Свердловской области\"', 'Сокращенное наименование заказчика': 'ФКУ \"ЦХИСО ГУ МВД РОССИИ ПО СВЕРДЛОВСКОЙ ОБЛАСТИ\"', 'Дата постановки на учет в налоговом органе': '27.08.2012', 'Идентификационный код заказчика': '16658416070665801001', 'ИНН': '6658416070', 'КПП': '665801001', 'Код организационно-правовой формы': '75104', 'Код ОКПО': '08718369', 'Код территории муниципального образования': '65701000 – город Екатеринбург', 'Наименование бюджета': 'Федеральный бюджет', 'Уровень бюджета': '11\\xa0-\\xa0федеральный бюджет', 'Дата заключения контракта': '06.06.2016', 'Номер контракта': '0862100000816000073-0455335-02', 'Цена контракта': '4\\xa0275\\xa0224,75', 'Валюта контракта': 'Российский рубль (₽)', 'Дата начала исполнения контракта': '06.06.2016', 'Дата окончания исполнения контракта': '15.12.2016', 'Идентификатор этапа контракта': '23525922', 'Номер реестровой записи реестра независимых гарантий\\n                                            (исполнение контракта)': '0B616658416070160023', 'Размер обеспечения исполнения контракта, ₽': '1\\xa0289\\xa0012,49', 'Код по ОКПО:': '62616970'} {'Организация': ['ОБЩЕСТВО С ОГРАНИЧЕННОЙ ОТВЕТСТВЕННОСТЬЮ \"АВТОСИЛА\"', 'Код по ОКПО:', '62616970', 'ИНН:', '4501160066', 'КПП:', '668301001', 'Дата постановки на учет:', '03.06.2015'], 'Страна, код': ['Российская Федерация', '643'], 'Адрес места нахождения': ['624055, Свердловская обл., Белоярский район, с. Косулино, ул. Октябрьская, д.5'], 'Телефон, электронная почта': ['7-343-3857280', 'olga_avva@autosila96.ru'], '': []}\n",
            "Scraping 1665841607016000089\n",
            "{'Реестровый номер контракта': '16658416070 16 000089', 'Статус контракта': 'Исполнение завершено', 'Номер извещения об осуществлении закупки': '0862100000816000070', 'Номер лота': '1', 'Способ определения поставщика (подрядчика, исполнителя)': 'Открытый конкурс', 'Дата подведения результатов определения поставщика (подрядчика, исполнителя)': '23.05.2016', 'Дата размещения (по местному времени)': '24.06.2016 15:00 (МСК+2)', 'Реквизиты документа, подтверждающего основание заключения контракта': 'Протокол рассмотрения и оценки заявок на участие в открытом конкурсе № ПРО1 от 23.05.2016', 'Информация о банковском и (или) казначейском сопровождении контракта': 'Банковское или казначейское сопровождение контракта не требуется', 'Основание для изменения': 'изменение кпп', 'Реквизиты документа, являющегося основанием\\n                                        изменения условий контракта': '«Дополнительное соглашение к контракту»', 'Полное наименование заказчика': 'федеральное казенное учреждение \"Центр хозяйственного и сервисного обеспечения Главного управления Министерства внутренних дел Российской Федерации по Свердловской области\"', 'Сокращенное наименование заказчика': 'ФКУ \"ЦХИСО ГУ МВД РОССИИ ПО СВЕРДЛОВСКОЙ ОБЛАСТИ\"', 'Дата постановки на учет в налоговом органе': '27.08.2012', 'Идентификационный код заказчика': '16658416070665801001', 'ИНН': '6658416070', 'КПП': '665801001', 'Код организационно-правовой формы': '75104', 'Код ОКПО': '08718369', 'Код территории муниципального образования': '65701000 – город Екатеринбург', 'Наименование бюджета': 'Федеральный бюджет', 'Уровень бюджета': '11\\xa0-\\xa0федеральный бюджет', 'Дата заключения контракта': '06.06.2016', 'Номер контракта': '199', 'Цена контракта': '8\\xa0271\\xa0586,54\\n                                                \\n                                                    \\n\\nЗагрузка ...', 'Валюта контракта': 'Российский рубль (₽)', 'Дата начала исполнения контракта': '06.06.2016', 'Дата окончания исполнения контракта': '31.12.2016', 'Идентификатор этапа контракта': '23523939', 'Номер реестровой записи реестра независимых гарантий\\n                                            (исполнение контракта)': '04A16658416070160022', 'Размер обеспечения исполнения контракта, ₽': '7\\xa0525\\xa0676,75', 'Код по ОКПО:': '11441121'} {'Организация': ['Екатеринбургский филиал Страхового акционерного общества \"ВСК\"', 'Код по ОКПО:', '25083234', 'ИНН:', '7710026574', 'КПП:', '667202001', 'Дата постановки на учет:', '01.03.2001'], 'Страна, код': ['Российская Федерация', '643'], 'Адрес места нахождения': ['620014, Свердловская обл., г. Екатеринбург, ул. Добролюбова, д.16'], 'Телефон, электронная почта': ['7-000-00000', 'auto2.ekb@vsk.ru'], '': []}\n",
            "Scraping 1665802145916000098\n",
            "{'Реестровый номер контракта': '16658021459 16 000098', 'Статус контракта': 'Исполнение завершено', 'Номер извещения об осуществлении закупки': '0362100033816000066', 'Способ определения поставщика (подрядчика, исполнителя)': 'Электронный аукцион', 'Дата подведения результатов определения поставщика (подрядчика, исполнителя)': '24.05.2016', 'Дата размещения (по местному времени)': '08.06.2016 10:20 (МСК+2)', 'Основание заключения контракта с единственным поставщиком': 'Закупка вследствие признания несостоявшимся электронного аукциона по основаниям, представленным в пункте 6 части 2, части 5, части 7 статьи 52 Федерального закона', 'Реквизиты документа, подтверждающего основание заключения контракта': '0362100033816000066-3; протокол 134 от 24.05.2016', 'Информация о банковском и (или) казначейском сопровождении контракта': 'Банковское или казначейское сопровождение контракта не требуется', 'Полное наименование заказчика': 'ФЕДЕРАЛЬНОЕ ГОСУДАРСТВЕННОЕ БЮДЖЕТНОЕ УЧРЕЖДЕНИЕ \"УРАЛЬСКИЙ НАУЧНО-ИССЛЕДОВАТЕЛЬСКИЙ ИНСТИТУТ ОХРАНЫ МАТЕРИНСТВА И МЛАДЕНЧЕСТВА\" МИНИСТЕРСТВА ЗДРАВООХРАНЕНИЯ РОССИЙСКОЙ ФЕДЕРАЦИИ', 'Сокращенное наименование заказчика': 'ФГБУ \"НИИ ОММ\" МИНЗДРАВА  РОССИИ', 'Дата постановки на учет в налоговом органе': '12.07.1993', 'Идентификационный код заказчика': '16658021459665801001', 'ИНН': '6658021459', 'КПП': '665801001', 'Код организационно-правовой формы': '75103', 'Код ОКПО': '01966845', 'Код территории муниципального образования': '65701000 – город Екатеринбург', 'Наименование внебюджетных средств': '21\\xa0-\\xa0Средства бюджетных учреждений', 'Дата заключения контракта': '06.06.2016', 'Номер контракта': '119', 'Цена контракта': '1\\xa0871\\xa0074,31', 'Валюта контракта': 'Российский рубль (₽)', 'Дата начала исполнения контракта': '06.06.2016', 'Дата окончания исполнения контракта': '31.12.2016', 'Идентификатор этапа контракта': '23554095', 'Номер реестровой записи реестра независимых гарантий\\n                                            (исполнение контракта)': '0J516658021459160036', 'Размер обеспечения исполнения контракта, ₽': '951\\xa0393,90', 'Код по ОКПО:': '51834327'} {'Организация': ['Акционерное Общество «ЗДРАВМЕДТЕХ-ЕКАТЕРИНБУРГ»', 'Код по ОКПО:', '51834327', 'ИНН:', '6663071279', 'КПП:', '668601001', 'Дата постановки на учет:', '02.09.1999'], 'Страна, код': ['Российская Федерация', '643'], 'Адрес места нахождения': ['620135 Российская Федерация Свердловская область г.Екатеринбург ул.Ст.Большивиков 77'], 'Телефон, электронная почта': ['7-343-2882200', 'info@zmte.ru'], '': []}\n",
            "Scraping 3668200433416000056\n",
            "{'Реестровый номер контракта': '36682004334 16 000056', 'Статус контракта': 'Исполнение завершено', 'Номер извещения об осуществлении закупки': '0362300379616000056', 'Способ определения поставщика (подрядчика, исполнителя)': 'Электронный аукцион', 'Дата подведения результатов определения поставщика (подрядчика, исполнителя)': '25.05.2016', 'Дата размещения (по местному времени)': '06.06.2016 08:52 (МСК+2)', 'Основание заключения контракта с единственным поставщиком': 'Закупка вследствие признания несостоявшимся электронного аукциона по основаниям, представленным в пункте 6 части 2, части 5, части 7 статьи 52 Федерального закона', 'Реквизиты документа, подтверждающего основание заключения контракта': '0362300379616000056-1', 'Информация о банковском и (или) казначейском сопровождении контракта': 'Банковское или казначейское сопровождение контракта не требуется', 'Полное наименование заказчика': 'МУНИЦИПАЛЬНОЕ БЮДЖЕТНОЕ УЧРЕЖДЕНИЕ НОВОУРАЛЬСКОГО ГОРОДСКОГО ОКРУГА \"ДОРОЖНО-КОММУНАЛЬНАЯ СЛУЖБА\"', 'Сокращенное наименование заказчика': 'МБУ \"ДКС\"', 'Дата постановки на учет в налоговом органе': '31.10.2013', 'Идентификационный код заказчика': '36682004334668201001', 'ИНН': '6682004334', 'КПП': '668201001', 'Код организационно-правовой формы': '75403', 'Код ОКПО': '31397638', 'Код территории муниципального образования': '65752000001 – г Новоуральск', 'Наименование бюджета': 'Бюджет Новоуральского городского округа', 'Уровень бюджета': '13\\xa0-\\xa0местный бюджет', 'Дата заключения контракта': '06.06.2016', 'Номер контракта': '0362300379616000056-0553950-01', 'Цена контракта': '2\\xa0997\\xa0543,75', 'Валюта контракта': 'Российский рубль (₽)', 'Дата начала исполнения контракта': '06.06.2016', 'Дата окончания исполнения контракта': '31.12.2016', 'Идентификатор этапа контракта': '23508571', 'Размер обеспечения исполнения контракта, ₽': '299\\xa0754,38', 'Код по ОКПО:': '92899238'} {'Организация': ['Общество с ограниченной ответственностью \"Топливная Компания СИНТЕЗ\"', 'Код по ОКПО:', '92899238', 'ИНН:', '6629026999', 'КПП:', '662901001', 'Дата постановки на учет:', '09.06.2011'], 'Страна, код': ['Российская Федерация', '643'], 'Адрес места нахождения': ['624130 Новоуральск, ул.Шевченко 12 оф 206'], 'Телефон, электронная почта': ['7-343-3452218', 'tk_sintez@mail.ru'], '': []}\n",
            "Scraping 3661500522016000047\n",
            "{'Реестровый номер контракта': '36615005220 16 000047', 'Статус контракта': 'Исполнение завершено', 'Номер извещения об осуществлении закупки': '0362300004416000022', 'Способ определения поставщика (подрядчика, исполнителя)': 'Электронный аукцион', 'Дата подведения результатов определения поставщика (подрядчика, исполнителя)': '25.05.2016', 'Дата размещения (по местному времени)': '07.06.2016 11:50 (МСК+2)', 'Основание заключения контракта с единственным поставщиком': 'Закупка вследствие признания несостоявшимся электронного аукциона по основаниям, представленным в пункте 6 части 2, части 5, части 7 статьи 52 Федерального закона', 'Реквизиты документа, подтверждающего основание заключения контракта': 'Протокол подведения итогов электронного аукциона № 0362300004416000022-3 от 25.05.2016', 'Информация о банковском и (или) казначейском сопровождении контракта': 'Банковское или казначейское сопровождение контракта не требуется', 'Полное наименование заказчика': 'Муниципальное учреждение \"Управление городского хозяйства\"', 'Сокращенное наименование заказчика': 'УГХ', 'Дата постановки на учет в налоговом органе': '15.04.2015', 'Идентификационный код заказчика': '36615005220668101001', 'ИНН': '6615005220', 'КПП': '668101001', 'Код организационно-правовой формы': '75400', 'Код ОКПО': '39906722', 'Код территории муниципального образования': '65743000 – Качканарский', 'Наименование бюджета': 'Бюджет Качканарского городского округа', 'Уровень бюджета': '13\\xa0-\\xa0местный бюджет', 'Дата заключения контракта': '06.06.2016', 'Номер контракта': '43-06/16', 'Цена контракта': '1\\xa0471\\xa0962,20', 'Валюта контракта': 'Российский рубль (₽)', 'Дата начала исполнения контракта': '06.06.2016', 'Дата окончания исполнения контракта': '30.09.2016', 'Идентификатор этапа контракта': '23544240', 'Номер реестровой записи реестра независимых гарантий\\n                                            (исполнение контракта)': '0BQ36615005220160007', 'Размер обеспечения исполнения контракта, ₽': '147\\xa0935,90', 'Код по ОКПО:': '09006613'} {'Организация': ['ОБЩЕСТВО С ОГРАНИЧЕННОЙ ОТВЕТСТВЕННОСТЬЮ \"СТРОЙСЕРВИС НТ\" (ООО \"СТРОЙСЕРВИС НТ\")', 'Код по ОКПО:', '09006613', 'ИНН:', '6681000182', 'КПП:', '665801001', 'Дата постановки на учет:', '27.02.2015'], 'Страна, код': ['Российская Федерация', '643'], 'Адрес места нахождения': ['620043, обл СВЕРДЛОВСКАЯ 66, г ЕКАТЕРИНБУРГ, ул РЕПИНА, ДОМ 42А, ОФИС 205'], 'Телефон, электронная почта': ['8-922-1260979', 'stroiservisnt@bk.ru'], '': []}\n",
            "Scraping 1666202299116000031\n",
            "{'Реестровый номер контракта': '16662022991 16 000031', 'Статус контракта': 'Исполнение завершено', 'Номер извещения об осуществлении закупки': '0362100003916000033', 'Способ определения поставщика (подрядчика, исполнителя)': 'Закупка у единственного поставщика (подрядчика, исполнителя)', 'Дата размещения (по местному времени)': '07.06.2016 20:11 (МСК+2)', 'Основание заключения контракта с единственным поставщиком': 'Закупка театром, учреждением, осуществляющим концертную или театральную деятельность, в том числе концертным коллективом (танцевальным коллективом, хоровым коллективом, оркестром, ансамблем), телерадиовещательным учреждением, цирком, музеем, домом культуры, дворцом культуры, домом (центром) народного творчества, домом (центром) ремесел, клубом, образовательной организацией, зоопарком, планетарием, парком культуры и отдыха, заповедником, ботаническим садом, национальным парком, природным парком или ландшафтным парком, услуг (работ) на создание произведения литературы или искусства конкретным физическим лицом, на исполнение конкретным физическим лицом или конкретным юридическим лицом, осуществляющими концертную или театральную деятельность, в том числе концертным коллективом (танцевальным коллективом, хоровым коллективом, оркестром, ансамблем), либо на изготовление и поставку декораций (в том числе для обеспечения сценических, аудиовизуальных эффектов), сценической мебели, сценических костюмов (в том числе головных уборов и обуви) и необходимых для создания декораций (в том числе для обеспечения сценических, аудиовизуальных эффектов) и костюмов материалов, а также театрального (концертного) реквизита, музыкальных инструментов, бутафории, грима, постижерских изделий, театральных кукол, необходимых для создания и (или) исполнения произведений конкретным физическим или юридическим лицом', 'Реквизиты документа, подтверждающего основание заключения контракта': 'Извещение об осуществлении закупки у единственного поставщика №0362100003916000033 от 02.06.2016', 'Реквизиты документально оформленного отчета,\\n                            содержащего информацию о невозможности или нецелесообразности использования иных способов\\n                            определения поставщика (подрядчика, исполнителя)': 'Отчет о невозможности иных способов определения поставщика', 'Информация о банковском и (или) казначейском сопровождении контракта': 'Банковское или казначейское сопровождение контракта не требуется', 'Полное наименование заказчика': 'ФЕДЕРАЛЬНОЕ ГОСУДАРСТВЕННОЕ БЮДЖЕТНОЕ УЧРЕЖДЕНИЕ КУЛЬТУРЫ \"ЕКАТЕРИНБУРГСКИЙ ГОСУДАРСТВЕННЫЙ АКАДЕМИЧЕСКИЙ ТЕАТР ОПЕРЫ И БАЛЕТА\"', 'Сокращенное наименование заказчика': 'ЕКАТЕРИНБУРГСКИЙ ТЕАТР ОПЕРЫ И БАЛЕТА', 'Дата постановки на учет в налоговом органе': '24.04.2003', 'Идентификационный код заказчика': '16662022991667201001', 'ИНН': '6662022991', 'КПП': '668501001', 'Код организационно-правовой формы': '75103', 'Код ОКПО': '02192966', 'Код территории муниципального образования': '65000000 – Муниципальные образования Свердловской области', 'Наименование бюджета': 'Федеральный бюджет', 'Уровень бюджета': '11\\xa0-\\xa0федеральный бюджет', 'Дата заключения контракта': '06.06.2016', 'Номер контракта': '125', 'Цена контракта': '1\\xa0462\\xa0710,00', 'Валюта контракта': 'Российский рубль (₽)', 'Дата начала исполнения контракта': '06.06.2016', 'Дата окончания исполнения контракта': '15.06.2016', 'Идентификатор этапа контракта': '23564489'} {'Организация': ['Штрасбергер Тадэуш Хьюз (Strassberger Thaddeus Hughes)', 'ИНН:', '(Код в стране регистрации 785898486)'], 'Страна, код': ['Соединенное Королевство Великобритании и Северной Ирландии', '826'], 'Адрес в стране регистрации': ['14 Arundel Bldgs Webb St London SE1 4AS UK'], 'Телефон, электронная почта': ['7-343-3504524,', 'tenders@uralopera.ru,'], '': []}\n",
            "Scraping 3661701015116000072\n",
            "{'Реестровый номер контракта': '36617010151 16 000072', 'Статус контракта': 'Исполнение завершено', 'Номер извещения об осуществлении закупки': '0362300231016000109', 'Способ определения поставщика (подрядчика, исполнителя)': 'Электронный аукцион', 'Дата подведения результатов определения поставщика (подрядчика, исполнителя)': '25.05.2016', 'Дата размещения (по местному времени)': '09.06.2016 09:31 (МСК+2)', 'Основание заключения контракта с единственным поставщиком': 'Закупка вследствие признания несостоявшимся электронного аукциона по основаниям, представленным в пункте 6 части 2, части 5, части 7 статьи 52 Федерального закона', 'Реквизиты документа, подтверждающего основание заключения контракта': 'от 25.05.2016 г. № 64', 'Информация о банковском и (или) казначейском сопровождении контракта': 'Банковское или казначейское сопровождение контракта не требуется', 'Полное наименование заказчика': 'МУНИЦИПАЛЬНОЕ КАЗЁННОЕ УЧРЕЖДЕНИЕ  \"УПРАВЛЕНИЕ КОММУНАЛЬНОГО ХОЗЯЙСТВА\"', 'Сокращенное наименование заказчика': 'МКУ \"УКХ\"', 'Дата постановки на учет в налоговом органе': '01.06.2005', 'Идентификационный код заказчика': '36617010151661701001', 'ИНН': '6617010151', 'КПП': '661701001', 'Код организационно-правовой формы': '75404', 'Код ОКПО': '77904214', 'Код территории муниципального образования': '65742000001 – г Карпинск', 'Наименование бюджета': 'Бюджет городского округа Карпинск', 'Уровень бюджета': '13\\xa0-\\xa0местный бюджет', 'Дата заключения контракта': '06.06.2016', 'Номер контракта': '0362300231016000109_199653', 'Цена контракта': '2\\xa0399\\xa0185,00', 'Валюта контракта': 'Российский рубль (₽)', 'Дата начала исполнения контракта': '06.06.2016', 'Дата окончания исполнения контракта': '31.12.2016', 'Идентификатор этапа контракта': '23595229', 'Номер реестровой записи реестра независимых гарантий\\n                                            (исполнение контракта)': '00U36617010151160006', 'Размер обеспечения исполнения контракта, ₽': '119\\xa0959,25', 'Код по ОКПО:': '9039340'} {'Организация': ['Общество с ограниченной ответственностью  \"АрмДорСтрой\"', 'Код по ОКПО:', '9039340', 'ИНН:', '6658407928', 'КПП:', '665801001', 'Дата постановки на учет:', '20.04.2012'], 'Страна, код': ['Российская Федерация', '643'], 'Адрес места нахождения': ['620102, Российская Федерация, Свердловская область, Екатеринбург, Белореченская ул, 4 офис (квартира)  84А'], 'Телефон, электронная почта': ['7-904-9848354', 'ads.man@yandex.ru'], 'Статус': ['субъект малого предпринимательства']}\n",
            "Scraping 3661500725916000001\n"
          ]
        },
        {
          "name": "stderr",
          "output_type": "stream",
          "text": [
            " 66%|██████▌   | 33/50 [00:00<00:00, 47.92it/s]"
          ]
        },
        {
          "name": "stdout",
          "output_type": "stream",
          "text": [
            "{'Реестровый номер контракта': '36615007259 16 000001', 'Статус контракта': 'Исполнение завершено', 'Номер извещения об осуществлении закупки': '0362300115916000001', 'Способ определения поставщика (подрядчика, исполнителя)': 'Электронный аукцион', 'Дата подведения результатов определения поставщика (подрядчика, исполнителя)': '25.05.2016', 'Дата размещения (по местному времени)': '06.06.2016 16:03 (МСК+2)', 'Реквизиты документа, подтверждающего основание заключения контракта': '0362300115916000001-3; 0362300115916000001-3', 'Информация о банковском и (или) казначейском сопровождении контракта': 'Банковское или казначейское сопровождение контракта не требуется', 'Полное наименование заказчика': 'МУНИЦИПАЛЬНОЕ ДОШКОЛЬНОЕ ОБРАЗОВАТЕЛЬНОЕ УЧРЕЖДЕНИЕ \"ЦЕНТР РАЗВИТИЯ РЕБЕНКА - ДЕТСКИЙ САД \"ДРУЖБА\"', 'Сокращенное наименование заказчика': 'МДОУ \"ЦРР-ДЕТСКИЙ САД \"ДРУЖБА\"', 'Дата постановки на учет в налоговом органе': '12.04.2000', 'Идентификационный код заказчика': '36615007259661501001', 'ИНН': '6615007259', 'КПП': '668101001', 'Код организационно-правовой формы': '75401', 'Код ОКПО': '53397718', 'Код территории муниципального образования': '65743000 – Качканарский', 'Наименование внебюджетных средств': '22\\xa0-\\xa0Средства автономных учреждений', 'Дата заключения контракта': '06.06.2016', 'Номер контракта': '0362300115916000001-0175609-01', 'Цена контракта': '1\\xa0585\\xa0000,00', 'Валюта контракта': 'Российский рубль (₽)', 'Дата начала исполнения контракта': '06.06.2016', 'Дата окончания исполнения контракта': '31.08.2016', 'Идентификатор этапа контракта': '23522819', 'Код по ОКПО:': '35167481'} {'Организация': ['ОБЩЕСТВО С ОГРАНИЧЕННОЙ ОТВЕТСТВЕННОСТЬЮ \"ФОРТРОС\" (ООО \"ФортРос\")', 'Код по ОКПО:', '35167481', 'ИНН:', '6623111447', 'КПП:', '662301001', 'Дата постановки на учет:', '06.08.2015'], 'Страна, код': ['Российская Федерация', '643'], 'Адрес места нахождения': ['622016 Свердловская область, г. Нижний Тагил ул. Лебяжинская,3 оф.211'], 'Телефон, электронная почта': ['8-3435-379101', 'Fortros2015@mail.ru'], 'Статус': ['субъект малого предпринимательства']}\n",
            "Scraping 2661600128116000109\n",
            "{'Реестровый номер контракта': '26616001281 16 000109', 'Статус контракта': 'Исполнение завершено', 'Номер извещения об осуществлении закупки': '0162200011816000539', 'Способ определения поставщика (подрядчика, исполнителя)': 'Электронный аукцион', 'Дата подведения результатов определения поставщика (подрядчика, исполнителя)': '19.05.2016', 'Дата размещения (по местному времени)': '06.06.2016 09:13 (МСК+2)', 'Основание заключения контракта с единственным поставщиком': 'Закупка вследствие признания несостоявшимся электронного аукциона по основаниям, представленным в пункте 6 части 2, части 5, части 7 статьи 52 Федерального закона', 'Реквизиты документа, подтверждающего основание заключения контракта': '0162200011816000539-1', 'Информация о банковском и (или) казначейском сопровождении контракта': 'Банковское или казначейское сопровождение контракта не требуется', 'Полное наименование заказчика': 'ГОСУДАРСТВЕННОЕ БЮДЖЕТНОЕ УЧРЕЖДЕНИЕ ЗДРАВООХРАНЕНИЯ СВЕРДЛОВСКОЙ ОБЛАСТИ \"КИРОВГРАДСКАЯ ЦЕНТРАЛЬНАЯ ГОРОДСКАЯ БОЛЬНИЦА\"', 'Сокращенное наименование заказчика': 'ГАУЗ СО \"КИРОВГРАДСКАЯ ЦГБ\"', 'Дата постановки на учет в налоговом органе': '11.02.1994', 'Идентификационный код заказчика': '26616001281661601001', 'ИНН': '6616001281', 'КПП': '668201001', 'Код организационно-правовой формы': '75201', 'Код ОКПО': '05211954', 'Код территории муниципального образования': '65744000001 – г Кировград', 'Наименование бюджета': 'Бюджет Свердловской области', 'Уровень бюджета': '12\\xa0-\\xa0бюджет субъекта Российской Федерации', 'Дата заключения контракта': '06.06.2016', 'Номер контракта': '30/05-104', 'Цена контракта': '5\\xa0700\\xa0000,00', 'Валюта контракта': 'Российский рубль (₽)', 'Дата начала исполнения контракта': '06.06.2016', 'Дата окончания исполнения контракта': '14.09.2016', 'Идентификатор этапа контракта': '23508421', 'Номер реестровой записи реестра независимых гарантий\\n                                            (исполнение контракта)': '02L26616001281160011', 'Размер обеспечения исполнения контракта, ₽': '1\\xa0710\\xa0000,00', 'Код по ОКПО:': '31562430'} {'Организация': ['ОБЩЕСТВО С ОГРАНИЧЕННОЙ ОТВЕТСТВЕННОСТЬЮ \"ТРИОМЕД\" (ОБЩЕСТВО С ОГРАНИЧЕННОЙ ОТВЕТСТВЕННОСТЬЮ \"ТРИОМЕД\"; ООО \"ТРИОМЕД\")', 'Код по ОКПО:', '31562430', 'ИНН:', '5905030280', 'КПП:', '590501001', 'Дата постановки на учет:', '05.01.1992'], 'Страна, код': ['Российская Федерация', '643'], 'Адрес места нахождения': ['614022, край Пермский 59, г Пермь, ул Мира, 11, 2'], 'Телефон, электронная почта': ['7-342-2700508', 'triome@mail.ru'], '': []}\n",
            "Scraping 3664300197116000006\n",
            "{'Реестровый номер контракта': '36643001971 16 000006', 'Статус контракта': 'Исполнение завершено', 'Номер извещения об осуществлении закупки': '0862300040416000026', 'Способ определения поставщика (подрядчика, исполнителя)': 'Электронный аукцион', 'Дата подведения результатов определения поставщика (подрядчика, исполнителя)': '25.05.2016', 'Дата размещения (по местному времени)': '06.06.2016 13:54 (МСК+2)', 'Основание заключения контракта с единственным поставщиком': 'Закупка вследствие признания несостоявшимся электронного аукциона по основаниям, представленным в пункте 6 части 2, части 5, части 7 статьи 52 Федерального закона', 'Реквизиты документа, подтверждающего основание заключения контракта': '0862300040416000026-2', 'Информация о банковском и (или) казначейском сопровождении контракта': 'Банковское или казначейское сопровождение контракта не требуется', 'Полное наименование заказчика': 'Территориальный орган Администрации Каменского городского округа - Бродовская сельская администрация', 'Сокращенное наименование заказчика': 'БРОДОВСКАЯ СЕЛЬСКАЯ АДМИНИСТРАЦИЯ', 'Дата постановки на учет в налоговом органе': '18.01.1992', 'Идентификационный код заказчика': '36643001971664301001', 'ИНН': '6643001971', 'КПП': '661201001', 'Код организационно-правовой формы': '75404', 'Код ОКПО': '04243656', 'Код территории муниципального образования': '65712000051 –', 'Наименование бюджета': 'Бюджет муниципального образования \"Каменский городской округ\"', 'Уровень бюджета': '13\\xa0-\\xa0местный бюджет', 'Дата заключения контракта': '06.06.2016', 'Номер контракта': '2-БРАЭФ', 'Цена контракта': '1\\xa0722\\xa0565,84', 'Валюта контракта': 'Российский рубль (₽)', 'Дата начала исполнения контракта': '06.06.2016', 'Дата окончания исполнения контракта': '31.12.2016', 'Идентификатор этапа контракта': '23508893', 'Размер обеспечения исполнения контракта, ₽': '86\\xa0128,29', 'Код по ОКПО:': '84524205'} {'Организация': ['\"Каменск-Строй\" (ООО \"Каменск-Строй\")', 'Код по ОКПО:', '84524205', 'ИНН:', '6612024930', 'КПП:', '668501001', 'Дата постановки на учет:', '17.12.2007'], 'Страна, код': ['Российская Федерация', '643'], 'Адрес места нахождения': ['623414, Свердловская область, г Каменск-Уральский, ул Лермонтова, д 78'], 'Телефон, электронная почта': ['7-9122-619404', 'kamenskstroy@mail.ru'], '': []}\n",
            "Scraping 3663100944716000022\n",
            "{'Реестровый номер контракта': '36631009447 16 000022', 'Статус контракта': 'Исполнение завершено', 'Номер извещения об осуществлении закупки': '0362300267116000022', 'Способ определения поставщика (подрядчика, исполнителя)': 'Электронный аукцион', 'Дата подведения результатов определения поставщика (подрядчика, исполнителя)': '23.05.2016', 'Дата размещения (по местному времени)': '07.06.2016 13:08 (МСК+2)', 'Основание заключения контракта с единственным поставщиком': 'Закупка вследствие признания несостоявшимся электронного аукциона по основаниям, представленным в пункте 6 части 2, части 5, части 7 статьи 52 Федерального закона', 'Реквизиты документа, подтверждающего основание заключения контракта': '0362300267116000022-3; Протокол № 51', 'Информация о банковском и (или) казначейском сопровождении контракта': 'Банковское или казначейское сопровождение контракта не требуется', 'Полное наименование заказчика': 'МУНИЦИПАЛЬНОЕ  КАЗЕННОЕ УЧРЕЖДЕНИЕ \"УПРАВЛЕНИЕ ЖИЛИЩНО-КОММУНАЛЬНОГО ХОЗЯЙСТВА\" ИВДЕЛЬСКОГО ГОРОДСКОГО ОКРУГА', 'Сокращенное наименование заказчика': 'МКУ \"УЖКХ\"', 'Дата постановки на учет в налоговом органе': '12.12.2008', 'Идентификационный код заказчика': '36631009447661701001', 'ИНН': '6631009447', 'КПП': '661701001', 'Код организационно-правовой формы': '75404', 'Код ОКПО': '89884500', 'Код территории муниципального образования': '65738000 – Ивдельский', 'Наименование бюджета': 'Бюджет Ивдельского городского округа', 'Уровень бюджета': '13\\xa0-\\xa0местный бюджет', 'Дата заключения контракта': '06.06.2016', 'Номер контракта': '0362300267116000022-0182646-01', 'Цена контракта': '1\\xa0573\\xa0463,07', 'Валюта контракта': 'Российский рубль (₽)', 'Дата начала исполнения контракта': '06.06.2016', 'Дата окончания исполнения контракта': '31.12.2016', 'Идентификатор этапа контракта': '23548191', 'Код по ОКПО:': '91080708'} {'Организация': ['ОБЩЕСТВО С ОГРАНИЧЕННОЙ ОТВЕТСТВЕННОСТЬЮ \"УРАЛПРОМТЕХЦЕНТР\" (ООО \"УРАЛПРОМТЕХЦЕНТР\")', 'Код по ОКПО:', '91080708', 'ИНН:', '6670329641', 'КПП:', '661701001', 'Дата постановки на учет:', '27.02.2012'], 'Страна, код': ['Российская Федерация', '643'], 'Адрес места нахождения': ['624590, обл СВЕРДЛОВСКАЯ 66, г ИВДЕЛЬ, ул ШКОЛЬНАЯ, 5'], 'Телефон, электронная почта': ['7-34353-79355', 'admivdel@mail.ru'], '': []}\n",
            "Scraping 3667128149516000029"
          ]
        },
        {
          "name": "stderr",
          "output_type": "stream",
          "text": [
            " 76%|███████▌  | 38/50 [00:00<00:00, 46.35it/s]"
          ]
        },
        {
          "name": "stdout",
          "output_type": "stream",
          "text": [
            "\n",
            "{'Реестровый номер контракта': '36671281495 16 000029', 'Статус контракта': 'Исполнение завершено', 'Номер извещения об осуществлении закупки': '0162300005316001280', 'Способ определения поставщика (подрядчика, исполнителя)': 'Электронный аукцион', 'Дата подведения результатов определения поставщика (подрядчика, исполнителя)': '24.05.2016', 'Дата размещения (по местному времени)': '06.06.2016 11:14 (МСК+2)', 'Реквизиты документа, подтверждающего основание заключения контракта': 'Протокол подведения итогов электронного аукциона № 0162300005316001280-3 от 24.05.2016;24.05.2016, №0162300005316001280, протокол подведения итогов электронного аукциона', 'Информация о банковском и (или) казначейском сопровождении контракта': 'Банковское или казначейское сопровождение контракта не требуется', 'Полное наименование заказчика': 'МУНИЦИПАЛЬНОЕ БЮДЖЕТНОЕ УЧРЕЖДЕНИЕ \"ЦЕНТР ОРГАНИЗАЦИИ ДВИЖЕНИЯ\"', 'Сокращенное наименование заказчика': 'МБУ \"ЦОД\"', 'Дата постановки на учет в налоговом органе': '26.02.2009', 'Идентификационный код заказчика': '36671281495667101001', 'ИНН': '6671281495', 'КПП': '665801001', 'Код организационно-правовой формы': '75403', 'Код ОКПО': '60790333', 'Наименование внебюджетных средств': '21\\xa0-\\xa0Средства бюджетных учреждений', 'Дата заключения контракта': '06.06.2016', 'Номер контракта': '0162300005316001280', 'Цена контракта': '6\\xa0666\\xa0750,50', 'Валюта контракта': 'Российский рубль (₽)', 'Дата начала исполнения контракта': '06.06.2016', 'Дата окончания исполнения контракта': '16.07.2016', 'Идентификатор этапа контракта': '23511897', 'Номер реестровой записи реестра независимых гарантий\\n                                            (исполнение контракта)': '0J536671281495160009', 'Размер обеспечения исполнения контракта, ₽': '1\\xa0698\\xa0742,32', 'Код по ОКПО:': '09046437'} {'Организация': [\"ООО 'Автодорзнак'\", 'Код по ОКПО:', '09046437', 'ИНН:', '6679014082', 'КПП:', '667901001', 'Дата постановки на учет:', '10.05.2012'], 'Страна, код': [], 'Адрес места нахождения': ['620085, Свердловская область, город Екатеринбург, г. Екатеринбург, ул. 8 Марта, 197, литер Р, офис 23'], 'Телефон, электронная почта': ['+7 (343) 219-02-06', 'avtodorznak@gmail.com'], 'Статус': ['субъект малого предпринимательства']}\n",
            "Scraping 3662800301116000013\n",
            "{'Реестровый номер контракта': '36628003011 16 000013', 'Статус контракта': 'Исполнение завершено', 'Номер извещения об осуществлении закупки': '0162300009216000012', 'Способ определения поставщика (подрядчика, исполнителя)': 'Электронный аукцион', 'Дата подведения результатов определения поставщика (подрядчика, исполнителя)': '26.05.2016', 'Дата размещения (по местному времени)': '07.06.2016 11:52 (МСК+2)', 'Основание заключения контракта с единственным поставщиком': 'Закупка вследствие признания несостоявшимся электронного аукциона по основаниям, представленным в пункте 6 части 2, части 5, части 7 статьи 52 Федерального закона', 'Реквизиты документа, подтверждающего основание заключения контракта': '0162300009216000012-1; Протокол рассмотрения единственной заявки от 26.05.2016 № 0162300009216000012', 'Информация о банковском и (или) казначейском сопровождении контракта': 'Банковское или казначейское сопровождение контракта не требуется', 'Полное наименование заказчика': 'АДМИНИСТРАЦИЯ РЕЖЕВСКОГО ГОРОДСКОГО ОКРУГА - ИСПОЛНИТЕЛЬНО-РАСПОРЯДИТЕЛЬНЫЙ ОРГАН МУНИЦИПАЛЬНОГО ОБРАЗОВАНИЯ', 'Сокращенное наименование заказчика': 'АДМИНИСТРАЦИЯ РЕЖЕВСКОГО ГОРОДСКОГО ОКРУГА', 'Дата постановки на учет в налоговом органе': '20.04.1994', 'Идентификационный код заказчика': '36628003011662801001', 'ИНН': '6628003011', 'КПП': '667701001', 'Код организационно-правовой формы': '75404', 'Код ОКПО': '04042165', 'Код территории муниципального образования': '65720000001 – г Реж', 'Наименование бюджета': 'Бюджет Режевского городского округа', 'Уровень бюджета': '13\\xa0-\\xa0местный бюджет', 'Дата заключения контракта': '06.06.2016', 'Номер контракта': '0162300009216000012-0223022-01', 'Цена контракта': '3\\xa0000\\xa0000,00', 'Валюта контракта': 'Российский рубль (₽)', 'Дата начала исполнения контракта': '06.06.2016', 'Дата окончания исполнения контракта': '10.06.2016', 'Идентификатор этапа контракта': '23544733', 'Код по ОКПО:': '02504804'} {'Организация': ['ОБЩЕСТВО С ОГРАНИЧЕННОЙ ОТВЕТСТВЕННОСТЬЮ \"РБА-ПЕНЗА\" (ООО \"РБА-ПЕНЗА\")', 'Код по ОКПО:', '02504804', 'ИНН:', '5837048737', 'КПП:', '583401001', 'Дата постановки на учет:', '03.09.2013'], 'Страна, код': ['Российская Федерация', '643'], 'Адрес места нахождения': ['440013, обл ПЕНЗЕНСКАЯ 58, г ПЕНЗА, ул ДРУЖБЫ, 10'], 'Телефон, электронная почта': ['7-8412-205534', 'yamschikova.i@rbauto.ru'], 'Статус': ['субъект малого предпринимательства']}\n",
            "Scraping 3663000771116000004\n",
            "{'Реестровый номер контракта': '36630007711 16 000004', 'Статус контракта': 'Исполнение завершено', 'Номер извещения об осуществлении закупки': '0362300169016000003', 'Способ определения поставщика (подрядчика, исполнителя)': 'Электронный аукцион', 'Дата подведения результатов определения поставщика (подрядчика, исполнителя)': '24.05.2016', 'Дата размещения (по местному времени)': '08.06.2016 12:36 (МСК+2)', 'Реквизиты документа, подтверждающего основание заключения контракта': '0362300169016000003-3', 'Информация о банковском и (или) казначейском сопровождении контракта': 'Банковское или казначейское сопровождение контракта не требуется', 'Полное наименование заказчика': 'МУНИЦИПАЛЬНОЕ БЮДЖЕТНОЕ УЧРЕЖДЕНИЕ ДОПОЛНИТЕЛЬНОГО ОБРАЗОВАНИЯ \"ДЕТСКАЯ ШКОЛА ИСКУССТВ\"', 'Сокращенное наименование заказчика': 'МБУДО ДШИ', 'Дата постановки на учет в налоговом органе': '01.01.2012', 'Идентификационный код заказчика': '36630007711668101001', 'ИНН': '6630007711', 'КПП': '668101001', 'Код организационно-правовой формы': '75403', 'Код ОКПО': '49559279', 'Код территории муниципального образования': '65749000 – город Лесной', 'Наименование бюджета': 'Бюджет городского округа \"Город Лесной\"', 'Уровень бюджета': '13\\xa0-\\xa0местный бюджет', 'Дата заключения контракта': '06.06.2016', 'Номер контракта': '0362300169016000003-0134298-02', 'Цена контракта': '2\\xa0147\\xa0994,22', 'Валюта контракта': 'Российский рубль (₽)', 'Дата начала исполнения контракта': '08.06.2016', 'Дата окончания исполнения контракта': '16.08.2016', 'Идентификатор этапа контракта': '23544293', 'Код по ОКПО:': '70789963'} {'Организация': ['ОБЩЕСТВО С ОГРАНИЧЕННОЙ ОТВЕТСТВЕННОСТЬЮ \"ТРОЙКА\" (-)', 'Код по ОКПО:', '70789963', 'ИНН:', '6603015953', 'КПП:', '660301001', 'Дата постановки на учет:', '21.08.2003'], 'Страна, код': ['Российская Федерация', '643'], 'Адрес места нахождения': ['624260, обл СВЕРДЛОВСКАЯ 66, г АСБЕСТ, пр-кт ИМ В.И.ЛЕНИНА, 16'], 'Телефон, электронная почта': ['7-902-2647607', 'shtin66@mail.ru'], 'Статус': ['субъект малого предпринимательства']}\n",
            "Scraping 1666101464516000177\n",
            "{'Реестровый номер контракта': '16661014645 16 000177', 'Статус контракта': 'Исполнение завершено', 'Номер извещения об осуществлении закупки': '0362100026216000161', 'Способ определения поставщика (подрядчика, исполнителя)': 'Электронный аукцион', 'Дата подведения результатов определения поставщика (подрядчика, исполнителя)': '23.05.2016', 'Дата размещения (по местному времени)': '07.06.2016 12:27 (МСК+2)', 'Основание заключения контракта с единственным поставщиком': 'Осуществление закупки товаров, работ, услуг у единственного поставщика (подрядчика, исполнителя), определенного указом или распоряжением Президента Российской Федерации, либо в случаях, установленных поручениями Президента Российской Федерации, у поставщика (подрядчика, исполнителя), определенного постановлением или распоряжением Правительства Российской Федерации', 'Реквизиты документа, подтверждающего основание заключения контракта': 'протокол от 23.05.16 № 157-3', 'Информация о банковском и (или) казначейском сопровождении контракта': 'Банковское или казначейское сопровождение контракта не требуется', 'Полное наименование заказчика': 'федеральное казенное учреждение \"Уральское окружное управление материально-технического снабжения Министерства внутренних дел Российской Федерации\"', 'Сокращенное наименование заказчика': 'ФКУ \"УОУМТС МВД РОССИИ\"', 'Дата постановки на учет в налоговом органе': '30.06.2015', 'Идентификационный код заказчика': '16661014645667101001', 'ИНН': '6661014645', 'КПП': '667101001', 'Код организационно-правовой формы': '75104', 'Код ОКПО': '08569917', 'Код территории муниципального образования': '40000000 – Муниципальные образования города федерального значения Санкт-Петербурга', 'Наименование бюджета': 'Федеральный бюджет', 'Уровень бюджета': '11\\xa0-\\xa0федеральный бюджет', 'Дата заключения контракта': '06.06.2016', 'Номер контракта': '0362100026216000161-0000782-01', 'Цена контракта': '3\\xa0133\\xa0067,52', 'Валюта контракта': 'Российский рубль (₽)', 'Дата начала исполнения контракта': '06.06.2016', 'Дата окончания исполнения контракта': '30.09.2016', 'Идентификатор этапа контракта': '23542092', 'Размер обеспечения исполнения контракта, ₽': '319\\xa0324,80', 'Код по ОКПО:': '90744856'} {'Организация': [\"Общество с ограниченной ответственностью 'ТРАП'\", 'Код по ОКПО:', '90744856', 'ИНН:', '7801539534', 'КПП:', '780101001', 'Дата постановки на учет:', '10.02.2011'], 'Страна, код': ['Российская Федерация', '643'], 'Адрес места нахождения': ['199178,РФ, г. Санкт-Петербург, наб. Реки Смоленки,', 'д.5-7. лит.А'], 'Телефон, электронная почта': ['7-921-5910337', 'trap.llc@mail.ru'], '': []}\n",
            "Scraping 3665200491516000007\n",
            "{'Реестровый номер контракта': '36652004915 16 000007', 'Статус контракта': 'Исполнение завершено', 'Номер извещения об осуществлении закупки': '0162300054216000010', 'Способ определения поставщика (подрядчика, исполнителя)': 'Электронный аукцион', 'Дата подведения результатов определения поставщика (подрядчика, исполнителя)': '24.05.2016', 'Дата размещения (по местному времени)': '06.06.2016 11:06 (МСК+2)', 'Реквизиты документа, подтверждающего основание заключения контракта': '0162300054216000010-3', 'Информация о банковском и (или) казначейском сопровождении контракта': 'Банковское или казначейское сопровождение контракта не требуется', 'Полное наименование заказчика': 'Администрация Сысертского городского округа', 'Дата постановки на учет в налоговом органе': '07.09.1999', 'Идентификационный код заказчика': '36652004915665201001', 'ИНН': '6652004915', 'КПП': '668501001', 'Код организационно-правовой формы': '75404', 'Код ОКПО': '04041711', 'Код территории муниципального образования': '65722000 – Сысертский', 'Наименование бюджета': 'Бюджет Сысертского городского округа', 'Уровень бюджета': '13\\xa0-\\xa0местный бюджет', 'Дата заключения контракта': '06.06.2016', 'Номер контракта': '2', 'Цена контракта': '2\\xa0994\\xa0751,00', 'Валюта контракта': 'Российский рубль (₽)', 'Дата начала исполнения контракта': '07.06.2016', 'Дата окончания исполнения контракта': '21.07.2016', 'Идентификатор этапа контракта': '23511855', 'Размер обеспечения исполнения контракта, ₽': '300\\xa0980,00', 'Код по ОКПО:': '12345299'} {'Организация': ['ОБЩЕСТВО С ОГРАНИЧЕННОЙ ОТВЕТСТВЕННОСТЬЮ \"ТЕХНОМАРКЕТ\" (ОБЩЕСТВО С ОГРАНИЧЕННОЙ ОТВЕТСТВЕННОСТЬЮ \"ТЕХНОМАРКЕТ\")', 'Код по ОКПО:', '12345299', 'ИНН:', '6660068398', 'КПП:', '667001001', 'Дата постановки на учет:', '27.01.2000'], 'Страна, код': ['Российская Федерация', '643'], 'Адрес места нахождения': ['620075, обл СВЕРДЛОВСКАЯ 66, г ЕКАТЕРИНБУРГ, ул ШАРТАШСКАЯ, 23, КВ.55'], 'Телефон, электронная почта': ['8-343-2637807', 'technomarket@e1.ru'], '': []}\n",
            "Scraping 3666100466116000055\n",
            "{'Реестровый номер контракта': '36661004661 16 000055', 'Статус контракта': 'Исполнение', 'Номер извещения об осуществлении закупки': '0162300005316001448', 'Способ определения поставщика (подрядчика, исполнителя)': 'Закупка у единственного поставщика (подрядчика, исполнителя)', 'Дата размещения (по местному времени)': '05.07.2016 14:03 (МСК+2)', 'Основание заключения контракта с единственным поставщиком': 'Закупка вследствие признания несостоявшимся электронного аукциона по основаниям, представленным в пункте 6 части 2, части 5, части 7 статьи 52 Федерального закона', 'Реквизиты документа, подтверждающего основание заключения контракта': '44-ФЗ от 05.04.2013 Статья 93, ч.1, п.25, 24.05.2016, №0162300005316001448, протокол подведения итогов электронного аукциона', 'Информация о банковском и (или) казначейском сопровождении контракта': 'Банковское или казначейское сопровождение контракта не требуется', 'Основание для изменения': 'некорректно внесена фамилия поставщика', 'Полное наименование заказчика': 'АДМИНИСТРАЦИЯ ГОРОДА ЕКАТЕРИНБУРГА', 'Дата постановки на учет в налоговом органе': '16.07.1991', 'Идентификационный код заказчика': '36661004661667101001', 'ИНН': '6661004661', 'КПП': '667101001', 'Код организационно-правовой формы': '75404', 'Код ОКПО': '04041542', 'Код территории муниципального образования': '65701000 – город Екатеринбург', 'Наименование бюджета': 'Бюджет муниципального образования \"город Екатеринбург\"', 'Уровень бюджета': '13\\xa0-\\xa0местный бюджет', 'Дата заключения контракта': '06.06.2016', 'Номер контракта': '1448-ЗКЭА', 'Цена контракта': '1\\xa0260\\xa0000,00', 'Валюта контракта': 'Российский рубль (₽)', 'Дата начала исполнения контракта': '06.06.2016', 'Дата окончания исполнения контракта': '31.12.2016', 'Идентификатор этапа контракта': '23529092'} {'Организация': ['Чечет Игорь АлександровичИндивидуальный\\xa0предприниматель', 'ИНН:', '666101441159', 'Дата постановки на учет:', '01.08.2015'], 'Страна, код': ['Российская Федерация', '643'], 'Адрес места нахождения': ['620142, Свердловская область, город Екатеринбург, 620142, Российская Федерация, Свердловская обл., г. Екатеринбург, ул. Фрунзе, 43, 2'], 'Телефон, электронная почта': ['7-912-2453060', 'ichechet@mail.ru'], '': []}\n",
            "Scraping 1662300653016000017\n",
            "{'Реестровый номер контракта': '16623006530 16 000017', 'Статус контракта': 'Исполнение завершено', 'Номер извещения об осуществлении закупки': '0262100000216000009', 'Способ определения поставщика (подрядчика, исполнителя)': 'Электронный аукцион', 'Дата подведения результатов определения поставщика (подрядчика, исполнителя)': '26.05.2016', 'Дата размещения (по местному времени)': '06.06.2016 11:36 (МСК+2)', 'Реквизиты документа, подтверждающего основание заключения контракта': 'Протокол № 2 подведения итогов электронного аукциона 0262100000216000009, опубликованный на Официальном сайте Единой информационной системы в сфере закупок', 'Реквизиты документально оформленного отчета,\\n                            содержащего информацию о невозможности или нецелесообразности использования иных способов\\n                            определения поставщика (подрядчика, исполнителя)': '-', 'Информация о банковском и (или) казначейском сопровождении контракта': 'Банковское или казначейское сопровождение контракта не требуется', 'Полное наименование заказчика': 'государственное учреждение - Управление Пенсионного фонда Российской Федерации в городе Нижнем Тагиле и Пригородном районе Свердловской области', 'Сокращенное наименование заказчика': 'УПФР В Г.НИЖНЕМ ТАГИЛЕ СВЕРДЛОВСКОЙ ОБЛАСТИ (МЕЖРАЙОННОЕ)', 'Дата постановки на учет в налоговом органе': '30.08.2004', 'Идентификационный код заказчика': '16623006530662301001', 'ИНН': '6623006530', 'КПП': '662301001', 'Код организационно-правовой формы': '75104', 'Код ОКПО': '56970779', 'Код территории муниципального образования': '65751000 – город Нижний Тагил', 'Наименование бюджета': 'Бюджет Пенсионного фонда Российской Федерации', 'Уровень бюджета': '14\\xa0-\\xa0бюджет Пенсионного фонда Российской Федерации', 'Дата заключения контракта': '06.06.2016', 'Номер контракта': '50-16', 'Цена контракта': '1\\xa0160\\xa0000,00', 'Валюта контракта': 'Российский рубль (₽)', 'Дата начала исполнения контракта': '06.06.2016', 'Дата окончания исполнения контракта': '31.12.2016', 'Идентификатор этапа контракта': '23511645', 'Размер обеспечения исполнения контракта, ₽': '153\\xa0195,67'} {'Организация': ['Сосновских Олег НиколаевичИндивидуальный\\xa0предприниматель', 'ИНН:', '662317379227', 'Дата постановки на учет:', '03.06.2008'], 'Страна, код': ['Российская Федерация', '643'], 'Адрес места нахождения': ['Страна: Российская Федерация; ОКАТО: 65476374000; Почтовый индекс: 622034; Субъект РФ: Свердловская; Город: Нижний Тагил; Улица: Мира; Дом: 24;'], 'Телефон, электронная почта': ['7-3435-251351', 'virtual@tagilnet.ru'], '': []}\n",
            "Scraping 3663000222316000051\n",
            "{'Реестровый номер контракта': '36630002223 16 000051', 'Статус контракта': 'Исполнение завершено', 'Номер извещения об осуществлении закупки': '0362300159316000046', 'Способ определения поставщика (подрядчика, исполнителя)': 'Электронный аукцион', 'Дата подведения результатов определения поставщика (подрядчика, исполнителя)': '24.05.2016', 'Дата размещения (по местному времени)': '27.06.2016 08:34 (МСК+2)', 'Основание заключения контракта с единственным поставщиком': 'Закупка вследствие признания несостоявшимся электронного аукциона по основаниям, представленным в пункте 6 части 2, части 5, части 7 статьи 52 Федерального закона', 'Реквизиты документа, подтверждающего основание заключения контракта': '0362300159316000046-3', 'Информация о банковском и (или) казначейском сопровождении контракта': 'Банковское или казначейское сопровождение контракта не требуется', 'Причина изменения условий контракта': 'При увеличении по предложению заказчика предусмотренных контрактом (за исключением контракта, предметом которого является выполнение работ по строительству, реконструкции, капитальному ремонту, сносу объекта капитального строительства, проведению работ по сохранению объектов культурного наследия (памятников истории и культуры) народов Российской Федерации)  количества товара, объема работы или услуги не более чем на десять процентов с учетом положений бюджетного законодательства Российской Федерации о возможности изменения цены контракта пропорционально дополнительному количеству товара, дополнительному объему работы или услуги исходя из установленной в контракте цены единицы товара, работы или услуги, но не более чем на десять процентов цены контракта', 'Реквизиты документа, являющегося основанием\\n                                        изменения условий контракта': '«Дополнительное соглашение к контракту»\\n                                        \\n                                        б/н от 12.06.2016г. , вх № 1111 от 24.06.2016', 'Полное наименование заказчика': 'Муниципальное казенное учреждение \"Управление городского хозяйства\"', 'Сокращенное наименование заказчика': 'МКУ \"УГХ\"', 'Дата постановки на учет в налоговом органе': '01.01.2012', 'Идентификационный код заказчика': '36630002223668101001', 'ИНН': '6630002223', 'КПП': '668101001', 'Код организационно-правовой формы': '75404', 'Код ОКПО': '33886102', 'Код территории муниципального образования': '65000000 – Муниципальные образования Свердловской области', 'Наименование бюджета': 'Бюджет городского округа \"Город Лесной\"', 'Уровень бюджета': '13\\xa0-\\xa0местный бюджет', 'Дата заключения контракта': '06.06.2016', 'Номер контракта': '0362300159316000046-0135971-01', 'Цена контракта': '3\\xa0163\\xa0839,15\\n                                                \\n                                                    \\n\\nЗагрузка ...', 'Валюта контракта': 'Российский рубль (₽)', 'Дата начала исполнения контракта': '06.06.2016', 'Дата окончания исполнения контракта': '12.06.2016', 'Идентификатор этапа контракта': '23516341', 'Размер обеспечения исполнения контракта, ₽': '289\\xa0997,00'} {'Организация': ['Дедюхина Марина ВалентиновнаИндивидуальный\\xa0предприниматель', 'ИНН:', '663000578257', 'Дата постановки на учет:', '15.02.2016'], 'Страна, код': ['Российская Федерация', '643'], 'Адрес места нахождения': ['624200, Свердловская область, г. Лесной, ул. Мира, д. 3-103'], 'Телефон, электронная почта': ['8-922-2028236', '79222028236@yandex.ru'], '': []}\n",
            "Scraping 3667220704616000007\n",
            "{'Реестровый номер контракта': '36672207046 16 000007', 'Статус контракта': 'Исполнение', 'Номер извещения об осуществлении закупки': '0162300005316001367', 'Способ определения поставщика (подрядчика, исполнителя)': 'Закупка у единственного поставщика (подрядчика, исполнителя)', 'Дата размещения (по местному времени)': '22.06.2016 13:14 (МСК+2)', 'Основание заключения контракта с единственным поставщиком': 'Закупка вследствие признания несостоявшимся электронного аукциона по основаниям, представленным в пункте 6 части 2, части 5, части 7 статьи 52 Федерального закона', 'Реквизиты документа, подтверждающего основание заключения контракта': 'Протокол подведения итогов электронного аукциона № 0162300005316001367-3 от 24.05.2016;44-ФЗ от 05.04.2013 Статья 93, ч.1, п.25, 23.05.2016, №0162300005316001367, протокол подведения итогов электронного аукциона', 'Информация о банковском и (или) казначейском сопровождении контракта': 'Банковское или казначейское сопровождение контракта не требуется', 'Полное наименование заказчика': 'МУНИЦИПАЛЬНОЕ БЮДЖЕТНОЕ УЧРЕЖДЕНИЕ КУЛЬТУРЫ \"ЕКАТЕРИНБУРГСКИЙ ЗООПАРК\"', 'Сокращенное наименование заказчика': 'МБУК \"ЕКАТЕРИНБУРГСКИЙ ЗООПАРК\"', 'Дата постановки на учет в налоговом органе': '06.04.2006', 'Идентификационный код заказчика': '36672207046667201001', 'ИНН': '6672207046', 'КПП': '668501001', 'Код организационно-правовой формы': '75403', 'Код ОКПО': '02185535', 'Наименование внебюджетных средств': '21\\xa0-\\xa0Средства бюджетных учреждений', 'Дата заключения контракта': '06.06.2016', 'Номер контракта': '0162300005316001367', 'Цена контракта': '1\\xa0925\\xa0413,91', 'Валюта контракта': 'Российский рубль (₽)', 'Дата начала исполнения контракта': '06.06.2016', 'Дата окончания исполнения контракта': '12.09.2016', 'Идентификатор этапа контракта': '23847644', 'Номер реестровой записи реестра независимых гарантий\\n                                            (исполнение контракта)': '0J536672207046160002', 'Размер обеспечения исполнения контракта, ₽': '608\\xa0025,44', 'Код по ОКПО:': '50303898'} {'Организация': ['\"ЕК-СТРОЙ-1\"', 'Код по ОКПО:', '50303898', 'ИНН:', '6658468913', 'КПП:', '665801001', 'Дата постановки на учет:', '26.03.2015'], 'Страна, код': [], 'Адрес места нахождения': ['620109, Свердловская область, город Екатеринбург, г. Екатеринбург, ул. Ключевская, 12, 105'], 'Телефон, электронная почта': ['+7(343)3862035', 'ek-stroy1@mail.ru'], '': []}\n",
            "Scraping 3667700128916000005\n",
            "{'Реестровый номер контракта': '36677001289 16 000005', 'Статус контракта': 'Исполнение завершено', 'Номер извещения об осуществлении закупки': '0862300028316000006', 'Способ определения поставщика (подрядчика, исполнителя)': 'Электронный аукцион', 'Дата подведения результатов определения поставщика (подрядчика, исполнителя)': '24.05.2016', 'Дата размещения (по местному времени)': '10.06.2016 10:43 (МСК+2)', 'Основание заключения контракта с единственным поставщиком': 'Закупка вследствие признания несостоявшимся электронного аукциона по основаниям, представленным в пункте 6 части 2, части 5, части 7 статьи 52 Федерального закона', 'Реквизиты документа, подтверждающего основание заключения контракта': '0862300028316000006-3', 'Информация о банковском и (или) казначейском сопровождении контракта': 'Банковское или казначейское сопровождение контракта не требуется', 'Причина изменения условий контракта': 'При снижении цены контракта без изменения предусмотренных контрактом количества товара, объема работы или услуги, качества поставляемого товара, выполняемой работы, оказываемой услуги и иных условий контракта', 'Реквизиты документа, являющегося основанием\\n                                        изменения условий контракта': '«Дополнительное соглашение к контракту »\\n                                        \\n                                        от 06.06.2016', 'Полное наименование заказчика': 'Управление образования Администрации Режевского городского округа', 'Сокращенное наименование заказчика': 'УПРАВЛЕНИЕ ОБРАЗОВАНИЯ', 'Дата постановки на учет в налоговом органе': '24.04.2012', 'Идентификационный код заказчика': '36677001289667701001', 'ИНН': '6677001289', 'КПП': '667701001', 'Код организационно-правовой формы': '75404', 'Код ОКПО': '02116221', 'Код территории муниципального образования': '65000000 – Муниципальные образования Свердловской области', 'Наименование бюджета': 'Бюджет Режевского городского округа', 'Уровень бюджета': '13\\xa0-\\xa0местный бюджет', 'Дата заключения контракта': '06.06.2016', 'Номер контракта': '0862300028316000006-0438263-01', 'Цена контракта': '1\\xa0509\\xa0514,00\\n                                                \\n                                                    \\n\\nЗагрузка ...', 'Валюта контракта': 'Российский рубль (₽)', 'Дата начала исполнения контракта': '06.06.2016', 'Дата окончания исполнения контракта': '31.08.2016', 'Идентификатор этапа контракта': '23510949', 'Код по ОКПО:': '82824535'}"
          ]
        },
        {
          "name": "stderr",
          "output_type": "stream",
          "text": [
            " 86%|████████▌ | 43/50 [00:00<00:00, 43.65it/s]"
          ]
        },
        {
          "name": "stdout",
          "output_type": "stream",
          "text": [
            " {'Организация': ['Общество с ограниченной ответственностью \"Екатеринбургское Туристическое Агентство\" (ООО ЕТА)', 'Код по ОКПО:', '82824535', 'ИНН:', '6672249991', 'КПП:', '667201001', 'Дата постановки на учет:', '28.09.2007'], 'Страна, код': ['Российская Федерация', '643'], 'Адрес места нахождения': ['620026, Свердловская область, г. Екатеринбург, ул. Сони Морозовой, дом 180, оф. 69'], 'Телефон, электронная почта': ['8-343-2623171', 'mail@eta-info.ru'], '': []}\n",
            "Scraping 2665808158516000624\n",
            "{'Реестровый номер контракта': '26658081585 16 000624', 'Статус контракта': 'Исполнение завершено', 'Номер извещения об осуществлении закупки': '0162200011816000651', 'Способ определения поставщика (подрядчика, исполнителя)': 'Электронный аукцион', 'Дата подведения результатов определения поставщика (подрядчика, исполнителя)': '26.05.2016', 'Дата размещения (по местному времени)': '08.06.2016 09:33 (МСК+2)', 'Основание заключения контракта с единственным поставщиком': 'Закупка вследствие признания несостоявшимся электронного аукциона по основаниям, представленным в пункте 6 части 2, части 5, части 7 статьи 52 Федерального закона', 'Реквизиты документа, подтверждающего основание заключения контракта': 'Протокол рассмотрения единственной заявки на участие в электронном аукционе № 0162200011816000651-1 от 26.05.2016;Протокол №0162200011816000651 от 24.05.2016', 'Информация о банковском и (или) казначейском сопровождении контракта': 'Банковское или казначейское сопровождение контракта не требуется', 'Полное наименование заказчика': 'государственное бюджетное учреждение здравоохранения Свердловской области \"Свердловская областная клиническая больница № 1\"', 'Сокращенное наименование заказчика': 'ГАУЗ СО \"СОКБ №1\"', 'Дата постановки на учет в налоговом органе': '27.05.2004', 'Идентификационный код заказчика': '26658081585665801001', 'ИНН': '6658081585', 'КПП': '665801001', 'Код организационно-правовой формы': '75201', 'Код ОКПО': '01944482', 'Наименование внебюджетных средств': '21\\xa0-\\xa0Средства бюджетных учреждений', 'Дата заключения контракта': '06.06.2016', 'Номер контракта': '0162200011816000651-0009223-01', 'Цена контракта': '1\\xa0493\\xa0520,00', 'Валюта контракта': 'Российский рубль (₽)', 'Дата начала исполнения контракта': '06.06.2016', 'Дата окончания исполнения контракта': '31.03.2017', 'Идентификатор этапа контракта': '23568459', 'Размер обеспечения исполнения контракта, ₽': '149\\xa0352,00', 'Код по ОКПО:': '63949225'} {'Организация': ['Общество с ограниченной ответственностью  \"АнгиоСистемы\"', 'Код по ОКПО:', '63949225', 'ИНН:', '6674342820', 'КПП:', '667401001', 'Дата постановки на учет:', '18.11.2009'], 'Страна, код': [], 'Адрес места нахождения': ['620073, г.Екатеринбург, ул. А.Шварца д.12/2-185'], 'Телефон, электронная почта': ['7(343)2396494', 'angiosystems@mail.ru'], 'Статус': ['субъект малого предпринимательства']}\n",
            "Scraping 1667033496216000277\n",
            "{'Реестровый номер контракта': '16670334962 16 000277', 'Статус контракта': 'Исполнение завершено', 'Номер извещения об осуществлении закупки': '0862100000216000316', 'Способ определения поставщика (подрядчика, исполнителя)': 'Закупка у единственного поставщика (подрядчика, исполнителя)', 'Дата размещения (по местному времени)': '07.06.2016 18:22 (МСК+2)', 'Основание заключения контракта с единственным поставщиком': 'Закупка оказания услуг по водоснабжению, водоотведению, теплоснабжению, обращению с твердыми коммунальными отходами, газоснабжению (за исключением услуг по реализации сжиженного газа), по подключению (присоединению) к сетям инженерно-технического обеспечения по хранению и ввозу (вывозу) наркотических средств и психотропных веществ', 'Информация о банковском и (или) казначейском сопровождении контракта': 'Банковское или казначейское сопровождение контракта не требуется', 'Полное наименование заказчика': 'ФЕДЕРАЛЬНОЕ КАЗЕННОЕ УЧРЕЖДЕНИЕ \"ОБЪЕДИНЕННОЕ СТРАТЕГИЧЕСКОЕ КОМАНДОВАНИЕ ЦЕНТРАЛЬНОГО ВОЕННОГО ОКРУГА\"', 'Дата постановки на учет в налоговом органе': '08.04.2011', 'Идентификационный код заказчика': '16670334962667001001', 'ИНН': '', 'КПП': '', 'Код организационно-правовой формы': '', 'Код ОКПО': '', 'Код территории муниципального образования': '65701000001 – г Екатеринбург', 'Наименование бюджета': 'Федеральный бюджет', 'Уровень бюджета': '11\\xa0-\\xa0федеральный бюджет', 'Дата заключения контракта': '06.06.2016', 'Номер контракта': '55/К/357', 'Цена контракта': '4\\xa0433\\xa0758,52', 'Валюта контракта': 'Российский рубль (₽)', 'Дата начала исполнения контракта': '06.06.2016', 'Дата окончания исполнения контракта': '31.12.2016', 'Идентификатор этапа контракта': '23561345', 'Код по ОКПО:': '22729025'} {'Организация': ['Муниципальное унитарное предприятие жилищно-коммунального хозяйства \"Кедр\" (МУП ЖКХ \"Кедр\")', 'Код по ОКПО:', '22729025', 'ИНН:', '6607010561', 'КПП:', '660701001', 'Дата постановки на учет:', '01.01.2013'], 'Страна, код': ['Российская Федерация', '643'], 'Адрес места нахождения': ['624790, обл СВЕРДЛОВСКАЯ 66, п СВОБОДНЫЙ, ул СВОБОДЫ, 65'], 'Телефон, электронная почта': ['00-00-00', '/@mail.ru'], '': []}\n",
            "Scraping 3662310208016000243\n",
            "{'Реестровый номер контракта': '36623102080 16 000243', 'Статус контракта': 'Исполнение завершено', 'Номер извещения об осуществлении закупки': '0362300382116000235', 'Способ определения поставщика (подрядчика, исполнителя)': 'Закупка у единственного поставщика (подрядчика, исполнителя)', 'Дата размещения (по местному времени)': '07.06.2016 09:35 (МСК+2)', 'Основание заключения контракта с единственным поставщиком': 'Закупка оказания услуг по водоснабжению, водоотведению, теплоснабжению, обращению с твердыми коммунальными отходами, газоснабжению (за исключением услуг по реализации сжиженного газа), по подключению (присоединению) к сетям инженерно-технического обеспечения по хранению и ввозу (вывозу) наркотических средств и психотропных веществ', 'Информация о банковском и (или) казначейском сопровождении контракта': 'Банковское или казначейское сопровождение контракта не требуется', 'Полное наименование заказчика': 'МУНИЦИПАЛЬНОЕ БЮДЖЕТНОЕ УЧРЕЖДЕНИЕ \"ЦЕНТР ОБСЛУЖИВАНИЯ ЗДАНИЙ И ПОМЕЩЕНИЙ\"', 'Сокращенное наименование заказчика': 'МБУ \"ЦОЗИП\"', 'Дата постановки на учет в налоговом органе': '30.04.2014', 'Идентификационный код заказчика': '36623102080662301001', 'ИНН': '6623102080', 'КПП': '662301001', 'Код организационно-правовой формы': '75403', 'Код ОКПО': '35177203', 'Код территории муниципального образования': '65751000 – город Нижний Тагил', 'Наименование бюджета': 'Бюджет города Нижний Тагил', 'Уровень бюджета': '13\\xa0-\\xa0местный бюджет', 'Дата заключения контракта': '06.06.2016', 'Номер контракта': '2916', 'Цена контракта': '3\\xa0818\\xa0905,16', 'Валюта контракта': 'Российский рубль (₽)', 'Дата начала исполнения контракта': '01.01.2016', 'Дата окончания исполнения контракта': '31.12.2016', 'Идентификатор этапа контракта': '23540033', 'Код по ОКПО:': '91060373'} {'Организация': ['НИЖНЕТАГИЛЬСКОЕ МУНИЦИПАЛЬНОЕ УНИТАРНОЕ ПРЕДПРИЯТИЕ \"НИЖНЕТАГИЛЬСКИЕ ТЕПЛОВЫЕ СЕТИ\" (НТ МУП \"НТТС\")', 'Код по ОКПО:', '91060373', 'ИНН:', '6623075742', 'КПП:', '662301001', 'Дата постановки на учет:', '03.02.2011'], 'Страна, код': ['Российская Федерация', '643'], 'Адрес места нахождения': ['622002, обл СВЕРДЛОВСКАЯ 66, г НИЖНИЙ ТАГИЛ, ул ЧЕРНЫХ, 16'], 'Телефон, электронная почта': ['7-3435-230106', 'post@nt-ts.ru'], '': []}\n",
            "Scraping 1667033496216000264\n",
            "{'Реестровый номер контракта': '16670334962 16 000264', 'Статус контракта': 'Исполнение завершено', 'Номер извещения об осуществлении закупки': '0862100000216000306', 'Способ определения поставщика (подрядчика, исполнителя)': 'Закупка у единственного поставщика (подрядчика, исполнителя)', 'Дата размещения (по местному времени)': '06.06.2016 15:32 (МСК+2)', 'Основание заключения контракта с единственным поставщиком': 'Закупка товара, работы или услуги, которые относятся к сфере деятельности субъектов естественных монополий в соответствии с Федеральным законом от 17 августа 1995 г. № 147-ФЗ «О естественных монополиях», а также услуг центрального депозитария', 'Информация о банковском и (или) казначейском сопровождении контракта': 'Банковское или казначейское сопровождение контракта не требуется', 'Полное наименование заказчика': 'ФЕДЕРАЛЬНОЕ КАЗЕННОЕ УЧРЕЖДЕНИЕ \"ОБЪЕДИНЕННОЕ СТРАТЕГИЧЕСКОЕ КОМАНДОВАНИЕ ЦЕНТРАЛЬНОГО ВОЕННОГО ОКРУГА\"', 'Дата постановки на учет в налоговом органе': '08.04.2011', 'Идентификационный код заказчика': '16670334962667001001', 'ИНН': '', 'КПП': '', 'Код организационно-правовой формы': '', 'Код ОКПО': '', 'Код территории муниципального образования': '65701000001 – г Екатеринбург', 'Наименование бюджета': 'Федеральный бюджет', 'Уровень бюджета': '11\\xa0-\\xa0федеральный бюджет', 'Дата заключения контракта': '06.06.2016', 'Номер контракта': '55/к/340', 'Цена контракта': '1\\xa0000\\xa0000,00', 'Валюта контракта': 'Российский рубль (₽)', 'Дата начала исполнения контракта': '06.06.2016', 'Дата окончания исполнения контракта': '31.12.2016', 'Идентификатор этапа контракта': '23524328', 'Код по ОКПО:': '01083318'} {'Организация': ['ОТКРЫТОЕ АКЦИОНЕРНОЕ ОБЩЕСТВО \"РОССИЙСКИЕ ЖЕЛЕЗНЫЕ ДОРОГИ\" (ОАО \"РЖД\")', 'Код по ОКПО:', '00083262', 'ИНН:', '7708503727', 'КПП:', '997650001', 'Дата постановки на учет:', '23.09.2003'], 'Страна, код': ['Российская Федерация', '643'], 'Адрес места нахождения': ['107174, Г МОСКВА 77, УЛ БАСМАННАЯ НОВ., ДОМ 2'], 'Телефон, электронная почта': ['000-00-00', '/@mail.ru'], '': []}\n",
            "Scraping 1722300731616000056"
          ]
        },
        {
          "name": "stderr",
          "output_type": "stream",
          "text": [
            "100%|██████████| 50/50 [00:01<00:00, 44.13it/s]"
          ]
        },
        {
          "name": "stdout",
          "output_type": "stream",
          "text": [
            "\n",
            "{'Реестровый номер контракта': '17223007316 16 000056', 'Статус контракта': 'Исполнение', 'Номер извещения об осуществлении закупки': '0362100008216000031', 'Способ определения поставщика (подрядчика, исполнителя)': 'Электронный аукцион', 'Дата подведения результатов определения поставщика (подрядчика, исполнителя)': '25.05.2016', 'Дата размещения (по местному времени)': '28.10.2016 17:21 (МСК+2)', 'Основание заключения контракта с единственным поставщиком': 'Закупка вследствие признания несостоявшимся электронного аукциона по основаниям, представленным в пункте 6 части 2, части 5, части 7 статьи 52 Федерального закона', 'Реквизиты документа, подтверждающего основание заключения контракта': 'Протокол рассмотрения единственной заявки на участие в электронном аукционе № 0362100008216000031-4 от 25.05.2016; Протокол от 25.05.2016 № 031', 'Информация о банковском и (или) казначейском сопровождении контракта': 'Банковское или казначейское сопровождение контракта не требуется', 'Причина изменения условий контракта': '', 'Реквизиты документа, являющегося основанием\\n                                        изменения условий контракта': '«Дополнительное соглашение к контракту»\\n                                        \\n                                        1\\n                                        \\n                                            от \\n                                            27.10.2016 (МСК+2)', 'Полное наименование заказчика': 'ФЕДЕРАЛЬНОЕ КАЗЕННОЕ УЧРЕЖДЕНИЕ \"ФЕДЕРАЛЬНОЕ УПРАВЛЕНИЕ АВТОМОБИЛЬНЫХ ДОРОГ \"УРАЛ\" ФЕДЕРАЛЬНОГО ДОРОЖНОГО АГЕНТСТВА\"', 'Сокращенное наименование заказчика': 'ФКУ \"УРАЛУПРАВТОДОР\"', 'Дата постановки на учет в налоговом органе': '19.10.2005', 'Идентификационный код заказчика': '17223007316668501001', 'ИНН': '7223007316', 'КПП': '668501001', 'Код организационно-правовой формы': '75104', 'Код ОКПО': '41243849', 'Код территории муниципального образования': '65701000 – город Екатеринбург', 'Наименование бюджета': 'Федеральный бюджет', 'Уровень бюджета': '10\\xa0-\\xa0федеральный бюджет', 'Дата заключения контракта': '07.06.2016', 'Номер контракта': '0362100008216000031_119993', 'Цена контракта': '79\\xa0615\\xa0927,00', 'Валюта контракта': 'Российский рубль (₽)', 'Дата начала исполнения контракта': '07.06.2016', 'Дата окончания исполнения контракта': '20.10.2016', 'Идентификатор этапа контракта': '23569532', 'Номер реестровой записи реестра независимых гарантий\\n                                            (исполнение контракта)': '02L17223007316160016', 'Размер обеспечения исполнения контракта, ₽': '7\\xa0961\\xa0592,70', 'Код по ОКПО:': '04689984'} {'Организация': ['Акционерное общество «Мостострой-11» (АО «Мостострой-11»)', 'Код по ОКПО:', '04689984', 'ИНН:', '8617001665', 'КПП:', '862450001', 'Дата постановки на учет:', '08.10.2007'], 'Страна, код': ['Российская Федерация', '643'], 'Адрес места нахождения': ['628408, Тюменская область, Ханты-Мансийский АО - Югра, Сургут, г, Энергетиков, 26'], 'Телефон, электронная почта': ['8-3452-540322', 'ms-11@yandex.ru'], '': []}\n",
            "Scraping 3661000095816000023\n",
            "{'Реестровый номер контракта': '36610000958 16 000023', 'Статус контракта': 'Исполнение завершено', 'Номер извещения об осуществлении закупки': '0162300003416000028', 'Способ определения поставщика (подрядчика, исполнителя)': 'Электронный аукцион', 'Дата подведения результатов определения поставщика (подрядчика, исполнителя)': '27.05.2016', 'Дата размещения (по местному времени)': '14.01.2019 18:37 (МСК+2)', 'Реквизиты документа, подтверждающего основание заключения контракта': '0162300003416000028-1', 'Информация о банковском и (или) казначейском сопровождении контракта': 'Банковское или казначейское сопровождение контракта не требуется', 'Основание для изменения': 'Изменение КБК', 'Реквизиты документа, являющегося основанием\\n                                        изменения условий контракта': '«Дополнительное соглашение к контракту»\\n                                        \\n                                        \\n                                        \\n                                            от \\n                                            29.01.2018 (МСК+2)', 'Полное наименование заказчика': 'АДМИНИСТРАЦИЯ ИВДЕЛЬСКОГО ГОРОДСКОГО ОКРУГА', 'Дата постановки на учет в налоговом органе': '27.06.1994', 'Идентификационный код заказчика': '36610000958661701001', 'ИНН': '6610000958', 'КПП': '661701001', 'Код организационно-правовой формы': '75404', 'Код ОКПО': '04042001', 'Код территории муниципального образования': '65738000 – Ивдельский', 'Наименование бюджета': 'Бюджет Ивдельского городского округа', 'Уровень бюджета': '30\\xa0-\\xa0местный бюджет', 'Дата заключения контракта': '07.06.2016', 'Номер контракта': '0162300003416000028-0162745-01', 'Цена контракта': '17\\xa0538\\xa0210,00', 'В том числе НДС': '2\\xa0675\\xa0320,17 ₽', 'Валюта контракта': 'Российский рубль (₽)', 'Дата начала исполнения контракта': '07.06.2016', 'Дата окончания исполнения контракта': '31.12.2018\\n                                \\n                                    \\n\\nЗагрузка ...', 'Идентификатор этапа контракта': '23620419', 'Номер реестровой записи реестра независимых гарантий\\n                                            (исполнение контракта)': 'В соответствии с ч. 8.1 ст. 45 Закона № 44-ФЗ информация о гарантиях не размещается на официальном сайте ЕИС.', 'Размер обеспечения исполнения контракта, ₽': '876\\xa0910,50', 'Код по ОКПО:': '27704386'} {'Организация': ['ОБЩЕСТВО С ОГРАНИЧЕННОЙ ОТВЕТСТВЕННОСТЬЮ \"УРАЛДОРСТРОЙ\" (ООО \"УРАЛДОРСТРОЙ\")', 'Код по ОКПО:', '27704386', 'ИНН:', '6681003384', 'КПП:', '668101001', 'Дата постановки на учет:', '01.10.2013'], 'Страна, код': ['Российская Федерация', '643'], 'Адрес места нахождения': ['624221, ОБЛ СВЕРДЛОВСКАЯ 66, Г НИЖНЯЯ ТУРА, УЛ ДЕКАБРИСТОВ, 2, Г, 7'], 'Телефон, электронная почта': ['7-34342-27194', 'admivdel@mail.ru'], '': []}\n",
            "Scraping 2666001253216000023\n",
            "{'Реестровый номер контракта': '26660012532 16 000023', 'Статус контракта': 'Исполнение завершено', 'Номер извещения об осуществлении закупки': '0162200011816000440', 'Способ определения поставщика (подрядчика, исполнителя)': 'Электронный аукцион', 'Дата подведения результатов определения поставщика (подрядчика, исполнителя)': '27.05.2016', 'Дата размещения (по местному времени)': '22.06.2016 14:58 (МСК+2)', 'Реквизиты документа, подтверждающего основание заключения контракта': 'Протокол подведения итогов электронного аукциона № 0162200011816000440-3 от 27.05.2016;0162200011816000440-3', 'Информация о банковском и (или) казначейском сопровождении контракта': 'Банковское или казначейское сопровождение контракта не требуется', 'Причина изменения условий контракта': 'При увеличении по предложению заказчика предусмотренных контрактом (за исключением контракта, предметом которого является выполнение работ по строительству, реконструкции, капитальному ремонту, сносу объекта капитального строительства, проведению работ по сохранению объектов культурного наследия (памятников истории и культуры) народов Российской Федерации)  количества товара, объема работы или услуги не более чем на десять процентов с учетом положений бюджетного законодательства Российской Федерации о возможности изменения цены контракта пропорционально дополнительному количеству товара, дополнительному объему работы или услуги исходя из установленной в контракте цены единицы товара, работы или услуги, но не более чем на десять процентов цены контракта', 'Реквизиты документа, являющегося основанием\\n                                        изменения условий контракта': '«Дополнительное соглашение к контракту»\\n                                        \\n                                        №1 от 22.06.2016г.', 'Полное наименование заказчика': 'ГОСУДАРСТВЕННОЕ КАЗЕННОЕ УЧРЕЖДЕНИЕ СВЕРДЛОВСКОЙ ОБЛАСТИ \"УРАЛМОНАЦИТ\"', 'Сокращенное наименование заказчика': 'ГКУСО \"УРАЛМОНАЦИТ\"', 'Дата постановки на учет в налоговом органе': '03.11.2010', 'Идентификационный код заказчика': '26660012532667001001', 'ИНН': '6660012532', 'КПП': '667001001', 'Код организационно-правовой формы': '75204', 'Код ОКПО': '39920538', 'Код территории муниципального образования': '65000000 – Муниципальные образования Свердловской области', 'Наименование бюджета': 'Бюджет Свердловской области', 'Уровень бюджета': '12\\xa0-\\xa0бюджет субъекта Российской Федерации', 'Дата заключения контракта': '07.06.2016\\n                                \\n                                    \\n\\nЗагрузка ...', 'Номер контракта': 'Ф.2016.103670', 'Цена контракта': '5\\xa0142\\xa0500,00\\n                                                \\n                                                    \\n\\nЗагрузка ...', 'Валюта контракта': 'Российский рубль (₽)', 'Дата начала исполнения контракта': '07.06.2016', 'Дата окончания исполнения контракта': '30.11.2016', 'Размер обеспечения исполнения контракта, ₽': '0,00', 'Код по ОКПО:': '8909876655'} {'Организация': ['ООО \"ПРОМЫШЛЕННЫЕ ТЕХНОЛОГИИ\"', 'Код по ОКПО:', '8909876655', 'ИНН:', '6686042972', 'КПП:', '668601001', 'Дата постановки на учет:', '30.05.2016'], 'Страна, код': [], 'Адрес места нахождения': ['620012, Российская Федерация, Свердловская обл., г. Екатеринбург, ул. Машиностроителей, 19, 260, ОКАТО: 65401385000'], 'Телефон, электронная почта': ['7-343-3823986', '2014pt@mail.ru'], '': []}\n",
            "\n",
            "Contract id= 3665500092616000001 \n",
            " First tab: price=1665000.00, signed=06.06.2016, deadline=25.12.2016, method=Электронный аукцион, procurer=none, inn=none, kpp=none, registered=None, address=none, number=none, mail=none \n",
            "  Second tab: code=45.11.21.000, product=Услуги по розничной торговле новыми пассажирскими автотранспортными средствами в специализированных магазинах)\n",
            "\n",
            "Contract id= 1666001117616000001 \n",
            " First tab: price=1746485.54, signed=06.06.2016, deadline=01.08.2016, method=Электронный аукцион, procurer=none, inn=none, kpp=none, registered=None, address=none, number=none, mail=none \n",
            "  Second tab: code=22.29.25.000, product=Принадлежности канцелярские или школьные пластмассовые)\n",
            "\n",
            "Contract id= 3664200113616000036 \n",
            " First tab: price=18187717.84, signed=06.06.2016, deadline=31.12.2017, method=Электронный аукцион, procurer=none, inn=none, kpp=none, registered=None, address=none, number=none, mail=none \n",
            "  Second tab: code=42.21.22.130, product=Работы строительные по прокладке местных трубопроводов газа и пара)\n",
            "\n",
            "Contract id= 2662200237116000039 \n",
            " First tab: price=1910940.52, signed=06.06.2016, deadline=31.12.2016, method=Закупка у единственного поставщика (подрядчика, исполнителя), procurer=none, inn=none, kpp=none, registered=None, address=none, number=none, mail=none \n",
            "  Second tab: code=35.30.12.130, product=Услуги по транспортированию горячей воды)\n",
            "\n",
            "Contract id= 3663000494317000008 \n",
            " First tab: price=1615787.26, signed=06.06.2016, deadline=16.06.2016, method=Электронный аукцион, procurer=none, inn=none, kpp=none, registered=None, address=none, number=none, mail=none \n",
            "  Second tab: code=31.09.13.110, product=Мебель деревянная для ванной комнаты)\n",
            "\n",
            "Contract id= 3663000494316000046 \n",
            " First tab: price=1550708.75, signed=06.06.2016, deadline=16.06.2016, method=Электронный аукцион, procurer=none, inn=none, kpp=none, registered=None, address=none, number=none, mail=none \n",
            "  Second tab: code=47.54.10.000, product=Услуги по розничной торговле бытовыми электротоварами в специализированных магазинах)\n",
            "\n",
            "Contract id= 3667131029816000032 \n",
            " First tab: price=5461152.44, signed=06.06.2016, deadline=31.12.2016, method=Электронный аукцион, procurer=none, inn=none, kpp=none, registered=None, address=none, number=none, mail=none \n",
            "  Second tab: code=42.11.10.130, product=Ограждения дорожные)\n",
            "\n",
            "Contract id= 3660200986916000054 \n",
            " First tab: price=1979555.48, signed=06.06.2016, deadline=05.07.2016, method=Электронный аукцион, procurer=none, inn=none, kpp=none, registered=None, address=none, number=none, mail=none \n",
            "  Second tab: code=42.11.10.120, product=Дороги автомобильные, в том числе улично-дорожная сеть, и прочие автомобильные и пешеходные дороги)\n",
            "\n",
            "Contract id= 2667138083416000369 \n",
            " First tab: price=1241473.83, signed=06.06.2016, deadline=31.12.2016, method=Закупка у единственного поставщика (подрядчика, исполнителя), procurer=none, inn=none, kpp=none, registered=None, address=none, number=none, mail=none \n",
            "  Second tab: code=35.30.11.120, product=Энергия тепловая, отпущенная котельными)\n",
            "\n",
            "Contract id= 3667319873216000029 \n",
            " First tab: price=1760945.20, signed=06.06.2016, deadline=30.11.2016, method=Электронный аукцион, procurer=none, inn=none, kpp=none, registered=None, address=none, number=none, mail=none \n",
            "  Second tab: code=78.30.19.000, product=Услуги в области трудовых ресурсов по обеспечению персоналом прочие, не включенные в другие группировки)\n",
            "\n",
            "Contract id= 1667033496216000273 \n",
            " First tab: price=10099906.99, signed=06.06.2016, deadline=31.12.2016, method=Закупка у единственного поставщика (подрядчика, исполнителя), procurer=none, inn=none, kpp=none, registered=None, address=none, number=none, mail=none \n",
            "  Second tab: code=36.00.30.000, product=Услуги по торговле водой, поставляемой по трубопроводам)\n",
            "\n",
            "Contract id= 3667131029816000031 \n",
            " First tab: price=1571527.54, signed=06.06.2016, deadline=31.12.2016, method=Электронный аукцион, procurer=none, inn=none, kpp=none, registered=None, address=none, number=none, mail=none \n",
            "  Second tab: code=42.11.10.120, product=Дороги автомобильные, в том числе улично-дорожная сеть, и прочие автомобильные и пешеходные дороги)\n",
            "\n",
            "Contract id= 1666101464516000179 \n",
            " First tab: price=1584613.70, signed=06.06.2016, deadline=28.02.2017, method=Электронный аукцион, procurer=none, inn=none, kpp=none, registered=None, address=none, number=none, mail=none \n",
            "  Second tab: code=10.71.11.111, product=Хлеб недлительного хранения из пшеничной муки)\n",
            "\n",
            "Contract id= 1666101464516000183 \n",
            " First tab: price=2705862.00, signed=06.06.2016, deadline=28.02.2017, method=Электронный аукцион, procurer=none, inn=none, kpp=none, registered=None, address=none, number=none, mail=none \n",
            "  Second tab: code=10.71.11.111, product=Хлеб недлительного хранения из пшеничной муки)\n",
            "\n",
            "Contract id= 3664900138216000040 \n",
            " First tab: price=8990929.45, signed=06.06.2016, deadline=31.08.2016, method=Электронный аукцион, procurer=none, inn=none, kpp=none, registered=None, address=none, number=none, mail=none \n",
            "  Second tab: code=42.21.22.130, product=Работы строительные по прокладке местных трубопроводов газа и пара)\n",
            "\n",
            "Contract id= 1667033496216000271 \n",
            " First tab: price=15973628.93, signed=06.06.2016, deadline=31.12.2016, method=Закупка у единственного поставщика (подрядчика, исполнителя), procurer=none, inn=none, kpp=none, registered=None, address=none, number=none, mail=none \n",
            "  Second tab: code=35.30.11.120, product=Энергия тепловая, отпущенная котельными)\n",
            "\n",
            "Contract id= 3666202436416000053 \n",
            " First tab: price=8135501.67, signed=06.06.2016, deadline=30.12.2016, method=Закупка у единственного поставщика (подрядчика, исполнителя), procurer=none, inn=none, kpp=none, registered=None, address=none, number=none, mail=none \n",
            "  Second tab: code=86.90.19.140, product=Услуги санаторно-курортных организаций)\n",
            "\n",
            "Contract id= 3667011827016000002 \n",
            " First tab: price=1057320.00, signed=06.06.2016, deadline=31.12.2016, method=Электронный аукцион, procurer=none, inn=none, kpp=none, registered=None, address=none, number=none, mail=none \n",
            "  Second tab: code=62.01.11.000, product=Услуги по проектированию и разработке информационных технологий для прикладных задач и тестированию программного обеспечения)\n",
            "\n",
            "Contract id= 1666101464516000180 \n",
            " First tab: price=1367932.29, signed=06.06.2016, deadline=28.02.2017, method=Электронный аукцион, procurer=none, inn=none, kpp=none, registered=None, address=none, number=none, mail=none \n",
            "  Second tab: code=10.71.11.111, product=Хлеб недлительного хранения из пшеничной муки)\n",
            "\n",
            "Contract id= 2666100878616000152 \n",
            " First tab: price=13490000.00, signed=06.06.2016, deadline=31.12.2016, method=Открытый конкурс, procurer=none, inn=none, kpp=none, registered=None, address=none, number=none, mail=none \n",
            "  Second tab: code=82.30.11.000, product=Услуги по организации конференций)\n",
            "\n",
            "Contract id= 3668200433416000057 \n",
            " First tab: price=1850000.00, signed=06.06.2016, deadline=31.12.2016, method=Электронный аукцион, procurer=none, inn=none, kpp=none, registered=None, address=none, number=none, mail=none \n",
            "  Second tab: code=08.12.11.191, product=Пески полевошпатовые)\n",
            "\n",
            "Contract id= 3663100025016000008 \n",
            " First tab: price=1340087.75, signed=06.06.2016, deadline=30.09.2016, method=Электронный аукцион, procurer=none, inn=none, kpp=none, registered=None, address=none, number=none, mail=none \n",
            "  Second tab: code=43.39.19.190, product=Работы завершающие и отделочные в зданиях и сооружениях, прочие, не включенные в другие группировки)\n",
            "\n",
            "Contract id= 1665841607016000090 \n",
            " First tab: price=4275224.75, signed=06.06.2016, deadline=15.12.2016, method=Электронный аукцион, procurer=none, inn=none, kpp=none, registered=None, address=none, number=none, mail=none \n",
            "  Second tab: code=45.31.12.000, product=Услуги по оптовой торговле прочими автомобильными деталями, узлами и принадлежностями)\n",
            "\n",
            "Contract id= 1665841607016000089 \n",
            " First tab: price=8271586.54, signed=06.06.2016, deadline=31.12.2016, method=Открытый конкурс, procurer=none, inn=none, kpp=none, registered=None, address=none, number=none, mail=none \n",
            "  Second tab: code=65.12.21.000, product=Услуги по страхованию гражданской ответственности владельцев автотранспортных средств)\n",
            "\n",
            "Contract id= 1665802145916000098 \n",
            " First tab: price=1871074.31, signed=06.06.2016, deadline=31.12.2016, method=Электронный аукцион, procurer=none, inn=none, kpp=none, registered=None, address=none, number=none, mail=none \n",
            "  Second tab: code=14.19.32.120, product=Одежда из нетканых материалов)\n",
            "\n",
            "Contract id= 3668200433416000056 \n",
            " First tab: price=2997543.75, signed=06.06.2016, deadline=31.12.2016, method=Электронный аукцион, procurer=none, inn=none, kpp=none, registered=None, address=none, number=none, mail=none \n",
            "  Second tab: code=19.20.21.311, product=Топливо дизельное летнее вне классов)\n",
            "\n",
            "Contract id= 3661500522016000047 \n",
            " First tab: price=1471962.20, signed=06.06.2016, deadline=30.09.2016, method=Электронный аукцион, procurer=none, inn=none, kpp=none, registered=None, address=none, number=none, mail=none \n",
            "  Second tab: code=42.11.20.000, product=Работы строительные по строительству автомагистралей, автомобильных дорог, улично-дорожной сети и прочих автомобильных или пешеходных дорог, и взлетно-посадочных полос аэродромов)\n",
            "\n",
            "Contract id= 1666202299116000031 \n",
            " First tab: price=1462710.00, signed=06.06.2016, deadline=15.06.2016, method=Закупка у единственного поставщика (подрядчика, исполнителя), procurer=none, inn=none, kpp=none, registered=None, address=none, number=none, mail=none \n",
            "  Second tab: code=90.02.11.000, product=Услуги по созданию спектаклей, концертов и иных зрелищных программ (произведений исполнительского искусства))\n",
            "\n",
            "Contract id= 3661701015116000072 \n",
            " First tab: price=2399185.00, signed=06.06.2016, deadline=31.12.2016, method=Электронный аукцион, procurer=none, inn=none, kpp=none, registered=None, address=none, number=none, mail=none \n",
            "  Second tab: code=42.11.20.000, product=Работы строительные по строительству автомагистралей, автомобильных дорог, улично-дорожной сети и прочих автомобильных или пешеходных дорог, и взлетно-посадочных полос аэродромов)\n",
            "\n",
            "Contract id= 3661500725916000001 \n",
            " First tab: price=1585000.00, signed=06.06.2016, deadline=31.08.2016, method=Электронный аукцион, procurer=none, inn=none, kpp=none, registered=None, address=none, number=none, mail=none \n",
            "  Second tab: code=43.91.19.190, product=Работы кровельные прочие, не включенные в другие группировки)\n",
            "\n",
            "Contract id= 2661600128116000109 \n",
            " First tab: price=5700000.00, signed=06.06.2016, deadline=14.09.2016, method=Электронный аукцион, procurer=none, inn=none, kpp=none, registered=None, address=none, number=none, mail=none \n",
            "  Second tab: code=26.60.12.129, product=Приборы и аппараты для функциональной диагностики прочие, применяемые в медицинских целях, не включенные в другие группировки)\n",
            "\n",
            "Contract id= 3664300197116000006 \n",
            " First tab: price=1722565.84, signed=06.06.2016, deadline=31.12.2016, method=Электронный аукцион, procurer=none, inn=none, kpp=none, registered=None, address=none, number=none, mail=none \n",
            "  Second tab: code=42.11.10.120, product=Дороги автомобильные, в том числе улично-дорожная сеть, и прочие автомобильные и пешеходные дороги)\n",
            "\n",
            "Contract id= 3663100944716000022 \n",
            " First tab: price=1573463.07, signed=06.06.2016, deadline=31.12.2016, method=Электронный аукцион, procurer=none, inn=none, kpp=none, registered=None, address=none, number=none, mail=none \n",
            "  Second tab: code=41.20.30.000, product=Работы по возведению жилых зданий)\n",
            "\n",
            "Contract id= 3667128149516000029 \n",
            " First tab: price=6666750.50, signed=06.06.2016, deadline=16.07.2016, method=Электронный аукцион, procurer=none, inn=none, kpp=none, registered=None, address=none, number=none, mail=none \n",
            "  Second tab: code=22.21.42.120, product=Пленки прочие пластмассовые непористые)\n",
            "\n",
            "Contract id= 3662800301116000013 \n",
            " First tab: price=3000000.00, signed=06.06.2016, deadline=10.06.2016, method=Электронный аукцион, procurer=none, inn=none, kpp=none, registered=None, address=none, number=none, mail=none \n",
            "  Second tab: code=45.19.31.000, product=Услуги по розничной торговле прочими автотранспортными средствами через информационно-коммуникационную сеть Интернет)\n",
            "\n",
            "Contract id= 3663000771116000004 \n",
            " First tab: price=2147994.22, signed=06.06.2016, deadline=16.08.2016, method=Электронный аукцион, procurer=none, inn=none, kpp=none, registered=None, address=none, number=none, mail=none \n",
            "  Second tab: code=43.91.19.110, product=Работы строительные по устройству любых видов кровельных покрытий зданий и сооружений)\n",
            "\n",
            "Contract id= 1666101464516000177 \n",
            " First tab: price=3133067.52, signed=06.06.2016, deadline=30.09.2016, method=Электронный аукцион, procurer=none, inn=none, kpp=none, registered=None, address=none, number=none, mail=none \n",
            "  Second tab: code=26.51.53.190, product=Приборы и аппаратура для физического или химического анализа прочие, не включенные в другие группировки)\n",
            "\n",
            "Contract id= 3665200491516000007 \n",
            " First tab: price=2994751.00, signed=06.06.2016, deadline=21.07.2016, method=Электронный аукцион, procurer=none, inn=none, kpp=none, registered=None, address=none, number=none, mail=none \n",
            "  Second tab: code=29.10.59.130, product=Средства транспортные для коммунального хозяйства и содержания дорог)\n",
            "\n",
            "Contract id= 3666100466116000055 \n",
            " First tab: price=1260000.00, signed=06.06.2016, deadline=31.12.2016, method=Закупка у единственного поставщика (подрядчика, исполнителя), procurer=none, inn=none, kpp=none, registered=None, address=none, number=none, mail=none \n",
            "  Second tab: code=62.01.11.000, product=Услуги по проектированию и разработке информационных технологий для прикладных задач и тестированию программного обеспечения)\n",
            "\n",
            "Contract id= 1662300653016000017 \n",
            " First tab: price=1160000.00, signed=06.06.2016, deadline=31.12.2016, method=Электронный аукцион, procurer=none, inn=none, kpp=none, registered=None, address=none, number=none, mail=none \n",
            "  Second tab: code=28.23.25.000, product=Части и принадлежности прочих офисных машин)\n",
            "\n",
            "Contract id= 3663000222316000051 \n",
            " First tab: price=3163839.15, signed=06.06.2016, deadline=12.06.2016, method=Электронный аукцион, procurer=none, inn=none, kpp=none, registered=None, address=none, number=none, mail=none \n",
            "  Second tab: code=42.11.20.000, product=Работы строительные по строительству автомагистралей, автомобильных дорог, улично-дорожной сети и прочих автомобильных или пешеходных дорог, и взлетно-посадочных полос аэродромов)\n",
            "\n",
            "Contract id= 3667220704616000007 \n",
            " First tab: price=1925413.91, signed=06.06.2016, deadline=12.09.2016, method=Закупка у единственного поставщика (подрядчика, исполнителя), procurer=none, inn=none, kpp=none, registered=None, address=none, number=none, mail=none \n",
            "  Second tab: code=43.39.19.190, product=Работы завершающие и отделочные в зданиях и сооружениях, прочие, не включенные в другие группировки)\n",
            "\n",
            "Contract id= 3667700128916000005 \n",
            " First tab: price=1509514.00, signed=06.06.2016, deadline=31.08.2016, method=Электронный аукцион, procurer=none, inn=none, kpp=none, registered=None, address=none, number=none, mail=none \n",
            "  Second tab: code=55.90.19.000, product=Услуги по предоставлению временного жилья прочие, не включенные в другие группировки)\n",
            "\n",
            "Contract id= 2665808158516000624 \n",
            " First tab: price=1493520.00, signed=06.06.2016, deadline=31.03.2017, method=Электронный аукцион, procurer=none, inn=none, kpp=none, registered=None, address=none, number=none, mail=none \n",
            "  Second tab: code=32.50.13.190, product=Инструменты и приспособления, применяемые в медицинских целях, прочие, не включенные в другие группировки)\n",
            "\n",
            "Contract id= 1667033496216000277 \n",
            " First tab: price=4433758.52, signed=06.06.2016, deadline=31.12.2016, method=Закупка у единственного поставщика (подрядчика, исполнителя), procurer=none, inn=none, kpp=none, registered=None, address=none, number=none, mail=none \n",
            "  Second tab: code=36.00.30.000, product=Услуги по торговле водой, поставляемой по трубопроводам)\n",
            "\n",
            "Contract id= 3662310208016000243 \n",
            " First tab: price=3818905.16, signed=06.06.2016, deadline=31.12.2016, method=Закупка у единственного поставщика (подрядчика, исполнителя), procurer=none, inn=none, kpp=none, registered=None, address=none, number=none, mail=none \n",
            "  Second tab: code=35.30.11.120, product=Энергия тепловая, отпущенная котельными)\n",
            "\n",
            "Contract id= 1667033496216000264 \n",
            " First tab: price=1000000.00, signed=06.06.2016, deadline=31.12.2016, method=Закупка у единственного поставщика (подрядчика, исполнителя), procurer=none, inn=none, kpp=none, registered=None, address=none, number=none, mail=none \n",
            "  Second tab: code=61.10.11.110, product=Услуги по предоставлению внутризоновых, междугородных и международных телефонных соединений)\n",
            "\n",
            "Contract id= 1722300731616000056 \n",
            " First tab: price=79615927.00, signed=07.06.2016, deadline=20.10.2016, method=Электронный аукцион, procurer=none, inn=none, kpp=none, registered=None, address=none, number=none, mail=none \n",
            "  Second tab: code=42.13.20.000, product=Работы строительные по строительству мостов и тоннелей)\n",
            "\n",
            "Contract id= 3661000095816000023 \n",
            " First tab: price=17538210.00, signed=07.06.2016, deadline=31.12.2018, method=Электронный аукцион, procurer=none, inn=none, kpp=none, registered=None, address=none, number=none, mail=none \n",
            "  Second tab: code=42.11.20.000, product=Работы строительные по строительству автомагистралей, автомобильных дорог, улично-дорожной сети и прочих автомобильных или пешеходных дорог, и взлетно-посадочных полос аэродромов)\n",
            "\n",
            "Contract id= 2666001253216000023 \n",
            " First tab: price=5142500.00, signed=07.06.2016, deadline=30.11.2016, method=Электронный аукцион, procurer=none, inn=none, kpp=none, registered=None, address=none, number=none, mail=none \n",
            "  Second tab: code=23.52.10.110, product=Известь негашеная)\n"
          ]
        },
        {
          "name": "stderr",
          "output_type": "stream",
          "text": [
            "\n"
          ]
        }
      ],
      "source": [
        "contracts = []\n",
        "\n",
        "print(\"Starting scrape with {} reg numbers\\n\".format(len(regNumbers)))\n",
        "\n",
        "\n",
        "scrape(regNumbers[:50])\n",
        "\n",
        "\n",
        "\n",
        "for contract in contracts:\n",
        "    print(contract)\n",
        "\n",
        "\n",
        "# for regNumber in tqdm(regNumbers[:50]):\n",
        "#   thread = Thread(target = scrapeData, args = (regNumber,))\n",
        "#   thread.start()\n"
      ]
    },
    {
      "cell_type": "markdown",
      "metadata": {
        "id": "H9_G7hUrqT6g"
      },
      "source": [
        "### Section 6: Output\n",
        "\n",
        "Convert the list of contract classes to a dataframe so that they can be exported to a csv file"
      ]
    },
    {
      "cell_type": "code",
      "execution_count": 304,
      "metadata": {
        "id": "Z6p3oMf-eJbP"
      },
      "outputs": [
        {
          "name": "stdout",
          "output_type": "stream",
          "text": [
            "dict_keys(['ID', 'price', 'signed', 'deadline', 'method', 'product', 'procurer', 'inn', 'kpp', 'registered', 'address', 'number', 'mail', 'code'])\n",
            "                    ID       price      signed    deadline  \\\n",
            "0  3665500092616000001  1665000.00  06.06.2016  25.12.2016   \n",
            "\n",
            "                method                          product  \\\n",
            "0  Электронный аукцион  приобретение школьного автобуса   \n",
            "\n",
            "                                            procurer         inn        kpp  \\\n",
            "0  ОБЩЕСТВО С ОГРАНИЧЕННОЙ ОТВЕТСТВЕННОСТЬЮ \"КИП\"...  6671015334  667101001   \n",
            "\n",
            "   registered                                            address  \\\n",
            "0  25.06.2015  620146, обл СВЕРДЛОВСКАЯ 66, г ЕКАТЕРИНБУРГ, у...   \n",
            "\n",
            "          number              mail            code  \n",
            "0  7-34321-73333  info@avtospec.ru  (45.11.21.000)  \n"
          ]
        },
        {
          "name": "stderr",
          "output_type": "stream",
          "text": [
            "C:\\Users\\majda\\AppData\\Local\\Temp\\ipykernel_9724\\111875807.py:8: FutureWarning: The frame.append method is deprecated and will be removed from pandas in a future version. Use pandas.concat instead.\n",
            "  df = df.append(contract.__dict__, ignore_index=True)\n"
          ]
        }
      ],
      "source": [
        "contract = contracts[0]\n",
        "print(contract.__dict__.keys())\n",
        "df = pd.DataFrame(columns=contract.__dict__.keys())\n",
        "pd.options.display.float_format = '{:.2f}'.format\n",
        "\n",
        "\n",
        "for contract in contracts:\n",
        "  df = df.append(contract.__dict__, ignore_index=True)\n",
        "\n",
        "with pd.option_context('display.max_rows', None, 'display.max_columns', None):\n",
        "    print(df)"
      ]
    },
    {
      "cell_type": "code",
      "execution_count": 305,
      "metadata": {
        "id": "9ST7Qk4rVOFK"
      },
      "outputs": [],
      "source": [
        "df.to_csv(\"zakupki.csv\")"
      ]
    },
    {
      "cell_type": "code",
      "execution_count": null,
      "metadata": {},
      "outputs": [],
      "source": []
    }
  ],
  "metadata": {
    "colab": {
      "collapsed_sections": [],
      "name": "Copy of Zakupki.ipynb",
      "provenance": []
    },
    "interpreter": {
      "hash": "0c0da8f5b93ec0612bb8aed25290fce040bcd4618fccb82f778dd001cba2969b"
    },
    "kernelspec": {
      "display_name": "Python 3.9.7 ('base')",
      "language": "python",
      "name": "python3"
    },
    "language_info": {
      "codemirror_mode": {
        "name": "ipython",
        "version": 3
      },
      "file_extension": ".py",
      "mimetype": "text/x-python",
      "name": "python",
      "nbconvert_exporter": "python",
      "pygments_lexer": "ipython3",
      "version": "3.9.7"
    }
  },
  "nbformat": 4,
  "nbformat_minor": 0
}
