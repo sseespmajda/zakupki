{
 "cells": [
  {
   "cell_type": "markdown",
   "metadata": {
    "id": "rajDyGemoV8Q"
   },
   "source": [
    "# Kontur.fokus ultimate beneficiary scraper"
   ]
  },
  {
   "cell_type": "markdown",
   "metadata": {
    "id": "xfVriCvQPi8u"
   },
   "source": [
    "Aim here is to feed API queries with tons of INN (taxpayer numbers) to Kontur fokus API, to extract all info about shareholders, CEOs and affiliated companies from it."
   ]
  },
  {
   "cell_type": "markdown",
   "metadata": {
    "id": "9O34U-48RLCa"
   },
   "source": [
    "### Section 1: Setup"
   ]
  },
  {
   "cell_type": "code",
   "execution_count": 1,
   "metadata": {
    "id": "EkywDpTl3_lN"
   },
   "outputs": [],
   "source": [
    "import requests\n",
    "import re\n",
    "from requests.adapters import HTTPAdapter\n",
    "from urllib.parse import urlparse, parse_qs\n",
    "from urllib3.util import Retry\n",
    "from bs4 import BeautifulSoup,SoupStrainer\n",
    "from datetime import date\n",
    "from dataclasses import dataclass\n",
    "from tqdm import tqdm\n",
    "from dateutil import parser\n",
    "from threading import Thread\n",
    "import pandas as pd\n",
    "from datetime import datetime, date, timedelta\n",
    "import logging\n",
    "import http.client\n",
    "from functools import lru_cache\n",
    "from concurrent.futures import ThreadPoolExecutor, as_completed\n",
    "import math\n",
    "from os import walk\n",
    "import json\n",
    "import numpy as np\n",
    "import csv\n",
    "from urllib import response\n",
    "from webbrowser import get\n"
   ]
  },
  {
   "cell_type": "code",
   "execution_count": 2,
   "metadata": {},
   "outputs": [
    {
     "name": "stdout",
     "output_type": "stream",
     "text": [
      "['6680000422', '6680000447', '6680001345', '6680001722', '6680002370', '6680005928', '6680007731', '6681000834', '6681005568', '6681005960', '6681007572', '6682001414', '6682004334', '6682007342', '6683000011', '6683003870', '6683005482', '6683005789', '6683007257', '6683010394', '6683010806']\n"
     ]
    }
   ],
   "source": [
    "with open(r\"C:\\Users\\majda\\Desktop\\inn.csv\") as f:\n",
    "    sample = [str(s) for line in f.readlines() for s in line[:-1].split(',')]\n",
    "    print(sample)"
   ]
  },
  {
   "cell_type": "code",
   "execution_count": 7,
   "metadata": {},
   "outputs": [],
   "source": [
    "output=[]\n",
    "id=[]\n",
    "est=[]\n",
    "bene=[]\n",
    "historical=[]\n",
    "\n",
    "def getData():\n",
    "    #inn=['6671994721'], ['6608005109'], ['6608005109'], ['6658092636'], ['6658226537'], ['6658243571'], ['6658256316'], ['6658274717'], ['6658349842'], ['6660000400'], ['6660125455'], ['6660125470'], ['6660131265'], ['6661103101'], ['6670027231'], ['6670033316'], ['6670449113'], ['6671075703'], ['6671097672'], ['6671141360'], ['6671151256'], ['6671196176'], ['6671196190'], ['6671297368'], ['6672270707'], ['6672304307'], ['6672316140'], ['6678025444'], ['6684015290'], ['7202126778'], ['7202126778'], ['7202126778'], ['7203110474'], ['7203110474'], ['7203342228'], ['7203342228'], ['7204089218'], ['7204091841'], ['7612028870'], ['7713287221'], ['7714025966'], ['7714782772'], ['7728662669'], ['7744001497'], ['6670170224'], ['6638002521'], ['6672247031'], ['6658374729'], ['6646009898'], ['6623070230'], ['6659152207'], ['6679096504'], ['6638000362'], ['6660001058'], ['6623086617'], ['6672175034'], ['6606036599'], ['6658434632'], ['5905288232'], ['5243019316'], ['6658416834'], ['5905274102'], ['6.67009E+11'], ['7722355630'], ['6658374729'], ['6672315362'], ['6661097056'], ['6672165205'], ['6638000362'], ['4345049580'], ['6684017642'], ['7327072045'], ['6670126842'], ['6633024867'], ['5001105100'], ['6633021922'], ['5407953503'], ['6658434632'], ['6657000375'], ['6670430120'], ['6686019839'], ['6658449540'], ['6681005631'], ['6672323476'], ['6638000362'], ['6686025180'], ['7204122521'], ['6165173944'], ['5906066183'], ['4345191995'], ['6658450641'], ['6671418051'], ['5902124194'], ['6658482266'], ['6686041351'], ['6686041351'], ['5906066183'], ['6670317195'], ['7203286710'], ['6670430120'], ['6660001058'], ['7203246926'], ['6671320730'], ['6604028169'], ['6658434632'], ['7203283974'], ['6658374729'], ['6677009947'], ['6670271832']\n",
    "    inn=sample\n",
    "    for i in inn:\n",
    "        inn=i\n",
    "        temp=f\"https://focus-api.kontur.ru/api3/beneficialOwners?inn={inn}&key=4bcd0b82f0b0ea748eb8a984e47a0a6a48426667\"\n",
    "        response = requests.get(temp)\n",
    "        id.append(response.json()[0]['inn'])\n",
    "        try:\n",
    "            est.append(response.json()[0]['statedCapital']['date'])\n",
    "        except:\n",
    "            est.append(\"\")\n",
    "        bene.append(response.json()[0]['beneficialOwners'])\n",
    "        historical.append(response.json()[0]['historicalBeneficialOwners'])\n",
    "    return output\n"
   ]
  },
  {
   "cell_type": "code",
   "execution_count": 8,
   "metadata": {},
   "outputs": [
    {
     "name": "stdout",
     "output_type": "stream",
     "text": [
      "21 21 21 21\n"
     ]
    }
   ],
   "source": [
    "#inn=['6670170224',\"6638002521\",\"6672247031\",\"6658374729\",\"6646009898\",\"6623070230\",\"6659152207\",\"6679096504\"]\n",
    "\n",
    "data=getData()\n",
    "\n",
    "print(len(id), len(est), len(bene), len(historical))\n",
    "#print(bene)"
   ]
  },
  {
   "cell_type": "code",
   "execution_count": 9,
   "metadata": {},
   "outputs": [],
   "source": [
    "data={'id':id,'est':est,'bene':bene,'historical':historical}\n",
    "\n",
    "owners =  bene['beneficialOwnersFL'] + bene['beneficialOwnersUL'] + bene['beneficialOwnersForeing'] + bene['beneficialOwnersOther']\n",
    "for owner in owners: \n",
    "    // tu te trzy linijki zaczynająca sę od data= {} z 'bene': owner\n",
    "\n",
    "df=pd.DataFrame(data,columns=['id','est','bene','historical'])\n",
    "df.to_csv(\"APItest\")"
   ]
  },
  {
   "cell_type": "code",
   "execution_count": null,
   "metadata": {},
   "outputs": [
    {
     "name": "stdout",
     "output_type": "stream",
     "text": [
      "{'ogrn': '1036605626573', 'focusHref': 'https://focus.kontur.ru/entity?query=1036605626573', 'UL': {'okopf': '83', 'opf': 'Общественные и религиозные организации (объединения)', 'legalName': {'full': 'Региональный Благотворительный фонд \"Национальное единство\"', 'readable': 'Региональный Благотворительный фонд \"Национальное единство\"', 'date': '2003-04-01'}, 'legalAddress': {'parsedAddressRF': {'zipCode': '620130', 'kladrCode': '660000010000077', 'regionCode': '66', 'regionName': {'topoShortName': 'обл', 'topoFullName': 'область', 'topoValue': 'Свердловская'}, 'city': {'topoShortName': 'г', 'topoFullName': 'город', 'topoValue': 'Екатеринбург'}, 'street': {'topoShortName': 'ул', 'topoFullName': 'улица', 'topoValue': 'Ангарская'}, 'house': {'topoShortName': 'дом', 'topoFullName': 'дом', 'topoValue': '54'}, 'flat': {'topoValue': '94'}, 'houseRaw': '54', 'flatRaw': '94'}, 'date': '2003-04-01', 'firstDate': '2003-04-01'}, 'status': {'statusString': 'Ликвидация юридического лица по решению суда', 'dissolved': True, 'date': '2003-04-02'}, 'registrationDate': '1997-10-23', 'dissolutionDate': '2003-04-02', 'heads': [{'fio': 'Чащин Геннадий Викторович', 'position': 'Президент', 'date': '2003-04-01', 'firstDate': '2003-04-01', 'structuredFio': {'firstName': 'Геннадий', 'lastName': 'Чащин', 'middleName': 'Викторович'}}], 'history': {}}, 'briefReport': {'summary': {'redStatements': True}}, 'contactPhones': {}}\n"
     ]
    }
   ],
   "source": [
    "# import json\n",
    "# import requests\n",
    "# shareholders=[]\n",
    "# response = requests.get(\"https://focus-api.kontur.ru/api3/companyAffiliates/req?affiliationType=All&inn=6671994721&key=DEMO81dd644bf415b952991e81cc2d979a33cc72\")\n",
    "# data=response.json()[0]\n",
    "# #FLbeneINN=response.json()[0]['beneficialOwners']['beneficialOwnersUL'][0]['inn']\n",
    "# #FLbeneNAME=response.json()[0]['beneficialOwners']['beneficialOwnersUL'][0]['fullName']\n",
    "# #FLbeneSHARES=response.json()[0]['beneficialOwners']['beneficialOwnersUL'][0]['share']\n",
    "# print(data)"
   ]
  }
 ],
 "metadata": {
  "colab": {
   "collapsed_sections": [],
   "name": "Copy of Zakupki.ipynb",
   "provenance": []
  },
  "kernelspec": {
   "display_name": "Python 3.10.4 64-bit",
   "language": "python",
   "name": "python3"
  },
  "language_info": {
   "codemirror_mode": {
    "name": "ipython",
    "version": 3
   },
   "file_extension": ".py",
   "mimetype": "text/x-python",
   "name": "python",
   "nbconvert_exporter": "python",
   "pygments_lexer": "ipython3",
   "version": "3.10.4"
  },
  "vscode": {
   "interpreter": {
    "hash": "77edd9a980bfddd358a4fcbf4f3e7f49f98b43dd432ee51433ccfac9d125dab6"
   }
  }
 },
 "nbformat": 4,
 "nbformat_minor": 1
}
