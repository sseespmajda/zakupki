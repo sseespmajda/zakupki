{
 "cells": [
  {
   "cell_type": "markdown",
   "metadata": {
    "id": "rajDyGemoV8Q"
   },
   "source": [
    "# Kontur.fokus ultimate beneficiary scraper"
   ]
  },
  {
   "cell_type": "markdown",
   "metadata": {
    "id": "xfVriCvQPi8u"
   },
   "source": [
    "Aim here is to feed API queries with tons of INN (taxpayer numbers) to Kontur fokus API, to extract all info about shareholders, CEOs and affiliated companies from it."
   ]
  },
  {
   "cell_type": "markdown",
   "metadata": {
    "id": "9O34U-48RLCa"
   },
   "source": [
    "### Section 1: Setup"
   ]
  },
  {
   "cell_type": "code",
   "execution_count": 3,
   "metadata": {
    "id": "EkywDpTl3_lN"
   },
   "outputs": [],
   "source": [
    "import requests\n",
    "import re\n",
    "from requests.adapters import HTTPAdapter\n",
    "from urllib.parse import urlparse, parse_qs\n",
    "from urllib3.util import Retry\n",
    "from bs4 import BeautifulSoup,SoupStrainer\n",
    "from datetime import date\n",
    "from dataclasses import dataclass\n",
    "from tqdm import tqdm\n",
    "from dateutil import parser\n",
    "from threading import Thread\n",
    "import pandas as pd\n",
    "from datetime import datetime, date, timedelta\n",
    "import logging\n",
    "import http.client\n",
    "from functools import lru_cache\n",
    "from concurrent.futures import ThreadPoolExecutor, as_completed\n",
    "import math\n",
    "from os import walk\n",
    "import json\n",
    "import numpy as np\n",
    "import csv\n",
    "from urllib import response\n",
    "from webbrowser import get\n"
   ]
  },
  {
   "cell_type": "code",
   "execution_count": 2,
   "metadata": {},
   "outputs": [
    {
     "name": "stdout",
     "output_type": "stream",
     "text": [
      "['6680000422', '6680000447', '6680001345', '6680001722', '6680002370', '6680005928', '6680007731', '6681000834', '6681005568', '6681005960', '6681007572', '6682001414', '6682004334', '6682007342', '6683000011', '6683003870', '6683005482', '6683005789', '6683007257', '6683010394', '6683010806']\n"
     ]
    }
   ],
   "source": [
    "with open(r\"C:\\Users\\majda\\Desktop\\inn.csv\") as f:\n",
    "    sample = [str(s) for line in f.readlines() for s in line[:-1].split(',')]\n",
    "    print(sample)"
   ]
  },
  {
   "cell_type": "code",
   "execution_count": 8,
   "metadata": {},
   "outputs": [],
   "source": [
    "\n",
    "def parseOwners(data, propertyName, ownerType, i): \n",
    "    result = []\n",
    "\n",
    "    ## jesli data nie zawiera propertyName, to wrzuca pojedynczy wpis \n",
    "    if data[propertyName] == []:\n",
    "        result.append({'id':i, 'bene':'N/A', 'shares':'N/A','ownerType': ownerType})\n",
    "\n",
    "    ## jesli zawiera to iteruje po nich\n",
    "    else:\n",
    "        for owner in data[propertyName]:\n",
    "\n",
    "            ## to pobiera nazwe jesli istnieje. \n",
    "            ## dla 'beneficialOwnersFL' jest w 'fio'\n",
    "            ## dla 'beneficialOwnersOther' jest w 'fullName'\n",
    "            bene = \"\";\n",
    "            if 'fio' in owner:\n",
    "                bene = owner['fio']\n",
    "            elif 'fullName' in owner:\n",
    "                bene = owner['fullName']\n",
    "\n",
    "            # To pobiera shares jesli istnieja \n",
    "            shares= 'N/A'\n",
    "            if 'share' in owner:\n",
    "                shares = owner['share']\n",
    "\n",
    "            result.append({'id':i, 'bene':bene, 'shares':shares,'ownerType': ownerType}) \n",
    "\n",
    "    return result\n",
    "\n",
    "def getData():\n",
    "    output=[]\n",
    "    id=[]\n",
    "    est=[]\n",
    "    cap=[]\n",
    "    bene=[]\n",
    "    shares=[]\n",
    "    historical=[]\n",
    "    \n",
    "    inn=['6608005109']\n",
    "    \n",
    "    for i in inn:\n",
    "        print(i)\n",
    "        temp=f\"https://focus-api.kontur.ru/api3/beneficialOwners?inn={i}&key=4bcd0b82f0b0ea748eb8a984e47a0a6a48426667\"\n",
    "        response = requests.get(temp)\n",
    "        id=response.json()[0]['inn']\n",
    "        \n",
    "        try:\n",
    "            cap=response.json()[0]['statedCapital']['sum']\n",
    "            est=response.json()[0]['statedCapital']['date']\n",
    "        except:\n",
    "            est=(\"\")\n",
    "            cap=(\"\")\n",
    "                    \n",
    "        owners = response.json()[0]['beneficialOwners']\n",
    "        Howners= response.json()[0]['historicalBeneficialOwners']\n",
    "        \n",
    "        output += parseOwners(owners, 'beneficialOwnersFL', 'FL', i)\n",
    "        output += parseOwners(owners, 'beneficialOwnersForeign', 'FGN', i)\n",
    "        output += parseOwners(owners, 'beneficialOwnersUL', 'UL', i)\n",
    "        output += parseOwners(owners, 'beneficialOwnersOther', 'Other', i)\n",
    "\n",
    "        output += parseOwners(Howners, 'beneficialOwnersFL', 'hFL', i)\n",
    "        output += parseOwners(Howners, 'beneficialOwnersForeign', 'hFGN', i)\n",
    "        output += parseOwners(Howners, 'beneficialOwnersUL', 'hUL', i)\n",
    "        output += parseOwners(Howners, 'beneficialOwnersOther', 'hOther', i)\n",
    "\n",
    "    \n",
    "    return output"
   ]
  },
  {
   "cell_type": "code",
   "execution_count": 9,
   "metadata": {},
   "outputs": [
    {
     "name": "stdout",
     "output_type": "stream",
     "text": [
      "6608005109\n",
      "13\n",
      "[{'id': '6608005109', 'bene': 'Чернецкий Станислав Аркадьевич', 'shares': 29.1299998760223, 'ownerType': 'FL'}, {'id': '6608005109', 'bene': 'Брижицкий Алексей Николаевич', 'shares': 10.6100000441074, 'ownerType': 'FL'}, {'id': '6608005109', 'bene': 'Котова Дарья Ивановна', 'shares': 9.97999981045723, 'ownerType': 'FL'}, {'id': '6608005109', 'bene': 'Баженов Александр Анатольевич', 'shares': 9.71999987959862, 'ownerType': 'FL'}, {'id': '6608005109', 'bene': 'Клименко Сергей Викторович', 'shares': 9.71999987959862, 'ownerType': 'FL'}, {'id': '6608005109', 'bene': 'N/A', 'shares': 'N/A', 'ownerType': 'FGN'}, {'id': '6608005109', 'bene': 'N/A', 'shares': 'N/A', 'ownerType': 'UL'}, {'id': '6608005109', 'bene': 'Администрация Города Екатеринбурга', 'shares': 29.2899996042252, 'ownerType': 'Other'}, {'id': '6608005109', 'bene': 'Галустян Юрий Иванович', 'shares': 'N/A', 'ownerType': 'hFL'}, {'id': '6608005109', 'bene': 'Гендина Александра Юрьевна', 'shares': 'N/A', 'ownerType': 'hFL'}, {'id': '6608005109', 'bene': 'N/A', 'shares': 'N/A', 'ownerType': 'hFGN'}, {'id': '6608005109', 'bene': 'N/A', 'shares': 'N/A', 'ownerType': 'hUL'}, {'id': '6608005109', 'bene': 'N/A', 'shares': 'N/A', 'ownerType': 'hOther'}]\n"
     ]
    }
   ],
   "source": [
    "data=getData()\n",
    "\n",
    "print(len(data))\n",
    "print(data) \n"
   ]
  },
  {
   "cell_type": "code",
   "execution_count": 32,
   "metadata": {},
   "outputs": [],
   "source": [
    "df=pd.DataFrame(data,columns=['id','est', 'ownerType', 'bene','historical'])\n",
    "df.to_csv(\"APItest!\")"
   ]
  }
 ],
 "metadata": {
  "colab": {
   "collapsed_sections": [],
   "name": "Copy of Zakupki.ipynb",
   "provenance": []
  },
  "kernelspec": {
   "display_name": "Python 3.9.10 64-bit",
   "language": "python",
   "name": "python3"
  },
  "language_info": {
   "codemirror_mode": {
    "name": "ipython",
    "version": 3
   },
   "file_extension": ".py",
   "mimetype": "text/x-python",
   "name": "python",
   "nbconvert_exporter": "python",
   "pygments_lexer": "ipython3",
   "version": "3.9.10"
  },
  "vscode": {
   "interpreter": {
    "hash": "aee8b7b246df8f9039afb4144a1f6fd8d2ca17a180786b69acc140d282b71a49"
   }
  }
 },
 "nbformat": 4,
 "nbformat_minor": 1
}
