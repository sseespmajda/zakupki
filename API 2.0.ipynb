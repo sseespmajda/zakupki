{
 "cells": [
  {
   "cell_type": "markdown",
   "metadata": {
    "id": "rajDyGemoV8Q"
   },
   "source": [
    "# Kontur.fokus ultimate beneficiary scraper"
   ]
  },
  {
   "cell_type": "markdown",
   "metadata": {
    "id": "xfVriCvQPi8u"
   },
   "source": [
    "Aim here is to feed API queries with tons of INN (taxpayer numbers) to Kontur fokus API, to extract all info about shareholders, CEOs and affiliated companies from it."
   ]
  },
  {
   "cell_type": "markdown",
   "metadata": {
    "id": "9O34U-48RLCa"
   },
   "source": [
    "### Section 1: Setup"
   ]
  },
  {
   "cell_type": "code",
   "execution_count": 1,
   "metadata": {
    "id": "EkywDpTl3_lN"
   },
   "outputs": [],
   "source": [
    "import requests\n",
    "import re\n",
    "from requests.adapters import HTTPAdapter\n",
    "from urllib.parse import urlparse, parse_qs\n",
    "from urllib3.util import Retry\n",
    "from bs4 import BeautifulSoup,SoupStrainer\n",
    "from datetime import date\n",
    "from dataclasses import dataclass\n",
    "from tqdm import tqdm\n",
    "from dateutil import parser\n",
    "from threading import Thread\n",
    "import pandas as pd\n",
    "from datetime import datetime, date, timedelta\n",
    "import logging\n",
    "import http.client\n",
    "from functools import lru_cache\n",
    "from concurrent.futures import ThreadPoolExecutor, as_completed\n",
    "import math\n",
    "from os import walk\n",
    "import json\n",
    "import numpy as np\n",
    "import csv\n",
    "from urllib import response\n",
    "from webbrowser import get\n"
   ]
  },
  {
   "cell_type": "code",
   "execution_count": 2,
   "metadata": {},
   "outputs": [
    {
     "name": "stdout",
     "output_type": "stream",
     "text": [
      "['6680000422', '6680000447', '6680001345', '6680001722', '6680002370', '6680005928', '6680007731', '6681000834', '6681005568', '6681005960', '6681007572', '6682001414', '6682004334', '6682007342', '6683000011', '6683003870', '6683005482', '6683005789', '6683007257', '6683010394', '6683010806']\n"
     ]
    }
   ],
   "source": [
    "with open(r\"C:\\Users\\majda\\Desktop\\inn.csv\") as f:\n",
    "    sample = [str(s) for line in f.readlines() for s in line[:-1].split(',')]\n",
    "    print(sample)"
   ]
  },
  {
   "cell_type": "code",
   "execution_count": 67,
   "metadata": {},
   "outputs": [],
   "source": [
    "\n",
    "def getData():\n",
    "    output=[]\n",
    "    id=[]\n",
    "    est=[]\n",
    "    cap=[]\n",
    "    bene=[]\n",
    "    shares=[]\n",
    "    historical=[]\n",
    "    \n",
    "    inn=['6608005109']\n",
    "    \n",
    "    for i in inn:\n",
    "        print(i)\n",
    "        temp=f\"https://focus-api.kontur.ru/api3/beneficialOwners?inn={i}&key=4bcd0b82f0b0ea748eb8a984e47a0a6a48426667\"\n",
    "        response = requests.get(temp)\n",
    "        id=response.json()[0]['inn']\n",
    "        \n",
    "        try:\n",
    "            cap=response.json()[0]['statedCapital']['sum']\n",
    "            est=response.json()[0]['statedCapital']['date']\n",
    "        except:\n",
    "            est=(\"\")\n",
    "            cap=(\"\")\n",
    "                    \n",
    "        owners = response.json()[0]['beneficialOwners']\n",
    "        Howners= response.json()[0]['historicalBeneficialOwners']\n",
    "        \n",
    "         # ponizej for nie hula :/\n",
    "        \n",
    "        \n",
    "        for FLowners in owners['beneficialOwnersFL']:     \n",
    "            n=len(response.json()[0]['beneficialOwners']['beneficialOwnersFL'])\n",
    "            m=list(range(n))\n",
    "            o=print(m)\n",
    "            \n",
    "            if n==0:\n",
    "                fio='N/A'\n",
    "                shares='N/A'\n",
    "                output.append({'id':i, 'bene':fio, 'shares':shares,'ownerType': 'FL'})\n",
    "            else:\n",
    "            \n",
    "                fio=owners['beneficialOwnersFL'][m]['fio']\n",
    "                # FLinn=owners['beneficialOwnersFL'][m]['innfl']\n",
    "                shares=owners['beneficialOwnersFL'][m]['share']\n",
    "                output.append({'id':i, 'bene':fio, 'shares':shares,'ownerType': 'FL'})\n",
    "\n",
    "        # for ownerFGN in owners['beneficialOwnersForeign'][n-1]:\n",
    "        #     n=len(response.json()[0]['beneficialOwners']['beneficialOwnersForeign'])\n",
    "            \n",
    "        #     FGNname=owners['beneficialOwnersForeign'][n-1]['fullName']\n",
    "        #     shares=owners['beneficialOwnersForeign'][n-1]['share']            \n",
    "        #     output.append({'id':i, bene:FGNname, shares:shares, 'ownerType': 'FGN'})\n",
    "            \n",
    "        # for ownerUL in owners['beneficialOwnersUL'][n-1]:\n",
    "        #     n=len(response.json()[0]['beneficialOwners']['beneficialOwnersUL'])\n",
    "\n",
    "        #     ULname=owners['beneficialOwnersUL'][0]['fullName']\n",
    "        #     shares=owners['beneficialOwnersUL'][0]['share']\n",
    "        #     output.append({'id':i, bene:ULname, shares:shares, 'ownerType': 'UL'})\n",
    "\n",
    "        # for ownerOth in owners['beneficialOwnersOther'][n-1]:\n",
    "        #     n=len(response.json()[0]['beneficialOwners']['beneficialOwnersUL'])\n",
    "\n",
    "        #     Oname=owners['beneficialOwnersOther'][n-1]['fullName']\n",
    "        #     shares=owners['beneficialOwnersOther'][n-1]['share']            \n",
    "        #     output.append({'id':i, bene:Oname, shares:shares, 'ownerType': 'Other'})\n",
    "            \n",
    "        ### HISTORICAL ###    \n",
    "            \n",
    "        # for HownerFL in Howners['beneficialOwnersFL'][n-1]: # aleee musi zaczac od 0 a nie od 1...\n",
    "        #     n=len(response.json()[0]['beneficialOwners']['beneficialOwnersFL'])\n",
    "            \n",
    "        #     fio=Howners['beneficialOwnersFL'][n-1]['fio']\n",
    "        #     FLinn=Howners['beneficialOwnersFL'][n-1]['innfl']\n",
    "        #     shares=Howners['beneficialOwnersFL'][n-1]['share']\n",
    "        #     output.append({'id':i, bene:fio, shares:shares,'ownerType': 'FL'})\n",
    "\n",
    "        # for HownerFGN in Howners['beneficialOwnersForeign'][n-1]:\n",
    "        #     n=len(response.json()[0]['beneficialOwners']['beneficialOwnersForeign'])\n",
    "            \n",
    "        #     FGNname=Howners['beneficialOwnersForeign'][n-1]['fullName']\n",
    "        #     shares=Howners['beneficialOwnersForeign'][n-1]['share']            \n",
    "        #     output.append({'id':i, bene:FGNname, shares:shares, 'ownerType': 'FGN'})\n",
    "            \n",
    "        # for HownerUL in Howners['beneficialOwnersUL'][n-1]:\n",
    "        #     n=len(response.json()[0]['beneficialOwners']['beneficialOwnersUL'])\n",
    "\n",
    "        #     ULname=Howners['beneficialOwnersUL'][0]['fullName']\n",
    "        #     shares=Howners['beneficialOwnersUL'][0]['share']\n",
    "        #     output.append({'id':i, bene:ULname, shares:shares, 'ownerType': 'UL'})\n",
    "\n",
    "        # for HownerOth in Howners['beneficialOwnersOther'][n-1]:\n",
    "        #     n=len(response.json()[0]['beneficialOwners']['beneficialOwnersUL'])\n",
    "\n",
    "        #     Oname=Howners['beneficialOwnersOther'][n-1]['fullName']\n",
    "        #     shares=Howners['beneficialOwnersOther'][n-1]['share']            \n",
    "        #     output.append({'id':i, bene:Oname, shares:shares, 'ownerType': 'Other'})\n",
    "\n",
    "            \n",
    "\n",
    "    \n",
    "    return output"
   ]
  },
  {
   "cell_type": "code",
   "execution_count": 68,
   "metadata": {},
   "outputs": [
    {
     "name": "stdout",
     "output_type": "stream",
     "text": [
      "6608005109\n",
      "[0, 1, 2, 3, 4]\n",
      "5\n",
      "[0, 1, 2, 3, 4]\n"
     ]
    },
    {
     "ename": "TypeError",
     "evalue": "list indices must be integers or slices, not list",
     "output_type": "error",
     "traceback": [
      "\u001b[1;31m---------------------------------------------------------------------------\u001b[0m",
      "\u001b[1;31mTypeError\u001b[0m                                 Traceback (most recent call last)",
      "\u001b[1;32mc:\\Users\\majda\\Dropbox\\PhD\\Data\\github\\zakupki\\API 2.0.ipynb Cell 7\u001b[0m in \u001b[0;36m<cell line: 1>\u001b[1;34m()\u001b[0m\n\u001b[1;32m----> <a href='vscode-notebook-cell:/c%3A/Users/majda/Dropbox/PhD/Data/github/zakupki/API%202.0.ipynb#W6sZmlsZQ%3D%3D?line=0'>1</a>\u001b[0m data\u001b[39m=\u001b[39mgetData()\n\u001b[0;32m      <a href='vscode-notebook-cell:/c%3A/Users/majda/Dropbox/PhD/Data/github/zakupki/API%202.0.ipynb#W6sZmlsZQ%3D%3D?line=2'>3</a>\u001b[0m \u001b[39mprint\u001b[39m(\u001b[39mlen\u001b[39m(data))\n\u001b[0;32m      <a href='vscode-notebook-cell:/c%3A/Users/majda/Dropbox/PhD/Data/github/zakupki/API%202.0.ipynb#W6sZmlsZQ%3D%3D?line=3'>4</a>\u001b[0m \u001b[39mprint\u001b[39m(data)\n",
      "\u001b[1;32mc:\\Users\\majda\\Dropbox\\PhD\\Data\\github\\zakupki\\API 2.0.ipynb Cell 7\u001b[0m in \u001b[0;36mgetData\u001b[1;34m()\u001b[0m\n\u001b[0;32m     <a href='vscode-notebook-cell:/c%3A/Users/majda/Dropbox/PhD/Data/github/zakupki/API%202.0.ipynb#W6sZmlsZQ%3D%3D?line=41'>42</a>\u001b[0m \u001b[39melse\u001b[39;00m:\n\u001b[0;32m     <a href='vscode-notebook-cell:/c%3A/Users/majda/Dropbox/PhD/Data/github/zakupki/API%202.0.ipynb#W6sZmlsZQ%3D%3D?line=42'>43</a>\u001b[0m     \u001b[39mfor\u001b[39;00m FLowners \u001b[39min\u001b[39;00m owners[\u001b[39m'\u001b[39m\u001b[39mbeneficialOwnersFL\u001b[39m\u001b[39m'\u001b[39m]: \u001b[39m# booo musi zaczac od 0 a nie od 1...           \u001b[39;00m\n\u001b[1;32m---> <a href='vscode-notebook-cell:/c%3A/Users/majda/Dropbox/PhD/Data/github/zakupki/API%202.0.ipynb#W6sZmlsZQ%3D%3D?line=43'>44</a>\u001b[0m         fio\u001b[39m=\u001b[39mowners[\u001b[39m'\u001b[39;49m\u001b[39mbeneficialOwnersFL\u001b[39;49m\u001b[39m'\u001b[39;49m][m][\u001b[39m'\u001b[39m\u001b[39mfio\u001b[39m\u001b[39m'\u001b[39m]\n\u001b[0;32m     <a href='vscode-notebook-cell:/c%3A/Users/majda/Dropbox/PhD/Data/github/zakupki/API%202.0.ipynb#W6sZmlsZQ%3D%3D?line=44'>45</a>\u001b[0m         \u001b[39m# FLinn=owners['beneficialOwnersFL'][m]['innfl']\u001b[39;00m\n\u001b[0;32m     <a href='vscode-notebook-cell:/c%3A/Users/majda/Dropbox/PhD/Data/github/zakupki/API%202.0.ipynb#W6sZmlsZQ%3D%3D?line=45'>46</a>\u001b[0m         shares\u001b[39m=\u001b[39mowners[\u001b[39m'\u001b[39m\u001b[39mbeneficialOwnersFL\u001b[39m\u001b[39m'\u001b[39m][m][\u001b[39m'\u001b[39m\u001b[39mshare\u001b[39m\u001b[39m'\u001b[39m]\n",
      "\u001b[1;31mTypeError\u001b[0m: list indices must be integers or slices, not list"
     ]
    }
   ],
   "source": [
    "data=getData()\n",
    "\n",
    "print(len(data))\n",
    "print(data) \n"
   ]
  },
  {
   "cell_type": "code",
   "execution_count": 32,
   "metadata": {},
   "outputs": [],
   "source": [
    "df=pd.DataFrame(data,columns=['id','est', 'ownerType', 'bene','historical'])\n",
    "df.to_csv(\"APItest!\")"
   ]
  }
 ],
 "metadata": {
  "colab": {
   "collapsed_sections": [],
   "name": "Copy of Zakupki.ipynb",
   "provenance": []
  },
  "kernelspec": {
   "display_name": "Python 3.10.4 64-bit",
   "language": "python",
   "name": "python3"
  },
  "language_info": {
   "codemirror_mode": {
    "name": "ipython",
    "version": 3
   },
   "file_extension": ".py",
   "mimetype": "text/x-python",
   "name": "python",
   "nbconvert_exporter": "python",
   "pygments_lexer": "ipython3",
   "version": "3.10.4"
  },
  "vscode": {
   "interpreter": {
    "hash": "77edd9a980bfddd358a4fcbf4f3e7f49f98b43dd432ee51433ccfac9d125dab6"
   }
  }
 },
 "nbformat": 4,
 "nbformat_minor": 1
}
