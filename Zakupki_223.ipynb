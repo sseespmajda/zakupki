{
 "cells": [
  {
   "cell_type": "markdown",
   "metadata": {
    "id": "rajDyGemoV8Q"
   },
   "source": [
    "# Zakupki website scraping for Piotr"
   ]
  },
  {
   "cell_type": "markdown",
   "metadata": {
    "id": "xfVriCvQPi8u"
   },
   "source": [
    "The aim of this notebook is to scrape details of each contract hosted on the Russian Zakupki public sector contract awarding website.\n",
    "\n",
    "The input for this project will be the Zakupki URL. This code can be run on different dates to pull fresh contract data.\n",
    "\n",
    "Method:\n",
    "1.   Identify the number of pages of contracts to be scraped (using the contract filters provided).\n",
    "2.   Iterate through each page, scraping the registration number of each contract.\n",
    "3.   Access the website for each contract by placing the registraion number in the URL.\n",
    "4.   Scrape the details for each contract and add them to a list of Contracts dataclasses.\n",
    "5.   Format these Contract objects as a dataframe and output the dataframe to a csv file.\n",
    "\n",
    "\n",
    "The output of this project will be the CSV file, with each row representing a new contract from the webstie.\n"
   ]
  },
  {
   "cell_type": "markdown",
   "metadata": {
    "id": "9O34U-48RLCa"
   },
   "source": [
    "### Section 1: Setup"
   ]
  },
  {
   "cell_type": "code",
   "execution_count": 47,
   "metadata": {
    "id": "EkywDpTl3_lN"
   },
   "outputs": [],
   "source": [
    "import requests\n",
    "from requests.adapters import HTTPAdapter\n",
    "from urllib.parse import urlparse, parse_qs\n",
    "from requests.packages.urllib3.util.retry import Retry\n",
    "from bs4 import BeautifulSoup\n",
    "from datetime import date\n",
    "from dataclasses import dataclass\n",
    "from tqdm import tqdm\n",
    "from dateutil import parser\n",
    "from threading import Thread\n",
    "import pandas as pd\n",
    "from datetime import datetime, date, timedelta\n",
    "import logging\n",
    "import http.client\n",
    "from functools import lru_cache\n",
    "from concurrent.futures import ThreadPoolExecutor, as_completed\n",
    "import math\n",
    "from os import walk\n",
    "import json\n",
    "import numpy as np\n",
    "import csv\n"
   ]
  },
  {
   "cell_type": "code",
   "execution_count": 48,
   "metadata": {},
   "outputs": [],
   "source": [
    "## Finding the memory leak\n",
    "\n",
    "from collections import Counter\n",
    "import linecache\n",
    "import os\n",
    "import tracemalloc\n",
    "\n",
    "def display_top(snapshot, key_type='lineno', limit=3):\n",
    "    snapshot = snapshot.filter_traces((\n",
    "        tracemalloc.Filter(False, \"<frozen importlib._bootstrap>\"),\n",
    "        tracemalloc.Filter(False, \"<unknown>\"),\n",
    "    ))\n",
    "    top_stats = snapshot.statistics(key_type)\n",
    "\n",
    "    print(\"Top %s lines\" % limit)\n",
    "    for index, stat in enumerate(top_stats[:limit], 1):\n",
    "        frame = stat.traceback[0]\n",
    "        # replace \"/path/to/module/file.py\" with \"module/file.py\"\n",
    "        filename = os.sep.join(frame.filename.split(os.sep)[-2:])\n",
    "        print(\"#%s: %s:%s: %.1f KiB\"\n",
    "              % (index, filename, frame.lineno, stat.size / 1024))\n",
    "        line = linecache.getline(frame.filename, frame.lineno).strip()\n",
    "        if line:\n",
    "            print('    %s' % line)\n",
    "\n",
    "    other = top_stats[limit:]\n",
    "    if other:\n",
    "        size = sum(stat.size for stat in other)\n",
    "        print(\"%s other: %.1f KiB\" % (len(other), size / 1024))\n",
    "    total = sum(stat.size for stat in top_stats)\n",
    "    print(\"Total allocated size: %.1f KiB\" % (total / 1024))\n",
    "\n",
    "\n",
    "tracemalloc.start()"
   ]
  },
  {
   "cell_type": "code",
   "execution_count": 49,
   "metadata": {
    "id": "ohoWQEyyCpkk"
   },
   "outputs": [],
   "source": [
    "logging = False\n",
    "\n",
    "if logging:\n",
    "\n",
    "    http.client.HTTPConnection.debuglevel = 1\n",
    "\n",
    "    # You must initialize logging, otherwise you'll not see debug output.\n",
    "    logging.basicConfig()\n",
    "    logging.getLogger().setLevel(logging.DEBUG)\n",
    "    requests_log = logging.getLogger(\"requests.packages.urllib3\")\n",
    "    requests_log.setLevel(logging.DEBUG)\n",
    "    requests_log.propagate = True"
   ]
  },
  {
   "cell_type": "markdown",
   "metadata": {
    "id": "iJWBR30Apf9y"
   },
   "source": [
    "### Section 2: Determine Number of pages to scrape\n",
    "Test connection to the website and determine number of pages to scrape"
   ]
  },
  {
   "cell_type": "code",
   "execution_count": 50,
   "metadata": {
    "id": "IxF2lQm5Vq_8"
   },
   "outputs": [],
   "source": [
    "session = requests.Session()\n",
    "retry = Retry(connect=3, backoff_factor=0.5)\n",
    "adapter = HTTPAdapter(max_retries=retry)\n",
    "session.mount('http://', adapter)\n",
    "session.mount('https://', adapter)\n",
    "\n",
    "# @lru_cache(maxsize=None)\n",
    "def getPage(tempURL):\n",
    "  # If User-Agent is not set to custom, the website will know a Python script is accessing it and block some of the request\n",
    "\n",
    "  response = session.get(tempURL, headers={'User-Agent': 'Custom'})\n",
    "  return BeautifulSoup(response.content, \"html.parser\")"
   ]
  },
  {
   "cell_type": "code",
   "execution_count": 51,
   "metadata": {
    "colab": {
     "base_uri": "https://localhost:8080/"
    },
    "id": "vqetG6kV0HFi",
    "outputId": "d351bc31-6ef2-4d6c-89a8-bf9234b503dc"
   },
   "outputs": [
    {
     "name": "stdout",
     "output_type": "stream",
     "text": [
      "Created 31 dates\n",
      "Created 31 dates\n"
     ]
    }
   ],
   "source": [
    "# Getting the dates we want to scrape.\n",
    "\n",
    "url=\"https://zakupki.gov.ru/epz/contractfz223/search/results.html?morphology=on&sortDirection=false&recordsPerPage=_50&showLotsInfoHidden=false&statuses_0=on&statuses_1=on&statuses=0%2C1&priceFrom=1000000&currencyId=-1&contract223DateFrom={}&contract223DateTo={}&sortBy=BY_UPDATE_DATE&pageNumber={}&customerPlace=5277383\"\n",
    "\n",
    "startDate = date(2016, 1, 1)\n",
    "endDate = date(2016, 1, 31)\n",
    "days = timedelta(days=1)\n",
    "\n",
    "startDateBefore = startDate\n",
    "\n",
    "calendar=[]\n",
    "\n",
    "while startDate<=endDate:\n",
    "  calendar.append(startDate.strftime('%d.%m.%Y'))\n",
    "  startDate+=days\n",
    "\n",
    "print(\"Created {} dates\".format(len(calendar)))\n",
    "startDate = date(2016, 1, 1)\n",
    "endDate = date(2016, 1, 31)\n",
    "days = timedelta(days=1)\n",
    "\n",
    "startDateBefore = startDate\n",
    "\n",
    "calendar=[]\n",
    "\n",
    "while startDate<=endDate:\n",
    "  calendar.append(startDate.strftime('%d.%m.%Y'))\n",
    "  startDate+=days\n",
    "\n",
    "print(\"Created {} dates\".format(len(calendar)))"
   ]
  },
  {
   "cell_type": "markdown",
   "metadata": {
    "id": "p-Ol6Rbipi4N"
   },
   "source": [
    "\n",
    "### Section 3: Scrape each registration number\n",
    "\n",
    "Scrape the reg numbers of each contract, so they can be accessed individually"
   ]
  },
  {
   "cell_type": "code",
   "execution_count": 52,
   "metadata": {},
   "outputs": [],
   "source": [
    "class Page:\n",
    "\n",
    "    def __init__(self, day, pageNum, pagefile):\n",
    "\n",
    "        self.day = day\n",
    "        self.pageNum = pageNum\n",
    "        self.pagefile = pagefile\n"
   ]
  },
  {
   "cell_type": "code",
   "execution_count": 53,
   "metadata": {},
   "outputs": [],
   "source": [
    "def getContracts(page):\n",
    "#url='https://zakupki.gov.ru/epz/contractfz223/search/results.html?morphology=on&sortBy=BY_UPDATE_DATE&pageNumber=1&sortDirection=false&recordsPerPage=_10&showLotsInfoHidden=false&statuses_0=on&statuses_1=on&statuses=0%2C1&priceFrom=1000000&currencyId=-1&contract223DateFrom=01.01.2019&contract223DateTo=31.01.2019&customerPlace=5277383'\n",
    "#soup=getPage(url)\n",
    "\n",
    " \n",
    "    # Obtain a list of all the sections of HTML containing a contract in the web page\n",
    "    listOfContracts = page.find_all(\"div\", {\"class\": \"registry-entry__header-mid__number\"})\n",
    "    regNumbersList=[]\n",
    "\n",
    "    # Segment the registration number from the URL of each contract - amended for 223, as unique ID was only available in href\n",
    "    for contract in listOfContracts:\n",
    "            href = contract.find(\"a\")['href'].split(\"?id=\")[1]\n",
    "            regNumbersList.append(href)\n",
    "    print(regNumbersList)"
   ]
  },
  {
   "cell_type": "code",
   "execution_count": 54,
   "metadata": {},
   "outputs": [],
   "source": [
    "def progress(idx, data):\n",
    "\n",
    "    x_ = int(((idx+1) * 100) / len(data))\n",
    "    y_ = idx % math.ceil(len(data) / 10)\n",
    "    \n",
    "    print(\" ----\\n{}% completed\\n----\".format(x_)) if y_ == 0 else None"
   ]
  },
  {
   "cell_type": "code",
   "execution_count": 55,
   "metadata": {
    "id": "seJyyDBCFLGl"
   },
   "outputs": [],
   "source": [
    "# Getting the web page for all the contracts for each date in the range we want to scrape.\n",
    "\n",
    "regNumbersDict = {}\n",
    "\n",
    "def getRegNumbersForDate(i, day):\n",
    "\n",
    "  if day in regNumbersDict:\n",
    "    return\n",
    "\n",
    "  tempURL = url.format(day, day, 1)\n",
    "\n",
    "  print(tempURL)\n",
    "\n",
    "  page = getPage(tempURL)\n",
    "\n",
    "  # Scrape the max number of pages\n",
    "  try:\n",
    "    maxPageNum = int(page.select('a[data-pagenumber]')[-2].find(\"span\").text)\n",
    "    print(\"{} pages for this day\".format(maxPageNum))\n",
    "  except:\n",
    "    maxPageNum = 1\n",
    "\n",
    "\n",
    "  # Leave my variable names alone :(\n",
    "  totalRegNumbersForThisDay = 0\n",
    "\n",
    "  for i in range(1, maxPageNum+1):\n",
    "\n",
    "    # Creating a temporary URL for each page containing contracts\n",
    "    tempPageURL = url.format(day, day, i)\n",
    "\n",
    "    # Request the page and format it as a BeautifulSoup object so that we can perform scrapings\n",
    "    page = getPage(tempPageURL)\n",
    "\n",
    "    regNumbersList = getContracts(page)\n",
    "\n",
    "    totalRegNumbersForThisDay += len(regNumbersList)\n",
    "\n",
    "    regNumbersDict[day] = regNumbersList\n",
    "\n",
    "\n",
    "  print(\"Fetched day {} had {} contracts \\n\".format(day, totalRegNumbersForThisDay), end='')\n",
    "\n",
    "  del page\n",
    "  del regNumbersList\n",
    "\n",
    "  progress(i, calendar)\n"
   ]
  },
  {
   "cell_type": "code",
   "execution_count": 66,
   "metadata": {},
   "outputs": [
    {
     "name": "stdout",
     "output_type": "stream",
     "text": [
      "https://zakupki.gov.ru/epz/contractfz223/search/results.html?morphology=on&sortDirection=false&recordsPerPage=_50&showLotsInfoHidden=false&statuses_0=on&statuses_1=on&statuses=0%2C1&priceFrom=1000000&currencyId=-1&contract223DateFrom=01.01.2016&contract223DateTo=01.01.2016&sortBy=BY_UPDATE_DATE&pageNumber=1&customerPlace=5277383https://zakupki.gov.ru/epz/contractfz223/search/results.html?morphology=on&sortDirection=false&recordsPerPage=_50&showLotsInfoHidden=false&statuses_0=on&statuses_1=on&statuses=0%2C1&priceFrom=1000000&currencyId=-1&contract223DateFrom=02.01.2016&contract223DateTo=02.01.2016&sortBy=BY_UPDATE_DATE&pageNumber=1&customerPlace=5277383\n",
      "\n",
      "https://zakupki.gov.ru/epz/contractfz223/search/results.html?morphology=on&sortDirection=false&recordsPerPage=_50&showLotsInfoHidden=false&statuses_0=on&statuses_1=on&statuses=0%2C1&priceFrom=1000000&currencyId=-1&contract223DateFrom=03.01.2016&contract223DateTo=03.01.2016&sortBy=BY_UPDATE_DATE&pageNumber=1&customerPlace=5277383\n",
      "https://zakupki.gov.ru/epz/contractfz223/search/results.html?morphology=on&sortDirection=false&recordsPerPage=_50&showLotsInfoHidden=false&statuses_0=on&statuses_1=on&statuses=0%2C1&priceFrom=1000000&currencyId=-1&contract223DateFrom=04.01.2016&contract223DateTo=04.01.2016&sortBy=BY_UPDATE_DATE&pageNumber=1&customerPlace=5277383\n",
      "https://zakupki.gov.ru/epz/contractfz223/search/results.html?morphology=on&sortDirection=false&recordsPerPage=_50&showLotsInfoHidden=false&statuses_0=on&statuses_1=on&statuses=0%2C1&priceFrom=1000000&currencyId=-1&contract223DateFrom=05.01.2016&contract223DateTo=05.01.2016&sortBy=BY_UPDATE_DATE&pageNumber=1&customerPlace=5277383\n",
      "https://zakupki.gov.ru/epz/contractfz223/search/results.html?morphology=on&sortDirection=false&recordsPerPage=_50&showLotsInfoHidden=false&statuses_0=on&statuses_1=on&statuses=0%2C1&priceFrom=1000000&currencyId=-1&contract223DateFrom=06.01.2016&contract223DateTo=06.01.2016&sortBy=BY_UPDATE_DATE&pageNumber=1&customerPlace=5277383\n",
      "https://zakupki.gov.ru/epz/contractfz223/search/results.html?morphology=on&sortDirection=false&recordsPerPage=_50&showLotsInfoHidden=false&statuses_0=on&statuses_1=on&statuses=0%2C1&priceFrom=1000000&currencyId=-1&contract223DateFrom=07.01.2016&contract223DateTo=07.01.2016&sortBy=BY_UPDATE_DATE&pageNumber=1&customerPlace=5277383\n",
      "https://zakupki.gov.ru/epz/contractfz223/search/results.html?morphology=on&sortDirection=false&recordsPerPage=_50&showLotsInfoHidden=false&statuses_0=on&statuses_1=on&statuses=0%2C1&priceFrom=1000000&currencyId=-1&contract223DateFrom=08.01.2016&contract223DateTo=08.01.2016&sortBy=BY_UPDATE_DATE&pageNumber=1&customerPlace=5277383\n",
      "https://zakupki.gov.ru/epz/contractfz223/search/results.html?morphology=on&sortDirection=false&recordsPerPage=_50&showLotsInfoHidden=false&statuses_0=on&statuses_1=on&statuses=0%2C1&priceFrom=1000000&currencyId=-1&contract223DateFrom=09.01.2016&contract223DateTo=09.01.2016&sortBy=BY_UPDATE_DATE&pageNumber=1&customerPlace=5277383\n",
      "https://zakupki.gov.ru/epz/contractfz223/search/results.html?morphology=on&sortDirection=false&recordsPerPage=_50&showLotsInfoHidden=false&statuses_0=on&statuses_1=on&statuses=0%2C1&priceFrom=1000000&currencyId=-1&contract223DateFrom=10.01.2016&contract223DateTo=10.01.2016&sortBy=BY_UPDATE_DATE&pageNumber=1&customerPlace=5277383\n",
      "https://zakupki.gov.ru/epz/contractfz223/search/results.html?morphology=on&sortDirection=false&recordsPerPage=_50&showLotsInfoHidden=false&statuses_0=on&statuses_1=on&statuses=0%2C1&priceFrom=1000000&currencyId=-1&contract223DateFrom=11.01.2016&contract223DateTo=11.01.2016&sortBy=BY_UPDATE_DATE&pageNumber=1&customerPlace=5277383\n",
      "https://zakupki.gov.ru/epz/contractfz223/search/results.html?morphology=on&sortDirection=false&recordsPerPage=_50&showLotsInfoHidden=false&statuses_0=on&statuses_1=on&statuses=0%2C1&priceFrom=1000000&currencyId=-1&contract223DateFrom=12.01.2016&contract223DateTo=12.01.2016&sortBy=BY_UPDATE_DATE&pageNumber=1&customerPlace=5277383\n",
      "https://zakupki.gov.ru/epz/contractfz223/search/results.html?morphology=on&sortDirection=false&recordsPerPage=_50&showLotsInfoHidden=false&statuses_0=on&statuses_1=on&statuses=0%2C1&priceFrom=1000000&currencyId=-1&contract223DateFrom=13.01.2016&contract223DateTo=13.01.2016&sortBy=BY_UPDATE_DATE&pageNumber=1&customerPlace=5277383\n",
      "https://zakupki.gov.ru/epz/contractfz223/search/results.html?morphology=on&sortDirection=false&recordsPerPage=_50&showLotsInfoHidden=false&statuses_0=on&statuses_1=on&statuses=0%2C1&priceFrom=1000000&currencyId=-1&contract223DateFrom=14.01.2016&contract223DateTo=14.01.2016&sortBy=BY_UPDATE_DATE&pageNumber=1&customerPlace=5277383\n",
      "https://zakupki.gov.ru/epz/contractfz223/search/results.html?morphology=on&sortDirection=false&recordsPerPage=_50&showLotsInfoHidden=false&statuses_0=on&statuses_1=on&statuses=0%2C1&priceFrom=1000000&currencyId=-1&contract223DateFrom=15.01.2016&contract223DateTo=15.01.2016&sortBy=BY_UPDATE_DATE&pageNumber=1&customerPlace=5277383\n",
      "https://zakupki.gov.ru/epz/contractfz223/search/results.html?morphology=on&sortDirection=false&recordsPerPage=_50&showLotsInfoHidden=false&statuses_0=on&statuses_1=on&statuses=0%2C1&priceFrom=1000000&currencyId=-1&contract223DateFrom=16.01.2016&contract223DateTo=16.01.2016&sortBy=BY_UPDATE_DATE&pageNumber=1&customerPlace=5277383\n",
      "https://zakupki.gov.ru/epz/contractfz223/search/results.html?morphology=on&sortDirection=false&recordsPerPage=_50&showLotsInfoHidden=false&statuses_0=on&statuses_1=on&statuses=0%2C1&priceFrom=1000000&currencyId=-1&contract223DateFrom=17.01.2016&contract223DateTo=17.01.2016&sortBy=BY_UPDATE_DATE&pageNumber=1&customerPlace=5277383\n",
      "https://zakupki.gov.ru/epz/contractfz223/search/results.html?morphology=on&sortDirection=false&recordsPerPage=_50&showLotsInfoHidden=false&statuses_0=on&statuses_1=on&statuses=0%2C1&priceFrom=1000000&currencyId=-1&contract223DateFrom=18.01.2016&contract223DateTo=18.01.2016&sortBy=BY_UPDATE_DATE&pageNumber=1&customerPlace=5277383\n",
      "https://zakupki.gov.ru/epz/contractfz223/search/results.html?morphology=on&sortDirection=false&recordsPerPage=_50&showLotsInfoHidden=false&statuses_0=on&statuses_1=on&statuses=0%2C1&priceFrom=1000000&currencyId=-1&contract223DateFrom=19.01.2016&contract223DateTo=19.01.2016&sortBy=BY_UPDATE_DATE&pageNumber=1&customerPlace=5277383\n",
      "https://zakupki.gov.ru/epz/contractfz223/search/results.html?morphology=on&sortDirection=false&recordsPerPage=_50&showLotsInfoHidden=false&statuses_0=on&statuses_1=on&statuses=0%2C1&priceFrom=1000000&currencyId=-1&contract223DateFrom=20.01.2016&contract223DateTo=20.01.2016&sortBy=BY_UPDATE_DATE&pageNumber=1&customerPlace=5277383\n",
      "https://zakupki.gov.ru/epz/contractfz223/search/results.html?morphology=on&sortDirection=false&recordsPerPage=_50&showLotsInfoHidden=false&statuses_0=on&statuses_1=on&statuses=0%2C1&priceFrom=1000000&currencyId=-1&contract223DateFrom=21.01.2016&contract223DateTo=21.01.2016&sortBy=BY_UPDATE_DATE&pageNumber=1&customerPlace=5277383\n",
      "https://zakupki.gov.ru/epz/contractfz223/search/results.html?morphology=on&sortDirection=false&recordsPerPage=_50&showLotsInfoHidden=false&statuses_0=on&statuses_1=on&statuses=0%2C1&priceFrom=1000000&currencyId=-1&contract223DateFrom=22.01.2016&contract223DateTo=22.01.2016&sortBy=BY_UPDATE_DATE&pageNumber=1&customerPlace=5277383\n",
      "https://zakupki.gov.ru/epz/contractfz223/search/results.html?morphology=on&sortDirection=false&recordsPerPage=_50&showLotsInfoHidden=false&statuses_0=on&statuses_1=on&statuses=0%2C1&priceFrom=1000000&currencyId=-1&contract223DateFrom=23.01.2016&contract223DateTo=23.01.2016&sortBy=BY_UPDATE_DATE&pageNumber=1&customerPlace=5277383\n",
      "https://zakupki.gov.ru/epz/contractfz223/search/results.html?morphology=on&sortDirection=false&recordsPerPage=_50&showLotsInfoHidden=false&statuses_0=on&statuses_1=on&statuses=0%2C1&priceFrom=1000000&currencyId=-1&contract223DateFrom=24.01.2016&contract223DateTo=24.01.2016&sortBy=BY_UPDATE_DATE&pageNumber=1&customerPlace=5277383\n",
      "https://zakupki.gov.ru/epz/contractfz223/search/results.html?morphology=on&sortDirection=false&recordsPerPage=_50&showLotsInfoHidden=false&statuses_0=on&statuses_1=on&statuses=0%2C1&priceFrom=1000000&currencyId=-1&contract223DateFrom=25.01.2016&contract223DateTo=25.01.2016&sortBy=BY_UPDATE_DATE&pageNumber=1&customerPlace=5277383\n",
      "https://zakupki.gov.ru/epz/contractfz223/search/results.html?morphology=on&sortDirection=false&recordsPerPage=_50&showLotsInfoHidden=false&statuses_0=on&statuses_1=on&statuses=0%2C1&priceFrom=1000000&currencyId=-1&contract223DateFrom=26.01.2016&contract223DateTo=26.01.2016&sortBy=BY_UPDATE_DATE&pageNumber=1&customerPlace=5277383\n",
      "https://zakupki.gov.ru/epz/contractfz223/search/results.html?morphology=on&sortDirection=false&recordsPerPage=_50&showLotsInfoHidden=false&statuses_0=on&statuses_1=on&statuses=0%2C1&priceFrom=1000000&currencyId=-1&contract223DateFrom=27.01.2016&contract223DateTo=27.01.2016&sortBy=BY_UPDATE_DATE&pageNumber=1&customerPlace=5277383\n",
      "https://zakupki.gov.ru/epz/contractfz223/search/results.html?morphology=on&sortDirection=false&recordsPerPage=_50&showLotsInfoHidden=false&statuses_0=on&statuses_1=on&statuses=0%2C1&priceFrom=1000000&currencyId=-1&contract223DateFrom=28.01.2016&contract223DateTo=28.01.2016&sortBy=BY_UPDATE_DATE&pageNumber=1&customerPlace=5277383\n",
      "https://zakupki.gov.ru/epz/contractfz223/search/results.html?morphology=on&sortDirection=false&recordsPerPage=_50&showLotsInfoHidden=false&statuses_0=on&statuses_1=on&statuses=0%2C1&priceFrom=1000000&currencyId=-1&contract223DateFrom=29.01.2016&contract223DateTo=29.01.2016&sortBy=BY_UPDATE_DATE&pageNumber=1&customerPlace=5277383\n",
      "https://zakupki.gov.ru/epz/contractfz223/search/results.html?morphology=on&sortDirection=false&recordsPerPage=_50&showLotsInfoHidden=false&statuses_0=on&statuses_1=on&statuses=0%2C1&priceFrom=1000000&currencyId=-1&contract223DateFrom=30.01.2016&contract223DateTo=30.01.2016&sortBy=BY_UPDATE_DATE&pageNumber=1&customerPlace=5277383\n",
      "https://zakupki.gov.ru/epz/contractfz223/search/results.html?morphology=on&sortDirection=false&recordsPerPage=_50&showLotsInfoHidden=false&statuses_0=on&statuses_1=on&statuses=0%2C1&priceFrom=1000000&currencyId=-1&contract223DateFrom=31.01.2016&contract223DateTo=31.01.2016&sortBy=BY_UPDATE_DATE&pageNumber=1&customerPlace=5277383\n",
      "[]\n",
      "[]\n",
      "2 pages for this day\n",
      "['1162468']\n",
      "['1184162', '1270113']\n",
      "['1186229']\n",
      "3 pages for this day\n",
      "['1119415', '1104618']\n",
      "3 pages for this day\n",
      "[]\n",
      "['2726213', '2726172']\n",
      "['1148292', '3410020', '1141424', '1141502', '1137062', '1150099', '2831974', '2831861', '2815283', '1150043', '2029529', '1141094', '2146021', '1237051', '1161288', '1140985', '1148252', '1490593', '1663210', '1150414', '1137918', '1186337', '1159628', '1141819', '1137035', '1136919']\n",
      "['1166808', '2761084', '4431989', '1302152', '1177347', '3368164', '1168822', '1162171', '2470629', '1205506', '1205447', '2776199', '1175572', '1175342', '1173951', '1166814', '2656033', '2621505', '1165449', '2166755', '1168298', '1996404', '1860729', '1935691', '2135562', '2135102', '2063476', '1173889', '1175328', '1162248', '1608829', '1164936', '1436591', '1362440', '1251134', '1212298', '1212146', '1186843', '1174818', '1172109', '1171511', '1170849', '1167538', '1161901']\n",
      "['2639300', '1154329', '1153878', '6284311', '1174631', '1167585', '1606165', '1606172', '1606139', '1996428', '1154027', '2106954', '2861327', '1151398', '1154308', '2785774', '2778389', '1158864', '2479404', '1157031', '1148566', '1162023', '2420289', '1161513', '1212054', '1150451', '1996334', '1205830', '1161344', '1247030', '1240195', '1168665', '1165802', '1158278', '1150815', '1150931', '1148056', '1149146']\n",
      "['1138537', '3005868', '1631882', '1381830', '2763714', '1134959', '3239957', '1631938', '1631921', '1789962', '1115200', '1136496', '2817997', '1711845', '1336972', '1135059', '1144111', '1776557', '1172771', '1137429', '1177497', '1390129', '1143471', '1230260', '1223392', '1212212', '1191865', '1144382', '1144117', '1138077', '1130704', '1136136', '1124899', '1118980']\n",
      "['1270024']\n",
      "['1255012', '2042557', '1136544', '1160429', '1125002', '1140050', '1135242', '12292962', '1154492', '1174454', '6108876', '3857154', '1123945', '1580552', '1177589', '2044513', '1112378', '1051111', '1526076', '1116222', '1427130', '1038963', '1174537', '1116537', '1177438', '3096938', '1173372', '1237338', '1124431', '2944181', '1110350', '1111301', '1119585', '2852079', '2479630', '2810324', '1643845', '2771991', '2760758', '1131023', '1142818', '2629769', '1121822', '1115798', '1115346', '2647654', '2526503', '1595187', '1397059', '1108954']\n",
      "['1355627', '1139399', '3208909', '2570861', '1148054', '3390550', '1135379', '1135298', '2019882', '1150984', '2479818', '1143622', '2677919', '2341030', '1125306', '2381978', '1933002', '1891272', '1643126', '1422974', '1129465', '1183474', '1262248', '1145948', '1168519', '1161847', '1161908', '1144062', '1144335', '1133718']['4772149']\n",
      "\n",
      "['1761768', '1497178', '4437473', '1111544', '1110339', '1228618', '2343889', '1126424', '1166231', '4462559', '1108893', '1251645', '3912413', '5995365', '4631455', '1863624', '1165050', '1430562', '1157113', '1156713', '1955699', '5115637', '2902990', '2843501', '4300610', '1104693', '1098876', '1208926', '3274003', '1863568', '1185389', '1410863', '2105819', '1134036', '1308078', '1154346', '1154278', '3020148', '1957901', '3011682', '1246658', '1230180', '1185632', '1528795', '1209317', '2671544', '2876842', '2128184', '1129853', '1153827']\n",
      "[]\n",
      "['3390810', '11276645', '1186919', '5038385', '1706480', '1660488', '1610381', '1631823', '1143401', '1143575', '1606986', '2954599', '1143858', '1142757', '2015403', '1996319', '2778153', '2777376', '2719780', '1156112', '2608740', '2052478', '2052636', '2052613', '2052592', '2052520', '2105303', '2066176', '2042698', '1251668', '1718371', '1213027', '1714302', '1184009', '1632177', '1143169', '1359599', '1368078', '1147580', '1153955', '1147493', '1216315', '1172307', '1171425', '1153303', '1147538', '1146421', '1145835', '1144142', '1143361']\n",
      "2 pages for this day\n",
      "2 pages for this day[]\n",
      "\n",
      "['4658852', '4658618', '1823030', '2874616', '2351596', '1189480', '1193294', '2733006', '1264696', '1197717', '1825088', '1728861', '1189106', '1195177', '1269853', '1240309', '1229764', '1207531', '1205664', '1197031', '1198538', '1198506', '1194674', '1192212', '1190094', '1189861', '1189002']\n",
      "['2441014', '1996652', '1273870', '1208132', '2694528', '1242592']\n",
      "2 pages for this day\n",
      "['1305263', '1270172', '1226018']\n",
      "['1189039', '2810036', '4214253', '2340409', '1166703', '2882271', '1171317', '3228413', '1189500', '1186682', '2135057', '2049654', '1177382', '1778622', '1178276', '1185419', '1185507', '1449649', '1173387', '1189346', '1212667', '1178086', '1178234', '1302055', '1266820', '1186176', '1305810', '1284758', '1177318', '1268009', '1176566', '1176555', '1176544', '1175568']\n",
      "['1196292', '2481914', '2663195', '4464926', '4659031', '1191979', '1192138', '1192089', '1185837', '1185992', '1189052', '1201104', '1198546', '1189254', '1191270', '2982471', '1186046', '1186933', '1199564', '1192248', '1189476', '1183877', '2049791', '1184026', '1184096', '1324689', '1194930', '1190759', '1494100', '1233796', '1310072', '1310069', '1239389', '1269915', '1230724', '1213347', '1194912', '1186399', '1185818']\n",
      "['1384722', '1330839']\n",
      "['1173300', '1160976', '1167681', '1521643', '1159498', '2460848', '1903942', '1156873', '2867474', '1161859', '1169257', '1163657', '2111684', '1154135', '1468420', '2281848', '1169173', '1173437', '2550112', '1996446', '1996458', '1161263', '1167970', '1166634', '1683308', '1632135', '1229215', '1405509', '1257446', '1256432', '1239698', '1212619', '1180885', '1174607', '1167951', '1162614', '1162287', '1159567', '1156579', '1154551']\n",
      "['1189895', '1195352', '1180119', '1183301', '1178803', '4078288', '1183734', '1134299', '1183882', '4360295', '3581181', '2809029', '1189325', '2795731', '2270098', '1183799', '3030072', '1476856', '1273031', '1185414', '1226419', '2256320', '1178839', '1678061', '1191132', '1250295', '1183650', '1700098', '1191888', '2779792', '1178952', '2748762', '1183259', '1191555', '1189216', '1181201', '2447926', '1985752', '1194900', '1177683', '1185549', '1178062', '2135678', '2049740', '1906344', '1177885', '1768291', '1669209', '1204281', '1178585']\n",
      "['2614873', '1183406', '1941737', '1188976', '2711297', '4290326', '1178142', '1177961', '1334772', '3006514', '1208130', '1177688', '1960122', '2331742', '1172994', '1178061', '1580589', '2292012', '2331819', '2700208', '2527250', '2120407', '2624179', '1177667', '1677214', '1676641', '1676796', '1676870', '2169552', '1173256', '1173216', '1173173', '1173003', '1172067', '2135328', '1181080', '1183767', '1185676', '1185559', '1425797', '1181151', '1211604', '1216626', '1186089', '1183762', '1269179', '1217751', '1213305', '1212900', '1212850']\n",
      "['1289481', '2769434', '2851980', '1227282', '2163872', '8249864', '2816276', '1219077', '1580237', '4784721', '2599083', '1201260', '1203750', '1201858', '1225423', '1226746', '1203912', '1214608', '1210983', '1227478', '1229174', '2814126', '1214115', '2722166', '2003502', '1209257', '1232320', '1490303', '1217262', '1205656', '1200973', '2439837', '1232303', '2150270', '1231167', '1206482', '1682886', '1215072', '1214700', '1216964', '1205199', '1215186', '1210911', '1316164', '1211831', '1654305', '1316124', '1209203', '1201539', '1201130']\n",
      "['4509616', '4409732', '4401061', '1195166', '2868754', '1273289', '1197412', '1722457', '1197584', '2798485', '2779186', '1195109', '1200135', '2653466', '1207871', '1202725', '2169155', '1205223', '1194968', '1728936', '1682790', '1204157', '1213651', '1213313', '1269984', '1258126', '1255378', '1250306', '1250181', '1246519', '1246308', '1230750', '1212607', '1206455', '1206171', '1204221', '1198966', '1198417', '1195408']\n",
      "{}\n",
      "[]\n",
      "------------------- \n",
      " 0 contracts found in total\n"
     ]
    }
   ],
   "source": [
    "\n",
    "## This now has regNumbers caching too \n",
    "\n",
    "cachedRegNums223 = {}\n",
    "\n",
    "# load the data from the json file\n",
    "with open('cachedRegNums223.json', 'r') as f:\n",
    "  cachedRegNums223 = json.load(f)\n",
    "\n",
    "\n",
    "with ThreadPoolExecutor(max_workers=50) as ex:\n",
    "  for i, day in enumerate(calendar):\n",
    "    if day in cachedRegNums223:\n",
    "      regNumbersDict[day] = cachedRegNums223[day]\n",
    "      print(\"Cached day {} had {} contracts \\n\".format(day, len(regNumbersDict[day])), end='')\n",
    "    else:\n",
    "      ex.submit(getRegNumbersForDate, i, day)\n",
    "\n",
    "    \n",
    "combinedRegNumbersDict = {**cachedRegNums223, **regNumbersDict}\n",
    "\n",
    "print(combinedRegNumbersDict)\n",
    "\n",
    "\n",
    "with open('cachedRegNums223.json', 'w') as f:\n",
    "  json.dump(combinedRegNumbersDict, f)\n",
    "\n",
    "\n",
    "tempRegNumbers = list(regNumbersDict.values())\n",
    "\n",
    "regNumbers = []\n",
    "\n",
    "for t in tempRegNumbers:\n",
    "  regNumbers.extend(t)\n",
    "\n",
    "print(regNumbers)\n",
    "\n",
    "print(\"------------------- \\n {} contracts found in total\".format(len(regNumbers)))"
   ]
  },
  {
   "cell_type": "markdown",
   "metadata": {
    "id": "L254l5YhpqNv"
   },
   "source": [
    "### Section 4: Details scraping\n",
    "\n",
    "The Contract Dataclass will store the information during scraping.\n",
    "If any information can't be scraped, default values have been provided in their place"
   ]
  },
  {
   "cell_type": "code",
   "execution_count": 57,
   "metadata": {
    "id": "Eg5Td-OGi3vz"
   },
   "outputs": [],
   "source": [
    "@dataclass\n",
    "class Contract:\n",
    "\n",
    "  # TODO: Add reg number to class\n",
    "\n",
    "  # Main Section\n",
    "  id: float = 0\n",
    "  price: float = 0.0\n",
    "  signed: date = None\n",
    "  deadline: date = None\n",
    "\n",
    "  # Tab 1\n",
    "  method: str = \"none\"\n",
    "  procurer: str = \"none\"\n",
    "  supplier: str = \"none\"\n",
    "  proinn: str = \"none\"\n",
    "  supinn: str = \"none\"\n",
    "  registered: date = None\n",
    "  address: str = \"none\"\n",
    "  number: str = \"none\"\n",
    "  mail: str = \"none\"\n",
    "\n",
    "  # Tab 2\n",
    "  code: float = 0.0\n",
    "  product: str = \"none\"\n",
    "  \n",
    "\n",
    "  def __repr__(self):\n",
    "    return \"\\nContract id= {} \\n First tab: price={}, signed={}, deadline={}, method={}, procurer={}, supplier={}, proinn={}, supinn={}, registered={}, address={}, number={}, mail={} \\n  Second tab: code={}, product={})\".format(self.id, self.price, self.signed, self.deadline, self.method, self.procurer, self.supplier, self.proinn, self.supinn, self.registered, self.address, self.number, self.mail, self.code,  self.product)\n",
    "\n",
    "  "
   ]
  },
  {
   "cell_type": "markdown",
   "metadata": {
    "id": "5yatvXkvpz2H"
   },
   "source": [
    "Method for scraping the data from each contract"
   ]
  },
  {
   "cell_type": "code",
   "execution_count": 58,
   "metadata": {},
   "outputs": [],
   "source": [
    "def getSectionDict(page):\n",
    "\n",
    "    sections=page.findAll(\"section\",{\"class\":\"blockInfo__section section\"})\n",
    "\n",
    "    # print([key.findAll(\"span\") for key in sections])\n",
    "\n",
    "    # Turning the sections into a dictionary that will be easier to work with.\n",
    "    pairs = [key.findAll(\"span\") for key in sections]\n",
    "\n",
    "    pairs = list(filter(None, pairs))\n",
    "\n",
    "\n",
    "    titles = []\n",
    "    values = []\n",
    "\n",
    "    for x in pairs:\n",
    "        if len(x) > 1:\n",
    "            try:\n",
    "                titles.append(x[0])\n",
    "                values.append(x[1])\n",
    "            except:\n",
    "                pass\n",
    "\n",
    "    sectionDict = {titles[i].text.strip() : values[i].text.strip() for i in range(len(titles))}\n",
    "\n",
    "    return sectionDict\n",
    "\n",
    "\n",
    "def getTableDict(page, secondTab=False):\n",
    "\n",
    "\n",
    "    if secondTab:\n",
    "        sectionOfInterest = page.findAll(\"div\", {\"class\": \"col\"})[-1]\n",
    "    else:\n",
    "        sectionOfInterest = page\n",
    "\n",
    "    table = sectionOfInterest.findAll(\"tr\",{\"class\":\"tableBlock__row\"})\n",
    "\n",
    "    # print(table[3])\n",
    "\n",
    "    headers = [i.text.strip() for i in table[0].findAll(\"th\", {\"class\":\"tableBlock__col tableBlock__col_header\"})]\n",
    "    data = [list(filter(None, [j.strip() for j in i.text.split(\"\\n\")])) for i in table[1].findAll(\"td\")]\n",
    "\n",
    "    if len(headers) == 0:\n",
    "        headers = [i.text.strip() for i in table[2].findAll(\"th\", {\"class\":\"tableBlock__col tableBlock__col_header\"})]\n",
    "        data = [list(filter(None, [j.strip() for j in i.text.split(\"\\n\")])) for i in table[3].findAll(\"td\")]\n",
    "\n",
    "    if len(headers) == 0:\n",
    "        headers = [i.text.strip() for i in table[3].findAll(\"th\", {\"class\":\"tableBlock__col tableBlock__col_header\"})]\n",
    "        data = [list(filter(None, [j.strip() for j in i.text.split(\"\\n\")])) for i in table[4].findAll(\"td\")]\n",
    "\n",
    "\n",
    "\n",
    "    # This is hacky.\n",
    "    if len(data) < len(headers):\n",
    "        data = [[[]] for i in range(len(headers))]\n",
    "\n",
    "        \n",
    "\n",
    "    tableDict = {headers[i] : data[i] for i in range(len(headers))}\n",
    "\n",
    "    return tableDict"
   ]
  },
  {
   "cell_type": "code",
   "execution_count": 59,
   "metadata": {
    "id": "Jq9BLFkUaDPW"
   },
   "outputs": [],
   "source": [
    "def scrapeData(reg):\n",
    "\n",
    "  try:\n",
    "    # Input: reg = one registration number.\n",
    "\n",
    "    # Different URL from the one above, this accesses more information from Zakupki.\n",
    "    dir=\"https://zakupki.gov.ru/epz/contractfz223/card/{}.html?id={}\"\n",
    "    #\"https://zakupki.gov.ru/epz/contract/contractCard/{}.html?reestrNumber={}\"\n",
    "\n",
    "    # Getting the web page for the given contract\n",
    "    tempDir = dir.format(\"contract-info\", reg)\n",
    "    page = getPage(tempDir)\n",
    "\n",
    "    # We probably don't need this with the method I've used below.\n",
    "    contractTypeTwo = False\n",
    "\n",
    "    # Enter the text here that should be present to signify the second type of contract.\n",
    "    if page.findAll(text=\"Основание заключения контракта с единственным поставщиком\"):\n",
    "      contractTypeTwo = True\n",
    "      \n",
    "    id = reg  \n",
    "    sectionDict = getSectionDict(page)\n",
    "    firstTableDict = getTableDict(page)\n",
    "\n",
    "    # print(sectionDict)\n",
    "    # print(firstTableDict)\n",
    "\n",
    "    # print(sectionDict, firstTableDict)\n",
    "    # try:\n",
    "    #   price=sectionDict[\"Цена контракта\"].replace(\"\\xa0\",\"\").replace(\",\",\".\").replace(\"₽\",\"\").strip().split()[0]\n",
    "    # except:\n",
    "    #   price=sectionDict[\"Ориентировочное значение цены контракта\"].replace(\"\\xa0\",\"\").replace(\",\",\".\").replace(\"₽\",\"\").strip().split()[0]\n",
    "    #   try:\n",
    "    #     price=sectionDict[\"Максимальное значение цены контракта\"].replace(\"\\xa0\",\"\").replace(\",\",\".\").replace(\"₽\",\"\").strip().split()[0]\n",
    "    #   except:\n",
    "    price=page.find('span', {'class':'cardMainInfo__content cost'}).text.strip().replace(\"₽\",\"\").replace(\" \",\"\")\n",
    "      \n",
    "    signed=sectionDict[\"Дата заключения контракта\"].split()[0]\n",
    "    deadline=sectionDict[\"Дата окончания исполнения контракта\"].split()[0]\n",
    "    \n",
    "    ### fixed issue with method ### \n",
    "    try:\n",
    "      method = sectionDict[\"Способ определения поставщика (подрядчика, исполнителя)\"]\n",
    "    except:\n",
    "      if page.findAll(text=\"Основание заключения контракта с единственным поставщиком\"):\n",
    "            method=\"Закупка у единственного поставщика (подрядчика, исполнителя)\"\n",
    "            \n",
    "    procurer=sectionDict[\"Полное наименование заказчика\"]\n",
    "    supplier=firstTableDict[\"Организация\"][0]\n",
    "\n",
    "    proinn=sectionDict[\"ИНН\"]\n",
    "\n",
    "    ### fixed issues for missing values sometimes in the table ###\n",
    "    \n",
    "    registered=firstTableDict[\"Организация\"][-1]\n",
    "    \n",
    "    ### fixed, testing ###   \n",
    "    try: \n",
    "      if firstTableDict[\"Организация\"][-4]==\"КПП:\":\n",
    "          supinn=firstTableDict[\"Организация\"][-5]\n",
    "      else:\n",
    "          supinn=firstTableDict[\"Организация\"][-3]\n",
    "    except:\n",
    "      supinn=\"\"\n",
    "\n",
    "    ### fixed issues in lower table ### \n",
    "    \n",
    "    try:\n",
    "      address=firstTableDict[\"Адрес места нахождения\"]\n",
    "    except:\n",
    "      address=firstTableDict[\"Адрес в стране регистрации\"]\n",
    "    number=firstTableDict[\"Телефон, электронная почта\"][0]\n",
    "    mail=firstTableDict[\"Телефон, электронная почта\"][1]\n",
    "\n",
    "    ### details about winner - ALSO, THERE'S OPTION TO SCRAPE SUBCONTRACTORS ### \n",
    "\n",
    "    page.decompose()\n",
    "\n",
    "    ### Second tab ###\n",
    "    tempDir = dir.format(\"payment-info-and-target-of-order\", reg)\n",
    "    page = getPage(tempDir)\n",
    "\n",
    "    ### code stands for the product code, which can be later identified to return industry type ### \n",
    "    \n",
    "    secondTableDict = getTableDict(page, True)\n",
    "    \n",
    "    try:\n",
    "      code = secondTableDict[\"Позиции по КТРУ, ОКПД2\"][1][1:-1]\n",
    "    except:\n",
    "      code = ''\n",
    "        \n",
    "    product = secondTableDict[\"Наименование объекта закупки и его характеристики\"][0]\n",
    "    \n",
    "    # Create the Contract dataclass object and append it to a list of objects.\n",
    "    # This method means that missing data can be accounted for.\n",
    "    # print(method)\n",
    "\n",
    "    contract = Contract(id=id, price=price, signed=signed, deadline=deadline, method=method, procurer=procurer, supplier=supplier, proinn=proinn, supinn=supinn, registered=registered, address=address, number=number, mail=mail, code=code, product=product)\n",
    "    \n",
    "    # contracts.append(contract)\n",
    "    # print('Completed {}'.format(id))\n",
    "\n",
    "    page.decompose()\n",
    "\n",
    "    return contract\n",
    "  except Exception as e:\n",
    "    failedRegNumbers.append(reg)\n",
    "    print(\"Failed to scrape {}\".format(reg))\n",
    "    print(e)"
   ]
  },
  {
   "cell_type": "markdown",
   "metadata": {
    "id": "CitfSwF2p94x"
   },
   "source": [
    "### Section 5: Starting execution\n",
    "Scrape the contracts themselves using threading"
   ]
  },
  {
   "cell_type": "code",
   "execution_count": 60,
   "metadata": {},
   "outputs": [],
   "source": [
    "def scrape(reg):\n",
    "    \n",
    "    try:\n",
    "        _ = int(reg)\n",
    "        # print(\"Scraping {}\".format(reg))\n",
    "        return [scrapeData(reg)]\n",
    "    except TypeError:\n",
    "        \n",
    "        # TODO make 500 contracts change here.\n",
    "        \n",
    "        contracts = []\n",
    "\n",
    "        \n",
    "\n",
    "        for idx, r in enumerate(reg):\n",
    "            # print(\"Scraping {}\".format(r))\n",
    "            contracts.append(scrapeData(r))\n",
    "            # progress(i + idx, regNumbers)\n",
    "\n",
    "        return contracts"
   ]
  },
  {
   "cell_type": "code",
   "execution_count": 61,
   "metadata": {
    "colab": {
     "base_uri": "https://localhost:8080/"
    },
    "id": "RseKcK3_XT7R",
    "outputId": "2e193036-25a2-4b02-8d91-34a6293d9141"
   },
   "outputs": [
    {
     "name": "stdout",
     "output_type": "stream",
     "text": [
      "Starting scrape with 0 reg numbers\n",
      "\n",
      "0 of 0 contracts are uncached. Fetching...\n"
     ]
    },
    {
     "name": "stderr",
     "output_type": "stream",
     "text": [
      "0it [00:00, ?it/s]"
     ]
    },
    {
     "name": "stdout",
     "output_type": "stream",
     "text": [
      "Failed to scrape 0 contracts\n"
     ]
    },
    {
     "name": "stderr",
     "output_type": "stream",
     "text": [
      "\n"
     ]
    },
    {
     "name": "stdout",
     "output_type": "stream",
     "text": [
      "Top 3 lines\n",
      "#1: bs4\\element.py:943: 10616.6 KiB\n",
      "    u = str.__new__(cls, value)\n",
      "#2: bs4\\element.py:1228: 9963.1 KiB\n",
      "    self.parser_class = parser.__class__\n",
      "#3: bs4\\__init__.py:721: 9067.6 KiB\n",
      "    tag = self.element_classes.get(Tag, Tag)(\n",
      "2666 other: 50533.0 KiB\n",
      "Total allocated size: 80180.2 KiB\n"
     ]
    }
   ],
   "source": [
    "progressNum = 0\n",
    "\n",
    "failedRegNumbers = []\n",
    "\n",
    "# regNumbers = [14511297]\n",
    "\n",
    "print(\"Starting scrape with {} reg numbers\\n\".format(len(regNumbers)))\n",
    "\n",
    "# scrape(regNumbers[:10])\n",
    "\n",
    "# for contract in contracts:\n",
    "#     print(contract)\n",
    "\n",
    "# for regNumber in tqdm(regNumbers[:50]):\n",
    "#   thread = Thread(target = scrapeData, args = (regNumber,))\n",
    "#   thread.start()\n",
    "\n",
    "# regNumbers = ['3662502457421000001']\n",
    "# regNumbers = ['1665800691921000016']\n",
    "\n",
    "threading = True\n",
    "\n",
    "if threading:\n",
    "\n",
    "    interval = 1\n",
    "\n",
    "    with ThreadPoolExecutor(max_workers=20) as ex:\n",
    "        threads = []\n",
    "\n",
    "        cachedContracts = {}\n",
    "\n",
    "        with open('cachedContracts.csv', encoding=\"utf-8\") as f:\n",
    "            cachedContracts = list(csv.reader(f))\n",
    "        \n",
    "        cachedContracts = list(filter(None, cachedContracts))\n",
    "        \n",
    "        cachedContractRegNums = [row[0] for row in cachedContracts]\n",
    "\n",
    "        uncachedRegNumbers = list(set(regNumbers) - set(cachedContractRegNums))\n",
    "\n",
    "        print(\"{} of {} contracts are uncached. Fetching...\".format(len(uncachedRegNumbers), len(regNumbers)))\n",
    "        \n",
    "        for i in range(0, len(uncachedRegNumbers), interval):\n",
    "            tempNumbers = uncachedRegNumbers[i:i+interval]\n",
    "            # print(tempNumbers)\n",
    "            threads.append(ex.submit(scrape, tempNumbers))\n",
    "        \n",
    "\n",
    "        completed = 0\n",
    "\n",
    "        for result in tqdm(as_completed(threads)):\n",
    "\n",
    "            try:\n",
    "                contracts = result.result()\n",
    "\n",
    "                completed += interval\n",
    "\n",
    "                # progress(completed, uncachedRegNumbers)\n",
    "\n",
    "                formattedContracts = [list(contract.__dict__.values()) for contract in contracts]\n",
    "\n",
    "                # newCachedContracts = {**cachedContracts, **formattedContracts}\n",
    "\n",
    "                with open('cachedContracts.csv', 'a', encoding=\"utf-8\", newline='') as f:\n",
    "                    writer = csv.writer(f)\n",
    "                    writer.writerows(formattedContracts)\n",
    "            except Exception as e:\n",
    "                print(e)\n",
    "                \n",
    "            # print(\"{} finished\".format(interval))\n",
    "\n",
    "else:\n",
    "\n",
    "    scrape(regNumbers)\n",
    "\n",
    "# print(\"Scraped {} contracts\".format(len(contracts)))\n",
    "print(\"Failed to scrape {} contracts\".format(len(failedRegNumbers)))\n",
    "print(failedRegNumbers) if len(failedRegNumbers) > 0 else None\n",
    "\n",
    "snapshot = tracemalloc.take_snapshot()\n",
    "display_top(snapshot)"
   ]
  },
  {
   "cell_type": "markdown",
   "metadata": {},
   "source": [
    "### Now that the data is saved to the hard disk, we can run the below code without needing to rerun the scraping process"
   ]
  },
  {
   "cell_type": "code",
   "execution_count": 62,
   "metadata": {},
   "outputs": [
    {
     "name": "stdout",
     "output_type": "stream",
     "text": [
      "2016-01-01 2016-01-31\n"
     ]
    },
    {
     "data": {
      "text/html": [
       "<div>\n",
       "<style scoped>\n",
       "    .dataframe tbody tr th:only-of-type {\n",
       "        vertical-align: middle;\n",
       "    }\n",
       "\n",
       "    .dataframe tbody tr th {\n",
       "        vertical-align: top;\n",
       "    }\n",
       "\n",
       "    .dataframe thead th {\n",
       "        text-align: right;\n",
       "    }\n",
       "</style>\n",
       "<table border=\"1\" class=\"dataframe\">\n",
       "  <thead>\n",
       "    <tr style=\"text-align: right;\">\n",
       "      <th></th>\n",
       "      <th>id</th>\n",
       "      <th>price</th>\n",
       "      <th>signed</th>\n",
       "      <th>deadline</th>\n",
       "      <th>method</th>\n",
       "      <th>procurer</th>\n",
       "      <th>supplier</th>\n",
       "      <th>proinn</th>\n",
       "      <th>supinn</th>\n",
       "      <th>registered</th>\n",
       "      <th>address</th>\n",
       "      <th>number</th>\n",
       "      <th>mail</th>\n",
       "      <th>code</th>\n",
       "      <th>product</th>\n",
       "    </tr>\n",
       "  </thead>\n",
       "  <tbody>\n",
       "  </tbody>\n",
       "</table>\n",
       "</div>"
      ],
      "text/plain": [
       "Empty DataFrame\n",
       "Columns: [id, price, signed, deadline, method, procurer, supplier, proinn, supinn, registered, address, number, mail, code, product]\n",
       "Index: []"
      ]
     },
     "execution_count": 62,
     "metadata": {},
     "output_type": "execute_result"
    }
   ],
   "source": [
    "cachedContracts = []\n",
    "\n",
    "with open('cachedContracts.csv', encoding=\"utf-8\") as f:\n",
    "    cachedContracts = list(csv.reader(f))\n",
    "\n",
    "\n",
    "df = pd.DataFrame(columns=Contract().__dict__.keys(), data=cachedContracts)\n",
    "\n",
    "df['signed'] = pd.to_datetime(df['signed'])\n",
    "df['deadline'] = pd.to_datetime(df['deadline'])\n",
    "\n",
    "start = datetime.fromordinal(startDateBefore.toordinal()).strftime(\"%Y-%m-%d\")\n",
    "end = datetime.fromordinal(endDate.toordinal()).strftime(\"%Y-%m-%d\")\n",
    "\n",
    "print(start, end)\n",
    "\n",
    "mask = (df['signed'] >= start) & (df['signed'] <= end)\n",
    "\n",
    "selectedDatesDF = df.loc[mask]\n",
    "\n",
    "selectedDatesDF.head()"
   ]
  },
  {
   "cell_type": "code",
   "execution_count": 63,
   "metadata": {},
   "outputs": [
    {
     "data": {
      "text/plain": [
       "(0, 15)"
      ]
     },
     "execution_count": 63,
     "metadata": {},
     "output_type": "execute_result"
    }
   ],
   "source": [
    "selectedDatesDF.shape"
   ]
  },
  {
   "cell_type": "markdown",
   "metadata": {
    "id": "H9_G7hUrqT6g"
   },
   "source": [
    "### Section 6: Output\n",
    "\n",
    "Convert the list of contract classes to a dataframe so that they can be exported to a csv file"
   ]
  },
  {
   "cell_type": "code",
   "execution_count": 64,
   "metadata": {
    "id": "9ST7Qk4rVOFK"
   },
   "outputs": [],
   "source": [
    "selectedDatesDF.to_csv(\"zakupki{}to{}.csv\".format(startDateBefore, endDate))"
   ]
  },
  {
   "cell_type": "code",
   "execution_count": null,
   "metadata": {},
   "outputs": [],
   "source": []
  },
  {
   "cell_type": "code",
   "execution_count": null,
   "metadata": {},
   "outputs": [],
   "source": []
  }
 ],
 "metadata": {
  "colab": {
   "collapsed_sections": [],
   "name": "Copy of Zakupki.ipynb",
   "provenance": []
  },
  "kernelspec": {
   "display_name": "Python 3.10.4 64-bit",
   "language": "python",
   "name": "python3"
  },
  "language_info": {
   "codemirror_mode": {
    "name": "ipython",
    "version": 3
   },
   "file_extension": ".py",
   "mimetype": "text/x-python",
   "name": "python",
   "nbconvert_exporter": "python",
   "pygments_lexer": "ipython3",
   "version": "3.10.4"
  },
  "vscode": {
   "interpreter": {
    "hash": "77edd9a980bfddd358a4fcbf4f3e7f49f98b43dd432ee51433ccfac9d125dab6"
   }
  }
 },
 "nbformat": 4,
 "nbformat_minor": 1
}
