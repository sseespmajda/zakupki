{
 "cells": [
  {
   "cell_type": "markdown",
   "metadata": {},
   "source": [
    "The idea is to match whatever procurer/supplier appears in the Dataset v5 file with an UBO, so the script should always looking for next owner in the book1 until it hits the UBO"
   ]
  },
  {
   "cell_type": "code",
   "execution_count": 2,
   "metadata": {},
   "outputs": [
    {
     "name": "stderr",
     "output_type": "stream",
     "text": [
      "Supplier Ultimate Beneficiary: 100%|██████████| 41098/41098 [00:12<00:00, 3170.52it/s]\n",
      "Procurer Ultimate Beneficiary: 100%|██████████| 41098/41098 [00:52<00:00, 782.11it/s]\n"
     ]
    }
   ],
   "source": [
    "### Works, but fix multiple owners issue somehow..\n",
    "\n",
    "import pandas as pd\n",
    "from tqdm import tqdm\n",
    "\n",
    "# Read the Excel file with INN numbers of contracts\n",
    "contracts_file_path = 'Dataset v5.xlsx'  # Replace with your file path\n",
    "contracts_df = pd.read_excel(contracts_file_path)\n",
    "\n",
    "# Read the Excel file with INN and respective owners\n",
    "owners_file_path = 'Book1.xlsx'  # Replace with your file path\n",
    "owners_df = pd.read_excel(owners_file_path)\n",
    "\n",
    "# Create dictionaries to map INNs to their ultimate beneficiaries for supplier and procurer\n",
    "supinn_to_owner = dict(zip(owners_df['INN'], owners_df['Ultimate Beneficiary']))\n",
    "proinn_to_owner = dict(zip(owners_df['INN'], owners_df['Ultimate Beneficiary']))\n",
    "\n",
    "# Function to get the ultimate beneficiary for an INN (Supplier)\n",
    "def get_supplier_ultimate_beneficiary(supinn):\n",
    "    current_inn = supinn\n",
    "    max_iterations = 10  # Set a maximum number of iterations to avoid infinite loops\n",
    "    iterations = 0\n",
    "    ultimate_beneficiary = None  # Initialize the variable\n",
    "\n",
    "    while current_inn in supinn_to_owner and iterations < max_iterations:\n",
    "        ultimate_beneficiary = supinn_to_owner[current_inn]\n",
    "        next_inn = owners_df.loc[owners_df['INN'] == current_inn, 'UBO'].iloc[0]\n",
    "\n",
    "        # Print debug information\n",
    "        #print(f\"Supplier - Current INN: {current_inn}, Next INN: {next_inn}, Ultimate Beneficiary: {ultimate_beneficiary}\")\n",
    "\n",
    "        # Check if the next INN is a number or not\n",
    "        if pd.notna(next_inn) and pd.to_numeric(next_inn, errors='coerce') == pd.to_numeric(next_inn, errors='coerce'):\n",
    "            current_inn = next_inn\n",
    "        else:\n",
    "            return ultimate_beneficiary\n",
    "\n",
    "        iterations += 1\n",
    "\n",
    "    return ultimate_beneficiary\n",
    "\n",
    "# Function to get the ultimate beneficiary for an INN (Procurer)\n",
    "def get_procurer_ultimate_beneficiary(proinn):\n",
    "    current_inn = proinn\n",
    "    max_iterations = 10  # Set a maximum number of iterations to avoid infinite loops\n",
    "    iterations = 0\n",
    "    ultimate_beneficiary = None  # Initialize the variable\n",
    "\n",
    "    while current_inn in proinn_to_owner and iterations < max_iterations:\n",
    "        ultimate_beneficiary = proinn_to_owner[current_inn]\n",
    "        next_inn = owners_df.loc[owners_df['INN'] == current_inn, 'UBO'].iloc[0]\n",
    "\n",
    "        # Print debug information\n",
    "        #print(f\"Procurer - Current INN: {current_inn}, Next INN: {next_inn}, Ultimate Beneficiary: {ultimate_beneficiary}\")\n",
    "\n",
    "        # Check if the next INN is a number or not\n",
    "        if pd.notna(next_inn) and pd.to_numeric(next_inn, errors='coerce') == pd.to_numeric(next_inn, errors='coerce'):\n",
    "            current_inn = next_inn\n",
    "        else:\n",
    "            return ultimate_beneficiary\n",
    "\n",
    "        iterations += 1\n",
    "\n",
    "    return ultimate_beneficiary\n",
    "\n",
    "# Apply the function to the first 1000 rows of the contracts file for 'supinn' and 'proinn'\n",
    "tqdm.pandas(desc=\"Supplier Ultimate Beneficiary\")\n",
    "contracts_df['Supplier_Ultimate_Beneficiary'] = contracts_df['supinn'].progress_apply(get_supplier_ultimate_beneficiary)\n",
    "\n",
    "tqdm.pandas(desc=\"Procurer Ultimate Beneficiary\")\n",
    "contracts_df['Procurer_Ultimate_Beneficiary'] = contracts_df['proinn'].progress_apply(get_procurer_ultimate_beneficiary)\n",
    "\n",
    "# Save the modified contracts file with two columns for final beneficiaries\n",
    "contracts_df.to_excel('Book3-Construction.xlsx', index=False)\n"
   ]
  }
 ],
 "metadata": {
  "kernelspec": {
   "display_name": "Python 3",
   "language": "python",
   "name": "python3"
  },
  "language_info": {
   "codemirror_mode": {
    "name": "ipython",
    "version": 3
   },
   "file_extension": ".py",
   "mimetype": "text/x-python",
   "name": "python",
   "nbconvert_exporter": "python",
   "pygments_lexer": "ipython3",
   "version": "3.10.11"
  },
  "orig_nbformat": 4
 },
 "nbformat": 4,
 "nbformat_minor": 2
}
